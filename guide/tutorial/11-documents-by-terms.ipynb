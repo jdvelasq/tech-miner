{
 "cells": [
  {
   "cell_type": "markdown",
   "metadata": {},
   "source": [
    "# Documents by terms"
   ]
  },
  {
   "cell_type": "code",
   "execution_count": 1,
   "metadata": {},
   "outputs": [],
   "source": [
    "import pandas as pd\n",
    "from techminer import RecordsDataFrame\n",
    "\n",
    "rdf = RecordsDataFrame(\n",
    "    pd.read_json(\n",
    "        'step-07.json', \n",
    "        orient='records', \n",
    "        lines=True))"
   ]
  },
  {
   "cell_type": "code",
   "execution_count": 2,
   "metadata": {},
   "outputs": [
    {
     "data": {
      "text/html": [
       "<div>\n",
       "<style scoped>\n",
       "    .dataframe tbody tr th:only-of-type {\n",
       "        vertical-align: middle;\n",
       "    }\n",
       "\n",
       "    .dataframe tbody tr th {\n",
       "        vertical-align: top;\n",
       "    }\n",
       "\n",
       "    .dataframe thead th {\n",
       "        text-align: right;\n",
       "    }\n",
       "</style>\n",
       "<table border=\"1\" class=\"dataframe\">\n",
       "  <thead>\n",
       "    <tr style=\"text-align: right;\">\n",
       "      <th></th>\n",
       "      <th>Document Type</th>\n",
       "      <th>Num Documents</th>\n",
       "      <th>ID</th>\n",
       "    </tr>\n",
       "  </thead>\n",
       "  <tbody>\n",
       "    <tr>\n",
       "      <th>0</th>\n",
       "      <td>Conference Paper</td>\n",
       "      <td>88</td>\n",
       "      <td>[[*7*], [*8*], [*9*], [*12*], [*13*], [*14*], ...</td>\n",
       "    </tr>\n",
       "    <tr>\n",
       "      <th>1</th>\n",
       "      <td>Article</td>\n",
       "      <td>52</td>\n",
       "      <td>[[*0*], [*1*], [*2*], [*3*], [*4*], [*5*], [*6...</td>\n",
       "    </tr>\n",
       "    <tr>\n",
       "      <th>2</th>\n",
       "      <td>Article in Press</td>\n",
       "      <td>2</td>\n",
       "      <td>[[*92*], [*95*]]</td>\n",
       "    </tr>\n",
       "    <tr>\n",
       "      <th>3</th>\n",
       "      <td>Book Chapter</td>\n",
       "      <td>1</td>\n",
       "      <td>[[*136*]]</td>\n",
       "    </tr>\n",
       "    <tr>\n",
       "      <th>4</th>\n",
       "      <td>Conference Review</td>\n",
       "      <td>1</td>\n",
       "      <td>[[*141*]]</td>\n",
       "    </tr>\n",
       "  </tbody>\n",
       "</table>\n",
       "</div>"
      ],
      "text/plain": [
       "       Document Type  Num Documents  \\\n",
       "0   Conference Paper             88   \n",
       "1            Article             52   \n",
       "2   Article in Press              2   \n",
       "3       Book Chapter              1   \n",
       "4  Conference Review              1   \n",
       "\n",
       "                                                  ID  \n",
       "0  [[*7*], [*8*], [*9*], [*12*], [*13*], [*14*], ...  \n",
       "1  [[*0*], [*1*], [*2*], [*3*], [*4*], [*5*], [*6...  \n",
       "2                                   [[*92*], [*95*]]  \n",
       "3                                          [[*136*]]  \n",
       "4                                          [[*141*]]  "
      ]
     },
     "execution_count": 2,
     "metadata": {},
     "output_type": "execute_result"
    }
   ],
   "source": [
    "rdf.documents_by_terms('Document Type')"
   ]
  },
  {
   "cell_type": "code",
   "execution_count": 3,
   "metadata": {},
   "outputs": [
    {
     "name": "stdout",
     "output_type": "stream",
     "text": [
      "Conference Paper (88) : [*7*][*8*][*9*][*12*][*13*][*14*][*15*][*16*][*17*][*19*][*20*][*21*][*22*][*23*][*24*][*26*][*30*][*32*][*36*][*40*][*41*][*42*][*45*][*48*][*49*][*50*][*51*][*52*][*53*][*55*][*56*][*57*][*59*][*60*][*61*][*63*][*64*][*65*][*66*][*69*][*70*][*71*][*72*][*73*][*74*][*75*][*76*][*77*][*78*][*79*][*81*][*82*][*83*][*84*][*85*][*86*][*87*][*88*][*89*][*90*][*91*][*93*][*94*][*96*][*97*][*98*][*99*][*100*][*101*][*102*][*106*][*107*][*109*][*110*][*114*][*115*][*116*][*118*][*119*][*120*][*121*][*122*][*124*][*126*][*129*][*138*][*140*][*143*]\n",
      "Article (52) : [*0*][*1*][*2*][*3*][*4*][*5*][*6*][*10*][*11*][*18*][*25*][*27*][*28*][*29*][*31*][*33*][*34*][*35*][*37*][*38*][*39*][*43*][*44*][*46*][*47*][*54*][*58*][*62*][*67*][*68*][*80*][*103*][*104*][*105*][*108*][*111*][*112*][*113*][*117*][*123*][*125*][*127*][*128*][*130*][*131*][*132*][*133*][*134*][*135*][*137*][*139*][*142*]\n",
      "Article in Press (2) : [*92*][*95*]\n",
      "Book Chapter (1) : [*136*]\n",
      "Conference Review (1) : [*141*]\n"
     ]
    }
   ],
   "source": [
    "rdf.documents_by_terms('Document Type').print_IDs()"
   ]
  },
  {
   "cell_type": "code",
   "execution_count": 4,
   "metadata": {},
   "outputs": [
    {
     "data": {
      "image/png": "[encoded data removed]",
      "text/plain": [
       "<Figure size 432x288 with 1 Axes>"
      ]
     },
     "metadata": {
      "needs_background": "light"
     },
     "output_type": "display_data"
    }
   ],
   "source": [
    "rdf.documents_by_terms('Document Type').barhplot();"
   ]
  },
  {
   "cell_type": "code",
   "execution_count": 5,
   "metadata": {},
   "outputs": [
    {
     "data": {
      "application/vnd.vegalite.v3+json": {
       "$schema": "https://vega.github.io/schema/vega-lite/v3.4.0.json",
       "config": {
        "mark": {
         "tooltip": null
        },
        "view": {
         "height": 300,
         "width": 400
        }
       },
       "data": {
        "name": "data-6646d1f59f1966d9969498ed10e5c0cf"
       },
       "datasets": {
        "data-6646d1f59f1966d9969498ed10e5c0cf": [
         {
          "Document Type": "Conference Paper [88]",
          "ID": [
           "[*7*]",
           "[*8*]",
           "[*9*]",
           "[*12*]",
           "[*13*]",
           "[*14*]",
           "[*15*]",
           "[*16*]",
           "[*17*]",
           "[*19*]",
           "[*20*]",
           "[*21*]",
           "[*22*]",
           "[*23*]",
           "[*24*]",
           "[*26*]",
           "[*30*]",
           "[*32*]",
           "[*36*]",
           "[*40*]",
           "[*41*]",
           "[*42*]",
           "[*45*]",
           "[*48*]",
           "[*49*]",
           "[*50*]",
           "[*51*]",
           "[*52*]",
           "[*53*]",
           "[*55*]",
           "[*56*]",
           "[*57*]",
           "[*59*]",
           "[*60*]",
           "[*61*]",
           "[*63*]",
           "[*64*]",
           "[*65*]",
           "[*66*]",
           "[*69*]",
           "[*70*]",
           "[*71*]",
           "[*72*]",
           "[*73*]",
           "[*74*]",
           "[*75*]",
           "[*76*]",
           "[*77*]",
           "[*78*]",
           "[*79*]",
           "[*81*]",
           "[*82*]",
           "[*83*]",
           "[*84*]",
           "[*85*]",
           "[*86*]",
           "[*87*]",
           "[*88*]",
           "[*89*]",
           "[*90*]",
           "[*91*]",
           "[*93*]",
           "[*94*]",
           "[*96*]",
           "[*97*]",
           "[*98*]",
           "[*99*]",
           "[*100*]",
           "[*101*]",
           "[*102*]",
           "[*106*]",
           "[*107*]",
           "[*109*]",
           "[*110*]",
           "[*114*]",
           "[*115*]",
           "[*116*]",
           "[*118*]",
           "[*119*]",
           "[*120*]",
           "[*121*]",
           "[*122*]",
           "[*124*]",
           "[*126*]",
           "[*129*]",
           "[*138*]",
           "[*140*]",
           "[*143*]"
          ],
          "Num Documents": 88
         },
         {
          "Document Type": "Article [52]",
          "ID": [
           "[*0*]",
           "[*1*]",
           "[*2*]",
           "[*3*]",
           "[*4*]",
           "[*5*]",
           "[*6*]",
           "[*10*]",
           "[*11*]",
           "[*18*]",
           "[*25*]",
           "[*27*]",
           "[*28*]",
           "[*29*]",
           "[*31*]",
           "[*33*]",
           "[*34*]",
           "[*35*]",
           "[*37*]",
           "[*38*]",
           "[*39*]",
           "[*43*]",
           "[*44*]",
           "[*46*]",
           "[*47*]",
           "[*54*]",
           "[*58*]",
           "[*62*]",
           "[*67*]",
           "[*68*]",
           "[*80*]",
           "[*103*]",
           "[*104*]",
           "[*105*]",
           "[*108*]",
           "[*111*]",
           "[*112*]",
           "[*113*]",
           "[*117*]",
           "[*123*]",
           "[*125*]",
           "[*127*]",
           "[*128*]",
           "[*130*]",
           "[*131*]",
           "[*132*]",
           "[*133*]",
           "[*134*]",
           "[*135*]",
           "[*137*]",
           "[*139*]",
           "[*142*]"
          ],
          "Num Documents": 52
         },
         {
          "Document Type": "Article in Press [2]",
          "ID": [
           "[*92*]",
           "[*95*]"
          ],
          "Num Documents": 2
         },
         {
          "Document Type": "Book Chapter [1]",
          "ID": [
           "[*136*]"
          ],
          "Num Documents": 1
         },
         {
          "Document Type": "Conference Review [1]",
          "ID": [
           "[*141*]"
          ],
          "Num Documents": 1
         }
        ]
       },
       "encoding": {
        "color": {
         "field": "Num Documents",
         "scale": {
          "scheme": "Greys"
         },
         "type": "quantitative"
        },
        "x": {
         "field": "Num Documents",
         "type": "quantitative"
        },
        "y": {
         "field": "Document Type",
         "sort": {
          "field": "Num Documents:Q"
         },
         "type": "nominal"
        }
       },
       "mark": "bar"
      },
      "image/png": "[encoded data removed]",
      "text/plain": [
       "<VegaLite 3 object>\n",
       "\n",
       "If you see this message, it means the renderer has not been properly enabled\n",
       "for the frontend that you are using. For more information, see\n",
       "https://altair-viz.github.io/user_guide/troubleshooting.html\n"
      ]
     },
     "execution_count": 5,
     "metadata": {},
     "output_type": "execute_result"
    }
   ],
   "source": [
    "rdf.documents_by_terms('Document Type').barhplot('altair')"
   ]
  },
  {
   "cell_type": "code",
   "execution_count": 6,
   "metadata": {},
   "outputs": [
    {
     "data": {
      "image/png": "[encoded data removed]",
      "text/plain": [
       "<Figure size 432x288 with 1 Axes>"
      ]
     },
     "metadata": {
      "needs_background": "light"
     },
     "output_type": "display_data"
    }
   ],
   "source": [
    "rdf.documents_by_terms('Document Type').barhplot('seaborn')"
   ]
  },
  {
   "cell_type": "code",
   "execution_count": 7,
   "metadata": {},
   "outputs": [
    {
     "data": {
      "image/png": "[encoded data removed]",
      "text/plain": [
       "<Figure size 432x288 with 1 Axes>"
      ]
     },
     "metadata": {
      "needs_background": "light"
     },
     "output_type": "display_data"
    }
   ],
   "source": [
    "rdf.documents_by_terms('Document Type').barplot();"
   ]
  },
  {
   "cell_type": "code",
   "execution_count": 8,
   "metadata": {},
   "outputs": [
    {
     "data": {
      "application/vnd.vegalite.v3+json": {
       "$schema": "https://vega.github.io/schema/vega-lite/v3.4.0.json",
       "config": {
        "mark": {
         "tooltip": null
        },
        "view": {
         "height": 300,
         "width": 400
        }
       },
       "data": {
        "name": "data-01ce0581b37e2b31fdaae483246fdc52"
       },
       "datasets": {
        "data-01ce0581b37e2b31fdaae483246fdc52": [
         {
          "Document Type": "Conference Paper",
          "ID": [
           "[*7*]",
           "[*8*]",
           "[*9*]",
           "[*12*]",
           "[*13*]",
           "[*14*]",
           "[*15*]",
           "[*16*]",
           "[*17*]",
           "[*19*]",
           "[*20*]",
           "[*21*]",
           "[*22*]",
           "[*23*]",
           "[*24*]",
           "[*26*]",
           "[*30*]",
           "[*32*]",
           "[*36*]",
           "[*40*]",
           "[*41*]",
           "[*42*]",
           "[*45*]",
           "[*48*]",
           "[*49*]",
           "[*50*]",
           "[*51*]",
           "[*52*]",
           "[*53*]",
           "[*55*]",
           "[*56*]",
           "[*57*]",
           "[*59*]",
           "[*60*]",
           "[*61*]",
           "[*63*]",
           "[*64*]",
           "[*65*]",
           "[*66*]",
           "[*69*]",
           "[*70*]",
           "[*71*]",
           "[*72*]",
           "[*73*]",
           "[*74*]",
           "[*75*]",
           "[*76*]",
           "[*77*]",
           "[*78*]",
           "[*79*]",
           "[*81*]",
           "[*82*]",
           "[*83*]",
           "[*84*]",
           "[*85*]",
           "[*86*]",
           "[*87*]",
           "[*88*]",
           "[*89*]",
           "[*90*]",
           "[*91*]",
           "[*93*]",
           "[*94*]",
           "[*96*]",
           "[*97*]",
           "[*98*]",
           "[*99*]",
           "[*100*]",
           "[*101*]",
           "[*102*]",
           "[*106*]",
           "[*107*]",
           "[*109*]",
           "[*110*]",
           "[*114*]",
           "[*115*]",
           "[*116*]",
           "[*118*]",
           "[*119*]",
           "[*120*]",
           "[*121*]",
           "[*122*]",
           "[*124*]",
           "[*126*]",
           "[*129*]",
           "[*138*]",
           "[*140*]",
           "[*143*]"
          ],
          "Num Documents": 88
         },
         {
          "Document Type": "Article",
          "ID": [
           "[*0*]",
           "[*1*]",
           "[*2*]",
           "[*3*]",
           "[*4*]",
           "[*5*]",
           "[*6*]",
           "[*10*]",
           "[*11*]",
           "[*18*]",
           "[*25*]",
           "[*27*]",
           "[*28*]",
           "[*29*]",
           "[*31*]",
           "[*33*]",
           "[*34*]",
           "[*35*]",
           "[*37*]",
           "[*38*]",
           "[*39*]",
           "[*43*]",
           "[*44*]",
           "[*46*]",
           "[*47*]",
           "[*54*]",
           "[*58*]",
           "[*62*]",
           "[*67*]",
           "[*68*]",
           "[*80*]",
           "[*103*]",
           "[*104*]",
           "[*105*]",
           "[*108*]",
           "[*111*]",
           "[*112*]",
           "[*113*]",
           "[*117*]",
           "[*123*]",
           "[*125*]",
           "[*127*]",
           "[*128*]",
           "[*130*]",
           "[*131*]",
           "[*132*]",
           "[*133*]",
           "[*134*]",
           "[*135*]",
           "[*137*]",
           "[*139*]",
           "[*142*]"
          ],
          "Num Documents": 52
         },
         {
          "Document Type": "Article in Press",
          "ID": [
           "[*92*]",
           "[*95*]"
          ],
          "Num Documents": 2
         },
         {
          "Document Type": "Book Chapter",
          "ID": [
           "[*136*]"
          ],
          "Num Documents": 1
         },
         {
          "Document Type": "Conference Review",
          "ID": [
           "[*141*]"
          ],
          "Num Documents": 1
         }
        ]
       },
       "encoding": {
        "color": {
         "field": "Num Documents",
         "scale": {
          "scheme": "greys"
         },
         "type": "quantitative"
        },
        "x": {
         "field": "Document Type",
         "sort": {
          "field": "Num Documents:Q"
         },
         "type": "nominal"
        },
        "y": {
         "field": "Num Documents",
         "type": "quantitative"
        }
       },
       "mark": "bar"
      },
      "image/png": "[encoded data removed]",
      "text/plain": [
       "<VegaLite 3 object>\n",
       "\n",
       "If you see this message, it means the renderer has not been properly enabled\n",
       "for the frontend that you are using. For more information, see\n",
       "https://altair-viz.github.io/user_guide/troubleshooting.html\n"
      ]
     },
     "execution_count": 8,
     "metadata": {},
     "output_type": "execute_result"
    }
   ],
   "source": [
    "rdf.documents_by_terms('Document Type').barplot('altair')"
   ]
  },
  {
   "cell_type": "code",
   "execution_count": 9,
   "metadata": {},
   "outputs": [
    {
     "data": {
      "image/png": "[encoded data removed]",
      "text/plain": [
       "<Figure size 432x288 with 1 Axes>"
      ]
     },
     "metadata": {
      "needs_background": "light"
     },
     "output_type": "display_data"
    }
   ],
   "source": [
    "rdf.documents_by_terms('Document Type').barplot('seaborn')"
   ]
  }
 ],
 "metadata": {
  "kernelspec": {
   "display_name": "Python 3",
   "language": "python",
   "name": "python3"
  },
  "language_info": {
   "codemirror_mode": {
    "name": "ipython",
    "version": 3
   },
   "file_extension": ".py",
   "mimetype": "text/x-python",
   "name": "python",
   "nbconvert_exporter": "python",
   "pygments_lexer": "ipython3",
   "version": "3.6.8"
  }
 },
 "nbformat": 4,
 "nbformat_minor": 4
}
