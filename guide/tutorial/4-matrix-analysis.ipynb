{
 "cells": [
  {
   "cell_type": "markdown",
   "metadata": {},
   "source": [
    "# Matrix Analysis"
   ]
  },
  {
   "cell_type": "markdown",
   "metadata": {},
   "source": [
    "In this part, a second level analysis of the bibliographical information is done."
   ]
  },
  {
   "cell_type": "code",
   "execution_count": 1,
   "metadata": {},
   "outputs": [],
   "source": [
    "import pandas as pd"
   ]
  },
  {
   "cell_type": "code",
   "execution_count": 2,
   "metadata": {},
   "outputs": [],
   "source": [
    "records = pd.read_json('demo-keywords.json', orient='records', lines=True)"
   ]
  },
  {
   "cell_type": "markdown",
   "metadata": {},
   "source": [
    "## Keywords per year"
   ]
  },
  {
   "cell_type": "code",
   "execution_count": 3,
   "metadata": {},
   "outputs": [],
   "source": [
    "from techMiner import termByTerm"
   ]
  },
  {
   "cell_type": "code",
   "execution_count": 4,
   "metadata": {},
   "outputs": [
    {
     "data": {
      "text/html": [
       "<div>\n",
       "<style scoped>\n",
       "    .dataframe tbody tr th:only-of-type {\n",
       "        vertical-align: middle;\n",
       "    }\n",
       "\n",
       "    .dataframe tbody tr th {\n",
       "        vertical-align: top;\n",
       "    }\n",
       "\n",
       "    .dataframe thead th {\n",
       "        text-align: right;\n",
       "    }\n",
       "</style>\n",
       "<table border=\"1\" class=\"dataframe\">\n",
       "  <thead>\n",
       "    <tr style=\"text-align: right;\">\n",
       "      <th></th>\n",
       "      <th>Keywords</th>\n",
       "      <th>Year</th>\n",
       "      <th>Num Documents</th>\n",
       "    </tr>\n",
       "  </thead>\n",
       "  <tbody>\n",
       "    <tr>\n",
       "      <th>0</th>\n",
       "      <td>?-stable processes</td>\n",
       "      <td>2018</td>\n",
       "      <td>1</td>\n",
       "    </tr>\n",
       "    <tr>\n",
       "      <th>1</th>\n",
       "      <td>ANFIS</td>\n",
       "      <td>2014</td>\n",
       "      <td>1</td>\n",
       "    </tr>\n",
       "    <tr>\n",
       "      <th>2</th>\n",
       "      <td>ANFIS ensemble</td>\n",
       "      <td>2014</td>\n",
       "      <td>1</td>\n",
       "    </tr>\n",
       "    <tr>\n",
       "      <th>3</th>\n",
       "      <td>ANN</td>\n",
       "      <td>2014</td>\n",
       "      <td>1</td>\n",
       "    </tr>\n",
       "    <tr>\n",
       "      <th>4</th>\n",
       "      <td>Adaptive GP trading system</td>\n",
       "      <td>2017</td>\n",
       "      <td>1</td>\n",
       "    </tr>\n",
       "  </tbody>\n",
       "</table>\n",
       "</div>"
      ],
      "text/plain": [
       "                     Keywords  Year  Num Documents\n",
       "0          ?-stable processes  2018              1\n",
       "1                       ANFIS  2014              1\n",
       "2              ANFIS ensemble  2014              1\n",
       "3                         ANN  2014              1\n",
       "4  Adaptive GP trading system  2017              1"
      ]
     },
     "execution_count": 4,
     "metadata": {},
     "output_type": "execute_result"
    }
   ],
   "source": [
    "termByTerm(\n",
    "    df=records, \n",
    "    termA='Keywords', \n",
    "    termB='Year', \n",
    "    sepA=';', \n",
    "    sepB=None).head()"
   ]
  },
  {
   "cell_type": "code",
   "execution_count": 5,
   "metadata": {},
   "outputs": [
    {
     "data": {
      "text/html": [
       "<div>\n",
       "<style scoped>\n",
       "    .dataframe tbody tr th:only-of-type {\n",
       "        vertical-align: middle;\n",
       "    }\n",
       "\n",
       "    .dataframe tbody tr th {\n",
       "        vertical-align: top;\n",
       "    }\n",
       "\n",
       "    .dataframe thead th {\n",
       "        text-align: right;\n",
       "    }\n",
       "</style>\n",
       "<table border=\"1\" class=\"dataframe\">\n",
       "  <thead>\n",
       "    <tr style=\"text-align: right;\">\n",
       "      <th></th>\n",
       "      <th>Keywords</th>\n",
       "      <th>Year</th>\n",
       "      <th>Num Documents</th>\n",
       "    </tr>\n",
       "  </thead>\n",
       "  <tbody>\n",
       "    <tr>\n",
       "      <th>9</th>\n",
       "      <td>Algorithmic trading</td>\n",
       "      <td>2008</td>\n",
       "      <td>2</td>\n",
       "    </tr>\n",
       "    <tr>\n",
       "      <th>11</th>\n",
       "      <td>Algorithmic trading</td>\n",
       "      <td>2010</td>\n",
       "      <td>2</td>\n",
       "    </tr>\n",
       "    <tr>\n",
       "      <th>15</th>\n",
       "      <td>Algorithmic trading</td>\n",
       "      <td>2015</td>\n",
       "      <td>2</td>\n",
       "    </tr>\n",
       "    <tr>\n",
       "      <th>16</th>\n",
       "      <td>Algorithmic trading</td>\n",
       "      <td>2016</td>\n",
       "      <td>3</td>\n",
       "    </tr>\n",
       "    <tr>\n",
       "      <th>18</th>\n",
       "      <td>Algorithmic trading</td>\n",
       "      <td>2018</td>\n",
       "      <td>3</td>\n",
       "    </tr>\n",
       "  </tbody>\n",
       "</table>\n",
       "</div>"
      ],
      "text/plain": [
       "               Keywords  Year  Num Documents\n",
       "9   Algorithmic trading  2008              2\n",
       "11  Algorithmic trading  2010              2\n",
       "15  Algorithmic trading  2015              2\n",
       "16  Algorithmic trading  2016              3\n",
       "18  Algorithmic trading  2018              3"
      ]
     },
     "execution_count": 5,
     "metadata": {},
     "output_type": "execute_result"
    }
   ],
   "source": [
    "termByTerm( \n",
    "    df=records, \n",
    "    termA='Keywords', \n",
    "    termB='Year', \n",
    "    sepA=';', \n",
    "    sepB=None, \n",
    "    minmax=(2,3)).head()   ## minimum and maximum values in the matrix"
   ]
  },
  {
   "cell_type": "code",
   "execution_count": 6,
   "metadata": {},
   "outputs": [
    {
     "data": {
      "image/png": "[encoded data removed]",
      "text/plain": [
       "<Figure size 720x720 with 1 Axes>"
      ]
     },
     "metadata": {
      "needs_background": "light"
     },
     "output_type": "display_data"
    }
   ],
   "source": [
    "from techMiner import heatmap\n",
    "\n",
    "heatmap(\n",
    "    termByTerm( \n",
    "        df=records, \n",
    "        termA='Keywords', \n",
    "        termB='Year', \n",
    "        sepA=';', \n",
    "        sepB=None, \n",
    "        minmax=(2,8)),\n",
    "    ascendingA=False, ascendingB=False)"
   ]
  },
  {
   "cell_type": "code",
   "execution_count": 7,
   "metadata": {},
   "outputs": [
    {
     "data": {
      "application/vnd.vegalite.v3+json": {
       "$schema": "https://vega.github.io/schema/vega-lite/v3.4.0.json",
       "config": {
        "mark": {
         "tooltip": null
        },
        "view": {
         "height": 300,
         "width": 400
        }
       },
       "data": {
        "name": "data-91c2203e13d7aaa009d59d64ea322ac5"
       },
       "datasets": {
        "data-91c2203e13d7aaa009d59d64ea322ac5": [
         {
          "Keywords": "Algorithmic trading",
          "Num Documents": 2,
          "Year": 2008
         },
         {
          "Keywords": "Algorithmic trading",
          "Num Documents": 2,
          "Year": 2010
         },
         {
          "Keywords": "Algorithmic trading",
          "Num Documents": 6,
          "Year": 2012
         },
         {
          "Keywords": "Algorithmic trading",
          "Num Documents": 5,
          "Year": 2014
         },
         {
          "Keywords": "Algorithmic trading",
          "Num Documents": 2,
          "Year": 2015
         },
         {
          "Keywords": "Algorithmic trading",
          "Num Documents": 3,
          "Year": 2016
         },
         {
          "Keywords": "Algorithmic trading",
          "Num Documents": 8,
          "Year": 2017
         },
         {
          "Keywords": "Algorithmic trading",
          "Num Documents": 3,
          "Year": 2018
         },
         {
          "Keywords": "Algorithmic trading",
          "Num Documents": 4,
          "Year": 2019
         },
         {
          "Keywords": "Automated trading",
          "Num Documents": 5,
          "Year": 2010
         },
         {
          "Keywords": "Automated trading",
          "Num Documents": 4,
          "Year": 2012
         },
         {
          "Keywords": "Automated trading",
          "Num Documents": 2,
          "Year": 2014
         },
         {
          "Keywords": "Automated trading",
          "Num Documents": 2,
          "Year": 2019
         },
         {
          "Keywords": "Automated trading system",
          "Num Documents": 3,
          "Year": 2018
         },
         {
          "Keywords": "Big data",
          "Num Documents": 2,
          "Year": 2019
         },
         {
          "Keywords": "Data mining",
          "Num Documents": 2,
          "Year": 2017
         },
         {
          "Keywords": "Decision support system",
          "Num Documents": 2,
          "Year": 2017
         },
         {
          "Keywords": "Deep learning",
          "Num Documents": 2,
          "Year": 2017
         },
         {
          "Keywords": "Deep learning",
          "Num Documents": 4,
          "Year": 2018
         },
         {
          "Keywords": "Deep learning",
          "Num Documents": 4,
          "Year": 2019
         },
         {
          "Keywords": "Finance",
          "Num Documents": 2,
          "Year": 2019
         },
         {
          "Keywords": "Financial Engineering",
          "Num Documents": 2,
          "Year": 2019
         },
         {
          "Keywords": "Financial Markets",
          "Num Documents": 2,
          "Year": 2019
         },
         {
          "Keywords": "Financial forecasting",
          "Num Documents": 3,
          "Year": 2017
         },
         {
          "Keywords": "Financial forecasting",
          "Num Documents": 2,
          "Year": 2018
         },
         {
          "Keywords": "Forex",
          "Num Documents": 2,
          "Year": 2017
         },
         {
          "Keywords": "Genetic algorithm",
          "Num Documents": 3,
          "Year": 2017
         },
         {
          "Keywords": "High frequency trading",
          "Num Documents": 2,
          "Year": 2009
         },
         {
          "Keywords": "High frequency trading",
          "Num Documents": 2,
          "Year": 2012
         },
         {
          "Keywords": "High frequency trading",
          "Num Documents": 2,
          "Year": 2013
         },
         {
          "Keywords": "High frequency trading",
          "Num Documents": 2,
          "Year": 2014
         },
         {
          "Keywords": "High frequency trading",
          "Num Documents": 3,
          "Year": 2016
         },
         {
          "Keywords": "High frequency trading",
          "Num Documents": 2,
          "Year": 2017
         },
         {
          "Keywords": "High frequency trading",
          "Num Documents": 2,
          "Year": 2018
         },
         {
          "Keywords": "High frequency trading",
          "Num Documents": 4,
          "Year": 2019
         },
         {
          "Keywords": "High-frequency data",
          "Num Documents": 2,
          "Year": 2012
         },
         {
          "Keywords": "LSTM",
          "Num Documents": 2,
          "Year": 2019
         },
         {
          "Keywords": "Limit order book",
          "Num Documents": 2,
          "Year": 2012
         },
         {
          "Keywords": "Machine learning",
          "Num Documents": 3,
          "Year": 2017
         },
         {
          "Keywords": "Machine learning",
          "Num Documents": 3,
          "Year": 2018
         },
         {
          "Keywords": "Machine learning",
          "Num Documents": 4,
          "Year": 2019
         },
         {
          "Keywords": "Portfolio optimization",
          "Num Documents": 2,
          "Year": 2018
         },
         {
          "Keywords": "Sentiment analysis",
          "Num Documents": 2,
          "Year": 2019
         },
         {
          "Keywords": "Statistical arbitrage",
          "Num Documents": 2,
          "Year": 2019
         },
         {
          "Keywords": "Stock market",
          "Num Documents": 3,
          "Year": 2018
         },
         {
          "Keywords": "Technical analysis",
          "Num Documents": 2,
          "Year": 2017
         },
         {
          "Keywords": "Technical analysis",
          "Num Documents": 3,
          "Year": 2018
         },
         {
          "Keywords": "agent-based modeling",
          "Num Documents": 2,
          "Year": 2017
         },
         {
          "Keywords": "classification",
          "Num Documents": 2,
          "Year": 2019
         },
         {
          "Keywords": "convolutional neural networks",
          "Num Documents": 3,
          "Year": 2018
         },
         {
          "Keywords": "directional change",
          "Num Documents": 3,
          "Year": 2017
         },
         {
          "Keywords": "multiagent systems",
          "Num Documents": 2,
          "Year": 2013
         },
         {
          "Keywords": "portfolio management",
          "Num Documents": 2,
          "Year": 2018
         },
         {
          "Keywords": "portfolio optimisation",
          "Num Documents": 2,
          "Year": 2012
         },
         {
          "Keywords": "regularization",
          "Num Documents": 2,
          "Year": 2012
         },
         {
          "Keywords": "sample size",
          "Num Documents": 2,
          "Year": 2012
         },
         {
          "Keywords": "technical indicators",
          "Num Documents": 2,
          "Year": 2019
         }
        ]
       },
       "encoding": {
        "color": {
         "field": "Num Documents",
         "type": "quantitative"
        },
        "x": {
         "field": "Keywords",
         "type": "ordinal"
        },
        "y": {
         "field": "Year",
         "type": "ordinal"
        }
       },
       "mark": "rect"
      },
      "image/png": "[encoded data removed]",
      "text/plain": [
       "<VegaLite 3 object>\n",
       "\n",
       "If you see this message, it means the renderer has not been properly enabled\n",
       "for the frontend that you are using. For more information, see\n",
       "https://altair-viz.github.io/user_guide/troubleshooting.html\n"
      ]
     },
     "execution_count": 7,
     "metadata": {},
     "output_type": "execute_result"
    }
   ],
   "source": [
    "from techMiner import alt_heatmap\n",
    "\n",
    "alt_heatmap(\n",
    "    termByTerm( \n",
    "        df=records, \n",
    "        termA='Keywords', \n",
    "        termB='Year', \n",
    "        sepA=';', \n",
    "        sepB=None, \n",
    "        minmax=(2,8)))"
   ]
  },
  {
   "cell_type": "code",
   "execution_count": 8,
   "metadata": {},
   "outputs": [
    {
     "data": {
      "application/vnd.vegalite.v3+json": {
       "$schema": "https://vega.github.io/schema/vega-lite/v3.4.0.json",
       "config": {
        "mark": {
         "tooltip": null
        },
        "view": {
         "height": 300,
         "width": 400
        }
       },
       "data": {
        "name": "data-91c2203e13d7aaa009d59d64ea322ac5"
       },
       "datasets": {
        "data-91c2203e13d7aaa009d59d64ea322ac5": [
         {
          "Keywords": "Algorithmic trading",
          "Num Documents": 2,
          "Year": 2008
         },
         {
          "Keywords": "Algorithmic trading",
          "Num Documents": 2,
          "Year": 2010
         },
         {
          "Keywords": "Algorithmic trading",
          "Num Documents": 6,
          "Year": 2012
         },
         {
          "Keywords": "Algorithmic trading",
          "Num Documents": 5,
          "Year": 2014
         },
         {
          "Keywords": "Algorithmic trading",
          "Num Documents": 2,
          "Year": 2015
         },
         {
          "Keywords": "Algorithmic trading",
          "Num Documents": 3,
          "Year": 2016
         },
         {
          "Keywords": "Algorithmic trading",
          "Num Documents": 8,
          "Year": 2017
         },
         {
          "Keywords": "Algorithmic trading",
          "Num Documents": 3,
          "Year": 2018
         },
         {
          "Keywords": "Algorithmic trading",
          "Num Documents": 4,
          "Year": 2019
         },
         {
          "Keywords": "Automated trading",
          "Num Documents": 5,
          "Year": 2010
         },
         {
          "Keywords": "Automated trading",
          "Num Documents": 4,
          "Year": 2012
         },
         {
          "Keywords": "Automated trading",
          "Num Documents": 2,
          "Year": 2014
         },
         {
          "Keywords": "Automated trading",
          "Num Documents": 2,
          "Year": 2019
         },
         {
          "Keywords": "Automated trading system",
          "Num Documents": 3,
          "Year": 2018
         },
         {
          "Keywords": "Big data",
          "Num Documents": 2,
          "Year": 2019
         },
         {
          "Keywords": "Data mining",
          "Num Documents": 2,
          "Year": 2017
         },
         {
          "Keywords": "Decision support system",
          "Num Documents": 2,
          "Year": 2017
         },
         {
          "Keywords": "Deep learning",
          "Num Documents": 2,
          "Year": 2017
         },
         {
          "Keywords": "Deep learning",
          "Num Documents": 4,
          "Year": 2018
         },
         {
          "Keywords": "Deep learning",
          "Num Documents": 4,
          "Year": 2019
         },
         {
          "Keywords": "Finance",
          "Num Documents": 2,
          "Year": 2019
         },
         {
          "Keywords": "Financial Engineering",
          "Num Documents": 2,
          "Year": 2019
         },
         {
          "Keywords": "Financial Markets",
          "Num Documents": 2,
          "Year": 2019
         },
         {
          "Keywords": "Financial forecasting",
          "Num Documents": 3,
          "Year": 2017
         },
         {
          "Keywords": "Financial forecasting",
          "Num Documents": 2,
          "Year": 2018
         },
         {
          "Keywords": "Forex",
          "Num Documents": 2,
          "Year": 2017
         },
         {
          "Keywords": "Genetic algorithm",
          "Num Documents": 3,
          "Year": 2017
         },
         {
          "Keywords": "High frequency trading",
          "Num Documents": 2,
          "Year": 2009
         },
         {
          "Keywords": "High frequency trading",
          "Num Documents": 2,
          "Year": 2012
         },
         {
          "Keywords": "High frequency trading",
          "Num Documents": 2,
          "Year": 2013
         },
         {
          "Keywords": "High frequency trading",
          "Num Documents": 2,
          "Year": 2014
         },
         {
          "Keywords": "High frequency trading",
          "Num Documents": 3,
          "Year": 2016
         },
         {
          "Keywords": "High frequency trading",
          "Num Documents": 2,
          "Year": 2017
         },
         {
          "Keywords": "High frequency trading",
          "Num Documents": 2,
          "Year": 2018
         },
         {
          "Keywords": "High frequency trading",
          "Num Documents": 4,
          "Year": 2019
         },
         {
          "Keywords": "High-frequency data",
          "Num Documents": 2,
          "Year": 2012
         },
         {
          "Keywords": "LSTM",
          "Num Documents": 2,
          "Year": 2019
         },
         {
          "Keywords": "Limit order book",
          "Num Documents": 2,
          "Year": 2012
         },
         {
          "Keywords": "Machine learning",
          "Num Documents": 3,
          "Year": 2017
         },
         {
          "Keywords": "Machine learning",
          "Num Documents": 3,
          "Year": 2018
         },
         {
          "Keywords": "Machine learning",
          "Num Documents": 4,
          "Year": 2019
         },
         {
          "Keywords": "Portfolio optimization",
          "Num Documents": 2,
          "Year": 2018
         },
         {
          "Keywords": "Sentiment analysis",
          "Num Documents": 2,
          "Year": 2019
         },
         {
          "Keywords": "Statistical arbitrage",
          "Num Documents": 2,
          "Year": 2019
         },
         {
          "Keywords": "Stock market",
          "Num Documents": 3,
          "Year": 2018
         },
         {
          "Keywords": "Technical analysis",
          "Num Documents": 2,
          "Year": 2017
         },
         {
          "Keywords": "Technical analysis",
          "Num Documents": 3,
          "Year": 2018
         },
         {
          "Keywords": "agent-based modeling",
          "Num Documents": 2,
          "Year": 2017
         },
         {
          "Keywords": "classification",
          "Num Documents": 2,
          "Year": 2019
         },
         {
          "Keywords": "convolutional neural networks",
          "Num Documents": 3,
          "Year": 2018
         },
         {
          "Keywords": "directional change",
          "Num Documents": 3,
          "Year": 2017
         },
         {
          "Keywords": "multiagent systems",
          "Num Documents": 2,
          "Year": 2013
         },
         {
          "Keywords": "portfolio management",
          "Num Documents": 2,
          "Year": 2018
         },
         {
          "Keywords": "portfolio optimisation",
          "Num Documents": 2,
          "Year": 2012
         },
         {
          "Keywords": "regularization",
          "Num Documents": 2,
          "Year": 2012
         },
         {
          "Keywords": "sample size",
          "Num Documents": 2,
          "Year": 2012
         },
         {
          "Keywords": "technical indicators",
          "Num Documents": 2,
          "Year": 2019
         }
        ]
       },
       "encoding": {
        "color": {
         "field": "Num Documents",
         "type": "quantitative"
        },
        "size": {
         "field": "Num Documents",
         "type": "quantitative"
        },
        "x": {
         "axis": {
          "labelAngle": 270
         },
         "field": "Keywords",
         "type": "nominal"
        },
        "y": {
         "field": "Year",
         "type": "nominal"
        }
       },
       "mark": "circle"
      },
      "image/png": "[encoded data removed]",
      "text/plain": [
       "<VegaLite 3 object>\n",
       "\n",
       "If you see this message, it means the renderer has not been properly enabled\n",
       "for the frontend that you are using. For more information, see\n",
       "https://altair-viz.github.io/user_guide/troubleshooting.html\n"
      ]
     },
     "execution_count": 8,
     "metadata": {},
     "output_type": "execute_result"
    }
   ],
   "source": [
    "from techMiner import alt_circleplot\n",
    "\n",
    "alt_circleplot(\n",
    "    termByTerm( \n",
    "        df=records, \n",
    "        termA='Keywords', \n",
    "        termB='Year', \n",
    "        sepA=';', \n",
    "        sepB=None, \n",
    "        minmax=(2,8)))"
   ]
  },
  {
   "cell_type": "code",
   "execution_count": 9,
   "metadata": {},
   "outputs": [],
   "source": [
    "# from techMiner import sns_heatmap\n",
    "#\n",
    "# sns_heatmap(\n",
    "#     termByTerm( \n",
    "#         df=records, \n",
    "#         termA='Keywords', \n",
    "#         termB='Year', \n",
    "#         sepA=';', \n",
    "#         sepB=None, \n",
    "#         minmax=(2,8)))"
   ]
  },
  {
   "cell_type": "markdown",
   "metadata": {},
   "source": [
    "## Document type per year"
   ]
  },
  {
   "cell_type": "code",
   "execution_count": 10,
   "metadata": {},
   "outputs": [
    {
     "data": {
      "text/html": [
       "<div>\n",
       "<style scoped>\n",
       "    .dataframe tbody tr th:only-of-type {\n",
       "        vertical-align: middle;\n",
       "    }\n",
       "\n",
       "    .dataframe tbody tr th {\n",
       "        vertical-align: top;\n",
       "    }\n",
       "\n",
       "    .dataframe thead th {\n",
       "        text-align: right;\n",
       "    }\n",
       "</style>\n",
       "<table border=\"1\" class=\"dataframe\">\n",
       "  <thead>\n",
       "    <tr style=\"text-align: right;\">\n",
       "      <th></th>\n",
       "      <th>Document Type</th>\n",
       "      <th>Year</th>\n",
       "      <th>Num Documents</th>\n",
       "    </tr>\n",
       "  </thead>\n",
       "  <tbody>\n",
       "    <tr>\n",
       "      <th>0</th>\n",
       "      <td>Article</td>\n",
       "      <td>2004</td>\n",
       "      <td>1</td>\n",
       "    </tr>\n",
       "    <tr>\n",
       "      <th>1</th>\n",
       "      <td>Article</td>\n",
       "      <td>2006</td>\n",
       "      <td>1</td>\n",
       "    </tr>\n",
       "    <tr>\n",
       "      <th>2</th>\n",
       "      <td>Article</td>\n",
       "      <td>2007</td>\n",
       "      <td>1</td>\n",
       "    </tr>\n",
       "    <tr>\n",
       "      <th>3</th>\n",
       "      <td>Article</td>\n",
       "      <td>2008</td>\n",
       "      <td>1</td>\n",
       "    </tr>\n",
       "    <tr>\n",
       "      <th>4</th>\n",
       "      <td>Article</td>\n",
       "      <td>2009</td>\n",
       "      <td>2</td>\n",
       "    </tr>\n",
       "  </tbody>\n",
       "</table>\n",
       "</div>"
      ],
      "text/plain": [
       "  Document Type  Year  Num Documents\n",
       "0       Article  2004              1\n",
       "1       Article  2006              1\n",
       "2       Article  2007              1\n",
       "3       Article  2008              1\n",
       "4       Article  2009              2"
      ]
     },
     "execution_count": 10,
     "metadata": {},
     "output_type": "execute_result"
    }
   ],
   "source": [
    "termByTerm(\n",
    "    df=records, \n",
    "    termA='Document Type', \n",
    "    termB='Year', \n",
    "    sepA=None, \n",
    "    sepB=None).head()"
   ]
  },
  {
   "cell_type": "markdown",
   "metadata": {},
   "source": [
    "## Keywords by year"
   ]
  },
  {
   "cell_type": "code",
   "execution_count": 11,
   "metadata": {},
   "outputs": [
    {
     "data": {
      "text/html": [
       "<div>\n",
       "<style scoped>\n",
       "    .dataframe tbody tr th:only-of-type {\n",
       "        vertical-align: middle;\n",
       "    }\n",
       "\n",
       "    .dataframe tbody tr th {\n",
       "        vertical-align: top;\n",
       "    }\n",
       "\n",
       "    .dataframe thead th {\n",
       "        text-align: right;\n",
       "    }\n",
       "</style>\n",
       "<table border=\"1\" class=\"dataframe\">\n",
       "  <thead>\n",
       "    <tr style=\"text-align: right;\">\n",
       "      <th></th>\n",
       "      <th>Keywords</th>\n",
       "      <th>Year</th>\n",
       "      <th>Num Documents</th>\n",
       "    </tr>\n",
       "  </thead>\n",
       "  <tbody>\n",
       "    <tr>\n",
       "      <th>0</th>\n",
       "      <td>?-stable processes</td>\n",
       "      <td>2018</td>\n",
       "      <td>1</td>\n",
       "    </tr>\n",
       "    <tr>\n",
       "      <th>1</th>\n",
       "      <td>ANFIS</td>\n",
       "      <td>2014</td>\n",
       "      <td>1</td>\n",
       "    </tr>\n",
       "    <tr>\n",
       "      <th>2</th>\n",
       "      <td>ANFIS ensemble</td>\n",
       "      <td>2014</td>\n",
       "      <td>1</td>\n",
       "    </tr>\n",
       "    <tr>\n",
       "      <th>3</th>\n",
       "      <td>ANN</td>\n",
       "      <td>2014</td>\n",
       "      <td>1</td>\n",
       "    </tr>\n",
       "    <tr>\n",
       "      <th>4</th>\n",
       "      <td>Adaptive GP trading system</td>\n",
       "      <td>2017</td>\n",
       "      <td>1</td>\n",
       "    </tr>\n",
       "  </tbody>\n",
       "</table>\n",
       "</div>"
      ],
      "text/plain": [
       "                     Keywords  Year  Num Documents\n",
       "0          ?-stable processes  2018              1\n",
       "1                       ANFIS  2014              1\n",
       "2              ANFIS ensemble  2014              1\n",
       "3                         ANN  2014              1\n",
       "4  Adaptive GP trading system  2017              1"
      ]
     },
     "execution_count": 11,
     "metadata": {},
     "output_type": "execute_result"
    }
   ],
   "source": [
    "termByTerm(\n",
    "    df=records, \n",
    "    termA='Keywords', \n",
    "    termB='Year', \n",
    "    sepA=';', \n",
    "    sepB=None).head()"
   ]
  },
  {
   "cell_type": "markdown",
   "metadata": {},
   "source": [
    "## Authors per document type"
   ]
  },
  {
   "cell_type": "code",
   "execution_count": 12,
   "metadata": {},
   "outputs": [
    {
     "data": {
      "text/html": [
       "<div>\n",
       "<style scoped>\n",
       "    .dataframe tbody tr th:only-of-type {\n",
       "        vertical-align: middle;\n",
       "    }\n",
       "\n",
       "    .dataframe tbody tr th {\n",
       "        vertical-align: top;\n",
       "    }\n",
       "\n",
       "    .dataframe thead th {\n",
       "        text-align: right;\n",
       "    }\n",
       "</style>\n",
       "<table border=\"1\" class=\"dataframe\">\n",
       "  <thead>\n",
       "    <tr style=\"text-align: right;\">\n",
       "      <th></th>\n",
       "      <th>Authors</th>\n",
       "      <th>Document Type</th>\n",
       "      <th>Num Documents</th>\n",
       "    </tr>\n",
       "  </thead>\n",
       "  <tbody>\n",
       "    <tr>\n",
       "      <th>0</th>\n",
       "      <td>Adams N.</td>\n",
       "      <td>Article</td>\n",
       "      <td>1</td>\n",
       "    </tr>\n",
       "    <tr>\n",
       "      <th>1</th>\n",
       "      <td>Addis D.</td>\n",
       "      <td>Conference Paper</td>\n",
       "      <td>1</td>\n",
       "    </tr>\n",
       "    <tr>\n",
       "      <th>2</th>\n",
       "      <td>Adegboye A.</td>\n",
       "      <td>Conference Paper</td>\n",
       "      <td>1</td>\n",
       "    </tr>\n",
       "    <tr>\n",
       "      <th>3</th>\n",
       "      <td>Agapitos A.</td>\n",
       "      <td>Conference Paper</td>\n",
       "      <td>1</td>\n",
       "    </tr>\n",
       "    <tr>\n",
       "      <th>4</th>\n",
       "      <td>Ali A.M.</td>\n",
       "      <td>Conference Paper</td>\n",
       "      <td>1</td>\n",
       "    </tr>\n",
       "  </tbody>\n",
       "</table>\n",
       "</div>"
      ],
      "text/plain": [
       "        Authors     Document Type  Num Documents\n",
       "0      Adams N.           Article              1\n",
       "1      Addis D.  Conference Paper              1\n",
       "2   Adegboye A.  Conference Paper              1\n",
       "3   Agapitos A.  Conference Paper              1\n",
       "4      Ali A.M.  Conference Paper              1"
      ]
     },
     "execution_count": 12,
     "metadata": {},
     "output_type": "execute_result"
    }
   ],
   "source": [
    "termByTerm(\n",
    "    df=records, \n",
    "    termA='Authors', \n",
    "    termB='Document Type', \n",
    "    sepA=',', \n",
    "    sepB=None).head()"
   ]
  },
  {
   "cell_type": "markdown",
   "metadata": {},
   "source": [
    "## Autocorrelation"
   ]
  },
  {
   "cell_type": "code",
   "execution_count": 13,
   "metadata": {},
   "outputs": [
    {
     "data": {
      "text/html": [
       "<div>\n",
       "<style scoped>\n",
       "    .dataframe tbody tr th:only-of-type {\n",
       "        vertical-align: middle;\n",
       "    }\n",
       "\n",
       "    .dataframe tbody tr th {\n",
       "        vertical-align: top;\n",
       "    }\n",
       "\n",
       "    .dataframe thead th {\n",
       "        text-align: right;\n",
       "    }\n",
       "</style>\n",
       "<table border=\"1\" class=\"dataframe\">\n",
       "  <thead>\n",
       "    <tr style=\"text-align: right;\">\n",
       "      <th></th>\n",
       "      <th>Keywords (row)</th>\n",
       "      <th>Keywords (col)</th>\n",
       "      <th>Autocorrelation</th>\n",
       "    </tr>\n",
       "  </thead>\n",
       "  <tbody>\n",
       "    <tr>\n",
       "      <th>0</th>\n",
       "      <td>Algorithmic trading</td>\n",
       "      <td>Algorithmic trading</td>\n",
       "      <td>1.000000</td>\n",
       "    </tr>\n",
       "    <tr>\n",
       "      <th>1</th>\n",
       "      <td>Algorithmic trading</td>\n",
       "      <td>Automated trading</td>\n",
       "      <td>0.084895</td>\n",
       "    </tr>\n",
       "    <tr>\n",
       "      <th>2</th>\n",
       "      <td>Algorithmic trading</td>\n",
       "      <td>Automated trading system</td>\n",
       "      <td>0.000000</td>\n",
       "    </tr>\n",
       "    <tr>\n",
       "      <th>3</th>\n",
       "      <td>Algorithmic trading</td>\n",
       "      <td>Deep learning</td>\n",
       "      <td>0.099136</td>\n",
       "    </tr>\n",
       "    <tr>\n",
       "      <th>4</th>\n",
       "      <td>Algorithmic trading</td>\n",
       "      <td>Financial forecasting</td>\n",
       "      <td>0.201347</td>\n",
       "    </tr>\n",
       "    <tr>\n",
       "      <th>5</th>\n",
       "      <td>Algorithmic trading</td>\n",
       "      <td>Forecasting</td>\n",
       "      <td>0.000000</td>\n",
       "    </tr>\n",
       "    <tr>\n",
       "      <th>6</th>\n",
       "      <td>Algorithmic trading</td>\n",
       "      <td>High frequency trading</td>\n",
       "      <td>0.075431</td>\n",
       "    </tr>\n",
       "    <tr>\n",
       "      <th>7</th>\n",
       "      <td>Algorithmic trading</td>\n",
       "      <td>Machine learning</td>\n",
       "      <td>0.227980</td>\n",
       "    </tr>\n",
       "    <tr>\n",
       "      <th>8</th>\n",
       "      <td>Algorithmic trading</td>\n",
       "      <td>Technical analysis</td>\n",
       "      <td>0.164399</td>\n",
       "    </tr>\n",
       "    <tr>\n",
       "      <th>9</th>\n",
       "      <td>Algorithmic trading</td>\n",
       "      <td>multiagent systems</td>\n",
       "      <td>0.000000</td>\n",
       "    </tr>\n",
       "    <tr>\n",
       "      <th>10</th>\n",
       "      <td>Automated trading</td>\n",
       "      <td>Algorithmic trading</td>\n",
       "      <td>0.084895</td>\n",
       "    </tr>\n",
       "    <tr>\n",
       "      <th>11</th>\n",
       "      <td>Automated trading</td>\n",
       "      <td>Automated trading</td>\n",
       "      <td>1.000000</td>\n",
       "    </tr>\n",
       "    <tr>\n",
       "      <th>12</th>\n",
       "      <td>Automated trading</td>\n",
       "      <td>Automated trading system</td>\n",
       "      <td>0.000000</td>\n",
       "    </tr>\n",
       "    <tr>\n",
       "      <th>13</th>\n",
       "      <td>Automated trading</td>\n",
       "      <td>Deep learning</td>\n",
       "      <td>0.077850</td>\n",
       "    </tr>\n",
       "    <tr>\n",
       "      <th>14</th>\n",
       "      <td>Automated trading</td>\n",
       "      <td>Financial forecasting</td>\n",
       "      <td>0.000000</td>\n",
       "    </tr>\n",
       "    <tr>\n",
       "      <th>15</th>\n",
       "      <td>Automated trading</td>\n",
       "      <td>Forecasting</td>\n",
       "      <td>0.230940</td>\n",
       "    </tr>\n",
       "    <tr>\n",
       "      <th>16</th>\n",
       "      <td>Automated trading</td>\n",
       "      <td>High frequency trading</td>\n",
       "      <td>0.059235</td>\n",
       "    </tr>\n",
       "    <tr>\n",
       "      <th>17</th>\n",
       "      <td>Automated trading</td>\n",
       "      <td>Machine learning</td>\n",
       "      <td>0.214834</td>\n",
       "    </tr>\n",
       "    <tr>\n",
       "      <th>18</th>\n",
       "      <td>Automated trading</td>\n",
       "      <td>Technical analysis</td>\n",
       "      <td>0.000000</td>\n",
       "    </tr>\n",
       "    <tr>\n",
       "      <th>19</th>\n",
       "      <td>Automated trading</td>\n",
       "      <td>multiagent systems</td>\n",
       "      <td>0.292770</td>\n",
       "    </tr>\n",
       "    <tr>\n",
       "      <th>20</th>\n",
       "      <td>Automated trading system</td>\n",
       "      <td>Algorithmic trading</td>\n",
       "      <td>0.000000</td>\n",
       "    </tr>\n",
       "    <tr>\n",
       "      <th>21</th>\n",
       "      <td>Automated trading system</td>\n",
       "      <td>Automated trading</td>\n",
       "      <td>0.000000</td>\n",
       "    </tr>\n",
       "    <tr>\n",
       "      <th>22</th>\n",
       "      <td>Automated trading system</td>\n",
       "      <td>Automated trading system</td>\n",
       "      <td>1.000000</td>\n",
       "    </tr>\n",
       "    <tr>\n",
       "      <th>23</th>\n",
       "      <td>Automated trading system</td>\n",
       "      <td>Deep learning</td>\n",
       "      <td>0.000000</td>\n",
       "    </tr>\n",
       "    <tr>\n",
       "      <th>24</th>\n",
       "      <td>Automated trading system</td>\n",
       "      <td>Financial forecasting</td>\n",
       "      <td>0.000000</td>\n",
       "    </tr>\n",
       "    <tr>\n",
       "      <th>25</th>\n",
       "      <td>Automated trading system</td>\n",
       "      <td>Forecasting</td>\n",
       "      <td>0.000000</td>\n",
       "    </tr>\n",
       "    <tr>\n",
       "      <th>26</th>\n",
       "      <td>Automated trading system</td>\n",
       "      <td>High frequency trading</td>\n",
       "      <td>0.000000</td>\n",
       "    </tr>\n",
       "    <tr>\n",
       "      <th>27</th>\n",
       "      <td>Automated trading system</td>\n",
       "      <td>Machine learning</td>\n",
       "      <td>0.000000</td>\n",
       "    </tr>\n",
       "    <tr>\n",
       "      <th>28</th>\n",
       "      <td>Automated trading system</td>\n",
       "      <td>Technical analysis</td>\n",
       "      <td>0.272166</td>\n",
       "    </tr>\n",
       "    <tr>\n",
       "      <th>29</th>\n",
       "      <td>Automated trading system</td>\n",
       "      <td>multiagent systems</td>\n",
       "      <td>0.154303</td>\n",
       "    </tr>\n",
       "    <tr>\n",
       "      <th>...</th>\n",
       "      <td>...</td>\n",
       "      <td>...</td>\n",
       "      <td>...</td>\n",
       "    </tr>\n",
       "    <tr>\n",
       "      <th>70</th>\n",
       "      <td>Machine learning</td>\n",
       "      <td>Algorithmic trading</td>\n",
       "      <td>0.227980</td>\n",
       "    </tr>\n",
       "    <tr>\n",
       "      <th>71</th>\n",
       "      <td>Machine learning</td>\n",
       "      <td>Automated trading</td>\n",
       "      <td>0.214834</td>\n",
       "    </tr>\n",
       "    <tr>\n",
       "      <th>72</th>\n",
       "      <td>Machine learning</td>\n",
       "      <td>Automated trading system</td>\n",
       "      <td>0.000000</td>\n",
       "    </tr>\n",
       "    <tr>\n",
       "      <th>73</th>\n",
       "      <td>Machine learning</td>\n",
       "      <td>Deep learning</td>\n",
       "      <td>0.083624</td>\n",
       "    </tr>\n",
       "    <tr>\n",
       "      <th>74</th>\n",
       "      <td>Machine learning</td>\n",
       "      <td>Financial forecasting</td>\n",
       "      <td>0.000000</td>\n",
       "    </tr>\n",
       "    <tr>\n",
       "      <th>75</th>\n",
       "      <td>Machine learning</td>\n",
       "      <td>Forecasting</td>\n",
       "      <td>0.000000</td>\n",
       "    </tr>\n",
       "    <tr>\n",
       "      <th>76</th>\n",
       "      <td>Machine learning</td>\n",
       "      <td>High frequency trading</td>\n",
       "      <td>0.063628</td>\n",
       "    </tr>\n",
       "    <tr>\n",
       "      <th>77</th>\n",
       "      <td>Machine learning</td>\n",
       "      <td>Machine learning</td>\n",
       "      <td>1.000000</td>\n",
       "    </tr>\n",
       "    <tr>\n",
       "      <th>78</th>\n",
       "      <td>Machine learning</td>\n",
       "      <td>Technical analysis</td>\n",
       "      <td>0.000000</td>\n",
       "    </tr>\n",
       "    <tr>\n",
       "      <th>79</th>\n",
       "      <td>Machine learning</td>\n",
       "      <td>multiagent systems</td>\n",
       "      <td>0.000000</td>\n",
       "    </tr>\n",
       "    <tr>\n",
       "      <th>80</th>\n",
       "      <td>Technical analysis</td>\n",
       "      <td>Algorithmic trading</td>\n",
       "      <td>0.164399</td>\n",
       "    </tr>\n",
       "    <tr>\n",
       "      <th>81</th>\n",
       "      <td>Technical analysis</td>\n",
       "      <td>Automated trading</td>\n",
       "      <td>0.000000</td>\n",
       "    </tr>\n",
       "    <tr>\n",
       "      <th>82</th>\n",
       "      <td>Technical analysis</td>\n",
       "      <td>Automated trading system</td>\n",
       "      <td>0.272166</td>\n",
       "    </tr>\n",
       "    <tr>\n",
       "      <th>83</th>\n",
       "      <td>Technical analysis</td>\n",
       "      <td>Deep learning</td>\n",
       "      <td>0.100504</td>\n",
       "    </tr>\n",
       "    <tr>\n",
       "      <th>84</th>\n",
       "      <td>Technical analysis</td>\n",
       "      <td>Financial forecasting</td>\n",
       "      <td>0.272166</td>\n",
       "    </tr>\n",
       "    <tr>\n",
       "      <th>85</th>\n",
       "      <td>Technical analysis</td>\n",
       "      <td>Forecasting</td>\n",
       "      <td>0.000000</td>\n",
       "    </tr>\n",
       "    <tr>\n",
       "      <th>86</th>\n",
       "      <td>Technical analysis</td>\n",
       "      <td>High frequency trading</td>\n",
       "      <td>0.000000</td>\n",
       "    </tr>\n",
       "    <tr>\n",
       "      <th>87</th>\n",
       "      <td>Technical analysis</td>\n",
       "      <td>Machine learning</td>\n",
       "      <td>0.000000</td>\n",
       "    </tr>\n",
       "    <tr>\n",
       "      <th>88</th>\n",
       "      <td>Technical analysis</td>\n",
       "      <td>Technical analysis</td>\n",
       "      <td>1.000000</td>\n",
       "    </tr>\n",
       "    <tr>\n",
       "      <th>89</th>\n",
       "      <td>Technical analysis</td>\n",
       "      <td>multiagent systems</td>\n",
       "      <td>0.000000</td>\n",
       "    </tr>\n",
       "    <tr>\n",
       "      <th>90</th>\n",
       "      <td>multiagent systems</td>\n",
       "      <td>Algorithmic trading</td>\n",
       "      <td>0.000000</td>\n",
       "    </tr>\n",
       "    <tr>\n",
       "      <th>91</th>\n",
       "      <td>multiagent systems</td>\n",
       "      <td>Automated trading</td>\n",
       "      <td>0.292770</td>\n",
       "    </tr>\n",
       "    <tr>\n",
       "      <th>92</th>\n",
       "      <td>multiagent systems</td>\n",
       "      <td>Automated trading system</td>\n",
       "      <td>0.154303</td>\n",
       "    </tr>\n",
       "    <tr>\n",
       "      <th>93</th>\n",
       "      <td>multiagent systems</td>\n",
       "      <td>Deep learning</td>\n",
       "      <td>0.000000</td>\n",
       "    </tr>\n",
       "    <tr>\n",
       "      <th>94</th>\n",
       "      <td>multiagent systems</td>\n",
       "      <td>Financial forecasting</td>\n",
       "      <td>0.000000</td>\n",
       "    </tr>\n",
       "    <tr>\n",
       "      <th>95</th>\n",
       "      <td>multiagent systems</td>\n",
       "      <td>Forecasting</td>\n",
       "      <td>0.000000</td>\n",
       "    </tr>\n",
       "    <tr>\n",
       "      <th>96</th>\n",
       "      <td>multiagent systems</td>\n",
       "      <td>High frequency trading</td>\n",
       "      <td>0.000000</td>\n",
       "    </tr>\n",
       "    <tr>\n",
       "      <th>97</th>\n",
       "      <td>multiagent systems</td>\n",
       "      <td>Machine learning</td>\n",
       "      <td>0.000000</td>\n",
       "    </tr>\n",
       "    <tr>\n",
       "      <th>98</th>\n",
       "      <td>multiagent systems</td>\n",
       "      <td>Technical analysis</td>\n",
       "      <td>0.000000</td>\n",
       "    </tr>\n",
       "    <tr>\n",
       "      <th>99</th>\n",
       "      <td>multiagent systems</td>\n",
       "      <td>multiagent systems</td>\n",
       "      <td>1.000000</td>\n",
       "    </tr>\n",
       "  </tbody>\n",
       "</table>\n",
       "<p>100 rows × 3 columns</p>\n",
       "</div>"
      ],
      "text/plain": [
       "         Keywords (row)            Keywords (col)  Autocorrelation\n",
       "0   Algorithmic trading       Algorithmic trading         1.000000\n",
       "1   Algorithmic trading         Automated trading         0.084895\n",
       "2   Algorithmic trading  Automated trading system         0.000000\n",
       "3   Algorithmic trading             Deep learning         0.099136\n",
       "4   Algorithmic trading     Financial forecasting         0.201347\n",
       "..                  ...                       ...              ...\n",
       "95   multiagent systems               Forecasting         0.000000\n",
       "96   multiagent systems    High frequency trading         0.000000\n",
       "97   multiagent systems          Machine learning         0.000000\n",
       "98   multiagent systems        Technical analysis         0.000000\n",
       "99   multiagent systems        multiagent systems         1.000000\n",
       "\n",
       "[100 rows x 3 columns]"
      ]
     },
     "execution_count": 13,
     "metadata": {},
     "output_type": "execute_result"
    }
   ],
   "source": [
    "from techMiner import correlation\n",
    "\n",
    "correlation(\n",
    "    df=records,\n",
    "    termA='Keywords',\n",
    "    sepA=';'\n",
    ")"
   ]
  },
  {
   "cell_type": "code",
   "execution_count": 15,
   "metadata": {},
   "outputs": [
    {
     "data": {
      "application/vnd.vegalite.v3+json": {
       "$schema": "https://vega.github.io/schema/vega-lite/v3.4.0.json",
       "config": {
        "mark": {
         "tooltip": null
        },
        "view": {
         "height": 300,
         "width": 400
        }
       },
       "data": {
        "name": "data-14b84e43e371b541f1df2b1a679347e6"
       },
       "datasets": {
        "data-14b84e43e371b541f1df2b1a679347e6": [
         {
          "Autocorrelation": 1,
          "Keywords (col)": "Algorithmic trading",
          "Keywords (row)": "Algorithmic trading"
         },
         {
          "Autocorrelation": 0.08489527199560178,
          "Keywords (col)": "Automated trading",
          "Keywords (row)": "Algorithmic trading"
         },
         {
          "Autocorrelation": 0,
          "Keywords (col)": "Automated trading system",
          "Keywords (row)": "Algorithmic trading"
         },
         {
          "Autocorrelation": 0.09913631941932192,
          "Keywords (col)": "Deep learning",
          "Keywords (row)": "Algorithmic trading"
         },
         {
          "Autocorrelation": 0.2013468165642073,
          "Keywords (col)": "Financial forecasting",
          "Keywords (row)": "Algorithmic trading"
         },
         {
          "Autocorrelation": 0,
          "Keywords (col)": "Forecasting",
          "Keywords (row)": "Algorithmic trading"
         },
         {
          "Autocorrelation": 0.07543142864047142,
          "Keywords (col)": "High frequency trading",
          "Keywords (row)": "Algorithmic trading"
         },
         {
          "Autocorrelation": 0.2279803762937766,
          "Keywords (col)": "Machine learning",
          "Keywords (row)": "Algorithmic trading"
         },
         {
          "Autocorrelation": 0.1643989873053573,
          "Keywords (col)": "Technical analysis",
          "Keywords (row)": "Algorithmic trading"
         },
         {
          "Autocorrelation": 0,
          "Keywords (col)": "multiagent systems",
          "Keywords (row)": "Algorithmic trading"
         },
         {
          "Autocorrelation": 0.08489527199560178,
          "Keywords (col)": "Algorithmic trading",
          "Keywords (row)": "Automated trading"
         },
         {
          "Autocorrelation": 1,
          "Keywords (col)": "Automated trading",
          "Keywords (row)": "Automated trading"
         },
         {
          "Autocorrelation": 0,
          "Keywords (col)": "Automated trading system",
          "Keywords (row)": "Automated trading"
         },
         {
          "Autocorrelation": 0.0778498944161523,
          "Keywords (col)": "Deep learning",
          "Keywords (row)": "Automated trading"
         },
         {
          "Autocorrelation": 0,
          "Keywords (col)": "Financial forecasting",
          "Keywords (row)": "Automated trading"
         },
         {
          "Autocorrelation": 0.23094010767585027,
          "Keywords (col)": "Forecasting",
          "Keywords (row)": "Automated trading"
         },
         {
          "Autocorrelation": 0.05923488777590923,
          "Keywords (col)": "High frequency trading",
          "Keywords (row)": "Automated trading"
         },
         {
          "Autocorrelation": 0.21483446221182986,
          "Keywords (col)": "Machine learning",
          "Keywords (row)": "Automated trading"
         },
         {
          "Autocorrelation": 0,
          "Keywords (col)": "Technical analysis",
          "Keywords (row)": "Automated trading"
         },
         {
          "Autocorrelation": 0.29277002188455997,
          "Keywords (col)": "multiagent systems",
          "Keywords (row)": "Automated trading"
         },
         {
          "Autocorrelation": 0,
          "Keywords (col)": "Algorithmic trading",
          "Keywords (row)": "Automated trading system"
         },
         {
          "Autocorrelation": 0,
          "Keywords (col)": "Automated trading",
          "Keywords (row)": "Automated trading system"
         },
         {
          "Autocorrelation": 1,
          "Keywords (col)": "Automated trading system",
          "Keywords (row)": "Automated trading system"
         },
         {
          "Autocorrelation": 0,
          "Keywords (col)": "Deep learning",
          "Keywords (row)": "Automated trading system"
         },
         {
          "Autocorrelation": 0,
          "Keywords (col)": "Financial forecasting",
          "Keywords (row)": "Automated trading system"
         },
         {
          "Autocorrelation": 0,
          "Keywords (col)": "Forecasting",
          "Keywords (row)": "Automated trading system"
         },
         {
          "Autocorrelation": 0,
          "Keywords (col)": "High frequency trading",
          "Keywords (row)": "Automated trading system"
         },
         {
          "Autocorrelation": 0,
          "Keywords (col)": "Machine learning",
          "Keywords (row)": "Automated trading system"
         },
         {
          "Autocorrelation": 0.2721655269759087,
          "Keywords (col)": "Technical analysis",
          "Keywords (row)": "Automated trading system"
         },
         {
          "Autocorrelation": 0.1543033499620919,
          "Keywords (col)": "multiagent systems",
          "Keywords (row)": "Automated trading system"
         },
         {
          "Autocorrelation": 0.09913631941932192,
          "Keywords (col)": "Algorithmic trading",
          "Keywords (row)": "Deep learning"
         },
         {
          "Autocorrelation": 0.0778498944161523,
          "Keywords (col)": "Automated trading",
          "Keywords (row)": "Deep learning"
         },
         {
          "Autocorrelation": 0,
          "Keywords (col)": "Automated trading system",
          "Keywords (row)": "Deep learning"
         },
         {
          "Autocorrelation": 1,
          "Keywords (col)": "Deep learning",
          "Keywords (row)": "Deep learning"
         },
         {
          "Autocorrelation": 0.12309149097933272,
          "Keywords (col)": "Financial forecasting",
          "Keywords (row)": "Deep learning"
         },
         {
          "Autocorrelation": 0.13483997249264842,
          "Keywords (col)": "Forecasting",
          "Keywords (row)": "Deep learning"
         },
         {
          "Autocorrelation": 0.3458572319330373,
          "Keywords (col)": "High frequency trading",
          "Keywords (row)": "Deep learning"
         },
         {
          "Autocorrelation": 0.08362420100070908,
          "Keywords (col)": "Machine learning",
          "Keywords (row)": "Deep learning"
         },
         {
          "Autocorrelation": 0.10050378152592121,
          "Keywords (col)": "Technical analysis",
          "Keywords (row)": "Deep learning"
         },
         {
          "Autocorrelation": 0,
          "Keywords (col)": "multiagent systems",
          "Keywords (row)": "Deep learning"
         },
         {
          "Autocorrelation": 0.2013468165642073,
          "Keywords (col)": "Algorithmic trading",
          "Keywords (row)": "Financial forecasting"
         },
         {
          "Autocorrelation": 0,
          "Keywords (col)": "Automated trading",
          "Keywords (row)": "Financial forecasting"
         },
         {
          "Autocorrelation": 0,
          "Keywords (col)": "Automated trading system",
          "Keywords (row)": "Financial forecasting"
         },
         {
          "Autocorrelation": 0.12309149097933272,
          "Keywords (col)": "Deep learning",
          "Keywords (row)": "Financial forecasting"
         },
         {
          "Autocorrelation": 1,
          "Keywords (col)": "Financial forecasting",
          "Keywords (row)": "Financial forecasting"
         },
         {
          "Autocorrelation": 0,
          "Keywords (col)": "Forecasting",
          "Keywords (row)": "Financial forecasting"
         },
         {
          "Autocorrelation": 0.1873171623163388,
          "Keywords (col)": "High frequency trading",
          "Keywords (row)": "Financial forecasting"
         },
         {
          "Autocorrelation": 0,
          "Keywords (col)": "Machine learning",
          "Keywords (row)": "Financial forecasting"
         },
         {
          "Autocorrelation": 0.2721655269759087,
          "Keywords (col)": "Technical analysis",
          "Keywords (row)": "Financial forecasting"
         },
         {
          "Autocorrelation": 0,
          "Keywords (col)": "multiagent systems",
          "Keywords (row)": "Financial forecasting"
         },
         {
          "Autocorrelation": 0,
          "Keywords (col)": "Algorithmic trading",
          "Keywords (row)": "Forecasting"
         },
         {
          "Autocorrelation": 0.23094010767585027,
          "Keywords (col)": "Automated trading",
          "Keywords (row)": "Forecasting"
         },
         {
          "Autocorrelation": 0,
          "Keywords (col)": "Automated trading system",
          "Keywords (row)": "Forecasting"
         },
         {
          "Autocorrelation": 0.13483997249264842,
          "Keywords (col)": "Deep learning",
          "Keywords (row)": "Forecasting"
         },
         {
          "Autocorrelation": 0,
          "Keywords (col)": "Financial forecasting",
          "Keywords (row)": "Forecasting"
         },
         {
          "Autocorrelation": 1,
          "Keywords (col)": "Forecasting",
          "Keywords (row)": "Forecasting"
         },
         {
          "Autocorrelation": 0,
          "Keywords (col)": "High frequency trading",
          "Keywords (row)": "Forecasting"
         },
         {
          "Autocorrelation": 0,
          "Keywords (col)": "Machine learning",
          "Keywords (row)": "Forecasting"
         },
         {
          "Autocorrelation": 0,
          "Keywords (col)": "Technical analysis",
          "Keywords (row)": "Forecasting"
         },
         {
          "Autocorrelation": 0,
          "Keywords (col)": "multiagent systems",
          "Keywords (row)": "Forecasting"
         },
         {
          "Autocorrelation": 0.07543142864047142,
          "Keywords (col)": "Algorithmic trading",
          "Keywords (row)": "High frequency trading"
         },
         {
          "Autocorrelation": 0.05923488777590923,
          "Keywords (col)": "Automated trading",
          "Keywords (row)": "High frequency trading"
         },
         {
          "Autocorrelation": 0,
          "Keywords (col)": "Automated trading system",
          "Keywords (row)": "High frequency trading"
         },
         {
          "Autocorrelation": 0.3458572319330373,
          "Keywords (col)": "Deep learning",
          "Keywords (row)": "High frequency trading"
         },
         {
          "Autocorrelation": 0.1873171623163388,
          "Keywords (col)": "Financial forecasting",
          "Keywords (row)": "High frequency trading"
         },
         {
          "Autocorrelation": 0,
          "Keywords (col)": "Forecasting",
          "Keywords (row)": "High frequency trading"
         },
         {
          "Autocorrelation": 1,
          "Keywords (col)": "High frequency trading",
          "Keywords (row)": "High frequency trading"
         },
         {
          "Autocorrelation": 0.06362847629757777,
          "Keywords (col)": "Machine learning",
          "Keywords (row)": "High frequency trading"
         },
         {
          "Autocorrelation": 0,
          "Keywords (col)": "Technical analysis",
          "Keywords (row)": "High frequency trading"
         },
         {
          "Autocorrelation": 0,
          "Keywords (col)": "multiagent systems",
          "Keywords (row)": "High frequency trading"
         },
         {
          "Autocorrelation": 0.2279803762937766,
          "Keywords (col)": "Algorithmic trading",
          "Keywords (row)": "Machine learning"
         },
         {
          "Autocorrelation": 0.21483446221182986,
          "Keywords (col)": "Automated trading",
          "Keywords (row)": "Machine learning"
         },
         {
          "Autocorrelation": 0,
          "Keywords (col)": "Automated trading system",
          "Keywords (row)": "Machine learning"
         },
         {
          "Autocorrelation": 0.08362420100070908,
          "Keywords (col)": "Deep learning",
          "Keywords (row)": "Machine learning"
         },
         {
          "Autocorrelation": 0,
          "Keywords (col)": "Financial forecasting",
          "Keywords (row)": "Machine learning"
         },
         {
          "Autocorrelation": 0,
          "Keywords (col)": "Forecasting",
          "Keywords (row)": "Machine learning"
         },
         {
          "Autocorrelation": 0.06362847629757777,
          "Keywords (col)": "High frequency trading",
          "Keywords (row)": "Machine learning"
         },
         {
          "Autocorrelation": 1,
          "Keywords (col)": "Machine learning",
          "Keywords (row)": "Machine learning"
         },
         {
          "Autocorrelation": 0,
          "Keywords (col)": "Technical analysis",
          "Keywords (row)": "Machine learning"
         },
         {
          "Autocorrelation": 0,
          "Keywords (col)": "multiagent systems",
          "Keywords (row)": "Machine learning"
         },
         {
          "Autocorrelation": 0.1643989873053573,
          "Keywords (col)": "Algorithmic trading",
          "Keywords (row)": "Technical analysis"
         },
         {
          "Autocorrelation": 0,
          "Keywords (col)": "Automated trading",
          "Keywords (row)": "Technical analysis"
         },
         {
          "Autocorrelation": 0.2721655269759087,
          "Keywords (col)": "Automated trading system",
          "Keywords (row)": "Technical analysis"
         },
         {
          "Autocorrelation": 0.10050378152592121,
          "Keywords (col)": "Deep learning",
          "Keywords (row)": "Technical analysis"
         },
         {
          "Autocorrelation": 0.2721655269759087,
          "Keywords (col)": "Financial forecasting",
          "Keywords (row)": "Technical analysis"
         },
         {
          "Autocorrelation": 0,
          "Keywords (col)": "Forecasting",
          "Keywords (row)": "Technical analysis"
         },
         {
          "Autocorrelation": 0,
          "Keywords (col)": "High frequency trading",
          "Keywords (row)": "Technical analysis"
         },
         {
          "Autocorrelation": 0,
          "Keywords (col)": "Machine learning",
          "Keywords (row)": "Technical analysis"
         },
         {
          "Autocorrelation": 1,
          "Keywords (col)": "Technical analysis",
          "Keywords (row)": "Technical analysis"
         },
         {
          "Autocorrelation": 0,
          "Keywords (col)": "multiagent systems",
          "Keywords (row)": "Technical analysis"
         },
         {
          "Autocorrelation": 0,
          "Keywords (col)": "Algorithmic trading",
          "Keywords (row)": "multiagent systems"
         },
         {
          "Autocorrelation": 0.29277002188455997,
          "Keywords (col)": "Automated trading",
          "Keywords (row)": "multiagent systems"
         },
         {
          "Autocorrelation": 0.1543033499620919,
          "Keywords (col)": "Automated trading system",
          "Keywords (row)": "multiagent systems"
         },
         {
          "Autocorrelation": 0,
          "Keywords (col)": "Deep learning",
          "Keywords (row)": "multiagent systems"
         },
         {
          "Autocorrelation": 0,
          "Keywords (col)": "Financial forecasting",
          "Keywords (row)": "multiagent systems"
         },
         {
          "Autocorrelation": 0,
          "Keywords (col)": "Forecasting",
          "Keywords (row)": "multiagent systems"
         },
         {
          "Autocorrelation": 0,
          "Keywords (col)": "High frequency trading",
          "Keywords (row)": "multiagent systems"
         },
         {
          "Autocorrelation": 0,
          "Keywords (col)": "Machine learning",
          "Keywords (row)": "multiagent systems"
         },
         {
          "Autocorrelation": 0,
          "Keywords (col)": "Technical analysis",
          "Keywords (row)": "multiagent systems"
         },
         {
          "Autocorrelation": 1,
          "Keywords (col)": "multiagent systems",
          "Keywords (row)": "multiagent systems"
         }
        ]
       },
       "encoding": {
        "color": {
         "field": "Autocorrelation",
         "type": "quantitative"
        },
        "size": {
         "field": "Autocorrelation",
         "type": "quantitative"
        },
        "x": {
         "axis": {
          "labelAngle": 270
         },
         "field": "Keywords (row)",
         "type": "nominal"
        },
        "y": {
         "field": "Keywords (col)",
         "type": "nominal"
        }
       },
       "mark": "circle"
      },
      "image/png": "[encoded data removed]",
      "text/plain": [
       "<VegaLite 3 object>\n",
       "\n",
       "If you see this message, it means the renderer has not been properly enabled\n",
       "for the frontend that you are using. For more information, see\n",
       "https://altair-viz.github.io/user_guide/troubleshooting.html\n"
      ]
     },
     "execution_count": 15,
     "metadata": {},
     "output_type": "execute_result"
    }
   ],
   "source": [
    "alt_circleplot(\n",
    "    correlation(\n",
    "    df=records,\n",
    "    termA='Keywords',\n",
    "    sepA=';'))"
   ]
  },
  {
   "cell_type": "code",
   "execution_count": 16,
   "metadata": {},
   "outputs": [
    {
     "data": {
      "image/png": "[encoded data removed]",
      "text/plain": [
       "<Figure size 720x720 with 1 Axes>"
      ]
     },
     "metadata": {
      "needs_background": "light"
     },
     "output_type": "display_data"
    }
   ],
   "source": [
    "heatmap(\n",
    "    correlation(\n",
    "    df=records,\n",
    "    termA='Keywords',\n",
    "    sepA=';'))"
   ]
  },
  {
   "cell_type": "markdown",
   "metadata": {},
   "source": [
    "## Crosscorrelation"
   ]
  },
  {
   "cell_type": "code",
   "execution_count": 14,
   "metadata": {},
   "outputs": [
    {
     "data": {
      "text/html": [
       "<div>\n",
       "<style scoped>\n",
       "    .dataframe tbody tr th:only-of-type {\n",
       "        vertical-align: middle;\n",
       "    }\n",
       "\n",
       "    .dataframe tbody tr th {\n",
       "        vertical-align: top;\n",
       "    }\n",
       "\n",
       "    .dataframe thead th {\n",
       "        text-align: right;\n",
       "    }\n",
       "</style>\n",
       "<table border=\"1\" class=\"dataframe\">\n",
       "  <thead>\n",
       "    <tr style=\"text-align: right;\">\n",
       "      <th></th>\n",
       "      <th>Keywords</th>\n",
       "      <th>Authors</th>\n",
       "      <th>Crosscorrelation</th>\n",
       "    </tr>\n",
       "  </thead>\n",
       "  <tbody>\n",
       "    <tr>\n",
       "      <th>0</th>\n",
       "      <td>Algorithmic trading</td>\n",
       "      <td>Arévalo A.</td>\n",
       "      <td>0.189832</td>\n",
       "    </tr>\n",
       "    <tr>\n",
       "      <th>1</th>\n",
       "      <td>Algorithmic trading</td>\n",
       "      <td>Debenham J.</td>\n",
       "      <td>0.000000</td>\n",
       "    </tr>\n",
       "    <tr>\n",
       "      <th>2</th>\n",
       "      <td>Algorithmic trading</td>\n",
       "      <td>Iosifidis A.</td>\n",
       "      <td>0.000000</td>\n",
       "    </tr>\n",
       "    <tr>\n",
       "      <th>3</th>\n",
       "      <td>Algorithmic trading</td>\n",
       "      <td>Kablan A.</td>\n",
       "      <td>0.000000</td>\n",
       "    </tr>\n",
       "    <tr>\n",
       "      <th>4</th>\n",
       "      <td>Algorithmic trading</td>\n",
       "      <td>Kanniainen J.</td>\n",
       "      <td>0.000000</td>\n",
       "    </tr>\n",
       "    <tr>\n",
       "      <th>5</th>\n",
       "      <td>Algorithmic trading</td>\n",
       "      <td>Maringer D.</td>\n",
       "      <td>0.000000</td>\n",
       "    </tr>\n",
       "    <tr>\n",
       "      <th>6</th>\n",
       "      <td>Algorithmic trading</td>\n",
       "      <td>Montana G.</td>\n",
       "      <td>0.164399</td>\n",
       "    </tr>\n",
       "    <tr>\n",
       "      <th>7</th>\n",
       "      <td>Algorithmic trading</td>\n",
       "      <td>Ng W.L.</td>\n",
       "      <td>0.164399</td>\n",
       "    </tr>\n",
       "    <tr>\n",
       "      <th>8</th>\n",
       "      <td>Algorithmic trading</td>\n",
       "      <td>Wang F.</td>\n",
       "      <td>0.116248</td>\n",
       "    </tr>\n",
       "    <tr>\n",
       "      <th>9</th>\n",
       "      <td>Algorithmic trading</td>\n",
       "      <td>Zhang J.</td>\n",
       "      <td>0.094916</td>\n",
       "    </tr>\n",
       "    <tr>\n",
       "      <th>10</th>\n",
       "      <td>Automated trading</td>\n",
       "      <td>Arévalo A.</td>\n",
       "      <td>0.000000</td>\n",
       "    </tr>\n",
       "    <tr>\n",
       "      <th>11</th>\n",
       "      <td>Automated trading</td>\n",
       "      <td>Debenham J.</td>\n",
       "      <td>0.000000</td>\n",
       "    </tr>\n",
       "    <tr>\n",
       "      <th>12</th>\n",
       "      <td>Automated trading</td>\n",
       "      <td>Iosifidis A.</td>\n",
       "      <td>0.000000</td>\n",
       "    </tr>\n",
       "    <tr>\n",
       "      <th>13</th>\n",
       "      <td>Automated trading</td>\n",
       "      <td>Kablan A.</td>\n",
       "      <td>0.000000</td>\n",
       "    </tr>\n",
       "    <tr>\n",
       "      <th>14</th>\n",
       "      <td>Automated trading</td>\n",
       "      <td>Kanniainen J.</td>\n",
       "      <td>0.000000</td>\n",
       "    </tr>\n",
       "    <tr>\n",
       "      <th>15</th>\n",
       "      <td>Automated trading</td>\n",
       "      <td>Maringer D.</td>\n",
       "      <td>0.182574</td>\n",
       "    </tr>\n",
       "    <tr>\n",
       "      <th>16</th>\n",
       "      <td>Automated trading</td>\n",
       "      <td>Montana G.</td>\n",
       "      <td>0.000000</td>\n",
       "    </tr>\n",
       "    <tr>\n",
       "      <th>17</th>\n",
       "      <td>Automated trading</td>\n",
       "      <td>Ng W.L.</td>\n",
       "      <td>0.000000</td>\n",
       "    </tr>\n",
       "    <tr>\n",
       "      <th>18</th>\n",
       "      <td>Automated trading</td>\n",
       "      <td>Wang F.</td>\n",
       "      <td>0.000000</td>\n",
       "    </tr>\n",
       "    <tr>\n",
       "      <th>19</th>\n",
       "      <td>Automated trading</td>\n",
       "      <td>Zhang J.</td>\n",
       "      <td>0.000000</td>\n",
       "    </tr>\n",
       "    <tr>\n",
       "      <th>20</th>\n",
       "      <td>Automated trading system</td>\n",
       "      <td>Arévalo A.</td>\n",
       "      <td>0.000000</td>\n",
       "    </tr>\n",
       "    <tr>\n",
       "      <th>21</th>\n",
       "      <td>Automated trading system</td>\n",
       "      <td>Debenham J.</td>\n",
       "      <td>0.000000</td>\n",
       "    </tr>\n",
       "    <tr>\n",
       "      <th>22</th>\n",
       "      <td>Automated trading system</td>\n",
       "      <td>Iosifidis A.</td>\n",
       "      <td>0.000000</td>\n",
       "    </tr>\n",
       "    <tr>\n",
       "      <th>23</th>\n",
       "      <td>Automated trading system</td>\n",
       "      <td>Kablan A.</td>\n",
       "      <td>0.000000</td>\n",
       "    </tr>\n",
       "    <tr>\n",
       "      <th>24</th>\n",
       "      <td>Automated trading system</td>\n",
       "      <td>Kanniainen J.</td>\n",
       "      <td>0.000000</td>\n",
       "    </tr>\n",
       "    <tr>\n",
       "      <th>25</th>\n",
       "      <td>Automated trading system</td>\n",
       "      <td>Maringer D.</td>\n",
       "      <td>0.000000</td>\n",
       "    </tr>\n",
       "    <tr>\n",
       "      <th>26</th>\n",
       "      <td>Automated trading system</td>\n",
       "      <td>Montana G.</td>\n",
       "      <td>0.000000</td>\n",
       "    </tr>\n",
       "    <tr>\n",
       "      <th>27</th>\n",
       "      <td>Automated trading system</td>\n",
       "      <td>Ng W.L.</td>\n",
       "      <td>0.000000</td>\n",
       "    </tr>\n",
       "    <tr>\n",
       "      <th>28</th>\n",
       "      <td>Automated trading system</td>\n",
       "      <td>Wang F.</td>\n",
       "      <td>0.000000</td>\n",
       "    </tr>\n",
       "    <tr>\n",
       "      <th>29</th>\n",
       "      <td>Automated trading system</td>\n",
       "      <td>Zhang J.</td>\n",
       "      <td>0.000000</td>\n",
       "    </tr>\n",
       "    <tr>\n",
       "      <th>...</th>\n",
       "      <td>...</td>\n",
       "      <td>...</td>\n",
       "      <td>...</td>\n",
       "    </tr>\n",
       "    <tr>\n",
       "      <th>70</th>\n",
       "      <td>Machine learning</td>\n",
       "      <td>Arévalo A.</td>\n",
       "      <td>0.000000</td>\n",
       "    </tr>\n",
       "    <tr>\n",
       "      <th>71</th>\n",
       "      <td>Machine learning</td>\n",
       "      <td>Debenham J.</td>\n",
       "      <td>0.000000</td>\n",
       "    </tr>\n",
       "    <tr>\n",
       "      <th>72</th>\n",
       "      <td>Machine learning</td>\n",
       "      <td>Iosifidis A.</td>\n",
       "      <td>0.000000</td>\n",
       "    </tr>\n",
       "    <tr>\n",
       "      <th>73</th>\n",
       "      <td>Machine learning</td>\n",
       "      <td>Kablan A.</td>\n",
       "      <td>0.000000</td>\n",
       "    </tr>\n",
       "    <tr>\n",
       "      <th>74</th>\n",
       "      <td>Machine learning</td>\n",
       "      <td>Kanniainen J.</td>\n",
       "      <td>0.000000</td>\n",
       "    </tr>\n",
       "    <tr>\n",
       "      <th>75</th>\n",
       "      <td>Machine learning</td>\n",
       "      <td>Maringer D.</td>\n",
       "      <td>0.000000</td>\n",
       "    </tr>\n",
       "    <tr>\n",
       "      <th>76</th>\n",
       "      <td>Machine learning</td>\n",
       "      <td>Montana G.</td>\n",
       "      <td>0.000000</td>\n",
       "    </tr>\n",
       "    <tr>\n",
       "      <th>77</th>\n",
       "      <td>Machine learning</td>\n",
       "      <td>Ng W.L.</td>\n",
       "      <td>0.000000</td>\n",
       "    </tr>\n",
       "    <tr>\n",
       "      <th>78</th>\n",
       "      <td>Machine learning</td>\n",
       "      <td>Wang F.</td>\n",
       "      <td>0.000000</td>\n",
       "    </tr>\n",
       "    <tr>\n",
       "      <th>79</th>\n",
       "      <td>Machine learning</td>\n",
       "      <td>Zhang J.</td>\n",
       "      <td>0.000000</td>\n",
       "    </tr>\n",
       "    <tr>\n",
       "      <th>80</th>\n",
       "      <td>Technical analysis</td>\n",
       "      <td>Arévalo A.</td>\n",
       "      <td>0.000000</td>\n",
       "    </tr>\n",
       "    <tr>\n",
       "      <th>81</th>\n",
       "      <td>Technical analysis</td>\n",
       "      <td>Debenham J.</td>\n",
       "      <td>0.000000</td>\n",
       "    </tr>\n",
       "    <tr>\n",
       "      <th>82</th>\n",
       "      <td>Technical analysis</td>\n",
       "      <td>Iosifidis A.</td>\n",
       "      <td>0.000000</td>\n",
       "    </tr>\n",
       "    <tr>\n",
       "      <th>83</th>\n",
       "      <td>Technical analysis</td>\n",
       "      <td>Kablan A.</td>\n",
       "      <td>0.000000</td>\n",
       "    </tr>\n",
       "    <tr>\n",
       "      <th>84</th>\n",
       "      <td>Technical analysis</td>\n",
       "      <td>Kanniainen J.</td>\n",
       "      <td>0.000000</td>\n",
       "    </tr>\n",
       "    <tr>\n",
       "      <th>85</th>\n",
       "      <td>Technical analysis</td>\n",
       "      <td>Maringer D.</td>\n",
       "      <td>0.000000</td>\n",
       "    </tr>\n",
       "    <tr>\n",
       "      <th>86</th>\n",
       "      <td>Technical analysis</td>\n",
       "      <td>Montana G.</td>\n",
       "      <td>0.000000</td>\n",
       "    </tr>\n",
       "    <tr>\n",
       "      <th>87</th>\n",
       "      <td>Technical analysis</td>\n",
       "      <td>Ng W.L.</td>\n",
       "      <td>0.000000</td>\n",
       "    </tr>\n",
       "    <tr>\n",
       "      <th>88</th>\n",
       "      <td>Technical analysis</td>\n",
       "      <td>Wang F.</td>\n",
       "      <td>0.000000</td>\n",
       "    </tr>\n",
       "    <tr>\n",
       "      <th>89</th>\n",
       "      <td>Technical analysis</td>\n",
       "      <td>Zhang J.</td>\n",
       "      <td>0.192450</td>\n",
       "    </tr>\n",
       "    <tr>\n",
       "      <th>90</th>\n",
       "      <td>multiagent systems</td>\n",
       "      <td>Arévalo A.</td>\n",
       "      <td>0.000000</td>\n",
       "    </tr>\n",
       "    <tr>\n",
       "      <th>91</th>\n",
       "      <td>multiagent systems</td>\n",
       "      <td>Debenham J.</td>\n",
       "      <td>0.000000</td>\n",
       "    </tr>\n",
       "    <tr>\n",
       "      <th>92</th>\n",
       "      <td>multiagent systems</td>\n",
       "      <td>Iosifidis A.</td>\n",
       "      <td>0.000000</td>\n",
       "    </tr>\n",
       "    <tr>\n",
       "      <th>93</th>\n",
       "      <td>multiagent systems</td>\n",
       "      <td>Kablan A.</td>\n",
       "      <td>0.000000</td>\n",
       "    </tr>\n",
       "    <tr>\n",
       "      <th>94</th>\n",
       "      <td>multiagent systems</td>\n",
       "      <td>Kanniainen J.</td>\n",
       "      <td>0.000000</td>\n",
       "    </tr>\n",
       "    <tr>\n",
       "      <th>95</th>\n",
       "      <td>multiagent systems</td>\n",
       "      <td>Maringer D.</td>\n",
       "      <td>0.000000</td>\n",
       "    </tr>\n",
       "    <tr>\n",
       "      <th>96</th>\n",
       "      <td>multiagent systems</td>\n",
       "      <td>Montana G.</td>\n",
       "      <td>0.000000</td>\n",
       "    </tr>\n",
       "    <tr>\n",
       "      <th>97</th>\n",
       "      <td>multiagent systems</td>\n",
       "      <td>Ng W.L.</td>\n",
       "      <td>0.000000</td>\n",
       "    </tr>\n",
       "    <tr>\n",
       "      <th>98</th>\n",
       "      <td>multiagent systems</td>\n",
       "      <td>Wang F.</td>\n",
       "      <td>0.000000</td>\n",
       "    </tr>\n",
       "    <tr>\n",
       "      <th>99</th>\n",
       "      <td>multiagent systems</td>\n",
       "      <td>Zhang J.</td>\n",
       "      <td>0.000000</td>\n",
       "    </tr>\n",
       "  </tbody>\n",
       "</table>\n",
       "<p>100 rows × 3 columns</p>\n",
       "</div>"
      ],
      "text/plain": [
       "               Keywords        Authors  Crosscorrelation\n",
       "0   Algorithmic trading     Arévalo A.          0.189832\n",
       "1   Algorithmic trading    Debenham J.          0.000000\n",
       "2   Algorithmic trading   Iosifidis A.          0.000000\n",
       "3   Algorithmic trading      Kablan A.          0.000000\n",
       "4   Algorithmic trading  Kanniainen J.          0.000000\n",
       "..                  ...            ...               ...\n",
       "95   multiagent systems    Maringer D.          0.000000\n",
       "96   multiagent systems     Montana G.          0.000000\n",
       "97   multiagent systems        Ng W.L.          0.000000\n",
       "98   multiagent systems        Wang F.          0.000000\n",
       "99   multiagent systems       Zhang J.          0.000000\n",
       "\n",
       "[100 rows x 3 columns]"
      ]
     },
     "execution_count": 14,
     "metadata": {},
     "output_type": "execute_result"
    }
   ],
   "source": [
    "correlation(\n",
    "    df=records,\n",
    "    termA='Keywords',\n",
    "    sepA=';',\n",
    "    termB='Authors',\n",
    "    sepB=','\n",
    ")"
   ]
  },
  {
   "cell_type": "code",
   "execution_count": 17,
   "metadata": {},
   "outputs": [
    {
     "data": {
      "image/png": "[encoded data removed]",
      "text/plain": [
       "<Figure size 720x720 with 1 Axes>"
      ]
     },
     "metadata": {
      "needs_background": "light"
     },
     "output_type": "display_data"
    }
   ],
   "source": [
    "heatmap(\n",
    "    correlation(\n",
    "        df=records,\n",
    "        termA='Keywords',\n",
    "        sepA=';',\n",
    "        termB='Authors',\n",
    "        sepB=','))"
   ]
  }
 ],
 "metadata": {
  "kernelspec": {
   "display_name": "Python 3",
   "language": "python",
   "name": "python3"
  },
  "language_info": {
   "codemirror_mode": {
    "name": "ipython",
    "version": 3
   },
   "file_extension": ".py",
   "mimetype": "text/x-python",
   "name": "python",
   "nbconvert_exporter": "python",
   "pygments_lexer": "ipython3",
   "version": "3.6.8"
  }
 },
 "nbformat": 4,
 "nbformat_minor": 4
}
