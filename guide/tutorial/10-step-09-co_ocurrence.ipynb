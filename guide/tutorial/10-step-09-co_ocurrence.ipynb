{
 "cells": [
  {
   "cell_type": "markdown",
   "metadata": {},
   "source": [
    "# Step 9: Co-ocurrence"
   ]
  },
  {
   "cell_type": "code",
   "execution_count": 1,
   "metadata": {},
   "outputs": [],
   "source": [
    "import pandas as pd\n",
    "from techminer import RecordsDataFrame\n",
    "\n",
    "rdf = RecordsDataFrame(\n",
    "    pd.read_json(\n",
    "        'step-06.json', \n",
    "        orient='records', \n",
    "        lines=True))"
   ]
  },
  {
   "cell_type": "markdown",
   "metadata": {},
   "source": [
    "In this part, a second level analysis of the bibliographical information is done."
   ]
  },
  {
   "cell_type": "markdown",
   "metadata": {},
   "source": [
    "## Keywords per year"
   ]
  },
  {
   "cell_type": "code",
   "execution_count": 2,
   "metadata": {},
   "outputs": [
    {
     "data": {
      "text/html": [
       "<div>\n",
       "<style scoped>\n",
       "    .dataframe tbody tr th:only-of-type {\n",
       "        vertical-align: middle;\n",
       "    }\n",
       "\n",
       "    .dataframe tbody tr th {\n",
       "        vertical-align: top;\n",
       "    }\n",
       "\n",
       "    .dataframe thead th {\n",
       "        text-align: right;\n",
       "    }\n",
       "</style>\n",
       "<table border=\"1\" class=\"dataframe\">\n",
       "  <thead>\n",
       "    <tr style=\"text-align: right;\">\n",
       "      <th></th>\n",
       "      <th>keywords (cleaned)</th>\n",
       "      <th>Year</th>\n",
       "      <th>Num Documents</th>\n",
       "    </tr>\n",
       "  </thead>\n",
       "  <tbody>\n",
       "    <tr>\n",
       "      <th>0</th>\n",
       "      <td>(location-based) publish/subscribe</td>\n",
       "      <td>2012</td>\n",
       "      <td>1</td>\n",
       "    </tr>\n",
       "    <tr>\n",
       "      <th>1</th>\n",
       "      <td>10-fold cross-validation</td>\n",
       "      <td>2015</td>\n",
       "      <td>1</td>\n",
       "    </tr>\n",
       "    <tr>\n",
       "      <th>2</th>\n",
       "      <td>?-stable processes</td>\n",
       "      <td>2018</td>\n",
       "      <td>1</td>\n",
       "    </tr>\n",
       "    <tr>\n",
       "      <th>3</th>\n",
       "      <td>ABM</td>\n",
       "      <td>2014</td>\n",
       "      <td>1</td>\n",
       "    </tr>\n",
       "    <tr>\n",
       "      <th>4</th>\n",
       "      <td>ADALINE</td>\n",
       "      <td>2015</td>\n",
       "      <td>1</td>\n",
       "    </tr>\n",
       "  </tbody>\n",
       "</table>\n",
       "</div>"
      ],
      "text/plain": [
       "                   keywords (cleaned)  Year  Num Documents\n",
       "0  (location-based) publish/subscribe  2012              1\n",
       "1            10-fold cross-validation  2015              1\n",
       "2                  ?-stable processes  2018              1\n",
       "3                                 ABM  2014              1\n",
       "4                             ADALINE  2015              1"
      ]
     },
     "execution_count": 2,
     "metadata": {},
     "output_type": "execute_result"
    }
   ],
   "source": [
    "rdf.term_by_term(\n",
    "    column_r='keywords (cleaned)', \n",
    "    column_c='Year', \n",
    "    sep_r=';', \n",
    "    sep_c=None).head()"
   ]
  },
  {
   "cell_type": "code",
   "execution_count": 3,
   "metadata": {},
   "outputs": [
    {
     "data": {
      "text/html": [
       "<div>\n",
       "<style scoped>\n",
       "    .dataframe tbody tr th:only-of-type {\n",
       "        vertical-align: middle;\n",
       "    }\n",
       "\n",
       "    .dataframe tbody tr th {\n",
       "        vertical-align: top;\n",
       "    }\n",
       "\n",
       "    .dataframe thead th {\n",
       "        text-align: right;\n",
       "    }\n",
       "</style>\n",
       "<table border=\"1\" class=\"dataframe\">\n",
       "  <thead>\n",
       "    <tr style=\"text-align: right;\">\n",
       "      <th></th>\n",
       "      <th>keywords (cleaned)</th>\n",
       "      <th>Year</th>\n",
       "      <th>Num Documents</th>\n",
       "    </tr>\n",
       "  </thead>\n",
       "  <tbody>\n",
       "    <tr>\n",
       "      <th>27</th>\n",
       "      <td>Adaptive filters</td>\n",
       "      <td>2018</td>\n",
       "      <td>3</td>\n",
       "    </tr>\n",
       "    <tr>\n",
       "      <th>29</th>\n",
       "      <td>Adaptive neuro-fuzzy inference system</td>\n",
       "      <td>2009</td>\n",
       "      <td>3</td>\n",
       "    </tr>\n",
       "    <tr>\n",
       "      <th>42</th>\n",
       "      <td>Agent-based computational economics</td>\n",
       "      <td>2015</td>\n",
       "      <td>2</td>\n",
       "    </tr>\n",
       "    <tr>\n",
       "      <th>49</th>\n",
       "      <td>Agent-based simulation</td>\n",
       "      <td>2015</td>\n",
       "      <td>2</td>\n",
       "    </tr>\n",
       "    <tr>\n",
       "      <th>50</th>\n",
       "      <td>Agent-based simulation</td>\n",
       "      <td>2016</td>\n",
       "      <td>2</td>\n",
       "    </tr>\n",
       "  </tbody>\n",
       "</table>\n",
       "</div>"
      ],
      "text/plain": [
       "                       keywords (cleaned)  Year  Num Documents\n",
       "27                       Adaptive filters  2018              3\n",
       "29  Adaptive neuro-fuzzy inference system  2009              3\n",
       "42    Agent-based computational economics  2015              2\n",
       "49                 Agent-based simulation  2015              2\n",
       "50                 Agent-based simulation  2016              2"
      ]
     },
     "execution_count": 3,
     "metadata": {},
     "output_type": "execute_result"
    }
   ],
   "source": [
    "rdf.term_by_term( \n",
    "    column_r='keywords (cleaned)', \n",
    "    column_c='Year', \n",
    "    sep_r=';', \n",
    "    sep_c=None, \n",
    "    minmax=(2,3)).head()   ## minimum and maximum values in the matrix"
   ]
  },
  {
   "cell_type": "code",
   "execution_count": 4,
   "metadata": {},
   "outputs": [
    {
     "data": {
      "image/png": "[encoded data removed]",
      "text/plain": [
       "<Figure size 720x720 with 1 Axes>"
      ]
     },
     "metadata": {
      "needs_background": "light"
     },
     "output_type": "display_data"
    }
   ],
   "source": [
    "rdf.term_by_term( \n",
    "    column_r='keywords (cleaned)', \n",
    "    column_c='Year', \n",
    "    sep_r=';', \n",
    "    sep_c=None, \n",
    "    minmax=(5,8)).heatmap(ascendingA=True, ascendingB=False)"
   ]
  },
  {
   "cell_type": "code",
   "execution_count": 6,
   "metadata": {},
   "outputs": [
    {
     "data": {
      "application/vnd.vegalite.v3+json": {
       "$schema": "https://vega.github.io/schema/vega-lite/v3.4.0.json",
       "config": {
        "mark": {
         "tooltip": null
        },
        "view": {
         "height": 300,
         "width": 400
        }
       },
       "data": {
        "name": "data-8fcd75e720793ae6c2ee716d5d06c54d"
       },
       "datasets": {
        "data-8fcd75e720793ae6c2ee716d5d06c54d": [
         {
          "Num Documents": 8,
          "Year": 2010,
          "keywords (cleaned)": "Algorithmic trading"
         },
         {
          "Num Documents": 7,
          "Year": 2011,
          "keywords (cleaned)": "Algorithmic trading"
         },
         {
          "Num Documents": 8,
          "Year": 2013,
          "keywords (cleaned)": "Algorithms"
         },
         {
          "Num Documents": 7,
          "Year": 2015,
          "keywords (cleaned)": "Algorithms"
         },
         {
          "Num Documents": 6,
          "Year": 2017,
          "keywords (cleaned)": "Algorithms"
         },
         {
          "Num Documents": 7,
          "Year": 2018,
          "keywords (cleaned)": "Algorithms"
         },
         {
          "Num Documents": 5,
          "Year": 2014,
          "keywords (cleaned)": "Artificial intelligence"
         },
         {
          "Num Documents": 5,
          "Year": 2015,
          "keywords (cleaned)": "Artificial intelligence"
         },
         {
          "Num Documents": 6,
          "Year": 2008,
          "keywords (cleaned)": "Automated trading"
         },
         {
          "Num Documents": 8,
          "Year": 2014,
          "keywords (cleaned)": "Automated trading"
         },
         {
          "Num Documents": 5,
          "Year": 2016,
          "keywords (cleaned)": "Big data"
         },
         {
          "Num Documents": 7,
          "Year": 2008,
          "keywords (cleaned)": "Commerce"
         },
         {
          "Num Documents": 8,
          "Year": 2009,
          "keywords (cleaned)": "Commerce"
         },
         {
          "Num Documents": 5,
          "Year": 2018,
          "keywords (cleaned)": "Convolutional neural network"
         },
         {
          "Num Documents": 5,
          "Year": 2013,
          "keywords (cleaned)": "Costs"
         },
         {
          "Num Documents": 5,
          "Year": 2014,
          "keywords (cleaned)": "Costs"
         },
         {
          "Num Documents": 7,
          "Year": 2015,
          "keywords (cleaned)": "Costs"
         },
         {
          "Num Documents": 8,
          "Year": 2017,
          "keywords (cleaned)": "Costs"
         },
         {
          "Num Documents": 5,
          "Year": 2017,
          "keywords (cleaned)": "Data mining"
         },
         {
          "Num Documents": 6,
          "Year": 2017,
          "keywords (cleaned)": "Decision support systems"
         },
         {
          "Num Documents": 7,
          "Year": 2018,
          "keywords (cleaned)": "Deep learning"
         },
         {
          "Num Documents": 6,
          "Year": 2019,
          "keywords (cleaned)": "Deep learning"
         },
         {
          "Num Documents": 5,
          "Year": 2017,
          "keywords (cleaned)": "Directional changes"
         },
         {
          "Num Documents": 5,
          "Year": 2014,
          "keywords (cleaned)": "Economics"
         },
         {
          "Num Documents": 8,
          "Year": 2017,
          "keywords (cleaned)": "Economics"
         },
         {
          "Num Documents": 5,
          "Year": 2013,
          "keywords (cleaned)": "Electronic market"
         },
         {
          "Num Documents": 8,
          "Year": 2012,
          "keywords (cleaned)": "Finance"
         },
         {
          "Num Documents": 5,
          "Year": 2014,
          "keywords (cleaned)": "Finance"
         },
         {
          "Num Documents": 5,
          "Year": 2012,
          "keywords (cleaned)": "Financial data processing"
         },
         {
          "Num Documents": 5,
          "Year": 2014,
          "keywords (cleaned)": "Financial data processing"
         },
         {
          "Num Documents": 7,
          "Year": 2016,
          "keywords (cleaned)": "Financial data processing"
         },
         {
          "Num Documents": 6,
          "Year": 2017,
          "keywords (cleaned)": "Financial data processing"
         },
         {
          "Num Documents": 5,
          "Year": 2014,
          "keywords (cleaned)": "Financial markets"
         },
         {
          "Num Documents": 5,
          "Year": 2017,
          "keywords (cleaned)": "Financial time series"
         },
         {
          "Num Documents": 6,
          "Year": 2018,
          "keywords (cleaned)": "Forecasting"
         },
         {
          "Num Documents": 7,
          "Year": 2019,
          "keywords (cleaned)": "Forecasting"
         },
         {
          "Num Documents": 7,
          "Year": 2017,
          "keywords (cleaned)": "Genetic algorithms"
         },
         {
          "Num Documents": 6,
          "Year": 2011,
          "keywords (cleaned)": "High frequency"
         },
         {
          "Num Documents": 5,
          "Year": 2013,
          "keywords (cleaned)": "High frequency"
         },
         {
          "Num Documents": 5,
          "Year": 2011,
          "keywords (cleaned)": "High frequency HF"
         },
         {
          "Num Documents": 6,
          "Year": 2015,
          "keywords (cleaned)": "High frequency data"
         },
         {
          "Num Documents": 6,
          "Year": 2013,
          "keywords (cleaned)": "Investments"
         },
         {
          "Num Documents": 7,
          "Year": 2014,
          "keywords (cleaned)": "Investments"
         },
         {
          "Num Documents": 5,
          "Year": 2016,
          "keywords (cleaned)": "Investments"
         },
         {
          "Num Documents": 5,
          "Year": 2017,
          "keywords (cleaned)": "Investments"
         },
         {
          "Num Documents": 5,
          "Year": 2019,
          "keywords (cleaned)": "Investments"
         },
         {
          "Num Documents": 7,
          "Year": 2018,
          "keywords (cleaned)": "Learning algorithms"
         },
         {
          "Num Documents": 6,
          "Year": 2017,
          "keywords (cleaned)": "Learning systems"
         },
         {
          "Num Documents": 7,
          "Year": 2018,
          "keywords (cleaned)": "Learning systems"
         },
         {
          "Num Documents": 7,
          "Year": 2018,
          "keywords (cleaned)": "Limit order book"
         },
         {
          "Num Documents": 5,
          "Year": 2013,
          "keywords (cleaned)": "Liquidity"
         },
         {
          "Num Documents": 5,
          "Year": 2018,
          "keywords (cleaned)": "Liquidity"
         },
         {
          "Num Documents": 6,
          "Year": 2017,
          "keywords (cleaned)": "Machine learning"
         },
         {
          "Num Documents": 7,
          "Year": 2019,
          "keywords (cleaned)": "Machine learning"
         },
         {
          "Num Documents": 5,
          "Year": 2015,
          "keywords (cleaned)": "Market microstructure"
         },
         {
          "Num Documents": 5,
          "Year": 2016,
          "keywords (cleaned)": "Market microstructure"
         },
         {
          "Num Documents": 5,
          "Year": 2016,
          "keywords (cleaned)": "Multicore programming"
         },
         {
          "Num Documents": 6,
          "Year": 2014,
          "keywords (cleaned)": "Neural networks"
         },
         {
          "Num Documents": 6,
          "Year": 2018,
          "keywords (cleaned)": "Neural networks"
         },
         {
          "Num Documents": 7,
          "Year": 2012,
          "keywords (cleaned)": "Profitability"
         },
         {
          "Num Documents": 7,
          "Year": 2013,
          "keywords (cleaned)": "Profitability"
         },
         {
          "Num Documents": 6,
          "Year": 2014,
          "keywords (cleaned)": "Profitability"
         },
         {
          "Num Documents": 8,
          "Year": 2017,
          "keywords (cleaned)": "Technical analysis"
         },
         {
          "Num Documents": 5,
          "Year": 2013,
          "keywords (cleaned)": "Trading strategies"
         },
         {
          "Num Documents": 6,
          "Year": 2015,
          "keywords (cleaned)": "Trading strategies"
         },
         {
          "Num Documents": 5,
          "Year": 2018,
          "keywords (cleaned)": "Trading strategies"
         },
         {
          "Num Documents": 6,
          "Year": 2019,
          "keywords (cleaned)": "Trading strategies"
         },
         {
          "Num Documents": 5,
          "Year": 2013,
          "keywords (cleaned)": "Trading systems"
         },
         {
          "Num Documents": 6,
          "Year": 2013,
          "keywords (cleaned)": "market"
         },
         {
          "Num Documents": 6,
          "Year": 2017,
          "keywords (cleaned)": "market"
         },
         {
          "Num Documents": 6,
          "Year": 2012,
          "keywords (cleaned)": "portfolio optimisation"
         },
         {
          "Num Documents": 6,
          "Year": 2013,
          "keywords (cleaned)": "r"
         },
         {
          "Num Documents": 6,
          "Year": 2014,
          "keywords (cleaned)": "trading"
         },
         {
          "Num Documents": 8,
          "Year": 2016,
          "keywords (cleaned)": "trading"
         },
         {
          "Num Documents": 7,
          "Year": 2017,
          "keywords (cleaned)": "trading"
         },
         {
          "Num Documents": 7,
          "Year": 2019,
          "keywords (cleaned)": "trading"
         }
        ]
       },
       "encoding": {
        "color": {
         "field": "Num Documents",
         "type": "quantitative"
        },
        "x": {
         "field": "keywords (cleaned)",
         "sort": "ascending",
         "type": "ordinal"
        },
        "y": {
         "field": "Year",
         "sort": "descending",
         "type": "ordinal"
        }
       },
       "mark": "rect"
      },
      "image/png": "[encoded data removed]",
      "text/plain": [
       "<VegaLite 3 object>\n",
       "\n",
       "If you see this message, it means the renderer has not been properly enabled\n",
       "for the frontend that you are using. For more information, see\n",
       "https://altair-viz.github.io/user_guide/troubleshooting.html\n"
      ]
     },
     "execution_count": 6,
     "metadata": {},
     "output_type": "execute_result"
    }
   ],
   "source": [
    "rdf.term_by_term( \n",
    "    column_r='keywords (cleaned)', \n",
    "    column_c='Year', \n",
    "    sep_r=';', \n",
    "    sep_c=None, \n",
    "    minmax=(5,8)).heatmap(ascendingA=True, ascendingB=False, library='altair')"
   ]
  },
  {
   "cell_type": "code",
   "execution_count": 9,
   "metadata": {},
   "outputs": [
    {
     "data": {
      "application/vnd.vegalite.v3+json": {
       "$schema": "https://vega.github.io/schema/vega-lite/v3.4.0.json",
       "config": {
        "mark": {
         "tooltip": null
        },
        "view": {
         "height": 300,
         "width": 400
        }
       },
       "data": {
        "name": "data-8fcd75e720793ae6c2ee716d5d06c54d"
       },
       "datasets": {
        "data-8fcd75e720793ae6c2ee716d5d06c54d": [
         {
          "Num Documents": 8,
          "Year": 2010,
          "keywords (cleaned)": "Algorithmic trading"
         },
         {
          "Num Documents": 7,
          "Year": 2011,
          "keywords (cleaned)": "Algorithmic trading"
         },
         {
          "Num Documents": 8,
          "Year": 2013,
          "keywords (cleaned)": "Algorithms"
         },
         {
          "Num Documents": 7,
          "Year": 2015,
          "keywords (cleaned)": "Algorithms"
         },
         {
          "Num Documents": 6,
          "Year": 2017,
          "keywords (cleaned)": "Algorithms"
         },
         {
          "Num Documents": 7,
          "Year": 2018,
          "keywords (cleaned)": "Algorithms"
         },
         {
          "Num Documents": 5,
          "Year": 2014,
          "keywords (cleaned)": "Artificial intelligence"
         },
         {
          "Num Documents": 5,
          "Year": 2015,
          "keywords (cleaned)": "Artificial intelligence"
         },
         {
          "Num Documents": 6,
          "Year": 2008,
          "keywords (cleaned)": "Automated trading"
         },
         {
          "Num Documents": 8,
          "Year": 2014,
          "keywords (cleaned)": "Automated trading"
         },
         {
          "Num Documents": 5,
          "Year": 2016,
          "keywords (cleaned)": "Big data"
         },
         {
          "Num Documents": 7,
          "Year": 2008,
          "keywords (cleaned)": "Commerce"
         },
         {
          "Num Documents": 8,
          "Year": 2009,
          "keywords (cleaned)": "Commerce"
         },
         {
          "Num Documents": 5,
          "Year": 2018,
          "keywords (cleaned)": "Convolutional neural network"
         },
         {
          "Num Documents": 5,
          "Year": 2013,
          "keywords (cleaned)": "Costs"
         },
         {
          "Num Documents": 5,
          "Year": 2014,
          "keywords (cleaned)": "Costs"
         },
         {
          "Num Documents": 7,
          "Year": 2015,
          "keywords (cleaned)": "Costs"
         },
         {
          "Num Documents": 8,
          "Year": 2017,
          "keywords (cleaned)": "Costs"
         },
         {
          "Num Documents": 5,
          "Year": 2017,
          "keywords (cleaned)": "Data mining"
         },
         {
          "Num Documents": 6,
          "Year": 2017,
          "keywords (cleaned)": "Decision support systems"
         },
         {
          "Num Documents": 7,
          "Year": 2018,
          "keywords (cleaned)": "Deep learning"
         },
         {
          "Num Documents": 6,
          "Year": 2019,
          "keywords (cleaned)": "Deep learning"
         },
         {
          "Num Documents": 5,
          "Year": 2017,
          "keywords (cleaned)": "Directional changes"
         },
         {
          "Num Documents": 5,
          "Year": 2014,
          "keywords (cleaned)": "Economics"
         },
         {
          "Num Documents": 8,
          "Year": 2017,
          "keywords (cleaned)": "Economics"
         },
         {
          "Num Documents": 5,
          "Year": 2013,
          "keywords (cleaned)": "Electronic market"
         },
         {
          "Num Documents": 8,
          "Year": 2012,
          "keywords (cleaned)": "Finance"
         },
         {
          "Num Documents": 5,
          "Year": 2014,
          "keywords (cleaned)": "Finance"
         },
         {
          "Num Documents": 5,
          "Year": 2012,
          "keywords (cleaned)": "Financial data processing"
         },
         {
          "Num Documents": 5,
          "Year": 2014,
          "keywords (cleaned)": "Financial data processing"
         },
         {
          "Num Documents": 7,
          "Year": 2016,
          "keywords (cleaned)": "Financial data processing"
         },
         {
          "Num Documents": 6,
          "Year": 2017,
          "keywords (cleaned)": "Financial data processing"
         },
         {
          "Num Documents": 5,
          "Year": 2014,
          "keywords (cleaned)": "Financial markets"
         },
         {
          "Num Documents": 5,
          "Year": 2017,
          "keywords (cleaned)": "Financial time series"
         },
         {
          "Num Documents": 6,
          "Year": 2018,
          "keywords (cleaned)": "Forecasting"
         },
         {
          "Num Documents": 7,
          "Year": 2019,
          "keywords (cleaned)": "Forecasting"
         },
         {
          "Num Documents": 7,
          "Year": 2017,
          "keywords (cleaned)": "Genetic algorithms"
         },
         {
          "Num Documents": 6,
          "Year": 2011,
          "keywords (cleaned)": "High frequency"
         },
         {
          "Num Documents": 5,
          "Year": 2013,
          "keywords (cleaned)": "High frequency"
         },
         {
          "Num Documents": 5,
          "Year": 2011,
          "keywords (cleaned)": "High frequency HF"
         },
         {
          "Num Documents": 6,
          "Year": 2015,
          "keywords (cleaned)": "High frequency data"
         },
         {
          "Num Documents": 6,
          "Year": 2013,
          "keywords (cleaned)": "Investments"
         },
         {
          "Num Documents": 7,
          "Year": 2014,
          "keywords (cleaned)": "Investments"
         },
         {
          "Num Documents": 5,
          "Year": 2016,
          "keywords (cleaned)": "Investments"
         },
         {
          "Num Documents": 5,
          "Year": 2017,
          "keywords (cleaned)": "Investments"
         },
         {
          "Num Documents": 5,
          "Year": 2019,
          "keywords (cleaned)": "Investments"
         },
         {
          "Num Documents": 7,
          "Year": 2018,
          "keywords (cleaned)": "Learning algorithms"
         },
         {
          "Num Documents": 6,
          "Year": 2017,
          "keywords (cleaned)": "Learning systems"
         },
         {
          "Num Documents": 7,
          "Year": 2018,
          "keywords (cleaned)": "Learning systems"
         },
         {
          "Num Documents": 7,
          "Year": 2018,
          "keywords (cleaned)": "Limit order book"
         },
         {
          "Num Documents": 5,
          "Year": 2013,
          "keywords (cleaned)": "Liquidity"
         },
         {
          "Num Documents": 5,
          "Year": 2018,
          "keywords (cleaned)": "Liquidity"
         },
         {
          "Num Documents": 6,
          "Year": 2017,
          "keywords (cleaned)": "Machine learning"
         },
         {
          "Num Documents": 7,
          "Year": 2019,
          "keywords (cleaned)": "Machine learning"
         },
         {
          "Num Documents": 5,
          "Year": 2015,
          "keywords (cleaned)": "Market microstructure"
         },
         {
          "Num Documents": 5,
          "Year": 2016,
          "keywords (cleaned)": "Market microstructure"
         },
         {
          "Num Documents": 5,
          "Year": 2016,
          "keywords (cleaned)": "Multicore programming"
         },
         {
          "Num Documents": 6,
          "Year": 2014,
          "keywords (cleaned)": "Neural networks"
         },
         {
          "Num Documents": 6,
          "Year": 2018,
          "keywords (cleaned)": "Neural networks"
         },
         {
          "Num Documents": 7,
          "Year": 2012,
          "keywords (cleaned)": "Profitability"
         },
         {
          "Num Documents": 7,
          "Year": 2013,
          "keywords (cleaned)": "Profitability"
         },
         {
          "Num Documents": 6,
          "Year": 2014,
          "keywords (cleaned)": "Profitability"
         },
         {
          "Num Documents": 8,
          "Year": 2017,
          "keywords (cleaned)": "Technical analysis"
         },
         {
          "Num Documents": 5,
          "Year": 2013,
          "keywords (cleaned)": "Trading strategies"
         },
         {
          "Num Documents": 6,
          "Year": 2015,
          "keywords (cleaned)": "Trading strategies"
         },
         {
          "Num Documents": 5,
          "Year": 2018,
          "keywords (cleaned)": "Trading strategies"
         },
         {
          "Num Documents": 6,
          "Year": 2019,
          "keywords (cleaned)": "Trading strategies"
         },
         {
          "Num Documents": 5,
          "Year": 2013,
          "keywords (cleaned)": "Trading systems"
         },
         {
          "Num Documents": 6,
          "Year": 2013,
          "keywords (cleaned)": "market"
         },
         {
          "Num Documents": 6,
          "Year": 2017,
          "keywords (cleaned)": "market"
         },
         {
          "Num Documents": 6,
          "Year": 2012,
          "keywords (cleaned)": "portfolio optimisation"
         },
         {
          "Num Documents": 6,
          "Year": 2013,
          "keywords (cleaned)": "r"
         },
         {
          "Num Documents": 6,
          "Year": 2014,
          "keywords (cleaned)": "trading"
         },
         {
          "Num Documents": 8,
          "Year": 2016,
          "keywords (cleaned)": "trading"
         },
         {
          "Num Documents": 7,
          "Year": 2017,
          "keywords (cleaned)": "trading"
         },
         {
          "Num Documents": 7,
          "Year": 2019,
          "keywords (cleaned)": "trading"
         }
        ]
       },
       "encoding": {
        "color": {
         "field": "Num Documents",
         "type": "quantitative"
        },
        "size": {
         "field": "Num Documents",
         "type": "quantitative"
        },
        "x": {
         "axis": {
          "labelAngle": 270
         },
         "field": "keywords (cleaned)",
         "sort": "ascending",
         "type": "nominal"
        },
        "y": {
         "field": "Year",
         "sort": "descending",
         "type": "nominal"
        }
       },
       "mark": "circle"
      },
      "image/png": "[encoded data removed]",
      "text/plain": [
       "<VegaLite 3 object>\n",
       "\n",
       "If you see this message, it means the renderer has not been properly enabled\n",
       "for the frontend that you are using. For more information, see\n",
       "https://altair-viz.github.io/user_guide/troubleshooting.html\n"
      ]
     },
     "execution_count": 9,
     "metadata": {},
     "output_type": "execute_result"
    }
   ],
   "source": [
    "rdf.term_by_term( \n",
    "    column_r='keywords (cleaned)', \n",
    "    column_c='Year', \n",
    "    sep_r=';', \n",
    "    sep_c=None, \n",
    "    minmax=(5,8)).circlerel(ascendingA=True, ascendingB=False, library='altair')"
   ]
  },
  {
   "cell_type": "code",
   "execution_count": 10,
   "metadata": {},
   "outputs": [
    {
     "data": {
      "text/html": [
       "<div>\n",
       "<style scoped>\n",
       "    .dataframe tbody tr th:only-of-type {\n",
       "        vertical-align: middle;\n",
       "    }\n",
       "\n",
       "    .dataframe tbody tr th {\n",
       "        vertical-align: top;\n",
       "    }\n",
       "\n",
       "    .dataframe thead th {\n",
       "        text-align: right;\n",
       "    }\n",
       "</style>\n",
       "<table border=\"1\" class=\"dataframe\">\n",
       "  <thead>\n",
       "    <tr style=\"text-align: right;\">\n",
       "      <th></th>\n",
       "      <th>2008</th>\n",
       "      <th>2009</th>\n",
       "      <th>2010</th>\n",
       "      <th>2011</th>\n",
       "      <th>2012</th>\n",
       "      <th>2013</th>\n",
       "      <th>2014</th>\n",
       "      <th>2015</th>\n",
       "      <th>2016</th>\n",
       "      <th>2017</th>\n",
       "      <th>2018</th>\n",
       "      <th>2019</th>\n",
       "    </tr>\n",
       "  </thead>\n",
       "  <tbody>\n",
       "    <tr>\n",
       "      <th>Algorithmic trading</th>\n",
       "      <td>0.0</td>\n",
       "      <td>0.0</td>\n",
       "      <td>8.0</td>\n",
       "      <td>7.0</td>\n",
       "      <td>0.0</td>\n",
       "      <td>0.0</td>\n",
       "      <td>0.0</td>\n",
       "      <td>0.0</td>\n",
       "      <td>0.0</td>\n",
       "      <td>0.0</td>\n",
       "      <td>0.0</td>\n",
       "      <td>0.0</td>\n",
       "    </tr>\n",
       "    <tr>\n",
       "      <th>Algorithms</th>\n",
       "      <td>0.0</td>\n",
       "      <td>0.0</td>\n",
       "      <td>0.0</td>\n",
       "      <td>0.0</td>\n",
       "      <td>0.0</td>\n",
       "      <td>8.0</td>\n",
       "      <td>0.0</td>\n",
       "      <td>7.0</td>\n",
       "      <td>0.0</td>\n",
       "      <td>6.0</td>\n",
       "      <td>7.0</td>\n",
       "      <td>0.0</td>\n",
       "    </tr>\n",
       "    <tr>\n",
       "      <th>Artificial intelligence</th>\n",
       "      <td>0.0</td>\n",
       "      <td>0.0</td>\n",
       "      <td>0.0</td>\n",
       "      <td>0.0</td>\n",
       "      <td>0.0</td>\n",
       "      <td>0.0</td>\n",
       "      <td>5.0</td>\n",
       "      <td>5.0</td>\n",
       "      <td>0.0</td>\n",
       "      <td>0.0</td>\n",
       "      <td>0.0</td>\n",
       "      <td>0.0</td>\n",
       "    </tr>\n",
       "    <tr>\n",
       "      <th>Automated trading</th>\n",
       "      <td>6.0</td>\n",
       "      <td>0.0</td>\n",
       "      <td>0.0</td>\n",
       "      <td>0.0</td>\n",
       "      <td>0.0</td>\n",
       "      <td>0.0</td>\n",
       "      <td>8.0</td>\n",
       "      <td>0.0</td>\n",
       "      <td>0.0</td>\n",
       "      <td>0.0</td>\n",
       "      <td>0.0</td>\n",
       "      <td>0.0</td>\n",
       "    </tr>\n",
       "    <tr>\n",
       "      <th>Big data</th>\n",
       "      <td>0.0</td>\n",
       "      <td>0.0</td>\n",
       "      <td>0.0</td>\n",
       "      <td>0.0</td>\n",
       "      <td>0.0</td>\n",
       "      <td>0.0</td>\n",
       "      <td>0.0</td>\n",
       "      <td>0.0</td>\n",
       "      <td>5.0</td>\n",
       "      <td>0.0</td>\n",
       "      <td>0.0</td>\n",
       "      <td>0.0</td>\n",
       "    </tr>\n",
       "    <tr>\n",
       "      <th>Commerce</th>\n",
       "      <td>7.0</td>\n",
       "      <td>8.0</td>\n",
       "      <td>0.0</td>\n",
       "      <td>0.0</td>\n",
       "      <td>0.0</td>\n",
       "      <td>0.0</td>\n",
       "      <td>0.0</td>\n",
       "      <td>0.0</td>\n",
       "      <td>0.0</td>\n",
       "      <td>0.0</td>\n",
       "      <td>0.0</td>\n",
       "      <td>0.0</td>\n",
       "    </tr>\n",
       "    <tr>\n",
       "      <th>Convolutional neural network</th>\n",
       "      <td>0.0</td>\n",
       "      <td>0.0</td>\n",
       "      <td>0.0</td>\n",
       "      <td>0.0</td>\n",
       "      <td>0.0</td>\n",
       "      <td>0.0</td>\n",
       "      <td>0.0</td>\n",
       "      <td>0.0</td>\n",
       "      <td>0.0</td>\n",
       "      <td>0.0</td>\n",
       "      <td>5.0</td>\n",
       "      <td>0.0</td>\n",
       "    </tr>\n",
       "    <tr>\n",
       "      <th>Costs</th>\n",
       "      <td>0.0</td>\n",
       "      <td>0.0</td>\n",
       "      <td>0.0</td>\n",
       "      <td>0.0</td>\n",
       "      <td>0.0</td>\n",
       "      <td>5.0</td>\n",
       "      <td>5.0</td>\n",
       "      <td>7.0</td>\n",
       "      <td>0.0</td>\n",
       "      <td>8.0</td>\n",
       "      <td>0.0</td>\n",
       "      <td>0.0</td>\n",
       "    </tr>\n",
       "    <tr>\n",
       "      <th>Data mining</th>\n",
       "      <td>0.0</td>\n",
       "      <td>0.0</td>\n",
       "      <td>0.0</td>\n",
       "      <td>0.0</td>\n",
       "      <td>0.0</td>\n",
       "      <td>0.0</td>\n",
       "      <td>0.0</td>\n",
       "      <td>0.0</td>\n",
       "      <td>0.0</td>\n",
       "      <td>5.0</td>\n",
       "      <td>0.0</td>\n",
       "      <td>0.0</td>\n",
       "    </tr>\n",
       "    <tr>\n",
       "      <th>Decision support systems</th>\n",
       "      <td>0.0</td>\n",
       "      <td>0.0</td>\n",
       "      <td>0.0</td>\n",
       "      <td>0.0</td>\n",
       "      <td>0.0</td>\n",
       "      <td>0.0</td>\n",
       "      <td>0.0</td>\n",
       "      <td>0.0</td>\n",
       "      <td>0.0</td>\n",
       "      <td>6.0</td>\n",
       "      <td>0.0</td>\n",
       "      <td>0.0</td>\n",
       "    </tr>\n",
       "    <tr>\n",
       "      <th>Deep learning</th>\n",
       "      <td>0.0</td>\n",
       "      <td>0.0</td>\n",
       "      <td>0.0</td>\n",
       "      <td>0.0</td>\n",
       "      <td>0.0</td>\n",
       "      <td>0.0</td>\n",
       "      <td>0.0</td>\n",
       "      <td>0.0</td>\n",
       "      <td>0.0</td>\n",
       "      <td>0.0</td>\n",
       "      <td>7.0</td>\n",
       "      <td>6.0</td>\n",
       "    </tr>\n",
       "    <tr>\n",
       "      <th>Directional changes</th>\n",
       "      <td>0.0</td>\n",
       "      <td>0.0</td>\n",
       "      <td>0.0</td>\n",
       "      <td>0.0</td>\n",
       "      <td>0.0</td>\n",
       "      <td>0.0</td>\n",
       "      <td>0.0</td>\n",
       "      <td>0.0</td>\n",
       "      <td>0.0</td>\n",
       "      <td>5.0</td>\n",
       "      <td>0.0</td>\n",
       "      <td>0.0</td>\n",
       "    </tr>\n",
       "    <tr>\n",
       "      <th>Economics</th>\n",
       "      <td>0.0</td>\n",
       "      <td>0.0</td>\n",
       "      <td>0.0</td>\n",
       "      <td>0.0</td>\n",
       "      <td>0.0</td>\n",
       "      <td>0.0</td>\n",
       "      <td>5.0</td>\n",
       "      <td>0.0</td>\n",
       "      <td>0.0</td>\n",
       "      <td>8.0</td>\n",
       "      <td>0.0</td>\n",
       "      <td>0.0</td>\n",
       "    </tr>\n",
       "    <tr>\n",
       "      <th>Electronic market</th>\n",
       "      <td>0.0</td>\n",
       "      <td>0.0</td>\n",
       "      <td>0.0</td>\n",
       "      <td>0.0</td>\n",
       "      <td>0.0</td>\n",
       "      <td>5.0</td>\n",
       "      <td>0.0</td>\n",
       "      <td>0.0</td>\n",
       "      <td>0.0</td>\n",
       "      <td>0.0</td>\n",
       "      <td>0.0</td>\n",
       "      <td>0.0</td>\n",
       "    </tr>\n",
       "    <tr>\n",
       "      <th>Finance</th>\n",
       "      <td>0.0</td>\n",
       "      <td>0.0</td>\n",
       "      <td>0.0</td>\n",
       "      <td>0.0</td>\n",
       "      <td>8.0</td>\n",
       "      <td>0.0</td>\n",
       "      <td>5.0</td>\n",
       "      <td>0.0</td>\n",
       "      <td>0.0</td>\n",
       "      <td>0.0</td>\n",
       "      <td>0.0</td>\n",
       "      <td>0.0</td>\n",
       "    </tr>\n",
       "    <tr>\n",
       "      <th>Financial data processing</th>\n",
       "      <td>0.0</td>\n",
       "      <td>0.0</td>\n",
       "      <td>0.0</td>\n",
       "      <td>0.0</td>\n",
       "      <td>5.0</td>\n",
       "      <td>0.0</td>\n",
       "      <td>5.0</td>\n",
       "      <td>0.0</td>\n",
       "      <td>7.0</td>\n",
       "      <td>6.0</td>\n",
       "      <td>0.0</td>\n",
       "      <td>0.0</td>\n",
       "    </tr>\n",
       "    <tr>\n",
       "      <th>Financial markets</th>\n",
       "      <td>0.0</td>\n",
       "      <td>0.0</td>\n",
       "      <td>0.0</td>\n",
       "      <td>0.0</td>\n",
       "      <td>0.0</td>\n",
       "      <td>0.0</td>\n",
       "      <td>5.0</td>\n",
       "      <td>0.0</td>\n",
       "      <td>0.0</td>\n",
       "      <td>0.0</td>\n",
       "      <td>0.0</td>\n",
       "      <td>0.0</td>\n",
       "    </tr>\n",
       "    <tr>\n",
       "      <th>Financial time series</th>\n",
       "      <td>0.0</td>\n",
       "      <td>0.0</td>\n",
       "      <td>0.0</td>\n",
       "      <td>0.0</td>\n",
       "      <td>0.0</td>\n",
       "      <td>0.0</td>\n",
       "      <td>0.0</td>\n",
       "      <td>0.0</td>\n",
       "      <td>0.0</td>\n",
       "      <td>5.0</td>\n",
       "      <td>0.0</td>\n",
       "      <td>0.0</td>\n",
       "    </tr>\n",
       "    <tr>\n",
       "      <th>Forecasting</th>\n",
       "      <td>0.0</td>\n",
       "      <td>0.0</td>\n",
       "      <td>0.0</td>\n",
       "      <td>0.0</td>\n",
       "      <td>0.0</td>\n",
       "      <td>0.0</td>\n",
       "      <td>0.0</td>\n",
       "      <td>0.0</td>\n",
       "      <td>0.0</td>\n",
       "      <td>0.0</td>\n",
       "      <td>6.0</td>\n",
       "      <td>7.0</td>\n",
       "    </tr>\n",
       "    <tr>\n",
       "      <th>Genetic algorithms</th>\n",
       "      <td>0.0</td>\n",
       "      <td>0.0</td>\n",
       "      <td>0.0</td>\n",
       "      <td>0.0</td>\n",
       "      <td>0.0</td>\n",
       "      <td>0.0</td>\n",
       "      <td>0.0</td>\n",
       "      <td>0.0</td>\n",
       "      <td>0.0</td>\n",
       "      <td>7.0</td>\n",
       "      <td>0.0</td>\n",
       "      <td>0.0</td>\n",
       "    </tr>\n",
       "    <tr>\n",
       "      <th>High frequency</th>\n",
       "      <td>0.0</td>\n",
       "      <td>0.0</td>\n",
       "      <td>0.0</td>\n",
       "      <td>6.0</td>\n",
       "      <td>0.0</td>\n",
       "      <td>5.0</td>\n",
       "      <td>0.0</td>\n",
       "      <td>0.0</td>\n",
       "      <td>0.0</td>\n",
       "      <td>0.0</td>\n",
       "      <td>0.0</td>\n",
       "      <td>0.0</td>\n",
       "    </tr>\n",
       "    <tr>\n",
       "      <th>High frequency HF</th>\n",
       "      <td>0.0</td>\n",
       "      <td>0.0</td>\n",
       "      <td>0.0</td>\n",
       "      <td>5.0</td>\n",
       "      <td>0.0</td>\n",
       "      <td>0.0</td>\n",
       "      <td>0.0</td>\n",
       "      <td>0.0</td>\n",
       "      <td>0.0</td>\n",
       "      <td>0.0</td>\n",
       "      <td>0.0</td>\n",
       "      <td>0.0</td>\n",
       "    </tr>\n",
       "    <tr>\n",
       "      <th>High frequency data</th>\n",
       "      <td>0.0</td>\n",
       "      <td>0.0</td>\n",
       "      <td>0.0</td>\n",
       "      <td>0.0</td>\n",
       "      <td>0.0</td>\n",
       "      <td>0.0</td>\n",
       "      <td>0.0</td>\n",
       "      <td>6.0</td>\n",
       "      <td>0.0</td>\n",
       "      <td>0.0</td>\n",
       "      <td>0.0</td>\n",
       "      <td>0.0</td>\n",
       "    </tr>\n",
       "    <tr>\n",
       "      <th>Investments</th>\n",
       "      <td>0.0</td>\n",
       "      <td>0.0</td>\n",
       "      <td>0.0</td>\n",
       "      <td>0.0</td>\n",
       "      <td>0.0</td>\n",
       "      <td>6.0</td>\n",
       "      <td>7.0</td>\n",
       "      <td>0.0</td>\n",
       "      <td>5.0</td>\n",
       "      <td>5.0</td>\n",
       "      <td>0.0</td>\n",
       "      <td>5.0</td>\n",
       "    </tr>\n",
       "    <tr>\n",
       "      <th>Learning algorithms</th>\n",
       "      <td>0.0</td>\n",
       "      <td>0.0</td>\n",
       "      <td>0.0</td>\n",
       "      <td>0.0</td>\n",
       "      <td>0.0</td>\n",
       "      <td>0.0</td>\n",
       "      <td>0.0</td>\n",
       "      <td>0.0</td>\n",
       "      <td>0.0</td>\n",
       "      <td>0.0</td>\n",
       "      <td>7.0</td>\n",
       "      <td>0.0</td>\n",
       "    </tr>\n",
       "    <tr>\n",
       "      <th>Learning systems</th>\n",
       "      <td>0.0</td>\n",
       "      <td>0.0</td>\n",
       "      <td>0.0</td>\n",
       "      <td>0.0</td>\n",
       "      <td>0.0</td>\n",
       "      <td>0.0</td>\n",
       "      <td>0.0</td>\n",
       "      <td>0.0</td>\n",
       "      <td>0.0</td>\n",
       "      <td>6.0</td>\n",
       "      <td>7.0</td>\n",
       "      <td>0.0</td>\n",
       "    </tr>\n",
       "    <tr>\n",
       "      <th>Limit order book</th>\n",
       "      <td>0.0</td>\n",
       "      <td>0.0</td>\n",
       "      <td>0.0</td>\n",
       "      <td>0.0</td>\n",
       "      <td>0.0</td>\n",
       "      <td>0.0</td>\n",
       "      <td>0.0</td>\n",
       "      <td>0.0</td>\n",
       "      <td>0.0</td>\n",
       "      <td>0.0</td>\n",
       "      <td>7.0</td>\n",
       "      <td>0.0</td>\n",
       "    </tr>\n",
       "    <tr>\n",
       "      <th>Liquidity</th>\n",
       "      <td>0.0</td>\n",
       "      <td>0.0</td>\n",
       "      <td>0.0</td>\n",
       "      <td>0.0</td>\n",
       "      <td>0.0</td>\n",
       "      <td>5.0</td>\n",
       "      <td>0.0</td>\n",
       "      <td>0.0</td>\n",
       "      <td>0.0</td>\n",
       "      <td>0.0</td>\n",
       "      <td>5.0</td>\n",
       "      <td>0.0</td>\n",
       "    </tr>\n",
       "    <tr>\n",
       "      <th>Machine learning</th>\n",
       "      <td>0.0</td>\n",
       "      <td>0.0</td>\n",
       "      <td>0.0</td>\n",
       "      <td>0.0</td>\n",
       "      <td>0.0</td>\n",
       "      <td>0.0</td>\n",
       "      <td>0.0</td>\n",
       "      <td>0.0</td>\n",
       "      <td>0.0</td>\n",
       "      <td>6.0</td>\n",
       "      <td>0.0</td>\n",
       "      <td>7.0</td>\n",
       "    </tr>\n",
       "    <tr>\n",
       "      <th>Market microstructure</th>\n",
       "      <td>0.0</td>\n",
       "      <td>0.0</td>\n",
       "      <td>0.0</td>\n",
       "      <td>0.0</td>\n",
       "      <td>0.0</td>\n",
       "      <td>0.0</td>\n",
       "      <td>0.0</td>\n",
       "      <td>5.0</td>\n",
       "      <td>5.0</td>\n",
       "      <td>0.0</td>\n",
       "      <td>0.0</td>\n",
       "      <td>0.0</td>\n",
       "    </tr>\n",
       "    <tr>\n",
       "      <th>Multicore programming</th>\n",
       "      <td>0.0</td>\n",
       "      <td>0.0</td>\n",
       "      <td>0.0</td>\n",
       "      <td>0.0</td>\n",
       "      <td>0.0</td>\n",
       "      <td>0.0</td>\n",
       "      <td>0.0</td>\n",
       "      <td>0.0</td>\n",
       "      <td>5.0</td>\n",
       "      <td>0.0</td>\n",
       "      <td>0.0</td>\n",
       "      <td>0.0</td>\n",
       "    </tr>\n",
       "    <tr>\n",
       "      <th>Neural networks</th>\n",
       "      <td>0.0</td>\n",
       "      <td>0.0</td>\n",
       "      <td>0.0</td>\n",
       "      <td>0.0</td>\n",
       "      <td>0.0</td>\n",
       "      <td>0.0</td>\n",
       "      <td>6.0</td>\n",
       "      <td>0.0</td>\n",
       "      <td>0.0</td>\n",
       "      <td>0.0</td>\n",
       "      <td>6.0</td>\n",
       "      <td>0.0</td>\n",
       "    </tr>\n",
       "    <tr>\n",
       "      <th>Profitability</th>\n",
       "      <td>0.0</td>\n",
       "      <td>0.0</td>\n",
       "      <td>0.0</td>\n",
       "      <td>0.0</td>\n",
       "      <td>7.0</td>\n",
       "      <td>7.0</td>\n",
       "      <td>6.0</td>\n",
       "      <td>0.0</td>\n",
       "      <td>0.0</td>\n",
       "      <td>0.0</td>\n",
       "      <td>0.0</td>\n",
       "      <td>0.0</td>\n",
       "    </tr>\n",
       "    <tr>\n",
       "      <th>Technical analysis</th>\n",
       "      <td>0.0</td>\n",
       "      <td>0.0</td>\n",
       "      <td>0.0</td>\n",
       "      <td>0.0</td>\n",
       "      <td>0.0</td>\n",
       "      <td>0.0</td>\n",
       "      <td>0.0</td>\n",
       "      <td>0.0</td>\n",
       "      <td>0.0</td>\n",
       "      <td>8.0</td>\n",
       "      <td>0.0</td>\n",
       "      <td>0.0</td>\n",
       "    </tr>\n",
       "    <tr>\n",
       "      <th>Trading strategies</th>\n",
       "      <td>0.0</td>\n",
       "      <td>0.0</td>\n",
       "      <td>0.0</td>\n",
       "      <td>0.0</td>\n",
       "      <td>0.0</td>\n",
       "      <td>5.0</td>\n",
       "      <td>0.0</td>\n",
       "      <td>6.0</td>\n",
       "      <td>0.0</td>\n",
       "      <td>0.0</td>\n",
       "      <td>5.0</td>\n",
       "      <td>6.0</td>\n",
       "    </tr>\n",
       "    <tr>\n",
       "      <th>Trading systems</th>\n",
       "      <td>0.0</td>\n",
       "      <td>0.0</td>\n",
       "      <td>0.0</td>\n",
       "      <td>0.0</td>\n",
       "      <td>0.0</td>\n",
       "      <td>5.0</td>\n",
       "      <td>0.0</td>\n",
       "      <td>0.0</td>\n",
       "      <td>0.0</td>\n",
       "      <td>0.0</td>\n",
       "      <td>0.0</td>\n",
       "      <td>0.0</td>\n",
       "    </tr>\n",
       "    <tr>\n",
       "      <th>market</th>\n",
       "      <td>0.0</td>\n",
       "      <td>0.0</td>\n",
       "      <td>0.0</td>\n",
       "      <td>0.0</td>\n",
       "      <td>0.0</td>\n",
       "      <td>6.0</td>\n",
       "      <td>0.0</td>\n",
       "      <td>0.0</td>\n",
       "      <td>0.0</td>\n",
       "      <td>6.0</td>\n",
       "      <td>0.0</td>\n",
       "      <td>0.0</td>\n",
       "    </tr>\n",
       "    <tr>\n",
       "      <th>portfolio optimisation</th>\n",
       "      <td>0.0</td>\n",
       "      <td>0.0</td>\n",
       "      <td>0.0</td>\n",
       "      <td>0.0</td>\n",
       "      <td>6.0</td>\n",
       "      <td>0.0</td>\n",
       "      <td>0.0</td>\n",
       "      <td>0.0</td>\n",
       "      <td>0.0</td>\n",
       "      <td>0.0</td>\n",
       "      <td>0.0</td>\n",
       "      <td>0.0</td>\n",
       "    </tr>\n",
       "    <tr>\n",
       "      <th>r</th>\n",
       "      <td>0.0</td>\n",
       "      <td>0.0</td>\n",
       "      <td>0.0</td>\n",
       "      <td>0.0</td>\n",
       "      <td>0.0</td>\n",
       "      <td>6.0</td>\n",
       "      <td>0.0</td>\n",
       "      <td>0.0</td>\n",
       "      <td>0.0</td>\n",
       "      <td>0.0</td>\n",
       "      <td>0.0</td>\n",
       "      <td>0.0</td>\n",
       "    </tr>\n",
       "    <tr>\n",
       "      <th>trading</th>\n",
       "      <td>0.0</td>\n",
       "      <td>0.0</td>\n",
       "      <td>0.0</td>\n",
       "      <td>0.0</td>\n",
       "      <td>0.0</td>\n",
       "      <td>0.0</td>\n",
       "      <td>6.0</td>\n",
       "      <td>0.0</td>\n",
       "      <td>8.0</td>\n",
       "      <td>7.0</td>\n",
       "      <td>0.0</td>\n",
       "      <td>7.0</td>\n",
       "    </tr>\n",
       "  </tbody>\n",
       "</table>\n",
       "</div>"
      ],
      "text/plain": [
       "                              2008  2009  2010  2011  2012  2013  2014  2015  \\\n",
       "Algorithmic trading            0.0   0.0   8.0   7.0   0.0   0.0   0.0   0.0   \n",
       "Algorithms                     0.0   0.0   0.0   0.0   0.0   8.0   0.0   7.0   \n",
       "Artificial intelligence        0.0   0.0   0.0   0.0   0.0   0.0   5.0   5.0   \n",
       "Automated trading              6.0   0.0   0.0   0.0   0.0   0.0   8.0   0.0   \n",
       "Big data                       0.0   0.0   0.0   0.0   0.0   0.0   0.0   0.0   \n",
       "Commerce                       7.0   8.0   0.0   0.0   0.0   0.0   0.0   0.0   \n",
       "Convolutional neural network   0.0   0.0   0.0   0.0   0.0   0.0   0.0   0.0   \n",
       "Costs                          0.0   0.0   0.0   0.0   0.0   5.0   5.0   7.0   \n",
       "Data mining                    0.0   0.0   0.0   0.0   0.0   0.0   0.0   0.0   \n",
       "Decision support systems       0.0   0.0   0.0   0.0   0.0   0.0   0.0   0.0   \n",
       "Deep learning                  0.0   0.0   0.0   0.0   0.0   0.0   0.0   0.0   \n",
       "Directional changes            0.0   0.0   0.0   0.0   0.0   0.0   0.0   0.0   \n",
       "Economics                      0.0   0.0   0.0   0.0   0.0   0.0   5.0   0.0   \n",
       "Electronic market              0.0   0.0   0.0   0.0   0.0   5.0   0.0   0.0   \n",
       "Finance                        0.0   0.0   0.0   0.0   8.0   0.0   5.0   0.0   \n",
       "Financial data processing      0.0   0.0   0.0   0.0   5.0   0.0   5.0   0.0   \n",
       "Financial markets              0.0   0.0   0.0   0.0   0.0   0.0   5.0   0.0   \n",
       "Financial time series          0.0   0.0   0.0   0.0   0.0   0.0   0.0   0.0   \n",
       "Forecasting                    0.0   0.0   0.0   0.0   0.0   0.0   0.0   0.0   \n",
       "Genetic algorithms             0.0   0.0   0.0   0.0   0.0   0.0   0.0   0.0   \n",
       "High frequency                 0.0   0.0   0.0   6.0   0.0   5.0   0.0   0.0   \n",
       "High frequency HF              0.0   0.0   0.0   5.0   0.0   0.0   0.0   0.0   \n",
       "High frequency data            0.0   0.0   0.0   0.0   0.0   0.0   0.0   6.0   \n",
       "Investments                    0.0   0.0   0.0   0.0   0.0   6.0   7.0   0.0   \n",
       "Learning algorithms            0.0   0.0   0.0   0.0   0.0   0.0   0.0   0.0   \n",
       "Learning systems               0.0   0.0   0.0   0.0   0.0   0.0   0.0   0.0   \n",
       "Limit order book               0.0   0.0   0.0   0.0   0.0   0.0   0.0   0.0   \n",
       "Liquidity                      0.0   0.0   0.0   0.0   0.0   5.0   0.0   0.0   \n",
       "Machine learning               0.0   0.0   0.0   0.0   0.0   0.0   0.0   0.0   \n",
       "Market microstructure          0.0   0.0   0.0   0.0   0.0   0.0   0.0   5.0   \n",
       "Multicore programming          0.0   0.0   0.0   0.0   0.0   0.0   0.0   0.0   \n",
       "Neural networks                0.0   0.0   0.0   0.0   0.0   0.0   6.0   0.0   \n",
       "Profitability                  0.0   0.0   0.0   0.0   7.0   7.0   6.0   0.0   \n",
       "Technical analysis             0.0   0.0   0.0   0.0   0.0   0.0   0.0   0.0   \n",
       "Trading strategies             0.0   0.0   0.0   0.0   0.0   5.0   0.0   6.0   \n",
       "Trading systems                0.0   0.0   0.0   0.0   0.0   5.0   0.0   0.0   \n",
       "market                         0.0   0.0   0.0   0.0   0.0   6.0   0.0   0.0   \n",
       "portfolio optimisation         0.0   0.0   0.0   0.0   6.0   0.0   0.0   0.0   \n",
       "r                              0.0   0.0   0.0   0.0   0.0   6.0   0.0   0.0   \n",
       "trading                        0.0   0.0   0.0   0.0   0.0   0.0   6.0   0.0   \n",
       "\n",
       "                              2016  2017  2018  2019  \n",
       "Algorithmic trading            0.0   0.0   0.0   0.0  \n",
       "Algorithms                     0.0   6.0   7.0   0.0  \n",
       "Artificial intelligence        0.0   0.0   0.0   0.0  \n",
       "Automated trading              0.0   0.0   0.0   0.0  \n",
       "Big data                       5.0   0.0   0.0   0.0  \n",
       "Commerce                       0.0   0.0   0.0   0.0  \n",
       "Convolutional neural network   0.0   0.0   5.0   0.0  \n",
       "Costs                          0.0   8.0   0.0   0.0  \n",
       "Data mining                    0.0   5.0   0.0   0.0  \n",
       "Decision support systems       0.0   6.0   0.0   0.0  \n",
       "Deep learning                  0.0   0.0   7.0   6.0  \n",
       "Directional changes            0.0   5.0   0.0   0.0  \n",
       "Economics                      0.0   8.0   0.0   0.0  \n",
       "Electronic market              0.0   0.0   0.0   0.0  \n",
       "Finance                        0.0   0.0   0.0   0.0  \n",
       "Financial data processing      7.0   6.0   0.0   0.0  \n",
       "Financial markets              0.0   0.0   0.0   0.0  \n",
       "Financial time series          0.0   5.0   0.0   0.0  \n",
       "Forecasting                    0.0   0.0   6.0   7.0  \n",
       "Genetic algorithms             0.0   7.0   0.0   0.0  \n",
       "High frequency                 0.0   0.0   0.0   0.0  \n",
       "High frequency HF              0.0   0.0   0.0   0.0  \n",
       "High frequency data            0.0   0.0   0.0   0.0  \n",
       "Investments                    5.0   5.0   0.0   5.0  \n",
       "Learning algorithms            0.0   0.0   7.0   0.0  \n",
       "Learning systems               0.0   6.0   7.0   0.0  \n",
       "Limit order book               0.0   0.0   7.0   0.0  \n",
       "Liquidity                      0.0   0.0   5.0   0.0  \n",
       "Machine learning               0.0   6.0   0.0   7.0  \n",
       "Market microstructure          5.0   0.0   0.0   0.0  \n",
       "Multicore programming          5.0   0.0   0.0   0.0  \n",
       "Neural networks                0.0   0.0   6.0   0.0  \n",
       "Profitability                  0.0   0.0   0.0   0.0  \n",
       "Technical analysis             0.0   8.0   0.0   0.0  \n",
       "Trading strategies             0.0   0.0   5.0   6.0  \n",
       "Trading systems                0.0   0.0   0.0   0.0  \n",
       "market                         0.0   6.0   0.0   0.0  \n",
       "portfolio optimisation         0.0   0.0   0.0   0.0  \n",
       "r                              0.0   0.0   0.0   0.0  \n",
       "trading                        8.0   7.0   0.0   7.0  "
      ]
     },
     "execution_count": 10,
     "metadata": {},
     "output_type": "execute_result"
    }
   ],
   "source": [
    "rdf.term_by_term( \n",
    "    column_r='keywords (cleaned)', \n",
    "    column_c='Year', \n",
    "    sep_r=';', \n",
    "    sep_c=None, \n",
    "    minmax=(5,8)).tomatrix()"
   ]
  },
  {
   "cell_type": "code",
   "execution_count": null,
   "metadata": {},
   "outputs": [],
   "source": [
    "centers, clusters = rdf.term_by_term( \n",
    "    column_r='Authors', \n",
    "    column_c='keywords (cleaned)', \n",
    "    sep_r=',', \n",
    "    sep_c';').kmeans(n_clusters = 3)"
   ]
  },
  {
   "cell_type": "code",
   "execution_count": null,
   "metadata": {},
   "outputs": [],
   "source": [
    "centers.head()"
   ]
  },
  {
   "cell_type": "code",
   "execution_count": null,
   "metadata": {},
   "outputs": [],
   "source": [
    "clusters.sort_values('cluster').head()"
   ]
  },
  {
   "cell_type": "markdown",
   "metadata": {},
   "source": [
    "## Document type per year"
   ]
  },
  {
   "cell_type": "code",
   "execution_count": null,
   "metadata": {},
   "outputs": [],
   "source": [
    "rdf.term_by_term(\n",
    "    column_r='Document Type', \n",
    "    column_c='Year', \n",
    "    sep_r=None, \n",
    "    sep_c=None).head()"
   ]
  },
  {
   "cell_type": "markdown",
   "metadata": {},
   "source": [
    "## Keywords by year"
   ]
  },
  {
   "cell_type": "code",
   "execution_count": null,
   "metadata": {},
   "outputs": [],
   "source": [
    "rdf.term_by_term(\n",
    "    column_r='keywords (cleaned)', \n",
    "    column_c='Year', \n",
    "    sep_r=';', \n",
    "    sep_c=None).head()"
   ]
  },
  {
   "cell_type": "markdown",
   "metadata": {},
   "source": [
    "## Authors per document type"
   ]
  },
  {
   "cell_type": "code",
   "execution_count": null,
   "metadata": {},
   "outputs": [],
   "source": [
    "rdf.term_by_term(\n",
    "    column_r='Authors', \n",
    "    column_c='Document Type', \n",
    "    sep_r=',', \n",
    "    sep_c=None).tomatrix().head()"
   ]
  }
 ],
 "metadata": {
  "kernelspec": {
   "display_name": "Python 3",
   "language": "python",
   "name": "python3"
  },
  "language_info": {
   "codemirror_mode": {
    "name": "ipython",
    "version": 3
   },
   "file_extension": ".py",
   "mimetype": "text/x-python",
   "name": "python",
   "nbconvert_exporter": "python",
   "pygments_lexer": "ipython3",
   "version": "3.6.8"
  }
 },
 "nbformat": 4,
 "nbformat_minor": 4
}
