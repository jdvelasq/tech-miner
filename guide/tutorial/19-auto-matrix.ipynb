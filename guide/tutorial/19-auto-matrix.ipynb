{
 "cells": [
  {
   "cell_type": "markdown",
   "metadata": {},
   "source": [
    "# Autocorrelation matrix"
   ]
  },
  {
   "cell_type": "code",
   "execution_count": 1,
   "metadata": {},
   "outputs": [],
   "source": [
    "import pandas as pd\n",
    "from techminer import RecordsDataFrame\n",
    "\n",
    "rdf = RecordsDataFrame(\n",
    "    pd.read_json(\n",
    "        'step-07.json', \n",
    "        orient='records', \n",
    "        lines=True))"
   ]
  },
  {
   "cell_type": "code",
   "execution_count": 2,
   "metadata": {},
   "outputs": [
    {
     "data": {
      "text/html": [
       "<div>\n",
       "<style scoped>\n",
       "    .dataframe tbody tr th:only-of-type {\n",
       "        vertical-align: middle;\n",
       "    }\n",
       "\n",
       "    .dataframe tbody tr th {\n",
       "        vertical-align: top;\n",
       "    }\n",
       "\n",
       "    .dataframe thead th {\n",
       "        text-align: right;\n",
       "    }\n",
       "</style>\n",
       "<table border=\"1\" class=\"dataframe\">\n",
       "  <thead>\n",
       "    <tr style=\"text-align: right;\">\n",
       "      <th></th>\n",
       "      <th>Wang J. [7]</th>\n",
       "      <th>Tefas A. [3]</th>\n",
       "      <th>Arévalo A. [3]</th>\n",
       "      <th>Sandoval J. [3]</th>\n",
       "      <th>Hernandez G. [3]</th>\n",
       "      <th>Zhang Y. [3]</th>\n",
       "      <th>Gabbouj M. [3]</th>\n",
       "      <th>Kanniainen J. [3]</th>\n",
       "      <th>Passalis N. [3]</th>\n",
       "      <th>Iosifidis A. [3]</th>\n",
       "      <th>Wu J. [3]</th>\n",
       "      <th>Oosterlee C.W. [2]</th>\n",
       "      <th>Bu H. [2]</th>\n",
       "      <th>Leon D. [2]</th>\n",
       "      <th>Liu C.-L. [2]</th>\n",
       "      <th>Li Y. [2]</th>\n",
       "      <th>Zhu Y. [3]</th>\n",
       "      <th>Chen Y. [2]</th>\n",
       "      <th>Zhang G. [4]</th>\n",
       "      <th>Yan X. [3]</th>\n",
       "    </tr>\n",
       "  </thead>\n",
       "  <tbody>\n",
       "    <tr>\n",
       "      <th>Wang J. [7]</th>\n",
       "      <td>1.0</td>\n",
       "      <td>0.0</td>\n",
       "      <td>0.000000</td>\n",
       "      <td>0.000000</td>\n",
       "      <td>0.000000</td>\n",
       "      <td>0.0</td>\n",
       "      <td>0.0</td>\n",
       "      <td>0.0</td>\n",
       "      <td>0.0</td>\n",
       "      <td>0.0</td>\n",
       "      <td>0.000000</td>\n",
       "      <td>0.0</td>\n",
       "      <td>0.000000</td>\n",
       "      <td>0.000000</td>\n",
       "      <td>0.0</td>\n",
       "      <td>0.0</td>\n",
       "      <td>0.000000</td>\n",
       "      <td>0.000000</td>\n",
       "      <td>0.000000</td>\n",
       "      <td>0.0</td>\n",
       "    </tr>\n",
       "    <tr>\n",
       "      <th>Iosifidis A. [3]</th>\n",
       "      <td>0.0</td>\n",
       "      <td>1.0</td>\n",
       "      <td>0.000000</td>\n",
       "      <td>0.000000</td>\n",
       "      <td>0.000000</td>\n",
       "      <td>0.0</td>\n",
       "      <td>1.0</td>\n",
       "      <td>1.0</td>\n",
       "      <td>1.0</td>\n",
       "      <td>1.0</td>\n",
       "      <td>0.000000</td>\n",
       "      <td>0.0</td>\n",
       "      <td>0.000000</td>\n",
       "      <td>0.000000</td>\n",
       "      <td>0.0</td>\n",
       "      <td>0.0</td>\n",
       "      <td>0.000000</td>\n",
       "      <td>0.000000</td>\n",
       "      <td>0.000000</td>\n",
       "      <td>0.0</td>\n",
       "    </tr>\n",
       "    <tr>\n",
       "      <th>Arévalo A. [3]</th>\n",
       "      <td>0.0</td>\n",
       "      <td>0.0</td>\n",
       "      <td>1.000000</td>\n",
       "      <td>1.000000</td>\n",
       "      <td>1.000000</td>\n",
       "      <td>0.0</td>\n",
       "      <td>0.0</td>\n",
       "      <td>0.0</td>\n",
       "      <td>0.0</td>\n",
       "      <td>0.0</td>\n",
       "      <td>0.000000</td>\n",
       "      <td>0.0</td>\n",
       "      <td>0.000000</td>\n",
       "      <td>0.816497</td>\n",
       "      <td>0.0</td>\n",
       "      <td>0.0</td>\n",
       "      <td>0.000000</td>\n",
       "      <td>0.000000</td>\n",
       "      <td>0.000000</td>\n",
       "      <td>0.0</td>\n",
       "    </tr>\n",
       "    <tr>\n",
       "      <th>Zhang Y. [3]</th>\n",
       "      <td>0.0</td>\n",
       "      <td>0.0</td>\n",
       "      <td>0.000000</td>\n",
       "      <td>0.000000</td>\n",
       "      <td>0.000000</td>\n",
       "      <td>1.0</td>\n",
       "      <td>0.0</td>\n",
       "      <td>0.0</td>\n",
       "      <td>0.0</td>\n",
       "      <td>0.0</td>\n",
       "      <td>0.000000</td>\n",
       "      <td>0.0</td>\n",
       "      <td>0.000000</td>\n",
       "      <td>0.000000</td>\n",
       "      <td>0.0</td>\n",
       "      <td>0.0</td>\n",
       "      <td>0.000000</td>\n",
       "      <td>0.000000</td>\n",
       "      <td>0.000000</td>\n",
       "      <td>0.0</td>\n",
       "    </tr>\n",
       "    <tr>\n",
       "      <th>Sandoval J. [3]</th>\n",
       "      <td>0.0</td>\n",
       "      <td>0.0</td>\n",
       "      <td>1.000000</td>\n",
       "      <td>1.000000</td>\n",
       "      <td>1.000000</td>\n",
       "      <td>0.0</td>\n",
       "      <td>0.0</td>\n",
       "      <td>0.0</td>\n",
       "      <td>0.0</td>\n",
       "      <td>0.0</td>\n",
       "      <td>0.000000</td>\n",
       "      <td>0.0</td>\n",
       "      <td>0.000000</td>\n",
       "      <td>0.816497</td>\n",
       "      <td>0.0</td>\n",
       "      <td>0.0</td>\n",
       "      <td>0.000000</td>\n",
       "      <td>0.000000</td>\n",
       "      <td>0.000000</td>\n",
       "      <td>0.0</td>\n",
       "    </tr>\n",
       "    <tr>\n",
       "      <th>Passalis N. [3]</th>\n",
       "      <td>0.0</td>\n",
       "      <td>1.0</td>\n",
       "      <td>0.000000</td>\n",
       "      <td>0.000000</td>\n",
       "      <td>0.000000</td>\n",
       "      <td>0.0</td>\n",
       "      <td>1.0</td>\n",
       "      <td>1.0</td>\n",
       "      <td>1.0</td>\n",
       "      <td>1.0</td>\n",
       "      <td>0.000000</td>\n",
       "      <td>0.0</td>\n",
       "      <td>0.000000</td>\n",
       "      <td>0.000000</td>\n",
       "      <td>0.0</td>\n",
       "      <td>0.0</td>\n",
       "      <td>0.000000</td>\n",
       "      <td>0.000000</td>\n",
       "      <td>0.000000</td>\n",
       "      <td>0.0</td>\n",
       "    </tr>\n",
       "    <tr>\n",
       "      <th>Tefas A. [3]</th>\n",
       "      <td>0.0</td>\n",
       "      <td>1.0</td>\n",
       "      <td>0.000000</td>\n",
       "      <td>0.000000</td>\n",
       "      <td>0.000000</td>\n",
       "      <td>0.0</td>\n",
       "      <td>1.0</td>\n",
       "      <td>1.0</td>\n",
       "      <td>1.0</td>\n",
       "      <td>1.0</td>\n",
       "      <td>0.000000</td>\n",
       "      <td>0.0</td>\n",
       "      <td>0.000000</td>\n",
       "      <td>0.000000</td>\n",
       "      <td>0.0</td>\n",
       "      <td>0.0</td>\n",
       "      <td>0.000000</td>\n",
       "      <td>0.000000</td>\n",
       "      <td>0.000000</td>\n",
       "      <td>0.0</td>\n",
       "    </tr>\n",
       "    <tr>\n",
       "      <th>Hernandez G. [3]</th>\n",
       "      <td>0.0</td>\n",
       "      <td>0.0</td>\n",
       "      <td>1.000000</td>\n",
       "      <td>1.000000</td>\n",
       "      <td>1.000000</td>\n",
       "      <td>0.0</td>\n",
       "      <td>0.0</td>\n",
       "      <td>0.0</td>\n",
       "      <td>0.0</td>\n",
       "      <td>0.0</td>\n",
       "      <td>0.000000</td>\n",
       "      <td>0.0</td>\n",
       "      <td>0.000000</td>\n",
       "      <td>0.816497</td>\n",
       "      <td>0.0</td>\n",
       "      <td>0.0</td>\n",
       "      <td>0.000000</td>\n",
       "      <td>0.000000</td>\n",
       "      <td>0.000000</td>\n",
       "      <td>0.0</td>\n",
       "    </tr>\n",
       "    <tr>\n",
       "      <th>Wu J. [3]</th>\n",
       "      <td>0.0</td>\n",
       "      <td>0.0</td>\n",
       "      <td>0.000000</td>\n",
       "      <td>0.000000</td>\n",
       "      <td>0.000000</td>\n",
       "      <td>0.0</td>\n",
       "      <td>0.0</td>\n",
       "      <td>0.0</td>\n",
       "      <td>0.0</td>\n",
       "      <td>0.0</td>\n",
       "      <td>1.000000</td>\n",
       "      <td>0.0</td>\n",
       "      <td>0.816497</td>\n",
       "      <td>0.000000</td>\n",
       "      <td>0.0</td>\n",
       "      <td>0.0</td>\n",
       "      <td>0.000000</td>\n",
       "      <td>0.408248</td>\n",
       "      <td>0.000000</td>\n",
       "      <td>0.0</td>\n",
       "    </tr>\n",
       "    <tr>\n",
       "      <th>Gabbouj M. [3]</th>\n",
       "      <td>0.0</td>\n",
       "      <td>1.0</td>\n",
       "      <td>0.000000</td>\n",
       "      <td>0.000000</td>\n",
       "      <td>0.000000</td>\n",
       "      <td>0.0</td>\n",
       "      <td>1.0</td>\n",
       "      <td>1.0</td>\n",
       "      <td>1.0</td>\n",
       "      <td>1.0</td>\n",
       "      <td>0.000000</td>\n",
       "      <td>0.0</td>\n",
       "      <td>0.000000</td>\n",
       "      <td>0.000000</td>\n",
       "      <td>0.0</td>\n",
       "      <td>0.0</td>\n",
       "      <td>0.000000</td>\n",
       "      <td>0.000000</td>\n",
       "      <td>0.000000</td>\n",
       "      <td>0.0</td>\n",
       "    </tr>\n",
       "    <tr>\n",
       "      <th>Oosterlee C.W. [2]</th>\n",
       "      <td>0.0</td>\n",
       "      <td>0.0</td>\n",
       "      <td>0.000000</td>\n",
       "      <td>0.000000</td>\n",
       "      <td>0.000000</td>\n",
       "      <td>0.0</td>\n",
       "      <td>0.0</td>\n",
       "      <td>0.0</td>\n",
       "      <td>0.0</td>\n",
       "      <td>0.0</td>\n",
       "      <td>0.000000</td>\n",
       "      <td>1.0</td>\n",
       "      <td>0.000000</td>\n",
       "      <td>0.000000</td>\n",
       "      <td>0.0</td>\n",
       "      <td>0.0</td>\n",
       "      <td>0.000000</td>\n",
       "      <td>0.000000</td>\n",
       "      <td>0.000000</td>\n",
       "      <td>0.0</td>\n",
       "    </tr>\n",
       "    <tr>\n",
       "      <th>Bu H. [2]</th>\n",
       "      <td>0.0</td>\n",
       "      <td>0.0</td>\n",
       "      <td>0.000000</td>\n",
       "      <td>0.000000</td>\n",
       "      <td>0.000000</td>\n",
       "      <td>0.0</td>\n",
       "      <td>0.0</td>\n",
       "      <td>0.0</td>\n",
       "      <td>0.0</td>\n",
       "      <td>0.0</td>\n",
       "      <td>0.816497</td>\n",
       "      <td>0.0</td>\n",
       "      <td>1.000000</td>\n",
       "      <td>0.000000</td>\n",
       "      <td>0.0</td>\n",
       "      <td>0.0</td>\n",
       "      <td>0.000000</td>\n",
       "      <td>0.500000</td>\n",
       "      <td>0.000000</td>\n",
       "      <td>0.0</td>\n",
       "    </tr>\n",
       "    <tr>\n",
       "      <th>Leon D. [2]</th>\n",
       "      <td>0.0</td>\n",
       "      <td>0.0</td>\n",
       "      <td>0.816497</td>\n",
       "      <td>0.816497</td>\n",
       "      <td>0.816497</td>\n",
       "      <td>0.0</td>\n",
       "      <td>0.0</td>\n",
       "      <td>0.0</td>\n",
       "      <td>0.0</td>\n",
       "      <td>0.0</td>\n",
       "      <td>0.000000</td>\n",
       "      <td>0.0</td>\n",
       "      <td>0.000000</td>\n",
       "      <td>1.000000</td>\n",
       "      <td>0.0</td>\n",
       "      <td>0.0</td>\n",
       "      <td>0.000000</td>\n",
       "      <td>0.000000</td>\n",
       "      <td>0.000000</td>\n",
       "      <td>0.0</td>\n",
       "    </tr>\n",
       "    <tr>\n",
       "      <th>Liu C.-L. [2]</th>\n",
       "      <td>0.0</td>\n",
       "      <td>0.0</td>\n",
       "      <td>0.000000</td>\n",
       "      <td>0.000000</td>\n",
       "      <td>0.000000</td>\n",
       "      <td>0.0</td>\n",
       "      <td>0.0</td>\n",
       "      <td>0.0</td>\n",
       "      <td>0.0</td>\n",
       "      <td>0.0</td>\n",
       "      <td>0.000000</td>\n",
       "      <td>0.0</td>\n",
       "      <td>0.000000</td>\n",
       "      <td>0.000000</td>\n",
       "      <td>1.0</td>\n",
       "      <td>0.0</td>\n",
       "      <td>0.000000</td>\n",
       "      <td>0.000000</td>\n",
       "      <td>0.000000</td>\n",
       "      <td>0.0</td>\n",
       "    </tr>\n",
       "    <tr>\n",
       "      <th>Li Y. [2]</th>\n",
       "      <td>0.0</td>\n",
       "      <td>0.0</td>\n",
       "      <td>0.000000</td>\n",
       "      <td>0.000000</td>\n",
       "      <td>0.000000</td>\n",
       "      <td>0.0</td>\n",
       "      <td>0.0</td>\n",
       "      <td>0.0</td>\n",
       "      <td>0.0</td>\n",
       "      <td>0.0</td>\n",
       "      <td>0.000000</td>\n",
       "      <td>0.0</td>\n",
       "      <td>0.000000</td>\n",
       "      <td>0.000000</td>\n",
       "      <td>0.0</td>\n",
       "      <td>1.0</td>\n",
       "      <td>0.000000</td>\n",
       "      <td>0.000000</td>\n",
       "      <td>0.000000</td>\n",
       "      <td>0.0</td>\n",
       "    </tr>\n",
       "    <tr>\n",
       "      <th>Zhu Y. [3]</th>\n",
       "      <td>0.0</td>\n",
       "      <td>0.0</td>\n",
       "      <td>0.000000</td>\n",
       "      <td>0.000000</td>\n",
       "      <td>0.000000</td>\n",
       "      <td>0.0</td>\n",
       "      <td>0.0</td>\n",
       "      <td>0.0</td>\n",
       "      <td>0.0</td>\n",
       "      <td>0.0</td>\n",
       "      <td>0.000000</td>\n",
       "      <td>0.0</td>\n",
       "      <td>0.000000</td>\n",
       "      <td>0.000000</td>\n",
       "      <td>0.0</td>\n",
       "      <td>0.0</td>\n",
       "      <td>1.000000</td>\n",
       "      <td>0.000000</td>\n",
       "      <td>0.288675</td>\n",
       "      <td>0.0</td>\n",
       "    </tr>\n",
       "    <tr>\n",
       "      <th>Kanniainen J. [3]</th>\n",
       "      <td>0.0</td>\n",
       "      <td>1.0</td>\n",
       "      <td>0.000000</td>\n",
       "      <td>0.000000</td>\n",
       "      <td>0.000000</td>\n",
       "      <td>0.0</td>\n",
       "      <td>1.0</td>\n",
       "      <td>1.0</td>\n",
       "      <td>1.0</td>\n",
       "      <td>1.0</td>\n",
       "      <td>0.000000</td>\n",
       "      <td>0.0</td>\n",
       "      <td>0.000000</td>\n",
       "      <td>0.000000</td>\n",
       "      <td>0.0</td>\n",
       "      <td>0.0</td>\n",
       "      <td>0.000000</td>\n",
       "      <td>0.000000</td>\n",
       "      <td>0.000000</td>\n",
       "      <td>0.0</td>\n",
       "    </tr>\n",
       "    <tr>\n",
       "      <th>Chen Y. [2]</th>\n",
       "      <td>0.0</td>\n",
       "      <td>0.0</td>\n",
       "      <td>0.000000</td>\n",
       "      <td>0.000000</td>\n",
       "      <td>0.000000</td>\n",
       "      <td>0.0</td>\n",
       "      <td>0.0</td>\n",
       "      <td>0.0</td>\n",
       "      <td>0.0</td>\n",
       "      <td>0.0</td>\n",
       "      <td>0.408248</td>\n",
       "      <td>0.0</td>\n",
       "      <td>0.500000</td>\n",
       "      <td>0.000000</td>\n",
       "      <td>0.0</td>\n",
       "      <td>0.0</td>\n",
       "      <td>0.000000</td>\n",
       "      <td>1.000000</td>\n",
       "      <td>0.000000</td>\n",
       "      <td>0.0</td>\n",
       "    </tr>\n",
       "    <tr>\n",
       "      <th>Zhang G. [4]</th>\n",
       "      <td>0.0</td>\n",
       "      <td>0.0</td>\n",
       "      <td>0.000000</td>\n",
       "      <td>0.000000</td>\n",
       "      <td>0.000000</td>\n",
       "      <td>0.0</td>\n",
       "      <td>0.0</td>\n",
       "      <td>0.0</td>\n",
       "      <td>0.0</td>\n",
       "      <td>0.0</td>\n",
       "      <td>0.000000</td>\n",
       "      <td>0.0</td>\n",
       "      <td>0.000000</td>\n",
       "      <td>0.000000</td>\n",
       "      <td>0.0</td>\n",
       "      <td>0.0</td>\n",
       "      <td>0.288675</td>\n",
       "      <td>0.000000</td>\n",
       "      <td>1.000000</td>\n",
       "      <td>0.0</td>\n",
       "    </tr>\n",
       "    <tr>\n",
       "      <th>Yan X. [3]</th>\n",
       "      <td>0.0</td>\n",
       "      <td>0.0</td>\n",
       "      <td>0.000000</td>\n",
       "      <td>0.000000</td>\n",
       "      <td>0.000000</td>\n",
       "      <td>0.0</td>\n",
       "      <td>0.0</td>\n",
       "      <td>0.0</td>\n",
       "      <td>0.0</td>\n",
       "      <td>0.0</td>\n",
       "      <td>0.000000</td>\n",
       "      <td>0.0</td>\n",
       "      <td>0.000000</td>\n",
       "      <td>0.000000</td>\n",
       "      <td>0.0</td>\n",
       "      <td>0.0</td>\n",
       "      <td>0.000000</td>\n",
       "      <td>0.000000</td>\n",
       "      <td>0.000000</td>\n",
       "      <td>1.0</td>\n",
       "    </tr>\n",
       "  </tbody>\n",
       "</table>\n",
       "</div>"
      ],
      "text/plain": [
       "                    Wang J. [7]  Tefas A. [3]  Arévalo A. [3]  \\\n",
       "Wang J. [7]                 1.0           0.0        0.000000   \n",
       "Iosifidis A. [3]            0.0           1.0        0.000000   \n",
       "Arévalo A. [3]              0.0           0.0        1.000000   \n",
       "Zhang Y. [3]                0.0           0.0        0.000000   \n",
       "Sandoval J. [3]             0.0           0.0        1.000000   \n",
       "Passalis N. [3]             0.0           1.0        0.000000   \n",
       "Tefas A. [3]                0.0           1.0        0.000000   \n",
       "Hernandez G. [3]            0.0           0.0        1.000000   \n",
       "Wu J. [3]                   0.0           0.0        0.000000   \n",
       "Gabbouj M. [3]              0.0           1.0        0.000000   \n",
       "Oosterlee C.W. [2]          0.0           0.0        0.000000   \n",
       "Bu H. [2]                   0.0           0.0        0.000000   \n",
       "Leon D. [2]                 0.0           0.0        0.816497   \n",
       "Liu C.-L. [2]               0.0           0.0        0.000000   \n",
       "Li Y. [2]                   0.0           0.0        0.000000   \n",
       "Zhu Y. [3]                  0.0           0.0        0.000000   \n",
       "Kanniainen J. [3]           0.0           1.0        0.000000   \n",
       "Chen Y. [2]                 0.0           0.0        0.000000   \n",
       "Zhang G. [4]                0.0           0.0        0.000000   \n",
       "Yan X. [3]                  0.0           0.0        0.000000   \n",
       "\n",
       "                    Sandoval J. [3]  Hernandez G. [3]  Zhang Y. [3]  \\\n",
       "Wang J. [7]                0.000000          0.000000           0.0   \n",
       "Iosifidis A. [3]           0.000000          0.000000           0.0   \n",
       "Arévalo A. [3]             1.000000          1.000000           0.0   \n",
       "Zhang Y. [3]               0.000000          0.000000           1.0   \n",
       "Sandoval J. [3]            1.000000          1.000000           0.0   \n",
       "Passalis N. [3]            0.000000          0.000000           0.0   \n",
       "Tefas A. [3]               0.000000          0.000000           0.0   \n",
       "Hernandez G. [3]           1.000000          1.000000           0.0   \n",
       "Wu J. [3]                  0.000000          0.000000           0.0   \n",
       "Gabbouj M. [3]             0.000000          0.000000           0.0   \n",
       "Oosterlee C.W. [2]         0.000000          0.000000           0.0   \n",
       "Bu H. [2]                  0.000000          0.000000           0.0   \n",
       "Leon D. [2]                0.816497          0.816497           0.0   \n",
       "Liu C.-L. [2]              0.000000          0.000000           0.0   \n",
       "Li Y. [2]                  0.000000          0.000000           0.0   \n",
       "Zhu Y. [3]                 0.000000          0.000000           0.0   \n",
       "Kanniainen J. [3]          0.000000          0.000000           0.0   \n",
       "Chen Y. [2]                0.000000          0.000000           0.0   \n",
       "Zhang G. [4]               0.000000          0.000000           0.0   \n",
       "Yan X. [3]                 0.000000          0.000000           0.0   \n",
       "\n",
       "                    Gabbouj M. [3]  Kanniainen J. [3]  Passalis N. [3]  \\\n",
       "Wang J. [7]                    0.0                0.0              0.0   \n",
       "Iosifidis A. [3]               1.0                1.0              1.0   \n",
       "Arévalo A. [3]                 0.0                0.0              0.0   \n",
       "Zhang Y. [3]                   0.0                0.0              0.0   \n",
       "Sandoval J. [3]                0.0                0.0              0.0   \n",
       "Passalis N. [3]                1.0                1.0              1.0   \n",
       "Tefas A. [3]                   1.0                1.0              1.0   \n",
       "Hernandez G. [3]               0.0                0.0              0.0   \n",
       "Wu J. [3]                      0.0                0.0              0.0   \n",
       "Gabbouj M. [3]                 1.0                1.0              1.0   \n",
       "Oosterlee C.W. [2]             0.0                0.0              0.0   \n",
       "Bu H. [2]                      0.0                0.0              0.0   \n",
       "Leon D. [2]                    0.0                0.0              0.0   \n",
       "Liu C.-L. [2]                  0.0                0.0              0.0   \n",
       "Li Y. [2]                      0.0                0.0              0.0   \n",
       "Zhu Y. [3]                     0.0                0.0              0.0   \n",
       "Kanniainen J. [3]              1.0                1.0              1.0   \n",
       "Chen Y. [2]                    0.0                0.0              0.0   \n",
       "Zhang G. [4]                   0.0                0.0              0.0   \n",
       "Yan X. [3]                     0.0                0.0              0.0   \n",
       "\n",
       "                    Iosifidis A. [3]  Wu J. [3]  Oosterlee C.W. [2]  \\\n",
       "Wang J. [7]                      0.0   0.000000                 0.0   \n",
       "Iosifidis A. [3]                 1.0   0.000000                 0.0   \n",
       "Arévalo A. [3]                   0.0   0.000000                 0.0   \n",
       "Zhang Y. [3]                     0.0   0.000000                 0.0   \n",
       "Sandoval J. [3]                  0.0   0.000000                 0.0   \n",
       "Passalis N. [3]                  1.0   0.000000                 0.0   \n",
       "Tefas A. [3]                     1.0   0.000000                 0.0   \n",
       "Hernandez G. [3]                 0.0   0.000000                 0.0   \n",
       "Wu J. [3]                        0.0   1.000000                 0.0   \n",
       "Gabbouj M. [3]                   1.0   0.000000                 0.0   \n",
       "Oosterlee C.W. [2]               0.0   0.000000                 1.0   \n",
       "Bu H. [2]                        0.0   0.816497                 0.0   \n",
       "Leon D. [2]                      0.0   0.000000                 0.0   \n",
       "Liu C.-L. [2]                    0.0   0.000000                 0.0   \n",
       "Li Y. [2]                        0.0   0.000000                 0.0   \n",
       "Zhu Y. [3]                       0.0   0.000000                 0.0   \n",
       "Kanniainen J. [3]                1.0   0.000000                 0.0   \n",
       "Chen Y. [2]                      0.0   0.408248                 0.0   \n",
       "Zhang G. [4]                     0.0   0.000000                 0.0   \n",
       "Yan X. [3]                       0.0   0.000000                 0.0   \n",
       "\n",
       "                    Bu H. [2]  Leon D. [2]  Liu C.-L. [2]  Li Y. [2]  \\\n",
       "Wang J. [7]          0.000000     0.000000            0.0        0.0   \n",
       "Iosifidis A. [3]     0.000000     0.000000            0.0        0.0   \n",
       "Arévalo A. [3]       0.000000     0.816497            0.0        0.0   \n",
       "Zhang Y. [3]         0.000000     0.000000            0.0        0.0   \n",
       "Sandoval J. [3]      0.000000     0.816497            0.0        0.0   \n",
       "Passalis N. [3]      0.000000     0.000000            0.0        0.0   \n",
       "Tefas A. [3]         0.000000     0.000000            0.0        0.0   \n",
       "Hernandez G. [3]     0.000000     0.816497            0.0        0.0   \n",
       "Wu J. [3]            0.816497     0.000000            0.0        0.0   \n",
       "Gabbouj M. [3]       0.000000     0.000000            0.0        0.0   \n",
       "Oosterlee C.W. [2]   0.000000     0.000000            0.0        0.0   \n",
       "Bu H. [2]            1.000000     0.000000            0.0        0.0   \n",
       "Leon D. [2]          0.000000     1.000000            0.0        0.0   \n",
       "Liu C.-L. [2]        0.000000     0.000000            1.0        0.0   \n",
       "Li Y. [2]            0.000000     0.000000            0.0        1.0   \n",
       "Zhu Y. [3]           0.000000     0.000000            0.0        0.0   \n",
       "Kanniainen J. [3]    0.000000     0.000000            0.0        0.0   \n",
       "Chen Y. [2]          0.500000     0.000000            0.0        0.0   \n",
       "Zhang G. [4]         0.000000     0.000000            0.0        0.0   \n",
       "Yan X. [3]           0.000000     0.000000            0.0        0.0   \n",
       "\n",
       "                    Zhu Y. [3]  Chen Y. [2]  Zhang G. [4]  Yan X. [3]  \n",
       "Wang J. [7]           0.000000     0.000000      0.000000         0.0  \n",
       "Iosifidis A. [3]      0.000000     0.000000      0.000000         0.0  \n",
       "Arévalo A. [3]        0.000000     0.000000      0.000000         0.0  \n",
       "Zhang Y. [3]          0.000000     0.000000      0.000000         0.0  \n",
       "Sandoval J. [3]       0.000000     0.000000      0.000000         0.0  \n",
       "Passalis N. [3]       0.000000     0.000000      0.000000         0.0  \n",
       "Tefas A. [3]          0.000000     0.000000      0.000000         0.0  \n",
       "Hernandez G. [3]      0.000000     0.000000      0.000000         0.0  \n",
       "Wu J. [3]             0.000000     0.408248      0.000000         0.0  \n",
       "Gabbouj M. [3]        0.000000     0.000000      0.000000         0.0  \n",
       "Oosterlee C.W. [2]    0.000000     0.000000      0.000000         0.0  \n",
       "Bu H. [2]             0.000000     0.500000      0.000000         0.0  \n",
       "Leon D. [2]           0.000000     0.000000      0.000000         0.0  \n",
       "Liu C.-L. [2]         0.000000     0.000000      0.000000         0.0  \n",
       "Li Y. [2]             0.000000     0.000000      0.000000         0.0  \n",
       "Zhu Y. [3]            1.000000     0.000000      0.288675         0.0  \n",
       "Kanniainen J. [3]     0.000000     0.000000      0.000000         0.0  \n",
       "Chen Y. [2]           0.000000     1.000000      0.000000         0.0  \n",
       "Zhang G. [4]          0.288675     0.000000      1.000000         0.0  \n",
       "Yan X. [3]            0.000000     0.000000      0.000000         1.0  "
      ]
     },
     "execution_count": 2,
     "metadata": {},
     "output_type": "execute_result"
    }
   ],
   "source": [
    "rdf.autocorr(\n",
    "    column='Authors',\n",
    "    sep=','\n",
    ").tomatrix()"
   ]
  },
  {
   "cell_type": "code",
   "execution_count": 3,
   "metadata": {},
   "outputs": [
    {
     "data": {
      "image/png": "[encoded data removed]",
      "text/plain": [
       "<Figure size 720x720 with 1 Axes>"
      ]
     },
     "metadata": {
      "needs_background": "light"
     },
     "output_type": "display_data"
    }
   ],
   "source": [
    "rdf.autocorr(\n",
    "    column='Authors',\n",
    "    sep=','\n",
    ").heatmap()"
   ]
  },
  {
   "cell_type": "code",
   "execution_count": 4,
   "metadata": {},
   "outputs": [
    {
     "data": {
      "application/vnd.vegalite.v3+json": {
       "$schema": "https://vega.github.io/schema/vega-lite/v3.4.0.json",
       "config": {
        "mark": {
         "tooltip": null
        },
        "view": {
         "height": 300,
         "width": 400
        }
       },
       "data": {
        "name": "data-769a449846ea32bb0a85f734002061e3"
       },
       "datasets": {
        "data-769a449846ea32bb0a85f734002061e3": [
         {
          "Authors (col)": "Wang J. [7]",
          "Authors (row)": "Wang J. [7]",
          "Autocorrelation": 1,
          "ID": [
           "[*3*]",
           "[*10*]",
           "[*15*]",
           "[*80*]",
           "[*87*]",
           "[*128*]"
          ]
         },
         {
          "Authors (col)": "Yan X. [3]",
          "Authors (row)": "Yan X. [3]",
          "Autocorrelation": 1,
          "ID": [
           "[*13*]",
           "[*44*]",
           "[*85*]"
          ]
         },
         {
          "Authors (col)": "Iosifidis A. [3]",
          "Authors (row)": "Kanniainen J. [3]",
          "Autocorrelation": 1,
          "ID": [
           "[*8*]",
           "[*110*]",
           "[*114*]"
          ]
         },
         {
          "Authors (col)": "Tefas A. [3]",
          "Authors (row)": "Kanniainen J. [3]",
          "Autocorrelation": 1,
          "ID": [
           "[*8*]",
           "[*110*]",
           "[*114*]"
          ]
         },
         {
          "Authors (col)": "Gabbouj M. [3]",
          "Authors (row)": "Passalis N. [3]",
          "Autocorrelation": 1,
          "ID": [
           "[*8*]",
           "[*110*]",
           "[*114*]"
          ]
         },
         {
          "Authors (col)": "Kanniainen J. [3]",
          "Authors (row)": "Passalis N. [3]",
          "Autocorrelation": 1,
          "ID": [
           "[*8*]",
           "[*110*]",
           "[*114*]"
          ]
         },
         {
          "Authors (col)": "Passalis N. [3]",
          "Authors (row)": "Passalis N. [3]",
          "Autocorrelation": 1,
          "ID": [
           "[*8*]",
           "[*110*]",
           "[*114*]"
          ]
         },
         {
          "Authors (col)": "Iosifidis A. [3]",
          "Authors (row)": "Passalis N. [3]",
          "Autocorrelation": 1,
          "ID": [
           "[*8*]",
           "[*110*]",
           "[*114*]"
          ]
         },
         {
          "Authors (col)": "Tefas A. [3]",
          "Authors (row)": "Passalis N. [3]",
          "Autocorrelation": 1,
          "ID": [
           "[*8*]",
           "[*110*]",
           "[*114*]"
          ]
         },
         {
          "Authors (col)": "Wu J. [3]",
          "Authors (row)": "Wu J. [3]",
          "Autocorrelation": 1,
          "ID": [
           "[*34*]",
           "[*66*]",
           "[*115*]"
          ]
         },
         {
          "Authors (col)": "Arévalo A. [3]",
          "Authors (row)": "Arévalo A. [3]",
          "Autocorrelation": 1,
          "ID": [
           "[*52*]",
           "[*94*]",
           "[*100*]"
          ]
         },
         {
          "Authors (col)": "Sandoval J. [3]",
          "Authors (row)": "Arévalo A. [3]",
          "Autocorrelation": 1,
          "ID": [
           "[*52*]",
           "[*94*]",
           "[*100*]"
          ]
         },
         {
          "Authors (col)": "Hernandez G. [3]",
          "Authors (row)": "Arévalo A. [3]",
          "Autocorrelation": 1,
          "ID": [
           "[*52*]",
           "[*94*]",
           "[*100*]"
          ]
         },
         {
          "Authors (col)": "Zhang Y. [3]",
          "Authors (row)": "Zhang Y. [3]",
          "Autocorrelation": 1,
          "ID": [
           "[*4*]",
           "[*6*]",
           "[*109*]"
          ]
         },
         {
          "Authors (col)": "Gabbouj M. [3]",
          "Authors (row)": "Iosifidis A. [3]",
          "Autocorrelation": 1,
          "ID": [
           "[*8*]",
           "[*110*]",
           "[*114*]"
          ]
         },
         {
          "Authors (col)": "Kanniainen J. [3]",
          "Authors (row)": "Iosifidis A. [3]",
          "Autocorrelation": 1,
          "ID": [
           "[*8*]",
           "[*110*]",
           "[*114*]"
          ]
         },
         {
          "Authors (col)": "Passalis N. [3]",
          "Authors (row)": "Iosifidis A. [3]",
          "Autocorrelation": 1,
          "ID": [
           "[*8*]",
           "[*110*]",
           "[*114*]"
          ]
         },
         {
          "Authors (col)": "Iosifidis A. [3]",
          "Authors (row)": "Iosifidis A. [3]",
          "Autocorrelation": 1,
          "ID": [
           "[*8*]",
           "[*110*]",
           "[*114*]"
          ]
         },
         {
          "Authors (col)": "Tefas A. [3]",
          "Authors (row)": "Iosifidis A. [3]",
          "Autocorrelation": 1,
          "ID": [
           "[*8*]",
           "[*110*]",
           "[*114*]"
          ]
         },
         {
          "Authors (col)": "Arévalo A. [3]",
          "Authors (row)": "Sandoval J. [3]",
          "Autocorrelation": 1,
          "ID": [
           "[*52*]",
           "[*94*]",
           "[*100*]"
          ]
         },
         {
          "Authors (col)": "Sandoval J. [3]",
          "Authors (row)": "Sandoval J. [3]",
          "Autocorrelation": 1,
          "ID": [
           "[*52*]",
           "[*94*]",
           "[*100*]"
          ]
         },
         {
          "Authors (col)": "Hernandez G. [3]",
          "Authors (row)": "Sandoval J. [3]",
          "Autocorrelation": 1,
          "ID": [
           "[*52*]",
           "[*94*]",
           "[*100*]"
          ]
         },
         {
          "Authors (col)": "Gabbouj M. [3]",
          "Authors (row)": "Tefas A. [3]",
          "Autocorrelation": 1,
          "ID": [
           "[*8*]",
           "[*110*]",
           "[*114*]"
          ]
         },
         {
          "Authors (col)": "Kanniainen J. [3]",
          "Authors (row)": "Tefas A. [3]",
          "Autocorrelation": 1,
          "ID": [
           "[*8*]",
           "[*110*]",
           "[*114*]"
          ]
         },
         {
          "Authors (col)": "Passalis N. [3]",
          "Authors (row)": "Tefas A. [3]",
          "Autocorrelation": 1,
          "ID": [
           "[*8*]",
           "[*110*]",
           "[*114*]"
          ]
         },
         {
          "Authors (col)": "Iosifidis A. [3]",
          "Authors (row)": "Tefas A. [3]",
          "Autocorrelation": 1,
          "ID": [
           "[*8*]",
           "[*110*]",
           "[*114*]"
          ]
         },
         {
          "Authors (col)": "Tefas A. [3]",
          "Authors (row)": "Tefas A. [3]",
          "Autocorrelation": 1,
          "ID": [
           "[*8*]",
           "[*110*]",
           "[*114*]"
          ]
         },
         {
          "Authors (col)": "Arévalo A. [3]",
          "Authors (row)": "Hernandez G. [3]",
          "Autocorrelation": 1,
          "ID": [
           "[*52*]",
           "[*94*]",
           "[*100*]"
          ]
         },
         {
          "Authors (col)": "Sandoval J. [3]",
          "Authors (row)": "Hernandez G. [3]",
          "Autocorrelation": 1,
          "ID": [
           "[*52*]",
           "[*94*]",
           "[*100*]"
          ]
         },
         {
          "Authors (col)": "Passalis N. [3]",
          "Authors (row)": "Kanniainen J. [3]",
          "Autocorrelation": 1,
          "ID": [
           "[*8*]",
           "[*110*]",
           "[*114*]"
          ]
         },
         {
          "Authors (col)": "Kanniainen J. [3]",
          "Authors (row)": "Kanniainen J. [3]",
          "Autocorrelation": 1,
          "ID": [
           "[*8*]",
           "[*110*]",
           "[*114*]"
          ]
         },
         {
          "Authors (col)": "Gabbouj M. [3]",
          "Authors (row)": "Kanniainen J. [3]",
          "Autocorrelation": 1,
          "ID": [
           "[*8*]",
           "[*110*]",
           "[*114*]"
          ]
         },
         {
          "Authors (col)": "Chen Y. [2]",
          "Authors (row)": "Chen Y. [2]",
          "Autocorrelation": 1,
          "ID": [
           "[*46*]",
           "[*66*]"
          ]
         },
         {
          "Authors (col)": "Borovykh A. [2]",
          "Authors (row)": "Borovykh A. [2]",
          "Autocorrelation": 1,
          "ID": [
           "[*18*]",
           "[*120*]"
          ]
         },
         {
          "Authors (col)": "Oosterlee C.W. [2]",
          "Authors (row)": "Borovykh A. [2]",
          "Autocorrelation": 1,
          "ID": [
           "[*18*]",
           "[*120*]"
          ]
         },
         {
          "Authors (col)": "Tsantekidis A. [2]",
          "Authors (row)": "Tsantekidis A. [2]",
          "Autocorrelation": 1,
          "ID": [
           "[*110*]",
           "[*114*]"
          ]
         },
         {
          "Authors (col)": "Xu L. [2]",
          "Authors (row)": "Xu L. [2]",
          "Autocorrelation": 1,
          "ID": [
           "[*117*]",
           "[*119*]"
          ]
         },
         {
          "Authors (col)": "Xu J. [2]",
          "Authors (row)": "Xu J. [2]",
          "Autocorrelation": 1,
          "ID": [
           "[*91*]",
           "[*98*]"
          ]
         },
         {
          "Authors (col)": "Tseng V.S. [2]",
          "Authors (row)": "Tseng V.S. [2]",
          "Autocorrelation": 1,
          "ID": [
           "[*19*]",
           "[*42*]"
          ]
         },
         {
          "Authors (col)": "Liu C.-L. [2]",
          "Authors (row)": "Tseng V.S. [2]",
          "Autocorrelation": 1,
          "ID": [
           "[*19*]",
           "[*42*]"
          ]
         },
         {
          "Authors (col)": "Dash P.K. [2]",
          "Authors (row)": "Dash P.K. [2]",
          "Autocorrelation": 1,
          "ID": [
           "[*112*]",
           "[*130*]"
          ]
         },
         {
          "Authors (col)": "Lin X. [2]",
          "Authors (row)": "Lin X. [2]",
          "Autocorrelation": 1,
          "ID": [
           "[*135*]",
           "[*143*]"
          ]
         },
         {
          "Authors (col)": "Niño J. [2]",
          "Authors (row)": "Niño J. [2]",
          "Autocorrelation": 1,
          "ID": [
           "[*52*]",
           "[*94*]"
          ]
         },
         {
          "Authors (col)": "Leon D. [2]",
          "Authors (row)": "Niño J. [2]",
          "Autocorrelation": 1,
          "ID": [
           "[*52*]",
           "[*94*]"
          ]
         },
         {
          "Authors (col)": "Fu X. [2]",
          "Authors (row)": "Fu X. [2]",
          "Autocorrelation": 1,
          "ID": [
           "[*27*]",
           "[*34*]"
          ]
         },
         {
          "Authors (col)": "Borovykh A. [2]",
          "Authors (row)": "Oosterlee C.W. [2]",
          "Autocorrelation": 1,
          "ID": [
           "[*18*]",
           "[*120*]"
          ]
         },
         {
          "Authors (col)": "Zhu Y. [3]",
          "Authors (row)": "Zhu Y. [3]",
          "Autocorrelation": 1,
          "ID": [
           "[*78*]",
           "[*88*]",
           "[*89*]"
          ]
         },
         {
          "Authors (col)": "Oosterlee C.W. [2]",
          "Authors (row)": "Oosterlee C.W. [2]",
          "Autocorrelation": 1,
          "ID": [
           "[*18*]",
           "[*120*]"
          ]
         },
         {
          "Authors (col)": "Bu H. [2]",
          "Authors (row)": "Bu H. [2]",
          "Autocorrelation": 1,
          "ID": [
           "[*66*]",
           "[*115*]"
          ]
         },
         {
          "Authors (col)": "Niño J. [2]",
          "Authors (row)": "Leon D. [2]",
          "Autocorrelation": 1,
          "ID": [
           "[*52*]",
           "[*94*]"
          ]
         },
         {
          "Authors (col)": "Leon D. [2]",
          "Authors (row)": "Leon D. [2]",
          "Autocorrelation": 1,
          "ID": [
           "[*52*]",
           "[*94*]"
          ]
         },
         {
          "Authors (col)": "Tseng V.S. [2]",
          "Authors (row)": "Liu C.-L. [2]",
          "Autocorrelation": 1,
          "ID": [
           "[*19*]",
           "[*42*]"
          ]
         },
         {
          "Authors (col)": "Liu C.-L. [2]",
          "Authors (row)": "Liu C.-L. [2]",
          "Autocorrelation": 1,
          "ID": [
           "[*19*]",
           "[*42*]"
          ]
         },
         {
          "Authors (col)": "Li Y. [2]",
          "Authors (row)": "Li Y. [2]",
          "Autocorrelation": 1,
          "ID": [
           "[*40*]",
           "[*97*]"
          ]
         },
         {
          "Authors (col)": "Gabbouj M. [3]",
          "Authors (row)": "Gabbouj M. [3]",
          "Autocorrelation": 1,
          "ID": [
           "[*8*]",
           "[*110*]",
           "[*114*]"
          ]
         },
         {
          "Authors (col)": "Kanniainen J. [3]",
          "Authors (row)": "Gabbouj M. [3]",
          "Autocorrelation": 1,
          "ID": [
           "[*8*]",
           "[*110*]",
           "[*114*]"
          ]
         },
         {
          "Authors (col)": "Passalis N. [3]",
          "Authors (row)": "Gabbouj M. [3]",
          "Autocorrelation": 1,
          "ID": [
           "[*8*]",
           "[*110*]",
           "[*114*]"
          ]
         },
         {
          "Authors (col)": "Iosifidis A. [3]",
          "Authors (row)": "Gabbouj M. [3]",
          "Autocorrelation": 1,
          "ID": [
           "[*8*]",
           "[*110*]",
           "[*114*]"
          ]
         },
         {
          "Authors (col)": "Tefas A. [3]",
          "Authors (row)": "Gabbouj M. [3]",
          "Autocorrelation": 1,
          "ID": [
           "[*8*]",
           "[*110*]",
           "[*114*]"
          ]
         },
         {
          "Authors (col)": "Hernandez G. [3]",
          "Authors (row)": "Hernandez G. [3]",
          "Autocorrelation": 1,
          "ID": [
           "[*52*]",
           "[*94*]",
           "[*100*]"
          ]
         },
         {
          "Authors (col)": "Chen J. [2]",
          "Authors (row)": "Chen J. [2]",
          "Autocorrelation": 1,
          "ID": [
           "[*34*]",
           "[*89*]"
          ]
         },
         {
          "Authors (col)": "Zhang G. [4]",
          "Authors (row)": "Zhang G. [4]",
          "Autocorrelation": 1,
          "ID": [
           "[*27*]",
           "[*78*]",
           "[*117*]",
           "[*119*]"
          ]
         },
         {
          "Authors (col)": "Hernandez G. [3]",
          "Authors (row)": "Niño J. [2]",
          "Autocorrelation": 0.8164965809277261,
          "ID": [
           "[*52*]",
           "[*94*]"
          ]
         },
         {
          "Authors (col)": "Iosifidis A. [3]",
          "Authors (row)": "Tsantekidis A. [2]",
          "Autocorrelation": 0.8164965809277261,
          "ID": [
           "[*110*]",
           "[*114*]"
          ]
         },
         {
          "Authors (col)": "Niño J. [2]",
          "Authors (row)": "Sandoval J. [3]",
          "Autocorrelation": 0.8164965809277261,
          "ID": [
           "[*52*]",
           "[*94*]"
          ]
         },
         {
          "Authors (col)": "Wu J. [3]",
          "Authors (row)": "Bu H. [2]",
          "Autocorrelation": 0.8164965809277261,
          "ID": [
           "[*66*]",
           "[*115*]"
          ]
         },
         {
          "Authors (col)": "Bu H. [2]",
          "Authors (row)": "Wu J. [3]",
          "Autocorrelation": 0.8164965809277261,
          "ID": [
           "[*66*]",
           "[*115*]"
          ]
         },
         {
          "Authors (col)": "Leon D. [2]",
          "Authors (row)": "Arévalo A. [3]",
          "Autocorrelation": 0.8164965809277261,
          "ID": [
           "[*52*]",
           "[*94*]"
          ]
         },
         {
          "Authors (col)": "Tsantekidis A. [2]",
          "Authors (row)": "Iosifidis A. [3]",
          "Autocorrelation": 0.8164965809277261,
          "ID": [
           "[*110*]",
           "[*114*]"
          ]
         },
         {
          "Authors (col)": "Leon D. [2]",
          "Authors (row)": "Hernandez G. [3]",
          "Autocorrelation": 0.8164965809277261,
          "ID": [
           "[*52*]",
           "[*94*]"
          ]
         },
         {
          "Authors (col)": "Tsantekidis A. [2]",
          "Authors (row)": "Kanniainen J. [3]",
          "Autocorrelation": 0.8164965809277261,
          "ID": [
           "[*110*]",
           "[*114*]"
          ]
         },
         {
          "Authors (col)": "Tefas A. [3]",
          "Authors (row)": "Tsantekidis A. [2]",
          "Autocorrelation": 0.8164965809277261,
          "ID": [
           "[*110*]",
           "[*114*]"
          ]
         },
         {
          "Authors (col)": "Niño J. [2]",
          "Authors (row)": "Hernandez G. [3]",
          "Autocorrelation": 0.8164965809277261,
          "ID": [
           "[*52*]",
           "[*94*]"
          ]
         },
         {
          "Authors (col)": "Tsantekidis A. [2]",
          "Authors (row)": "Passalis N. [3]",
          "Autocorrelation": 0.8164965809277261,
          "ID": [
           "[*110*]",
           "[*114*]"
          ]
         },
         {
          "Authors (col)": "Tsantekidis A. [2]",
          "Authors (row)": "Tefas A. [3]",
          "Autocorrelation": 0.8164965809277261,
          "ID": [
           "[*110*]",
           "[*114*]"
          ]
         },
         {
          "Authors (col)": "Leon D. [2]",
          "Authors (row)": "Sandoval J. [3]",
          "Autocorrelation": 0.8164965809277261,
          "ID": [
           "[*52*]",
           "[*94*]"
          ]
         },
         {
          "Authors (col)": "Tsantekidis A. [2]",
          "Authors (row)": "Gabbouj M. [3]",
          "Autocorrelation": 0.8164965809277261,
          "ID": [
           "[*110*]",
           "[*114*]"
          ]
         },
         {
          "Authors (col)": "Passalis N. [3]",
          "Authors (row)": "Tsantekidis A. [2]",
          "Autocorrelation": 0.8164965809277261,
          "ID": [
           "[*110*]",
           "[*114*]"
          ]
         },
         {
          "Authors (col)": "Kanniainen J. [3]",
          "Authors (row)": "Tsantekidis A. [2]",
          "Autocorrelation": 0.8164965809277261,
          "ID": [
           "[*110*]",
           "[*114*]"
          ]
         },
         {
          "Authors (col)": "Hernandez G. [3]",
          "Authors (row)": "Leon D. [2]",
          "Autocorrelation": 0.8164965809277261,
          "ID": [
           "[*52*]",
           "[*94*]"
          ]
         },
         {
          "Authors (col)": "Gabbouj M. [3]",
          "Authors (row)": "Tsantekidis A. [2]",
          "Autocorrelation": 0.8164965809277261,
          "ID": [
           "[*110*]",
           "[*114*]"
          ]
         },
         {
          "Authors (col)": "Sandoval J. [3]",
          "Authors (row)": "Leon D. [2]",
          "Autocorrelation": 0.8164965809277261,
          "ID": [
           "[*52*]",
           "[*94*]"
          ]
         },
         {
          "Authors (col)": "Arévalo A. [3]",
          "Authors (row)": "Niño J. [2]",
          "Autocorrelation": 0.8164965809277261,
          "ID": [
           "[*52*]",
           "[*94*]"
          ]
         },
         {
          "Authors (col)": "Arévalo A. [3]",
          "Authors (row)": "Leon D. [2]",
          "Autocorrelation": 0.8164965809277261,
          "ID": [
           "[*52*]",
           "[*94*]"
          ]
         },
         {
          "Authors (col)": "Sandoval J. [3]",
          "Authors (row)": "Niño J. [2]",
          "Autocorrelation": 0.8164965809277261,
          "ID": [
           "[*52*]",
           "[*94*]"
          ]
         },
         {
          "Authors (col)": "Niño J. [2]",
          "Authors (row)": "Arévalo A. [3]",
          "Autocorrelation": 0.8164965809277261,
          "ID": [
           "[*52*]",
           "[*94*]"
          ]
         },
         {
          "Authors (col)": "Xu L. [2]",
          "Authors (row)": "Zhang G. [4]",
          "Autocorrelation": 0.7071067811865475,
          "ID": [
           "[*117*]",
           "[*119*]"
          ]
         },
         {
          "Authors (col)": "Zhang G. [4]",
          "Authors (row)": "Xu L. [2]",
          "Autocorrelation": 0.7071067811865475,
          "ID": [
           "[*117*]",
           "[*119*]"
          ]
         },
         {
          "Authors (col)": "Chen Y. [2]",
          "Authors (row)": "Bu H. [2]",
          "Autocorrelation": 0.5,
          "ID": [
           "[*66*]"
          ]
         },
         {
          "Authors (col)": "Chen J. [2]",
          "Authors (row)": "Fu X. [2]",
          "Autocorrelation": 0.5,
          "ID": [
           "[*34*]"
          ]
         },
         {
          "Authors (col)": "Fu X. [2]",
          "Authors (row)": "Chen J. [2]",
          "Autocorrelation": 0.5,
          "ID": [
           "[*34*]"
          ]
         },
         {
          "Authors (col)": "Bu H. [2]",
          "Authors (row)": "Chen Y. [2]",
          "Autocorrelation": 0.5,
          "ID": [
           "[*66*]"
          ]
         },
         {
          "Authors (col)": "Chen J. [2]",
          "Authors (row)": "Wu J. [3]",
          "Autocorrelation": 0.4082482904638631,
          "ID": [
           "[*34*]"
          ]
         },
         {
          "Authors (col)": "Chen J. [2]",
          "Authors (row)": "Zhu Y. [3]",
          "Autocorrelation": 0.4082482904638631,
          "ID": [
           "[*89*]"
          ]
         },
         {
          "Authors (col)": "Chen Y. [2]",
          "Authors (row)": "Wu J. [3]",
          "Autocorrelation": 0.4082482904638631,
          "ID": [
           "[*66*]"
          ]
         },
         {
          "Authors (col)": "Wu J. [3]",
          "Authors (row)": "Fu X. [2]",
          "Autocorrelation": 0.4082482904638631,
          "ID": [
           "[*34*]"
          ]
         },
         {
          "Authors (col)": "Wu J. [3]",
          "Authors (row)": "Chen Y. [2]",
          "Autocorrelation": 0.4082482904638631,
          "ID": [
           "[*66*]"
          ]
         },
         {
          "Authors (col)": "Zhu Y. [3]",
          "Authors (row)": "Chen J. [2]",
          "Autocorrelation": 0.4082482904638631,
          "ID": [
           "[*89*]"
          ]
         },
         {
          "Authors (col)": "Fu X. [2]",
          "Authors (row)": "Wu J. [3]",
          "Autocorrelation": 0.4082482904638631,
          "ID": [
           "[*34*]"
          ]
         },
         {
          "Authors (col)": "Wu J. [3]",
          "Authors (row)": "Chen J. [2]",
          "Autocorrelation": 0.4082482904638631,
          "ID": [
           "[*34*]"
          ]
         },
         {
          "Authors (col)": "Zhang G. [4]",
          "Authors (row)": "Fu X. [2]",
          "Autocorrelation": 0.35355339059327373,
          "ID": [
           "[*27*]"
          ]
         },
         {
          "Authors (col)": "Fu X. [2]",
          "Authors (row)": "Zhang G. [4]",
          "Autocorrelation": 0.35355339059327373,
          "ID": [
           "[*27*]"
          ]
         },
         {
          "Authors (col)": "Zhu Y. [3]",
          "Authors (row)": "Zhang G. [4]",
          "Autocorrelation": 0.2886751345948129,
          "ID": [
           "[*78*]"
          ]
         },
         {
          "Authors (col)": "Zhang G. [4]",
          "Authors (row)": "Zhu Y. [3]",
          "Autocorrelation": 0.2886751345948129,
          "ID": [
           "[*78*]"
          ]
         },
         {
          "Authors (col)": "Wang J. [7]",
          "Authors (row)": "Fu X. [2]",
          "Autocorrelation": 0,
          "ID": null
         },
         {
          "Authors (col)": "Dash P.K. [2]",
          "Authors (row)": "Fu X. [2]",
          "Autocorrelation": 0,
          "ID": null
         },
         {
          "Authors (col)": "Tsantekidis A. [2]",
          "Authors (row)": "Fu X. [2]",
          "Autocorrelation": 0,
          "ID": null
         },
         {
          "Authors (col)": "Xu J. [2]",
          "Authors (row)": "Fu X. [2]",
          "Autocorrelation": 0,
          "ID": null
         },
         {
          "Authors (col)": "Chen J. [2]",
          "Authors (row)": "Chen Y. [2]",
          "Autocorrelation": 0,
          "ID": null
         },
         {
          "Authors (col)": "Borovykh A. [2]",
          "Authors (row)": "Fu X. [2]",
          "Autocorrelation": 0,
          "ID": null
         },
         {
          "Authors (col)": "Yan X. [3]",
          "Authors (row)": "Fu X. [2]",
          "Autocorrelation": 0,
          "ID": null
         },
         {
          "Authors (col)": "Hernandez G. [3]",
          "Authors (row)": "Fu X. [2]",
          "Autocorrelation": 0,
          "ID": null
         },
         {
          "Authors (col)": "Tseng V.S. [2]",
          "Authors (row)": "Fu X. [2]",
          "Autocorrelation": 0,
          "ID": null
         },
         {
          "Authors (col)": "Wang J. [7]",
          "Authors (row)": "Niño J. [2]",
          "Autocorrelation": 0,
          "ID": null
         },
         {
          "Authors (col)": "Xu L. [2]",
          "Authors (row)": "Fu X. [2]",
          "Autocorrelation": 0,
          "ID": null
         },
         {
          "Authors (col)": "Kanniainen J. [3]",
          "Authors (row)": "Fu X. [2]",
          "Autocorrelation": 0,
          "ID": null
         },
         {
          "Authors (col)": "Tefas A. [3]",
          "Authors (row)": "Fu X. [2]",
          "Autocorrelation": 0,
          "ID": null
         },
         {
          "Authors (col)": "Sandoval J. [3]",
          "Authors (row)": "Fu X. [2]",
          "Autocorrelation": 0,
          "ID": null
         },
         {
          "Authors (col)": "Passalis N. [3]",
          "Authors (row)": "Fu X. [2]",
          "Autocorrelation": 0,
          "ID": null
         },
         {
          "Authors (col)": "Gabbouj M. [3]",
          "Authors (row)": "Fu X. [2]",
          "Autocorrelation": 0,
          "ID": null
         },
         {
          "Authors (col)": "Arévalo A. [3]",
          "Authors (row)": "Fu X. [2]",
          "Autocorrelation": 0,
          "ID": null
         },
         {
          "Authors (col)": "Li Y. [2]",
          "Authors (row)": "Fu X. [2]",
          "Autocorrelation": 0,
          "ID": null
         },
         {
          "Authors (col)": "Liu C.-L. [2]",
          "Authors (row)": "Fu X. [2]",
          "Autocorrelation": 0,
          "ID": null
         },
         {
          "Authors (col)": "Zhang G. [4]",
          "Authors (row)": "Niño J. [2]",
          "Autocorrelation": 0,
          "ID": null
         },
         {
          "Authors (col)": "Bu H. [2]",
          "Authors (row)": "Fu X. [2]",
          "Autocorrelation": 0,
          "ID": null
         },
         {
          "Authors (col)": "Oosterlee C.W. [2]",
          "Authors (row)": "Fu X. [2]",
          "Autocorrelation": 0,
          "ID": null
         },
         {
          "Authors (col)": "Chen Y. [2]",
          "Authors (row)": "Fu X. [2]",
          "Autocorrelation": 0,
          "ID": null
         },
         {
          "Authors (col)": "Zhang Y. [3]",
          "Authors (row)": "Fu X. [2]",
          "Autocorrelation": 0,
          "ID": null
         },
         {
          "Authors (col)": "Gabbouj M. [3]",
          "Authors (row)": "Wang J. [7]",
          "Autocorrelation": 0,
          "ID": null
         },
         {
          "Authors (col)": "Niño J. [2]",
          "Authors (row)": "Fu X. [2]",
          "Autocorrelation": 0,
          "ID": null
         },
         {
          "Authors (col)": "Iosifidis A. [3]",
          "Authors (row)": "Fu X. [2]",
          "Autocorrelation": 0,
          "ID": null
         },
         {
          "Authors (col)": "Zhu Y. [3]",
          "Authors (row)": "Fu X. [2]",
          "Autocorrelation": 0,
          "ID": null
         },
         {
          "Authors (col)": "Lin X. [2]",
          "Authors (row)": "Fu X. [2]",
          "Autocorrelation": 0,
          "ID": null
         },
         {
          "Authors (col)": "Leon D. [2]",
          "Authors (row)": "Fu X. [2]",
          "Autocorrelation": 0,
          "ID": null
         },
         {
          "Authors (col)": "Zhang G. [4]",
          "Authors (row)": "Yan X. [3]",
          "Autocorrelation": 0,
          "ID": null
         },
         {
          "Authors (col)": "Yan X. [3]",
          "Authors (row)": "Niño J. [2]",
          "Autocorrelation": 0,
          "ID": null
         },
         {
          "Authors (col)": "Gabbouj M. [3]",
          "Authors (row)": "Lin X. [2]",
          "Autocorrelation": 0,
          "ID": null
         },
         {
          "Authors (col)": "Hernandez G. [3]",
          "Authors (row)": "Lin X. [2]",
          "Autocorrelation": 0,
          "ID": null
         },
         {
          "Authors (col)": "Tefas A. [3]",
          "Authors (row)": "Lin X. [2]",
          "Autocorrelation": 0,
          "ID": null
         },
         {
          "Authors (col)": "Sandoval J. [3]",
          "Authors (row)": "Lin X. [2]",
          "Autocorrelation": 0,
          "ID": null
         },
         {
          "Authors (col)": "Iosifidis A. [3]",
          "Authors (row)": "Lin X. [2]",
          "Autocorrelation": 0,
          "ID": null
         },
         {
          "Authors (col)": "Zhang Y. [3]",
          "Authors (row)": "Lin X. [2]",
          "Autocorrelation": 0,
          "ID": null
         },
         {
          "Authors (col)": "Arévalo A. [3]",
          "Authors (row)": "Lin X. [2]",
          "Autocorrelation": 0,
          "ID": null
         },
         {
          "Authors (col)": "Wu J. [3]",
          "Authors (row)": "Lin X. [2]",
          "Autocorrelation": 0,
          "ID": null
         },
         {
          "Authors (col)": "Passalis N. [3]",
          "Authors (row)": "Lin X. [2]",
          "Autocorrelation": 0,
          "ID": null
         },
         {
          "Authors (col)": "Kanniainen J. [3]",
          "Authors (row)": "Lin X. [2]",
          "Autocorrelation": 0,
          "ID": null
         },
         {
          "Authors (col)": "Zhu Y. [3]",
          "Authors (row)": "Lin X. [2]",
          "Autocorrelation": 0,
          "ID": null
         },
         {
          "Authors (col)": "Li Y. [2]",
          "Authors (row)": "Lin X. [2]",
          "Autocorrelation": 0,
          "ID": null
         },
         {
          "Authors (col)": "Zhang G. [4]",
          "Authors (row)": "Lin X. [2]",
          "Autocorrelation": 0,
          "ID": null
         },
         {
          "Authors (col)": "Liu C.-L. [2]",
          "Authors (row)": "Lin X. [2]",
          "Autocorrelation": 0,
          "ID": null
         },
         {
          "Authors (col)": "Leon D. [2]",
          "Authors (row)": "Lin X. [2]",
          "Autocorrelation": 0,
          "ID": null
         },
         {
          "Authors (col)": "Bu H. [2]",
          "Authors (row)": "Lin X. [2]",
          "Autocorrelation": 0,
          "ID": null
         },
         {
          "Authors (col)": "Oosterlee C.W. [2]",
          "Authors (row)": "Lin X. [2]",
          "Autocorrelation": 0,
          "ID": null
         },
         {
          "Authors (col)": "Chen Y. [2]",
          "Authors (row)": "Lin X. [2]",
          "Autocorrelation": 0,
          "ID": null
         },
         {
          "Authors (col)": "Fu X. [2]",
          "Authors (row)": "Lin X. [2]",
          "Autocorrelation": 0,
          "ID": null
         },
         {
          "Authors (col)": "Niño J. [2]",
          "Authors (row)": "Lin X. [2]",
          "Autocorrelation": 0,
          "ID": null
         },
         {
          "Authors (col)": "Passalis N. [3]",
          "Authors (row)": "Wang J. [7]",
          "Autocorrelation": 0,
          "ID": null
         },
         {
          "Authors (col)": "Dash P.K. [2]",
          "Authors (row)": "Lin X. [2]",
          "Autocorrelation": 0,
          "ID": null
         },
         {
          "Authors (col)": "Tseng V.S. [2]",
          "Authors (row)": "Lin X. [2]",
          "Autocorrelation": 0,
          "ID": null
         },
         {
          "Authors (col)": "Yan X. [3]",
          "Authors (row)": "Lin X. [2]",
          "Autocorrelation": 0,
          "ID": null
         },
         {
          "Authors (col)": "Wang J. [7]",
          "Authors (row)": "Lin X. [2]",
          "Autocorrelation": 0,
          "ID": null
         },
         {
          "Authors (col)": "Tefas A. [3]",
          "Authors (row)": "Niño J. [2]",
          "Autocorrelation": 0,
          "ID": null
         },
         {
          "Authors (col)": "Bu H. [2]",
          "Authors (row)": "Niño J. [2]",
          "Autocorrelation": 0,
          "ID": null
         },
         {
          "Authors (col)": "Iosifidis A. [3]",
          "Authors (row)": "Niño J. [2]",
          "Autocorrelation": 0,
          "ID": null
         },
         {
          "Authors (col)": "Zhang Y. [3]",
          "Authors (row)": "Niño J. [2]",
          "Autocorrelation": 0,
          "ID": null
         },
         {
          "Authors (col)": "Wu J. [3]",
          "Authors (row)": "Niño J. [2]",
          "Autocorrelation": 0,
          "ID": null
         },
         {
          "Authors (col)": "Passalis N. [3]",
          "Authors (row)": "Niño J. [2]",
          "Autocorrelation": 0,
          "ID": null
         },
         {
          "Authors (col)": "Borovykh A. [2]",
          "Authors (row)": "Chen Y. [2]",
          "Autocorrelation": 0,
          "ID": null
         },
         {
          "Authors (col)": "Zhu Y. [3]",
          "Authors (row)": "Niño J. [2]",
          "Autocorrelation": 0,
          "ID": null
         },
         {
          "Authors (col)": "Gabbouj M. [3]",
          "Authors (row)": "Niño J. [2]",
          "Autocorrelation": 0,
          "ID": null
         },
         {
          "Authors (col)": "Li Y. [2]",
          "Authors (row)": "Niño J. [2]",
          "Autocorrelation": 0,
          "ID": null
         },
         {
          "Authors (col)": "Liu C.-L. [2]",
          "Authors (row)": "Niño J. [2]",
          "Autocorrelation": 0,
          "ID": null
         },
         {
          "Authors (col)": "Zhu Y. [3]",
          "Authors (row)": "Wang J. [7]",
          "Autocorrelation": 0,
          "ID": null
         },
         {
          "Authors (col)": "Oosterlee C.W. [2]",
          "Authors (row)": "Niño J. [2]",
          "Autocorrelation": 0,
          "ID": null
         },
         {
          "Authors (col)": "Chen J. [2]",
          "Authors (row)": "Niño J. [2]",
          "Autocorrelation": 0,
          "ID": null
         },
         {
          "Authors (col)": "Chen Y. [2]",
          "Authors (row)": "Niño J. [2]",
          "Autocorrelation": 0,
          "ID": null
         },
         {
          "Authors (col)": "Fu X. [2]",
          "Authors (row)": "Niño J. [2]",
          "Autocorrelation": 0,
          "ID": null
         },
         {
          "Authors (col)": "Kanniainen J. [3]",
          "Authors (row)": "Wang J. [7]",
          "Autocorrelation": 0,
          "ID": null
         },
         {
          "Authors (col)": "Lin X. [2]",
          "Authors (row)": "Niño J. [2]",
          "Autocorrelation": 0,
          "ID": null
         },
         {
          "Authors (col)": "Dash P.K. [2]",
          "Authors (row)": "Niño J. [2]",
          "Autocorrelation": 0,
          "ID": null
         },
         {
          "Authors (col)": "Tseng V.S. [2]",
          "Authors (row)": "Niño J. [2]",
          "Autocorrelation": 0,
          "ID": null
         },
         {
          "Authors (col)": "Xu J. [2]",
          "Authors (row)": "Niño J. [2]",
          "Autocorrelation": 0,
          "ID": null
         },
         {
          "Authors (col)": "Xu L. [2]",
          "Authors (row)": "Niño J. [2]",
          "Autocorrelation": 0,
          "ID": null
         },
         {
          "Authors (col)": "Tsantekidis A. [2]",
          "Authors (row)": "Niño J. [2]",
          "Autocorrelation": 0,
          "ID": null
         },
         {
          "Authors (col)": "Borovykh A. [2]",
          "Authors (row)": "Niño J. [2]",
          "Autocorrelation": 0,
          "ID": null
         },
         {
          "Authors (col)": "Kanniainen J. [3]",
          "Authors (row)": "Niño J. [2]",
          "Autocorrelation": 0,
          "ID": null
         },
         {
          "Authors (col)": "Leon D. [2]",
          "Authors (row)": "Chen Y. [2]",
          "Autocorrelation": 0,
          "ID": null
         },
         {
          "Authors (col)": "Tsantekidis A. [2]",
          "Authors (row)": "Chen Y. [2]",
          "Autocorrelation": 0,
          "ID": null
         },
         {
          "Authors (col)": "Arévalo A. [3]",
          "Authors (row)": "Bu H. [2]",
          "Autocorrelation": 0,
          "ID": null
         },
         {
          "Authors (col)": "Kanniainen J. [3]",
          "Authors (row)": "Bu H. [2]",
          "Autocorrelation": 0,
          "ID": null
         },
         {
          "Authors (col)": "Zhu Y. [3]",
          "Authors (row)": "Bu H. [2]",
          "Autocorrelation": 0,
          "ID": null
         },
         {
          "Authors (col)": "Gabbouj M. [3]",
          "Authors (row)": "Bu H. [2]",
          "Autocorrelation": 0,
          "ID": null
         },
         {
          "Authors (col)": "Li Y. [2]",
          "Authors (row)": "Bu H. [2]",
          "Autocorrelation": 0,
          "ID": null
         },
         {
          "Authors (col)": "Liu C.-L. [2]",
          "Authors (row)": "Bu H. [2]",
          "Autocorrelation": 0,
          "ID": null
         },
         {
          "Authors (col)": "Leon D. [2]",
          "Authors (row)": "Bu H. [2]",
          "Autocorrelation": 0,
          "ID": null
         },
         {
          "Authors (col)": "Bu H. [2]",
          "Authors (row)": "Wang J. [7]",
          "Autocorrelation": 0,
          "ID": null
         },
         {
          "Authors (col)": "Oosterlee C.W. [2]",
          "Authors (row)": "Bu H. [2]",
          "Autocorrelation": 0,
          "ID": null
         },
         {
          "Authors (col)": "Fu X. [2]",
          "Authors (row)": "Bu H. [2]",
          "Autocorrelation": 0,
          "ID": null
         },
         {
          "Authors (col)": "Niño J. [2]",
          "Authors (row)": "Bu H. [2]",
          "Autocorrelation": 0,
          "ID": null
         },
         {
          "Authors (col)": "Lin X. [2]",
          "Authors (row)": "Bu H. [2]",
          "Autocorrelation": 0,
          "ID": null
         },
         {
          "Authors (col)": "Dash P.K. [2]",
          "Authors (row)": "Bu H. [2]",
          "Autocorrelation": 0,
          "ID": null
         },
         {
          "Authors (col)": "Tseng V.S. [2]",
          "Authors (row)": "Bu H. [2]",
          "Autocorrelation": 0,
          "ID": null
         },
         {
          "Authors (col)": "Xu J. [2]",
          "Authors (row)": "Bu H. [2]",
          "Autocorrelation": 0,
          "ID": null
         },
         {
          "Authors (col)": "Xu L. [2]",
          "Authors (row)": "Bu H. [2]",
          "Autocorrelation": 0,
          "ID": null
         },
         {
          "Authors (col)": "Tsantekidis A. [2]",
          "Authors (row)": "Bu H. [2]",
          "Autocorrelation": 0,
          "ID": null
         },
         {
          "Authors (col)": "Borovykh A. [2]",
          "Authors (row)": "Bu H. [2]",
          "Autocorrelation": 0,
          "ID": null
         },
         {
          "Authors (col)": "Chen J. [2]",
          "Authors (row)": "Bu H. [2]",
          "Autocorrelation": 0,
          "ID": null
         },
         {
          "Authors (col)": "Wang J. [7]",
          "Authors (row)": "Oosterlee C.W. [2]",
          "Autocorrelation": 0,
          "ID": null
         },
         {
          "Authors (col)": "Zhang G. [4]",
          "Authors (row)": "Oosterlee C.W. [2]",
          "Autocorrelation": 0,
          "ID": null
         },
         {
          "Authors (col)": "Yan X. [3]",
          "Authors (row)": "Oosterlee C.W. [2]",
          "Autocorrelation": 0,
          "ID": null
         },
         {
          "Authors (col)": "Passalis N. [3]",
          "Authors (row)": "Bu H. [2]",
          "Autocorrelation": 0,
          "ID": null
         },
         {
          "Authors (col)": "Zhang Y. [3]",
          "Authors (row)": "Bu H. [2]",
          "Autocorrelation": 0,
          "ID": null
         },
         {
          "Authors (col)": "Tefas A. [3]",
          "Authors (row)": "Oosterlee C.W. [2]",
          "Autocorrelation": 0,
          "ID": null
         },
         {
          "Authors (col)": "Iosifidis A. [3]",
          "Authors (row)": "Bu H. [2]",
          "Autocorrelation": 0,
          "ID": null
         },
         {
          "Authors (col)": "Liu C.-L. [2]",
          "Authors (row)": "Leon D. [2]",
          "Autocorrelation": 0,
          "ID": null
         },
         {
          "Authors (col)": "Chen Y. [2]",
          "Authors (row)": "Wang J. [7]",
          "Autocorrelation": 0,
          "ID": null
         },
         {
          "Authors (col)": "Bu H. [2]",
          "Authors (row)": "Leon D. [2]",
          "Autocorrelation": 0,
          "ID": null
         },
         {
          "Authors (col)": "Oosterlee C.W. [2]",
          "Authors (row)": "Leon D. [2]",
          "Autocorrelation": 0,
          "ID": null
         },
         {
          "Authors (col)": "Chen Y. [2]",
          "Authors (row)": "Leon D. [2]",
          "Autocorrelation": 0,
          "ID": null
         },
         {
          "Authors (col)": "Fu X. [2]",
          "Authors (row)": "Leon D. [2]",
          "Autocorrelation": 0,
          "ID": null
         },
         {
          "Authors (col)": "Oosterlee C.W. [2]",
          "Authors (row)": "Wang J. [7]",
          "Autocorrelation": 0,
          "ID": null
         },
         {
          "Authors (col)": "Lin X. [2]",
          "Authors (row)": "Leon D. [2]",
          "Autocorrelation": 0,
          "ID": null
         },
         {
          "Authors (col)": "Dash P.K. [2]",
          "Authors (row)": "Leon D. [2]",
          "Autocorrelation": 0,
          "ID": null
         },
         {
          "Authors (col)": "Tseng V.S. [2]",
          "Authors (row)": "Leon D. [2]",
          "Autocorrelation": 0,
          "ID": null
         },
         {
          "Authors (col)": "Xu J. [2]",
          "Authors (row)": "Leon D. [2]",
          "Autocorrelation": 0,
          "ID": null
         },
         {
          "Authors (col)": "Xu L. [2]",
          "Authors (row)": "Leon D. [2]",
          "Autocorrelation": 0,
          "ID": null
         },
         {
          "Authors (col)": "Tsantekidis A. [2]",
          "Authors (row)": "Leon D. [2]",
          "Autocorrelation": 0,
          "ID": null
         },
         {
          "Authors (col)": "Borovykh A. [2]",
          "Authors (row)": "Leon D. [2]",
          "Autocorrelation": 0,
          "ID": null
         },
         {
          "Authors (col)": "Chen J. [2]",
          "Authors (row)": "Leon D. [2]",
          "Autocorrelation": 0,
          "ID": null
         },
         {
          "Authors (col)": "Wang J. [7]",
          "Authors (row)": "Bu H. [2]",
          "Autocorrelation": 0,
          "ID": null
         },
         {
          "Authors (col)": "Zhang G. [4]",
          "Authors (row)": "Bu H. [2]",
          "Autocorrelation": 0,
          "ID": null
         },
         {
          "Authors (col)": "Yan X. [3]",
          "Authors (row)": "Bu H. [2]",
          "Autocorrelation": 0,
          "ID": null
         },
         {
          "Authors (col)": "Hernandez G. [3]",
          "Authors (row)": "Bu H. [2]",
          "Autocorrelation": 0,
          "ID": null
         },
         {
          "Authors (col)": "Tefas A. [3]",
          "Authors (row)": "Bu H. [2]",
          "Autocorrelation": 0,
          "ID": null
         },
         {
          "Authors (col)": "Sandoval J. [3]",
          "Authors (row)": "Bu H. [2]",
          "Autocorrelation": 0,
          "ID": null
         },
         {
          "Authors (col)": "Hernandez G. [3]",
          "Authors (row)": "Oosterlee C.W. [2]",
          "Autocorrelation": 0,
          "ID": null
         },
         {
          "Authors (col)": "Sandoval J. [3]",
          "Authors (row)": "Oosterlee C.W. [2]",
          "Autocorrelation": 0,
          "ID": null
         },
         {
          "Authors (col)": "Xu L. [2]",
          "Authors (row)": "Chen Y. [2]",
          "Autocorrelation": 0,
          "ID": null
         },
         {
          "Authors (col)": "Wang J. [7]",
          "Authors (row)": "Chen Y. [2]",
          "Autocorrelation": 0,
          "ID": null
         },
         {
          "Authors (col)": "Yan X. [3]",
          "Authors (row)": "Chen Y. [2]",
          "Autocorrelation": 0,
          "ID": null
         },
         {
          "Authors (col)": "Hernandez G. [3]",
          "Authors (row)": "Chen Y. [2]",
          "Autocorrelation": 0,
          "ID": null
         },
         {
          "Authors (col)": "Tefas A. [3]",
          "Authors (row)": "Chen Y. [2]",
          "Autocorrelation": 0,
          "ID": null
         },
         {
          "Authors (col)": "Sandoval J. [3]",
          "Authors (row)": "Chen Y. [2]",
          "Autocorrelation": 0,
          "ID": null
         },
         {
          "Authors (col)": "Iosifidis A. [3]",
          "Authors (row)": "Chen Y. [2]",
          "Autocorrelation": 0,
          "ID": null
         },
         {
          "Authors (col)": "Zhang Y. [3]",
          "Authors (row)": "Chen Y. [2]",
          "Autocorrelation": 0,
          "ID": null
         },
         {
          "Authors (col)": "Arévalo A. [3]",
          "Authors (row)": "Chen Y. [2]",
          "Autocorrelation": 0,
          "ID": null
         },
         {
          "Authors (col)": "Passalis N. [3]",
          "Authors (row)": "Chen Y. [2]",
          "Autocorrelation": 0,
          "ID": null
         },
         {
          "Authors (col)": "Kanniainen J. [3]",
          "Authors (row)": "Chen Y. [2]",
          "Autocorrelation": 0,
          "ID": null
         },
         {
          "Authors (col)": "Zhu Y. [3]",
          "Authors (row)": "Chen Y. [2]",
          "Autocorrelation": 0,
          "ID": null
         },
         {
          "Authors (col)": "Gabbouj M. [3]",
          "Authors (row)": "Chen Y. [2]",
          "Autocorrelation": 0,
          "ID": null
         },
         {
          "Authors (col)": "Li Y. [2]",
          "Authors (row)": "Chen Y. [2]",
          "Autocorrelation": 0,
          "ID": null
         },
         {
          "Authors (col)": "Liu C.-L. [2]",
          "Authors (row)": "Chen Y. [2]",
          "Autocorrelation": 0,
          "ID": null
         },
         {
          "Authors (col)": "Oosterlee C.W. [2]",
          "Authors (row)": "Chen Y. [2]",
          "Autocorrelation": 0,
          "ID": null
         },
         {
          "Authors (col)": "Li Y. [2]",
          "Authors (row)": "Wang J. [7]",
          "Autocorrelation": 0,
          "ID": null
         },
         {
          "Authors (col)": "Fu X. [2]",
          "Authors (row)": "Chen Y. [2]",
          "Autocorrelation": 0,
          "ID": null
         },
         {
          "Authors (col)": "Niño J. [2]",
          "Authors (row)": "Chen Y. [2]",
          "Autocorrelation": 0,
          "ID": null
         },
         {
          "Authors (col)": "Lin X. [2]",
          "Authors (row)": "Chen Y. [2]",
          "Autocorrelation": 0,
          "ID": null
         },
         {
          "Authors (col)": "Dash P.K. [2]",
          "Authors (row)": "Chen Y. [2]",
          "Autocorrelation": 0,
          "ID": null
         },
         {
          "Authors (col)": "Tseng V.S. [2]",
          "Authors (row)": "Chen Y. [2]",
          "Autocorrelation": 0,
          "ID": null
         },
         {
          "Authors (col)": "Xu J. [2]",
          "Authors (row)": "Chen Y. [2]",
          "Autocorrelation": 0,
          "ID": null
         },
         {
          "Authors (col)": "Zhang G. [4]",
          "Authors (row)": "Chen Y. [2]",
          "Autocorrelation": 0,
          "ID": null
         },
         {
          "Authors (col)": "Chen J. [2]",
          "Authors (row)": "Oosterlee C.W. [2]",
          "Autocorrelation": 0,
          "ID": null
         },
         {
          "Authors (col)": "Iosifidis A. [3]",
          "Authors (row)": "Oosterlee C.W. [2]",
          "Autocorrelation": 0,
          "ID": null
         },
         {
          "Authors (col)": "Liu C.-L. [2]",
          "Authors (row)": "Wang J. [7]",
          "Autocorrelation": 0,
          "ID": null
         },
         {
          "Authors (col)": "Zhang Y. [3]",
          "Authors (row)": "Oosterlee C.W. [2]",
          "Autocorrelation": 0,
          "ID": null
         },
         {
          "Authors (col)": "Arévalo A. [3]",
          "Authors (row)": "Oosterlee C.W. [2]",
          "Autocorrelation": 0,
          "ID": null
         },
         {
          "Authors (col)": "Wu J. [3]",
          "Authors (row)": "Oosterlee C.W. [2]",
          "Autocorrelation": 0,
          "ID": null
         },
         {
          "Authors (col)": "Passalis N. [3]",
          "Authors (row)": "Oosterlee C.W. [2]",
          "Autocorrelation": 0,
          "ID": null
         },
         {
          "Authors (col)": "Kanniainen J. [3]",
          "Authors (row)": "Oosterlee C.W. [2]",
          "Autocorrelation": 0,
          "ID": null
         },
         {
          "Authors (col)": "Zhu Y. [3]",
          "Authors (row)": "Oosterlee C.W. [2]",
          "Autocorrelation": 0,
          "ID": null
         },
         {
          "Authors (col)": "Gabbouj M. [3]",
          "Authors (row)": "Oosterlee C.W. [2]",
          "Autocorrelation": 0,
          "ID": null
         },
         {
          "Authors (col)": "Li Y. [2]",
          "Authors (row)": "Oosterlee C.W. [2]",
          "Autocorrelation": 0,
          "ID": null
         },
         {
          "Authors (col)": "Liu C.-L. [2]",
          "Authors (row)": "Oosterlee C.W. [2]",
          "Autocorrelation": 0,
          "ID": null
         },
         {
          "Authors (col)": "Leon D. [2]",
          "Authors (row)": "Oosterlee C.W. [2]",
          "Autocorrelation": 0,
          "ID": null
         },
         {
          "Authors (col)": "Bu H. [2]",
          "Authors (row)": "Oosterlee C.W. [2]",
          "Autocorrelation": 0,
          "ID": null
         },
         {
          "Authors (col)": "Leon D. [2]",
          "Authors (row)": "Wang J. [7]",
          "Autocorrelation": 0,
          "ID": null
         },
         {
          "Authors (col)": "Chen Y. [2]",
          "Authors (row)": "Oosterlee C.W. [2]",
          "Autocorrelation": 0,
          "ID": null
         },
         {
          "Authors (col)": "Fu X. [2]",
          "Authors (row)": "Oosterlee C.W. [2]",
          "Autocorrelation": 0,
          "ID": null
         },
         {
          "Authors (col)": "Niño J. [2]",
          "Authors (row)": "Oosterlee C.W. [2]",
          "Autocorrelation": 0,
          "ID": null
         },
         {
          "Authors (col)": "Lin X. [2]",
          "Authors (row)": "Oosterlee C.W. [2]",
          "Autocorrelation": 0,
          "ID": null
         },
         {
          "Authors (col)": "Dash P.K. [2]",
          "Authors (row)": "Oosterlee C.W. [2]",
          "Autocorrelation": 0,
          "ID": null
         },
         {
          "Authors (col)": "Tseng V.S. [2]",
          "Authors (row)": "Oosterlee C.W. [2]",
          "Autocorrelation": 0,
          "ID": null
         },
         {
          "Authors (col)": "Xu J. [2]",
          "Authors (row)": "Oosterlee C.W. [2]",
          "Autocorrelation": 0,
          "ID": null
         },
         {
          "Authors (col)": "Xu L. [2]",
          "Authors (row)": "Oosterlee C.W. [2]",
          "Autocorrelation": 0,
          "ID": null
         },
         {
          "Authors (col)": "Tsantekidis A. [2]",
          "Authors (row)": "Oosterlee C.W. [2]",
          "Autocorrelation": 0,
          "ID": null
         },
         {
          "Authors (col)": "Xu J. [2]",
          "Authors (row)": "Lin X. [2]",
          "Autocorrelation": 0,
          "ID": null
         },
         {
          "Authors (col)": "Iosifidis A. [3]",
          "Authors (row)": "Dash P.K. [2]",
          "Autocorrelation": 0,
          "ID": null
         },
         {
          "Authors (col)": "Xu L. [2]",
          "Authors (row)": "Lin X. [2]",
          "Autocorrelation": 0,
          "ID": null
         },
         {
          "Authors (col)": "Dash P.K. [2]",
          "Authors (row)": "Tsantekidis A. [2]",
          "Autocorrelation": 0,
          "ID": null
         },
         {
          "Authors (col)": "Zhu Y. [3]",
          "Authors (row)": "Tsantekidis A. [2]",
          "Autocorrelation": 0,
          "ID": null
         },
         {
          "Authors (col)": "Li Y. [2]",
          "Authors (row)": "Tsantekidis A. [2]",
          "Autocorrelation": 0,
          "ID": null
         },
         {
          "Authors (col)": "Liu C.-L. [2]",
          "Authors (row)": "Tsantekidis A. [2]",
          "Autocorrelation": 0,
          "ID": null
         },
         {
          "Authors (col)": "Leon D. [2]",
          "Authors (row)": "Tsantekidis A. [2]",
          "Autocorrelation": 0,
          "ID": null
         },
         {
          "Authors (col)": "Bu H. [2]",
          "Authors (row)": "Tsantekidis A. [2]",
          "Autocorrelation": 0,
          "ID": null
         },
         {
          "Authors (col)": "Oosterlee C.W. [2]",
          "Authors (row)": "Tsantekidis A. [2]",
          "Autocorrelation": 0,
          "ID": null
         },
         {
          "Authors (col)": "Chen Y. [2]",
          "Authors (row)": "Tsantekidis A. [2]",
          "Autocorrelation": 0,
          "ID": null
         },
         {
          "Authors (col)": "Fu X. [2]",
          "Authors (row)": "Tsantekidis A. [2]",
          "Autocorrelation": 0,
          "ID": null
         },
         {
          "Authors (col)": "Niño J. [2]",
          "Authors (row)": "Tsantekidis A. [2]",
          "Autocorrelation": 0,
          "ID": null
         },
         {
          "Authors (col)": "Lin X. [2]",
          "Authors (row)": "Tsantekidis A. [2]",
          "Autocorrelation": 0,
          "ID": null
         },
         {
          "Authors (col)": "Tseng V.S. [2]",
          "Authors (row)": "Tsantekidis A. [2]",
          "Autocorrelation": 0,
          "ID": null
         },
         {
          "Authors (col)": "Arévalo A. [3]",
          "Authors (row)": "Tsantekidis A. [2]",
          "Autocorrelation": 0,
          "ID": null
         },
         {
          "Authors (col)": "Xu J. [2]",
          "Authors (row)": "Tsantekidis A. [2]",
          "Autocorrelation": 0,
          "ID": null
         },
         {
          "Authors (col)": "Xu L. [2]",
          "Authors (row)": "Tsantekidis A. [2]",
          "Autocorrelation": 0,
          "ID": null
         },
         {
          "Authors (col)": "Tefas A. [3]",
          "Authors (row)": "Wang J. [7]",
          "Autocorrelation": 0,
          "ID": null
         },
         {
          "Authors (col)": "Borovykh A. [2]",
          "Authors (row)": "Tsantekidis A. [2]",
          "Autocorrelation": 0,
          "ID": null
         },
         {
          "Authors (col)": "Chen J. [2]",
          "Authors (row)": "Tsantekidis A. [2]",
          "Autocorrelation": 0,
          "ID": null
         },
         {
          "Authors (col)": "Wang J. [7]",
          "Authors (row)": "Borovykh A. [2]",
          "Autocorrelation": 0,
          "ID": null
         },
         {
          "Authors (col)": "Zhang G. [4]",
          "Authors (row)": "Borovykh A. [2]",
          "Autocorrelation": 0,
          "ID": null
         },
         {
          "Authors (col)": "Yan X. [3]",
          "Authors (row)": "Borovykh A. [2]",
          "Autocorrelation": 0,
          "ID": null
         },
         {
          "Authors (col)": "Hernandez G. [3]",
          "Authors (row)": "Borovykh A. [2]",
          "Autocorrelation": 0,
          "ID": null
         },
         {
          "Authors (col)": "Tefas A. [3]",
          "Authors (row)": "Borovykh A. [2]",
          "Autocorrelation": 0,
          "ID": null
         },
         {
          "Authors (col)": "Wu J. [3]",
          "Authors (row)": "Tsantekidis A. [2]",
          "Autocorrelation": 0,
          "ID": null
         },
         {
          "Authors (col)": "Zhang Y. [3]",
          "Authors (row)": "Tsantekidis A. [2]",
          "Autocorrelation": 0,
          "ID": null
         },
         {
          "Authors (col)": "Passalis N. [3]",
          "Authors (row)": "Xu L. [2]",
          "Autocorrelation": 0,
          "ID": null
         },
         {
          "Authors (col)": "Lin X. [2]",
          "Authors (row)": "Xu L. [2]",
          "Autocorrelation": 0,
          "ID": null
         },
         {
          "Authors (col)": "Zhu Y. [3]",
          "Authors (row)": "Xu L. [2]",
          "Autocorrelation": 0,
          "ID": null
         },
         {
          "Authors (col)": "Gabbouj M. [3]",
          "Authors (row)": "Xu L. [2]",
          "Autocorrelation": 0,
          "ID": null
         },
         {
          "Authors (col)": "Li Y. [2]",
          "Authors (row)": "Xu L. [2]",
          "Autocorrelation": 0,
          "ID": null
         },
         {
          "Authors (col)": "Liu C.-L. [2]",
          "Authors (row)": "Xu L. [2]",
          "Autocorrelation": 0,
          "ID": null
         },
         {
          "Authors (col)": "Leon D. [2]",
          "Authors (row)": "Xu L. [2]",
          "Autocorrelation": 0,
          "ID": null
         },
         {
          "Authors (col)": "Bu H. [2]",
          "Authors (row)": "Xu L. [2]",
          "Autocorrelation": 0,
          "ID": null
         },
         {
          "Authors (col)": "Oosterlee C.W. [2]",
          "Authors (row)": "Xu L. [2]",
          "Autocorrelation": 0,
          "ID": null
         },
         {
          "Authors (col)": "Chen Y. [2]",
          "Authors (row)": "Xu L. [2]",
          "Autocorrelation": 0,
          "ID": null
         },
         {
          "Authors (col)": "Fu X. [2]",
          "Authors (row)": "Xu L. [2]",
          "Autocorrelation": 0,
          "ID": null
         },
         {
          "Authors (col)": "Niño J. [2]",
          "Authors (row)": "Xu L. [2]",
          "Autocorrelation": 0,
          "ID": null
         },
         {
          "Authors (col)": "Dash P.K. [2]",
          "Authors (row)": "Xu L. [2]",
          "Autocorrelation": 0,
          "ID": null
         },
         {
          "Authors (col)": "Sandoval J. [3]",
          "Authors (row)": "Tsantekidis A. [2]",
          "Autocorrelation": 0,
          "ID": null
         },
         {
          "Authors (col)": "Tseng V.S. [2]",
          "Authors (row)": "Xu L. [2]",
          "Autocorrelation": 0,
          "ID": null
         },
         {
          "Authors (col)": "Xu J. [2]",
          "Authors (row)": "Xu L. [2]",
          "Autocorrelation": 0,
          "ID": null
         },
         {
          "Authors (col)": "Sandoval J. [3]",
          "Authors (row)": "Wang J. [7]",
          "Autocorrelation": 0,
          "ID": null
         },
         {
          "Authors (col)": "Tsantekidis A. [2]",
          "Authors (row)": "Xu L. [2]",
          "Autocorrelation": 0,
          "ID": null
         },
         {
          "Authors (col)": "Borovykh A. [2]",
          "Authors (row)": "Xu L. [2]",
          "Autocorrelation": 0,
          "ID": null
         },
         {
          "Authors (col)": "Chen J. [2]",
          "Authors (row)": "Xu L. [2]",
          "Autocorrelation": 0,
          "ID": null
         },
         {
          "Authors (col)": "Wang J. [7]",
          "Authors (row)": "Tsantekidis A. [2]",
          "Autocorrelation": 0,
          "ID": null
         },
         {
          "Authors (col)": "Zhang G. [4]",
          "Authors (row)": "Tsantekidis A. [2]",
          "Autocorrelation": 0,
          "ID": null
         },
         {
          "Authors (col)": "Yan X. [3]",
          "Authors (row)": "Tsantekidis A. [2]",
          "Autocorrelation": 0,
          "ID": null
         },
         {
          "Authors (col)": "Hernandez G. [3]",
          "Authors (row)": "Tsantekidis A. [2]",
          "Autocorrelation": 0,
          "ID": null
         },
         {
          "Authors (col)": "Sandoval J. [3]",
          "Authors (row)": "Borovykh A. [2]",
          "Autocorrelation": 0,
          "ID": null
         },
         {
          "Authors (col)": "Iosifidis A. [3]",
          "Authors (row)": "Borovykh A. [2]",
          "Autocorrelation": 0,
          "ID": null
         },
         {
          "Authors (col)": "Zhang Y. [3]",
          "Authors (row)": "Borovykh A. [2]",
          "Autocorrelation": 0,
          "ID": null
         },
         {
          "Authors (col)": "Leon D. [2]",
          "Authors (row)": "Chen J. [2]",
          "Autocorrelation": 0,
          "ID": null
         },
         {
          "Authors (col)": "Tefas A. [3]",
          "Authors (row)": "Chen J. [2]",
          "Autocorrelation": 0,
          "ID": null
         },
         {
          "Authors (col)": "Sandoval J. [3]",
          "Authors (row)": "Chen J. [2]",
          "Autocorrelation": 0,
          "ID": null
         },
         {
          "Authors (col)": "Iosifidis A. [3]",
          "Authors (row)": "Chen J. [2]",
          "Autocorrelation": 0,
          "ID": null
         },
         {
          "Authors (col)": "Zhang Y. [3]",
          "Authors (row)": "Chen J. [2]",
          "Autocorrelation": 0,
          "ID": null
         },
         {
          "Authors (col)": "Arévalo A. [3]",
          "Authors (row)": "Chen J. [2]",
          "Autocorrelation": 0,
          "ID": null
         },
         {
          "Authors (col)": "Passalis N. [3]",
          "Authors (row)": "Chen J. [2]",
          "Autocorrelation": 0,
          "ID": null
         },
         {
          "Authors (col)": "Kanniainen J. [3]",
          "Authors (row)": "Chen J. [2]",
          "Autocorrelation": 0,
          "ID": null
         },
         {
          "Authors (col)": "Gabbouj M. [3]",
          "Authors (row)": "Chen J. [2]",
          "Autocorrelation": 0,
          "ID": null
         },
         {
          "Authors (col)": "Li Y. [2]",
          "Authors (row)": "Chen J. [2]",
          "Autocorrelation": 0,
          "ID": null
         },
         {
          "Authors (col)": "Liu C.-L. [2]",
          "Authors (row)": "Chen J. [2]",
          "Autocorrelation": 0,
          "ID": null
         },
         {
          "Authors (col)": "Bu H. [2]",
          "Authors (row)": "Chen J. [2]",
          "Autocorrelation": 0,
          "ID": null
         },
         {
          "Authors (col)": "Arévalo A. [3]",
          "Authors (row)": "Borovykh A. [2]",
          "Autocorrelation": 0,
          "ID": null
         },
         {
          "Authors (col)": "Oosterlee C.W. [2]",
          "Authors (row)": "Chen J. [2]",
          "Autocorrelation": 0,
          "ID": null
         },
         {
          "Authors (col)": "Chen Y. [2]",
          "Authors (row)": "Chen J. [2]",
          "Autocorrelation": 0,
          "ID": null
         },
         {
          "Authors (col)": "Niño J. [2]",
          "Authors (row)": "Chen J. [2]",
          "Autocorrelation": 0,
          "ID": null
         },
         {
          "Authors (col)": "Lin X. [2]",
          "Authors (row)": "Chen J. [2]",
          "Autocorrelation": 0,
          "ID": null
         },
         {
          "Authors (col)": "Dash P.K. [2]",
          "Authors (row)": "Chen J. [2]",
          "Autocorrelation": 0,
          "ID": null
         },
         {
          "Authors (col)": "Tseng V.S. [2]",
          "Authors (row)": "Chen J. [2]",
          "Autocorrelation": 0,
          "ID": null
         },
         {
          "Authors (col)": "Xu J. [2]",
          "Authors (row)": "Chen J. [2]",
          "Autocorrelation": 0,
          "ID": null
         },
         {
          "Authors (col)": "Xu L. [2]",
          "Authors (row)": "Chen J. [2]",
          "Autocorrelation": 0,
          "ID": null
         },
         {
          "Authors (col)": "Tsantekidis A. [2]",
          "Authors (row)": "Chen J. [2]",
          "Autocorrelation": 0,
          "ID": null
         },
         {
          "Authors (col)": "Borovykh A. [2]",
          "Authors (row)": "Chen J. [2]",
          "Autocorrelation": 0,
          "ID": null
         },
         {
          "Authors (col)": "Hernandez G. [3]",
          "Authors (row)": "Chen J. [2]",
          "Autocorrelation": 0,
          "ID": null
         },
         {
          "Authors (col)": "Yan X. [3]",
          "Authors (row)": "Chen J. [2]",
          "Autocorrelation": 0,
          "ID": null
         },
         {
          "Authors (col)": "Zhang G. [4]",
          "Authors (row)": "Chen J. [2]",
          "Autocorrelation": 0,
          "ID": null
         },
         {
          "Authors (col)": "Wang J. [7]",
          "Authors (row)": "Chen J. [2]",
          "Autocorrelation": 0,
          "ID": null
         },
         {
          "Authors (col)": "Wu J. [3]",
          "Authors (row)": "Borovykh A. [2]",
          "Autocorrelation": 0,
          "ID": null
         },
         {
          "Authors (col)": "Passalis N. [3]",
          "Authors (row)": "Borovykh A. [2]",
          "Autocorrelation": 0,
          "ID": null
         },
         {
          "Authors (col)": "Kanniainen J. [3]",
          "Authors (row)": "Borovykh A. [2]",
          "Autocorrelation": 0,
          "ID": null
         },
         {
          "Authors (col)": "Zhu Y. [3]",
          "Authors (row)": "Borovykh A. [2]",
          "Autocorrelation": 0,
          "ID": null
         },
         {
          "Authors (col)": "Gabbouj M. [3]",
          "Authors (row)": "Borovykh A. [2]",
          "Autocorrelation": 0,
          "ID": null
         },
         {
          "Authors (col)": "Li Y. [2]",
          "Authors (row)": "Borovykh A. [2]",
          "Autocorrelation": 0,
          "ID": null
         },
         {
          "Authors (col)": "Liu C.-L. [2]",
          "Authors (row)": "Borovykh A. [2]",
          "Autocorrelation": 0,
          "ID": null
         },
         {
          "Authors (col)": "Leon D. [2]",
          "Authors (row)": "Borovykh A. [2]",
          "Autocorrelation": 0,
          "ID": null
         },
         {
          "Authors (col)": "Bu H. [2]",
          "Authors (row)": "Borovykh A. [2]",
          "Autocorrelation": 0,
          "ID": null
         },
         {
          "Authors (col)": "Hernandez G. [3]",
          "Authors (row)": "Wang J. [7]",
          "Autocorrelation": 0,
          "ID": null
         },
         {
          "Authors (col)": "Chen Y. [2]",
          "Authors (row)": "Borovykh A. [2]",
          "Autocorrelation": 0,
          "ID": null
         },
         {
          "Authors (col)": "Fu X. [2]",
          "Authors (row)": "Borovykh A. [2]",
          "Autocorrelation": 0,
          "ID": null
         },
         {
          "Authors (col)": "Niño J. [2]",
          "Authors (row)": "Borovykh A. [2]",
          "Autocorrelation": 0,
          "ID": null
         },
         {
          "Authors (col)": "Lin X. [2]",
          "Authors (row)": "Borovykh A. [2]",
          "Autocorrelation": 0,
          "ID": null
         },
         {
          "Authors (col)": "Dash P.K. [2]",
          "Authors (row)": "Borovykh A. [2]",
          "Autocorrelation": 0,
          "ID": null
         },
         {
          "Authors (col)": "Tseng V.S. [2]",
          "Authors (row)": "Borovykh A. [2]",
          "Autocorrelation": 0,
          "ID": null
         },
         {
          "Authors (col)": "Xu J. [2]",
          "Authors (row)": "Borovykh A. [2]",
          "Autocorrelation": 0,
          "ID": null
         },
         {
          "Authors (col)": "Xu L. [2]",
          "Authors (row)": "Borovykh A. [2]",
          "Autocorrelation": 0,
          "ID": null
         },
         {
          "Authors (col)": "Tsantekidis A. [2]",
          "Authors (row)": "Borovykh A. [2]",
          "Autocorrelation": 0,
          "ID": null
         },
         {
          "Authors (col)": "Yan X. [3]",
          "Authors (row)": "Wang J. [7]",
          "Autocorrelation": 0,
          "ID": null
         },
         {
          "Authors (col)": "Chen J. [2]",
          "Authors (row)": "Borovykh A. [2]",
          "Autocorrelation": 0,
          "ID": null
         },
         {
          "Authors (col)": "Kanniainen J. [3]",
          "Authors (row)": "Xu L. [2]",
          "Autocorrelation": 0,
          "ID": null
         },
         {
          "Authors (col)": "Wu J. [3]",
          "Authors (row)": "Xu L. [2]",
          "Autocorrelation": 0,
          "ID": null
         },
         {
          "Authors (col)": "Tsantekidis A. [2]",
          "Authors (row)": "Lin X. [2]",
          "Autocorrelation": 0,
          "ID": null
         },
         {
          "Authors (col)": "Tefas A. [3]",
          "Authors (row)": "Tseng V.S. [2]",
          "Autocorrelation": 0,
          "ID": null
         },
         {
          "Authors (col)": "Tseng V.S. [2]",
          "Authors (row)": "Dash P.K. [2]",
          "Autocorrelation": 0,
          "ID": null
         },
         {
          "Authors (col)": "Xu J. [2]",
          "Authors (row)": "Dash P.K. [2]",
          "Autocorrelation": 0,
          "ID": null
         },
         {
          "Authors (col)": "Xu L. [2]",
          "Authors (row)": "Dash P.K. [2]",
          "Autocorrelation": 0,
          "ID": null
         },
         {
          "Authors (col)": "Tsantekidis A. [2]",
          "Authors (row)": "Dash P.K. [2]",
          "Autocorrelation": 0,
          "ID": null
         },
         {
          "Authors (col)": "Borovykh A. [2]",
          "Authors (row)": "Dash P.K. [2]",
          "Autocorrelation": 0,
          "ID": null
         },
         {
          "Authors (col)": "Chen J. [2]",
          "Authors (row)": "Dash P.K. [2]",
          "Autocorrelation": 0,
          "ID": null
         },
         {
          "Authors (col)": "Wang J. [7]",
          "Authors (row)": "Tseng V.S. [2]",
          "Autocorrelation": 0,
          "ID": null
         },
         {
          "Authors (col)": "Zhang G. [4]",
          "Authors (row)": "Tseng V.S. [2]",
          "Autocorrelation": 0,
          "ID": null
         },
         {
          "Authors (col)": "Yan X. [3]",
          "Authors (row)": "Tseng V.S. [2]",
          "Autocorrelation": 0,
          "ID": null
         },
         {
          "Authors (col)": "Hernandez G. [3]",
          "Authors (row)": "Tseng V.S. [2]",
          "Autocorrelation": 0,
          "ID": null
         },
         {
          "Authors (col)": "Sandoval J. [3]",
          "Authors (row)": "Tseng V.S. [2]",
          "Autocorrelation": 0,
          "ID": null
         },
         {
          "Authors (col)": "Lin X. [2]",
          "Authors (row)": "Dash P.K. [2]",
          "Autocorrelation": 0,
          "ID": null
         },
         {
          "Authors (col)": "Iosifidis A. [3]",
          "Authors (row)": "Tseng V.S. [2]",
          "Autocorrelation": 0,
          "ID": null
         },
         {
          "Authors (col)": "Zhang Y. [3]",
          "Authors (row)": "Tseng V.S. [2]",
          "Autocorrelation": 0,
          "ID": null
         },
         {
          "Authors (col)": "Arévalo A. [3]",
          "Authors (row)": "Tseng V.S. [2]",
          "Autocorrelation": 0,
          "ID": null
         },
         {
          "Authors (col)": "Wu J. [3]",
          "Authors (row)": "Tseng V.S. [2]",
          "Autocorrelation": 0,
          "ID": null
         },
         {
          "Authors (col)": "Passalis N. [3]",
          "Authors (row)": "Tseng V.S. [2]",
          "Autocorrelation": 0,
          "ID": null
         },
         {
          "Authors (col)": "Kanniainen J. [3]",
          "Authors (row)": "Tseng V.S. [2]",
          "Autocorrelation": 0,
          "ID": null
         },
         {
          "Authors (col)": "Zhu Y. [3]",
          "Authors (row)": "Tseng V.S. [2]",
          "Autocorrelation": 0,
          "ID": null
         },
         {
          "Authors (col)": "Gabbouj M. [3]",
          "Authors (row)": "Tseng V.S. [2]",
          "Autocorrelation": 0,
          "ID": null
         },
         {
          "Authors (col)": "Li Y. [2]",
          "Authors (row)": "Tseng V.S. [2]",
          "Autocorrelation": 0,
          "ID": null
         },
         {
          "Authors (col)": "Arévalo A. [3]",
          "Authors (row)": "Wang J. [7]",
          "Autocorrelation": 0,
          "ID": null
         },
         {
          "Authors (col)": "Wu J. [3]",
          "Authors (row)": "Wang J. [7]",
          "Autocorrelation": 0,
          "ID": null
         },
         {
          "Authors (col)": "Niño J. [2]",
          "Authors (row)": "Dash P.K. [2]",
          "Autocorrelation": 0,
          "ID": null
         },
         {
          "Authors (col)": "Arévalo A. [3]",
          "Authors (row)": "Xu L. [2]",
          "Autocorrelation": 0,
          "ID": null
         },
         {
          "Authors (col)": "Arévalo A. [3]",
          "Authors (row)": "Dash P.K. [2]",
          "Autocorrelation": 0,
          "ID": null
         },
         {
          "Authors (col)": "Borovykh A. [2]",
          "Authors (row)": "Lin X. [2]",
          "Autocorrelation": 0,
          "ID": null
         },
         {
          "Authors (col)": "Chen J. [2]",
          "Authors (row)": "Lin X. [2]",
          "Autocorrelation": 0,
          "ID": null
         },
         {
          "Authors (col)": "Wang J. [7]",
          "Authors (row)": "Dash P.K. [2]",
          "Autocorrelation": 0,
          "ID": null
         },
         {
          "Authors (col)": "Zhang G. [4]",
          "Authors (row)": "Dash P.K. [2]",
          "Autocorrelation": 0,
          "ID": null
         },
         {
          "Authors (col)": "Yan X. [3]",
          "Authors (row)": "Dash P.K. [2]",
          "Autocorrelation": 0,
          "ID": null
         },
         {
          "Authors (col)": "Hernandez G. [3]",
          "Authors (row)": "Dash P.K. [2]",
          "Autocorrelation": 0,
          "ID": null
         },
         {
          "Authors (col)": "Tefas A. [3]",
          "Authors (row)": "Dash P.K. [2]",
          "Autocorrelation": 0,
          "ID": null
         },
         {
          "Authors (col)": "Sandoval J. [3]",
          "Authors (row)": "Dash P.K. [2]",
          "Autocorrelation": 0,
          "ID": null
         },
         {
          "Authors (col)": "Gabbouj M. [3]",
          "Authors (row)": "Leon D. [2]",
          "Autocorrelation": 0,
          "ID": null
         },
         {
          "Authors (col)": "Zhang Y. [3]",
          "Authors (row)": "Dash P.K. [2]",
          "Autocorrelation": 0,
          "ID": null
         },
         {
          "Authors (col)": "Wu J. [3]",
          "Authors (row)": "Dash P.K. [2]",
          "Autocorrelation": 0,
          "ID": null
         },
         {
          "Authors (col)": "Fu X. [2]",
          "Authors (row)": "Dash P.K. [2]",
          "Autocorrelation": 0,
          "ID": null
         },
         {
          "Authors (col)": "Passalis N. [3]",
          "Authors (row)": "Dash P.K. [2]",
          "Autocorrelation": 0,
          "ID": null
         },
         {
          "Authors (col)": "Kanniainen J. [3]",
          "Authors (row)": "Dash P.K. [2]",
          "Autocorrelation": 0,
          "ID": null
         },
         {
          "Authors (col)": "Zhu Y. [3]",
          "Authors (row)": "Dash P.K. [2]",
          "Autocorrelation": 0,
          "ID": null
         },
         {
          "Authors (col)": "Gabbouj M. [3]",
          "Authors (row)": "Dash P.K. [2]",
          "Autocorrelation": 0,
          "ID": null
         },
         {
          "Authors (col)": "Li Y. [2]",
          "Authors (row)": "Dash P.K. [2]",
          "Autocorrelation": 0,
          "ID": null
         },
         {
          "Authors (col)": "Liu C.-L. [2]",
          "Authors (row)": "Dash P.K. [2]",
          "Autocorrelation": 0,
          "ID": null
         },
         {
          "Authors (col)": "Leon D. [2]",
          "Authors (row)": "Dash P.K. [2]",
          "Autocorrelation": 0,
          "ID": null
         },
         {
          "Authors (col)": "Bu H. [2]",
          "Authors (row)": "Dash P.K. [2]",
          "Autocorrelation": 0,
          "ID": null
         },
         {
          "Authors (col)": "Oosterlee C.W. [2]",
          "Authors (row)": "Dash P.K. [2]",
          "Autocorrelation": 0,
          "ID": null
         },
         {
          "Authors (col)": "Chen Y. [2]",
          "Authors (row)": "Dash P.K. [2]",
          "Autocorrelation": 0,
          "ID": null
         },
         {
          "Authors (col)": "Leon D. [2]",
          "Authors (row)": "Tseng V.S. [2]",
          "Autocorrelation": 0,
          "ID": null
         },
         {
          "Authors (col)": "Bu H. [2]",
          "Authors (row)": "Tseng V.S. [2]",
          "Autocorrelation": 0,
          "ID": null
         },
         {
          "Authors (col)": "Oosterlee C.W. [2]",
          "Authors (row)": "Tseng V.S. [2]",
          "Autocorrelation": 0,
          "ID": null
         },
         {
          "Authors (col)": "Iosifidis A. [3]",
          "Authors (row)": "Wang J. [7]",
          "Autocorrelation": 0,
          "ID": null
         },
         {
          "Authors (col)": "Liu C.-L. [2]",
          "Authors (row)": "Xu J. [2]",
          "Autocorrelation": 0,
          "ID": null
         },
         {
          "Authors (col)": "Leon D. [2]",
          "Authors (row)": "Xu J. [2]",
          "Autocorrelation": 0,
          "ID": null
         },
         {
          "Authors (col)": "Bu H. [2]",
          "Authors (row)": "Xu J. [2]",
          "Autocorrelation": 0,
          "ID": null
         },
         {
          "Authors (col)": "Oosterlee C.W. [2]",
          "Authors (row)": "Xu J. [2]",
          "Autocorrelation": 0,
          "ID": null
         },
         {
          "Authors (col)": "Chen Y. [2]",
          "Authors (row)": "Xu J. [2]",
          "Autocorrelation": 0,
          "ID": null
         },
         {
          "Authors (col)": "Fu X. [2]",
          "Authors (row)": "Xu J. [2]",
          "Autocorrelation": 0,
          "ID": null
         },
         {
          "Authors (col)": "Niño J. [2]",
          "Authors (row)": "Xu J. [2]",
          "Autocorrelation": 0,
          "ID": null
         },
         {
          "Authors (col)": "Lin X. [2]",
          "Authors (row)": "Xu J. [2]",
          "Autocorrelation": 0,
          "ID": null
         },
         {
          "Authors (col)": "Dash P.K. [2]",
          "Authors (row)": "Xu J. [2]",
          "Autocorrelation": 0,
          "ID": null
         },
         {
          "Authors (col)": "Tseng V.S. [2]",
          "Authors (row)": "Xu J. [2]",
          "Autocorrelation": 0,
          "ID": null
         },
         {
          "Authors (col)": "Xu L. [2]",
          "Authors (row)": "Xu J. [2]",
          "Autocorrelation": 0,
          "ID": null
         },
         {
          "Authors (col)": "Chen Y. [2]",
          "Authors (row)": "Tseng V.S. [2]",
          "Autocorrelation": 0,
          "ID": null
         },
         {
          "Authors (col)": "Tsantekidis A. [2]",
          "Authors (row)": "Xu J. [2]",
          "Autocorrelation": 0,
          "ID": null
         },
         {
          "Authors (col)": "Borovykh A. [2]",
          "Authors (row)": "Xu J. [2]",
          "Autocorrelation": 0,
          "ID": null
         },
         {
          "Authors (col)": "Chen J. [2]",
          "Authors (row)": "Xu J. [2]",
          "Autocorrelation": 0,
          "ID": null
         },
         {
          "Authors (col)": "Wang J. [7]",
          "Authors (row)": "Xu L. [2]",
          "Autocorrelation": 0,
          "ID": null
         },
         {
          "Authors (col)": "Yan X. [3]",
          "Authors (row)": "Xu L. [2]",
          "Autocorrelation": 0,
          "ID": null
         },
         {
          "Authors (col)": "Hernandez G. [3]",
          "Authors (row)": "Xu L. [2]",
          "Autocorrelation": 0,
          "ID": null
         },
         {
          "Authors (col)": "Tefas A. [3]",
          "Authors (row)": "Xu L. [2]",
          "Autocorrelation": 0,
          "ID": null
         },
         {
          "Authors (col)": "Sandoval J. [3]",
          "Authors (row)": "Xu L. [2]",
          "Autocorrelation": 0,
          "ID": null
         },
         {
          "Authors (col)": "Iosifidis A. [3]",
          "Authors (row)": "Xu L. [2]",
          "Autocorrelation": 0,
          "ID": null
         },
         {
          "Authors (col)": "Zhang Y. [3]",
          "Authors (row)": "Xu L. [2]",
          "Autocorrelation": 0,
          "ID": null
         },
         {
          "Authors (col)": "Li Y. [2]",
          "Authors (row)": "Xu J. [2]",
          "Autocorrelation": 0,
          "ID": null
         },
         {
          "Authors (col)": "Gabbouj M. [3]",
          "Authors (row)": "Xu J. [2]",
          "Autocorrelation": 0,
          "ID": null
         },
         {
          "Authors (col)": "Zhu Y. [3]",
          "Authors (row)": "Xu J. [2]",
          "Autocorrelation": 0,
          "ID": null
         },
         {
          "Authors (col)": "Kanniainen J. [3]",
          "Authors (row)": "Xu J. [2]",
          "Autocorrelation": 0,
          "ID": null
         },
         {
          "Authors (col)": "Fu X. [2]",
          "Authors (row)": "Tseng V.S. [2]",
          "Autocorrelation": 0,
          "ID": null
         },
         {
          "Authors (col)": "Niño J. [2]",
          "Authors (row)": "Tseng V.S. [2]",
          "Autocorrelation": 0,
          "ID": null
         },
         {
          "Authors (col)": "Lin X. [2]",
          "Authors (row)": "Tseng V.S. [2]",
          "Autocorrelation": 0,
          "ID": null
         },
         {
          "Authors (col)": "Dash P.K. [2]",
          "Authors (row)": "Tseng V.S. [2]",
          "Autocorrelation": 0,
          "ID": null
         },
         {
          "Authors (col)": "Zhang Y. [3]",
          "Authors (row)": "Wang J. [7]",
          "Autocorrelation": 0,
          "ID": null
         },
         {
          "Authors (col)": "Xu J. [2]",
          "Authors (row)": "Tseng V.S. [2]",
          "Autocorrelation": 0,
          "ID": null
         },
         {
          "Authors (col)": "Xu L. [2]",
          "Authors (row)": "Tseng V.S. [2]",
          "Autocorrelation": 0,
          "ID": null
         },
         {
          "Authors (col)": "Tsantekidis A. [2]",
          "Authors (row)": "Tseng V.S. [2]",
          "Autocorrelation": 0,
          "ID": null
         },
         {
          "Authors (col)": "Borovykh A. [2]",
          "Authors (row)": "Tseng V.S. [2]",
          "Autocorrelation": 0,
          "ID": null
         },
         {
          "Authors (col)": "Chen J. [2]",
          "Authors (row)": "Tseng V.S. [2]",
          "Autocorrelation": 0,
          "ID": null
         },
         {
          "Authors (col)": "Wang J. [7]",
          "Authors (row)": "Xu J. [2]",
          "Autocorrelation": 0,
          "ID": null
         },
         {
          "Authors (col)": "Zhang G. [4]",
          "Authors (row)": "Xu J. [2]",
          "Autocorrelation": 0,
          "ID": null
         },
         {
          "Authors (col)": "Yan X. [3]",
          "Authors (row)": "Xu J. [2]",
          "Autocorrelation": 0,
          "ID": null
         },
         {
          "Authors (col)": "Hernandez G. [3]",
          "Authors (row)": "Xu J. [2]",
          "Autocorrelation": 0,
          "ID": null
         },
         {
          "Authors (col)": "Tefas A. [3]",
          "Authors (row)": "Xu J. [2]",
          "Autocorrelation": 0,
          "ID": null
         },
         {
          "Authors (col)": "Sandoval J. [3]",
          "Authors (row)": "Xu J. [2]",
          "Autocorrelation": 0,
          "ID": null
         },
         {
          "Authors (col)": "Iosifidis A. [3]",
          "Authors (row)": "Xu J. [2]",
          "Autocorrelation": 0,
          "ID": null
         },
         {
          "Authors (col)": "Zhang Y. [3]",
          "Authors (row)": "Xu J. [2]",
          "Autocorrelation": 0,
          "ID": null
         },
         {
          "Authors (col)": "Arévalo A. [3]",
          "Authors (row)": "Xu J. [2]",
          "Autocorrelation": 0,
          "ID": null
         },
         {
          "Authors (col)": "Wu J. [3]",
          "Authors (row)": "Xu J. [2]",
          "Autocorrelation": 0,
          "ID": null
         },
         {
          "Authors (col)": "Passalis N. [3]",
          "Authors (row)": "Xu J. [2]",
          "Autocorrelation": 0,
          "ID": null
         },
         {
          "Authors (col)": "Li Y. [2]",
          "Authors (row)": "Leon D. [2]",
          "Autocorrelation": 0,
          "ID": null
         },
         {
          "Authors (col)": "Wang J. [7]",
          "Authors (row)": "Leon D. [2]",
          "Autocorrelation": 0,
          "ID": null
         },
         {
          "Authors (col)": "Zhu Y. [3]",
          "Authors (row)": "Leon D. [2]",
          "Autocorrelation": 0,
          "ID": null
         },
         {
          "Authors (col)": "Borovykh A. [2]",
          "Authors (row)": "Iosifidis A. [3]",
          "Autocorrelation": 0,
          "ID": null
         },
         {
          "Authors (col)": "Bu H. [2]",
          "Authors (row)": "Iosifidis A. [3]",
          "Autocorrelation": 0,
          "ID": null
         },
         {
          "Authors (col)": "Oosterlee C.W. [2]",
          "Authors (row)": "Iosifidis A. [3]",
          "Autocorrelation": 0,
          "ID": null
         },
         {
          "Authors (col)": "Chen Y. [2]",
          "Authors (row)": "Iosifidis A. [3]",
          "Autocorrelation": 0,
          "ID": null
         },
         {
          "Authors (col)": "Fu X. [2]",
          "Authors (row)": "Iosifidis A. [3]",
          "Autocorrelation": 0,
          "ID": null
         },
         {
          "Authors (col)": "Niño J. [2]",
          "Authors (row)": "Iosifidis A. [3]",
          "Autocorrelation": 0,
          "ID": null
         },
         {
          "Authors (col)": "Lin X. [2]",
          "Authors (row)": "Iosifidis A. [3]",
          "Autocorrelation": 0,
          "ID": null
         },
         {
          "Authors (col)": "Dash P.K. [2]",
          "Authors (row)": "Iosifidis A. [3]",
          "Autocorrelation": 0,
          "ID": null
         },
         {
          "Authors (col)": "Tseng V.S. [2]",
          "Authors (row)": "Iosifidis A. [3]",
          "Autocorrelation": 0,
          "ID": null
         },
         {
          "Authors (col)": "Xu J. [2]",
          "Authors (row)": "Iosifidis A. [3]",
          "Autocorrelation": 0,
          "ID": null
         },
         {
          "Authors (col)": "Xu L. [2]",
          "Authors (row)": "Iosifidis A. [3]",
          "Autocorrelation": 0,
          "ID": null
         },
         {
          "Authors (col)": "Chen J. [2]",
          "Authors (row)": "Iosifidis A. [3]",
          "Autocorrelation": 0,
          "ID": null
         },
         {
          "Authors (col)": "Kanniainen J. [3]",
          "Authors (row)": "Zhang Y. [3]",
          "Autocorrelation": 0,
          "ID": null
         },
         {
          "Authors (col)": "Wang J. [7]",
          "Authors (row)": "Zhang Y. [3]",
          "Autocorrelation": 0,
          "ID": null
         },
         {
          "Authors (col)": "Zhang G. [4]",
          "Authors (row)": "Zhang Y. [3]",
          "Autocorrelation": 0,
          "ID": null
         },
         {
          "Authors (col)": "Yan X. [3]",
          "Authors (row)": "Zhang Y. [3]",
          "Autocorrelation": 0,
          "ID": null
         },
         {
          "Authors (col)": "Hernandez G. [3]",
          "Authors (row)": "Zhang Y. [3]",
          "Autocorrelation": 0,
          "ID": null
         },
         {
          "Authors (col)": "Tefas A. [3]",
          "Authors (row)": "Zhang Y. [3]",
          "Autocorrelation": 0,
          "ID": null
         },
         {
          "Authors (col)": "Sandoval J. [3]",
          "Authors (row)": "Zhang Y. [3]",
          "Autocorrelation": 0,
          "ID": null
         },
         {
          "Authors (col)": "Iosifidis A. [3]",
          "Authors (row)": "Zhang Y. [3]",
          "Autocorrelation": 0,
          "ID": null
         },
         {
          "Authors (col)": "Gabbouj M. [3]",
          "Authors (row)": "Zhang G. [4]",
          "Autocorrelation": 0,
          "ID": null
         },
         {
          "Authors (col)": "Arévalo A. [3]",
          "Authors (row)": "Zhang Y. [3]",
          "Autocorrelation": 0,
          "ID": null
         },
         {
          "Authors (col)": "Wu J. [3]",
          "Authors (row)": "Zhang Y. [3]",
          "Autocorrelation": 0,
          "ID": null
         },
         {
          "Authors (col)": "Leon D. [2]",
          "Authors (row)": "Iosifidis A. [3]",
          "Autocorrelation": 0,
          "ID": null
         },
         {
          "Authors (col)": "Liu C.-L. [2]",
          "Authors (row)": "Iosifidis A. [3]",
          "Autocorrelation": 0,
          "ID": null
         },
         {
          "Authors (col)": "Li Y. [2]",
          "Authors (row)": "Iosifidis A. [3]",
          "Autocorrelation": 0,
          "ID": null
         },
         {
          "Authors (col)": "Li Y. [2]",
          "Authors (row)": "Zhang G. [4]",
          "Autocorrelation": 0,
          "ID": null
         },
         {
          "Authors (col)": "Lin X. [2]",
          "Authors (row)": "Sandoval J. [3]",
          "Autocorrelation": 0,
          "ID": null
         },
         {
          "Authors (col)": "Dash P.K. [2]",
          "Authors (row)": "Sandoval J. [3]",
          "Autocorrelation": 0,
          "ID": null
         },
         {
          "Authors (col)": "Tseng V.S. [2]",
          "Authors (row)": "Sandoval J. [3]",
          "Autocorrelation": 0,
          "ID": null
         },
         {
          "Authors (col)": "Xu J. [2]",
          "Authors (row)": "Sandoval J. [3]",
          "Autocorrelation": 0,
          "ID": null
         },
         {
          "Authors (col)": "Xu L. [2]",
          "Authors (row)": "Sandoval J. [3]",
          "Autocorrelation": 0,
          "ID": null
         },
         {
          "Authors (col)": "Tsantekidis A. [2]",
          "Authors (row)": "Sandoval J. [3]",
          "Autocorrelation": 0,
          "ID": null
         },
         {
          "Authors (col)": "Borovykh A. [2]",
          "Authors (row)": "Sandoval J. [3]",
          "Autocorrelation": 0,
          "ID": null
         },
         {
          "Authors (col)": "Chen J. [2]",
          "Authors (row)": "Sandoval J. [3]",
          "Autocorrelation": 0,
          "ID": null
         },
         {
          "Authors (col)": "Wang J. [7]",
          "Authors (row)": "Iosifidis A. [3]",
          "Autocorrelation": 0,
          "ID": null
         },
         {
          "Authors (col)": "Zhang G. [4]",
          "Authors (row)": "Iosifidis A. [3]",
          "Autocorrelation": 0,
          "ID": null
         },
         {
          "Authors (col)": "Yan X. [3]",
          "Authors (row)": "Iosifidis A. [3]",
          "Autocorrelation": 0,
          "ID": null
         },
         {
          "Authors (col)": "Hernandez G. [3]",
          "Authors (row)": "Iosifidis A. [3]",
          "Autocorrelation": 0,
          "ID": null
         },
         {
          "Authors (col)": "Oosterlee C.W. [2]",
          "Authors (row)": "Zhang G. [4]",
          "Autocorrelation": 0,
          "ID": null
         },
         {
          "Authors (col)": "Sandoval J. [3]",
          "Authors (row)": "Iosifidis A. [3]",
          "Autocorrelation": 0,
          "ID": null
         },
         {
          "Authors (col)": "Bu H. [2]",
          "Authors (row)": "Zhang G. [4]",
          "Autocorrelation": 0,
          "ID": null
         },
         {
          "Authors (col)": "Zhang Y. [3]",
          "Authors (row)": "Iosifidis A. [3]",
          "Autocorrelation": 0,
          "ID": null
         },
         {
          "Authors (col)": "Arévalo A. [3]",
          "Authors (row)": "Iosifidis A. [3]",
          "Autocorrelation": 0,
          "ID": null
         },
         {
          "Authors (col)": "Wu J. [3]",
          "Authors (row)": "Iosifidis A. [3]",
          "Autocorrelation": 0,
          "ID": null
         },
         {
          "Authors (col)": "Leon D. [2]",
          "Authors (row)": "Zhang G. [4]",
          "Autocorrelation": 0,
          "ID": null
         },
         {
          "Authors (col)": "Liu C.-L. [2]",
          "Authors (row)": "Zhang G. [4]",
          "Autocorrelation": 0,
          "ID": null
         },
         {
          "Authors (col)": "Zhu Y. [3]",
          "Authors (row)": "Iosifidis A. [3]",
          "Autocorrelation": 0,
          "ID": null
         },
         {
          "Authors (col)": "Passalis N. [3]",
          "Authors (row)": "Zhang Y. [3]",
          "Autocorrelation": 0,
          "ID": null
         },
         {
          "Authors (col)": "Zhu Y. [3]",
          "Authors (row)": "Zhang Y. [3]",
          "Autocorrelation": 0,
          "ID": null
         },
         {
          "Authors (col)": "Chen Y. [2]",
          "Authors (row)": "Sandoval J. [3]",
          "Autocorrelation": 0,
          "ID": null
         },
         {
          "Authors (col)": "Lin X. [2]",
          "Authors (row)": "Arévalo A. [3]",
          "Autocorrelation": 0,
          "ID": null
         },
         {
          "Authors (col)": "Passalis N. [3]",
          "Authors (row)": "Arévalo A. [3]",
          "Autocorrelation": 0,
          "ID": null
         },
         {
          "Authors (col)": "Kanniainen J. [3]",
          "Authors (row)": "Arévalo A. [3]",
          "Autocorrelation": 0,
          "ID": null
         },
         {
          "Authors (col)": "Zhu Y. [3]",
          "Authors (row)": "Arévalo A. [3]",
          "Autocorrelation": 0,
          "ID": null
         },
         {
          "Authors (col)": "Gabbouj M. [3]",
          "Authors (row)": "Arévalo A. [3]",
          "Autocorrelation": 0,
          "ID": null
         },
         {
          "Authors (col)": "Li Y. [2]",
          "Authors (row)": "Arévalo A. [3]",
          "Autocorrelation": 0,
          "ID": null
         },
         {
          "Authors (col)": "Liu C.-L. [2]",
          "Authors (row)": "Arévalo A. [3]",
          "Autocorrelation": 0,
          "ID": null
         },
         {
          "Authors (col)": "Bu H. [2]",
          "Authors (row)": "Arévalo A. [3]",
          "Autocorrelation": 0,
          "ID": null
         },
         {
          "Authors (col)": "Oosterlee C.W. [2]",
          "Authors (row)": "Arévalo A. [3]",
          "Autocorrelation": 0,
          "ID": null
         },
         {
          "Authors (col)": "Chen Y. [2]",
          "Authors (row)": "Arévalo A. [3]",
          "Autocorrelation": 0,
          "ID": null
         },
         {
          "Authors (col)": "Fu X. [2]",
          "Authors (row)": "Arévalo A. [3]",
          "Autocorrelation": 0,
          "ID": null
         },
         {
          "Authors (col)": "Dash P.K. [2]",
          "Authors (row)": "Arévalo A. [3]",
          "Autocorrelation": 0,
          "ID": null
         },
         {
          "Authors (col)": "Gabbouj M. [3]",
          "Authors (row)": "Zhang Y. [3]",
          "Autocorrelation": 0,
          "ID": null
         },
         {
          "Authors (col)": "Tseng V.S. [2]",
          "Authors (row)": "Arévalo A. [3]",
          "Autocorrelation": 0,
          "ID": null
         },
         {
          "Authors (col)": "Xu J. [2]",
          "Authors (row)": "Arévalo A. [3]",
          "Autocorrelation": 0,
          "ID": null
         },
         {
          "Authors (col)": "Xu L. [2]",
          "Authors (row)": "Arévalo A. [3]",
          "Autocorrelation": 0,
          "ID": null
         },
         {
          "Authors (col)": "Tsantekidis A. [2]",
          "Authors (row)": "Arévalo A. [3]",
          "Autocorrelation": 0,
          "ID": null
         },
         {
          "Authors (col)": "Borovykh A. [2]",
          "Authors (row)": "Arévalo A. [3]",
          "Autocorrelation": 0,
          "ID": null
         },
         {
          "Authors (col)": "Chen J. [2]",
          "Authors (row)": "Arévalo A. [3]",
          "Autocorrelation": 0,
          "ID": null
         },
         {
          "Authors (col)": "Wang J. [7]",
          "Authors (row)": "Wu J. [3]",
          "Autocorrelation": 0,
          "ID": null
         },
         {
          "Authors (col)": "Zhang G. [4]",
          "Authors (row)": "Wu J. [3]",
          "Autocorrelation": 0,
          "ID": null
         },
         {
          "Authors (col)": "Yan X. [3]",
          "Authors (row)": "Wu J. [3]",
          "Autocorrelation": 0,
          "ID": null
         },
         {
          "Authors (col)": "Hernandez G. [3]",
          "Authors (row)": "Wu J. [3]",
          "Autocorrelation": 0,
          "ID": null
         },
         {
          "Authors (col)": "Wu J. [3]",
          "Authors (row)": "Arévalo A. [3]",
          "Autocorrelation": 0,
          "ID": null
         },
         {
          "Authors (col)": "Passalis N. [3]",
          "Authors (row)": "Zhang G. [4]",
          "Autocorrelation": 0,
          "ID": null
         },
         {
          "Authors (col)": "Zhang Y. [3]",
          "Authors (row)": "Arévalo A. [3]",
          "Autocorrelation": 0,
          "ID": null
         },
         {
          "Authors (col)": "Iosifidis A. [3]",
          "Authors (row)": "Arévalo A. [3]",
          "Autocorrelation": 0,
          "ID": null
         },
         {
          "Authors (col)": "Li Y. [2]",
          "Authors (row)": "Zhang Y. [3]",
          "Autocorrelation": 0,
          "ID": null
         },
         {
          "Authors (col)": "Liu C.-L. [2]",
          "Authors (row)": "Zhang Y. [3]",
          "Autocorrelation": 0,
          "ID": null
         },
         {
          "Authors (col)": "Leon D. [2]",
          "Authors (row)": "Zhang Y. [3]",
          "Autocorrelation": 0,
          "ID": null
         },
         {
          "Authors (col)": "Bu H. [2]",
          "Authors (row)": "Zhang Y. [3]",
          "Autocorrelation": 0,
          "ID": null
         },
         {
          "Authors (col)": "Oosterlee C.W. [2]",
          "Authors (row)": "Zhang Y. [3]",
          "Autocorrelation": 0,
          "ID": null
         },
         {
          "Authors (col)": "Chen Y. [2]",
          "Authors (row)": "Zhang Y. [3]",
          "Autocorrelation": 0,
          "ID": null
         },
         {
          "Authors (col)": "Fu X. [2]",
          "Authors (row)": "Zhang Y. [3]",
          "Autocorrelation": 0,
          "ID": null
         },
         {
          "Authors (col)": "Niño J. [2]",
          "Authors (row)": "Zhang Y. [3]",
          "Autocorrelation": 0,
          "ID": null
         },
         {
          "Authors (col)": "Lin X. [2]",
          "Authors (row)": "Zhang Y. [3]",
          "Autocorrelation": 0,
          "ID": null
         },
         {
          "Authors (col)": "Dash P.K. [2]",
          "Authors (row)": "Zhang Y. [3]",
          "Autocorrelation": 0,
          "ID": null
         },
         {
          "Authors (col)": "Tseng V.S. [2]",
          "Authors (row)": "Zhang Y. [3]",
          "Autocorrelation": 0,
          "ID": null
         },
         {
          "Authors (col)": "Xu J. [2]",
          "Authors (row)": "Zhang Y. [3]",
          "Autocorrelation": 0,
          "ID": null
         },
         {
          "Authors (col)": "Xu L. [2]",
          "Authors (row)": "Zhang Y. [3]",
          "Autocorrelation": 0,
          "ID": null
         },
         {
          "Authors (col)": "Tsantekidis A. [2]",
          "Authors (row)": "Zhang Y. [3]",
          "Autocorrelation": 0,
          "ID": null
         },
         {
          "Authors (col)": "Borovykh A. [2]",
          "Authors (row)": "Zhang Y. [3]",
          "Autocorrelation": 0,
          "ID": null
         },
         {
          "Authors (col)": "Chen J. [2]",
          "Authors (row)": "Zhang Y. [3]",
          "Autocorrelation": 0,
          "ID": null
         },
         {
          "Authors (col)": "Wang J. [7]",
          "Authors (row)": "Arévalo A. [3]",
          "Autocorrelation": 0,
          "ID": null
         },
         {
          "Authors (col)": "Zhang G. [4]",
          "Authors (row)": "Arévalo A. [3]",
          "Autocorrelation": 0,
          "ID": null
         },
         {
          "Authors (col)": "Yan X. [3]",
          "Authors (row)": "Arévalo A. [3]",
          "Autocorrelation": 0,
          "ID": null
         },
         {
          "Authors (col)": "Tefas A. [3]",
          "Authors (row)": "Arévalo A. [3]",
          "Autocorrelation": 0,
          "ID": null
         },
         {
          "Authors (col)": "Kanniainen J. [3]",
          "Authors (row)": "Zhang G. [4]",
          "Autocorrelation": 0,
          "ID": null
         },
         {
          "Authors (col)": "Fu X. [2]",
          "Authors (row)": "Sandoval J. [3]",
          "Autocorrelation": 0,
          "ID": null
         },
         {
          "Authors (col)": "Oosterlee C.W. [2]",
          "Authors (row)": "Sandoval J. [3]",
          "Autocorrelation": 0,
          "ID": null
         },
         {
          "Authors (col)": "Sandoval J. [3]",
          "Authors (row)": "Wu J. [3]",
          "Autocorrelation": 0,
          "ID": null
         },
         {
          "Authors (col)": "Tsantekidis A. [2]",
          "Authors (row)": "Zhang G. [4]",
          "Autocorrelation": 0,
          "ID": null
         },
         {
          "Authors (col)": "Borovykh A. [2]",
          "Authors (row)": "Yan X. [3]",
          "Autocorrelation": 0,
          "ID": null
         },
         {
          "Authors (col)": "Chen J. [2]",
          "Authors (row)": "Yan X. [3]",
          "Autocorrelation": 0,
          "ID": null
         },
         {
          "Authors (col)": "Wang J. [7]",
          "Authors (row)": "Hernandez G. [3]",
          "Autocorrelation": 0,
          "ID": null
         },
         {
          "Authors (col)": "Zhang G. [4]",
          "Authors (row)": "Hernandez G. [3]",
          "Autocorrelation": 0,
          "ID": null
         },
         {
          "Authors (col)": "Yan X. [3]",
          "Authors (row)": "Hernandez G. [3]",
          "Autocorrelation": 0,
          "ID": null
         },
         {
          "Authors (col)": "Chen J. [2]",
          "Authors (row)": "Zhang G. [4]",
          "Autocorrelation": 0,
          "ID": null
         },
         {
          "Authors (col)": "Tefas A. [3]",
          "Authors (row)": "Hernandez G. [3]",
          "Autocorrelation": 0,
          "ID": null
         },
         {
          "Authors (col)": "Borovykh A. [2]",
          "Authors (row)": "Zhang G. [4]",
          "Autocorrelation": 0,
          "ID": null
         },
         {
          "Authors (col)": "Iosifidis A. [3]",
          "Authors (row)": "Hernandez G. [3]",
          "Autocorrelation": 0,
          "ID": null
         },
         {
          "Authors (col)": "Zhang Y. [3]",
          "Authors (row)": "Hernandez G. [3]",
          "Autocorrelation": 0,
          "ID": null
         },
         {
          "Authors (col)": "Wu J. [3]",
          "Authors (row)": "Hernandez G. [3]",
          "Autocorrelation": 0,
          "ID": null
         },
         {
          "Authors (col)": "Dash P.K. [2]",
          "Authors (row)": "Hernandez G. [3]",
          "Autocorrelation": 0,
          "ID": null
         },
         {
          "Authors (col)": "Passalis N. [3]",
          "Authors (row)": "Hernandez G. [3]",
          "Autocorrelation": 0,
          "ID": null
         },
         {
          "Authors (col)": "Kanniainen J. [3]",
          "Authors (row)": "Hernandez G. [3]",
          "Autocorrelation": 0,
          "ID": null
         },
         {
          "Authors (col)": "Zhu Y. [3]",
          "Authors (row)": "Hernandez G. [3]",
          "Autocorrelation": 0,
          "ID": null
         },
         {
          "Authors (col)": "Gabbouj M. [3]",
          "Authors (row)": "Hernandez G. [3]",
          "Autocorrelation": 0,
          "ID": null
         },
         {
          "Authors (col)": "Li Y. [2]",
          "Authors (row)": "Hernandez G. [3]",
          "Autocorrelation": 0,
          "ID": null
         },
         {
          "Authors (col)": "Liu C.-L. [2]",
          "Authors (row)": "Hernandez G. [3]",
          "Autocorrelation": 0,
          "ID": null
         },
         {
          "Authors (col)": "Bu H. [2]",
          "Authors (row)": "Hernandez G. [3]",
          "Autocorrelation": 0,
          "ID": null
         },
         {
          "Authors (col)": "Oosterlee C.W. [2]",
          "Authors (row)": "Hernandez G. [3]",
          "Autocorrelation": 0,
          "ID": null
         },
         {
          "Authors (col)": "Chen Y. [2]",
          "Authors (row)": "Hernandez G. [3]",
          "Autocorrelation": 0,
          "ID": null
         },
         {
          "Authors (col)": "Fu X. [2]",
          "Authors (row)": "Hernandez G. [3]",
          "Autocorrelation": 0,
          "ID": null
         },
         {
          "Authors (col)": "Tsantekidis A. [2]",
          "Authors (row)": "Yan X. [3]",
          "Autocorrelation": 0,
          "ID": null
         },
         {
          "Authors (col)": "Xu L. [2]",
          "Authors (row)": "Yan X. [3]",
          "Autocorrelation": 0,
          "ID": null
         },
         {
          "Authors (col)": "Xu J. [2]",
          "Authors (row)": "Yan X. [3]",
          "Autocorrelation": 0,
          "ID": null
         },
         {
          "Authors (col)": "Tseng V.S. [2]",
          "Authors (row)": "Yan X. [3]",
          "Autocorrelation": 0,
          "ID": null
         },
         {
          "Authors (col)": "Hernandez G. [3]",
          "Authors (row)": "Yan X. [3]",
          "Autocorrelation": 0,
          "ID": null
         },
         {
          "Authors (col)": "Tefas A. [3]",
          "Authors (row)": "Yan X. [3]",
          "Autocorrelation": 0,
          "ID": null
         },
         {
          "Authors (col)": "Sandoval J. [3]",
          "Authors (row)": "Yan X. [3]",
          "Autocorrelation": 0,
          "ID": null
         },
         {
          "Authors (col)": "Iosifidis A. [3]",
          "Authors (row)": "Yan X. [3]",
          "Autocorrelation": 0,
          "ID": null
         },
         {
          "Authors (col)": "Zhang Y. [3]",
          "Authors (row)": "Yan X. [3]",
          "Autocorrelation": 0,
          "ID": null
         },
         {
          "Authors (col)": "Arévalo A. [3]",
          "Authors (row)": "Yan X. [3]",
          "Autocorrelation": 0,
          "ID": null
         },
         {
          "Authors (col)": "Wu J. [3]",
          "Authors (row)": "Yan X. [3]",
          "Autocorrelation": 0,
          "ID": null
         },
         {
          "Authors (col)": "Passalis N. [3]",
          "Authors (row)": "Yan X. [3]",
          "Autocorrelation": 0,
          "ID": null
         },
         {
          "Authors (col)": "Kanniainen J. [3]",
          "Authors (row)": "Yan X. [3]",
          "Autocorrelation": 0,
          "ID": null
         },
         {
          "Authors (col)": "Zhu Y. [3]",
          "Authors (row)": "Yan X. [3]",
          "Autocorrelation": 0,
          "ID": null
         },
         {
          "Authors (col)": "Gabbouj M. [3]",
          "Authors (row)": "Yan X. [3]",
          "Autocorrelation": 0,
          "ID": null
         },
         {
          "Authors (col)": "Li Y. [2]",
          "Authors (row)": "Yan X. [3]",
          "Autocorrelation": 0,
          "ID": null
         },
         {
          "Authors (col)": "Liu C.-L. [2]",
          "Authors (row)": "Yan X. [3]",
          "Autocorrelation": 0,
          "ID": null
         },
         {
          "Authors (col)": "Leon D. [2]",
          "Authors (row)": "Yan X. [3]",
          "Autocorrelation": 0,
          "ID": null
         },
         {
          "Authors (col)": "Bu H. [2]",
          "Authors (row)": "Yan X. [3]",
          "Autocorrelation": 0,
          "ID": null
         },
         {
          "Authors (col)": "Oosterlee C.W. [2]",
          "Authors (row)": "Yan X. [3]",
          "Autocorrelation": 0,
          "ID": null
         },
         {
          "Authors (col)": "Chen Y. [2]",
          "Authors (row)": "Yan X. [3]",
          "Autocorrelation": 0,
          "ID": null
         },
         {
          "Authors (col)": "Fu X. [2]",
          "Authors (row)": "Yan X. [3]",
          "Autocorrelation": 0,
          "ID": null
         },
         {
          "Authors (col)": "Niño J. [2]",
          "Authors (row)": "Yan X. [3]",
          "Autocorrelation": 0,
          "ID": null
         },
         {
          "Authors (col)": "Lin X. [2]",
          "Authors (row)": "Yan X. [3]",
          "Autocorrelation": 0,
          "ID": null
         },
         {
          "Authors (col)": "Dash P.K. [2]",
          "Authors (row)": "Yan X. [3]",
          "Autocorrelation": 0,
          "ID": null
         },
         {
          "Authors (col)": "Lin X. [2]",
          "Authors (row)": "Hernandez G. [3]",
          "Autocorrelation": 0,
          "ID": null
         },
         {
          "Authors (col)": "Tseng V.S. [2]",
          "Authors (row)": "Hernandez G. [3]",
          "Autocorrelation": 0,
          "ID": null
         },
         {
          "Authors (col)": "Bu H. [2]",
          "Authors (row)": "Sandoval J. [3]",
          "Autocorrelation": 0,
          "ID": null
         },
         {
          "Authors (col)": "Niño J. [2]",
          "Authors (row)": "Zhang G. [4]",
          "Autocorrelation": 0,
          "ID": null
         },
         {
          "Authors (col)": "Lin X. [2]",
          "Authors (row)": "Tefas A. [3]",
          "Autocorrelation": 0,
          "ID": null
         },
         {
          "Authors (col)": "Dash P.K. [2]",
          "Authors (row)": "Tefas A. [3]",
          "Autocorrelation": 0,
          "ID": null
         },
         {
          "Authors (col)": "Tseng V.S. [2]",
          "Authors (row)": "Tefas A. [3]",
          "Autocorrelation": 0,
          "ID": null
         },
         {
          "Authors (col)": "Xu J. [2]",
          "Authors (row)": "Tefas A. [3]",
          "Autocorrelation": 0,
          "ID": null
         },
         {
          "Authors (col)": "Xu L. [2]",
          "Authors (row)": "Tefas A. [3]",
          "Autocorrelation": 0,
          "ID": null
         },
         {
          "Authors (col)": "Borovykh A. [2]",
          "Authors (row)": "Tefas A. [3]",
          "Autocorrelation": 0,
          "ID": null
         },
         {
          "Authors (col)": "Chen J. [2]",
          "Authors (row)": "Tefas A. [3]",
          "Autocorrelation": 0,
          "ID": null
         },
         {
          "Authors (col)": "Wang J. [7]",
          "Authors (row)": "Sandoval J. [3]",
          "Autocorrelation": 0,
          "ID": null
         },
         {
          "Authors (col)": "Zhang G. [4]",
          "Authors (row)": "Sandoval J. [3]",
          "Autocorrelation": 0,
          "ID": null
         },
         {
          "Authors (col)": "Yan X. [3]",
          "Authors (row)": "Sandoval J. [3]",
          "Autocorrelation": 0,
          "ID": null
         },
         {
          "Authors (col)": "Tefas A. [3]",
          "Authors (row)": "Sandoval J. [3]",
          "Autocorrelation": 0,
          "ID": null
         },
         {
          "Authors (col)": "Xu J. [2]",
          "Authors (row)": "Hernandez G. [3]",
          "Autocorrelation": 0,
          "ID": null
         },
         {
          "Authors (col)": "Iosifidis A. [3]",
          "Authors (row)": "Sandoval J. [3]",
          "Autocorrelation": 0,
          "ID": null
         },
         {
          "Authors (col)": "Zhang Y. [3]",
          "Authors (row)": "Sandoval J. [3]",
          "Autocorrelation": 0,
          "ID": null
         },
         {
          "Authors (col)": "Chen Y. [2]",
          "Authors (row)": "Zhang G. [4]",
          "Autocorrelation": 0,
          "ID": null
         },
         {
          "Authors (col)": "Wu J. [3]",
          "Authors (row)": "Sandoval J. [3]",
          "Autocorrelation": 0,
          "ID": null
         },
         {
          "Authors (col)": "Passalis N. [3]",
          "Authors (row)": "Sandoval J. [3]",
          "Autocorrelation": 0,
          "ID": null
         },
         {
          "Authors (col)": "Kanniainen J. [3]",
          "Authors (row)": "Sandoval J. [3]",
          "Autocorrelation": 0,
          "ID": null
         },
         {
          "Authors (col)": "Zhu Y. [3]",
          "Authors (row)": "Sandoval J. [3]",
          "Autocorrelation": 0,
          "ID": null
         },
         {
          "Authors (col)": "Gabbouj M. [3]",
          "Authors (row)": "Sandoval J. [3]",
          "Autocorrelation": 0,
          "ID": null
         },
         {
          "Authors (col)": "Li Y. [2]",
          "Authors (row)": "Sandoval J. [3]",
          "Autocorrelation": 0,
          "ID": null
         },
         {
          "Authors (col)": "Liu C.-L. [2]",
          "Authors (row)": "Sandoval J. [3]",
          "Autocorrelation": 0,
          "ID": null
         },
         {
          "Authors (col)": "Niño J. [2]",
          "Authors (row)": "Tefas A. [3]",
          "Autocorrelation": 0,
          "ID": null
         },
         {
          "Authors (col)": "Fu X. [2]",
          "Authors (row)": "Tefas A. [3]",
          "Autocorrelation": 0,
          "ID": null
         },
         {
          "Authors (col)": "Chen Y. [2]",
          "Authors (row)": "Tefas A. [3]",
          "Autocorrelation": 0,
          "ID": null
         },
         {
          "Authors (col)": "Oosterlee C.W. [2]",
          "Authors (row)": "Tefas A. [3]",
          "Autocorrelation": 0,
          "ID": null
         },
         {
          "Authors (col)": "Xu L. [2]",
          "Authors (row)": "Hernandez G. [3]",
          "Autocorrelation": 0,
          "ID": null
         },
         {
          "Authors (col)": "Tsantekidis A. [2]",
          "Authors (row)": "Hernandez G. [3]",
          "Autocorrelation": 0,
          "ID": null
         },
         {
          "Authors (col)": "Borovykh A. [2]",
          "Authors (row)": "Hernandez G. [3]",
          "Autocorrelation": 0,
          "ID": null
         },
         {
          "Authors (col)": "Chen J. [2]",
          "Authors (row)": "Hernandez G. [3]",
          "Autocorrelation": 0,
          "ID": null
         },
         {
          "Authors (col)": "Wang J. [7]",
          "Authors (row)": "Tefas A. [3]",
          "Autocorrelation": 0,
          "ID": null
         },
         {
          "Authors (col)": "Zhang G. [4]",
          "Authors (row)": "Tefas A. [3]",
          "Autocorrelation": 0,
          "ID": null
         },
         {
          "Authors (col)": "Yan X. [3]",
          "Authors (row)": "Tefas A. [3]",
          "Autocorrelation": 0,
          "ID": null
         },
         {
          "Authors (col)": "Hernandez G. [3]",
          "Authors (row)": "Tefas A. [3]",
          "Autocorrelation": 0,
          "ID": null
         },
         {
          "Authors (col)": "Sandoval J. [3]",
          "Authors (row)": "Tefas A. [3]",
          "Autocorrelation": 0,
          "ID": null
         },
         {
          "Authors (col)": "Xu J. [2]",
          "Authors (row)": "Zhang G. [4]",
          "Autocorrelation": 0,
          "ID": null
         },
         {
          "Authors (col)": "Zhang Y. [3]",
          "Authors (row)": "Tefas A. [3]",
          "Autocorrelation": 0,
          "ID": null
         },
         {
          "Authors (col)": "Arévalo A. [3]",
          "Authors (row)": "Tefas A. [3]",
          "Autocorrelation": 0,
          "ID": null
         },
         {
          "Authors (col)": "Wu J. [3]",
          "Authors (row)": "Tefas A. [3]",
          "Autocorrelation": 0,
          "ID": null
         },
         {
          "Authors (col)": "Tseng V.S. [2]",
          "Authors (row)": "Zhang G. [4]",
          "Autocorrelation": 0,
          "ID": null
         },
         {
          "Authors (col)": "Dash P.K. [2]",
          "Authors (row)": "Zhang G. [4]",
          "Autocorrelation": 0,
          "ID": null
         },
         {
          "Authors (col)": "Zhu Y. [3]",
          "Authors (row)": "Tefas A. [3]",
          "Autocorrelation": 0,
          "ID": null
         },
         {
          "Authors (col)": "Lin X. [2]",
          "Authors (row)": "Zhang G. [4]",
          "Autocorrelation": 0,
          "ID": null
         },
         {
          "Authors (col)": "Li Y. [2]",
          "Authors (row)": "Tefas A. [3]",
          "Autocorrelation": 0,
          "ID": null
         },
         {
          "Authors (col)": "Liu C.-L. [2]",
          "Authors (row)": "Tefas A. [3]",
          "Autocorrelation": 0,
          "ID": null
         },
         {
          "Authors (col)": "Leon D. [2]",
          "Authors (row)": "Tefas A. [3]",
          "Autocorrelation": 0,
          "ID": null
         },
         {
          "Authors (col)": "Bu H. [2]",
          "Authors (row)": "Tefas A. [3]",
          "Autocorrelation": 0,
          "ID": null
         },
         {
          "Authors (col)": "Tefas A. [3]",
          "Authors (row)": "Wu J. [3]",
          "Autocorrelation": 0,
          "ID": null
         },
         {
          "Authors (col)": "Iosifidis A. [3]",
          "Authors (row)": "Wu J. [3]",
          "Autocorrelation": 0,
          "ID": null
         },
         {
          "Authors (col)": "Kanniainen J. [3]",
          "Authors (row)": "Leon D. [2]",
          "Autocorrelation": 0,
          "ID": null
         },
         {
          "Authors (col)": "Sandoval J. [3]",
          "Authors (row)": "Li Y. [2]",
          "Autocorrelation": 0,
          "ID": null
         },
         {
          "Authors (col)": "Tseng V.S. [2]",
          "Authors (row)": "Gabbouj M. [3]",
          "Autocorrelation": 0,
          "ID": null
         },
         {
          "Authors (col)": "Xu J. [2]",
          "Authors (row)": "Gabbouj M. [3]",
          "Autocorrelation": 0,
          "ID": null
         },
         {
          "Authors (col)": "Xu L. [2]",
          "Authors (row)": "Gabbouj M. [3]",
          "Autocorrelation": 0,
          "ID": null
         },
         {
          "Authors (col)": "Borovykh A. [2]",
          "Authors (row)": "Gabbouj M. [3]",
          "Autocorrelation": 0,
          "ID": null
         },
         {
          "Authors (col)": "Chen J. [2]",
          "Authors (row)": "Gabbouj M. [3]",
          "Autocorrelation": 0,
          "ID": null
         },
         {
          "Authors (col)": "Wang J. [7]",
          "Authors (row)": "Li Y. [2]",
          "Autocorrelation": 0,
          "ID": null
         },
         {
          "Authors (col)": "Zhang G. [4]",
          "Authors (row)": "Li Y. [2]",
          "Autocorrelation": 0,
          "ID": null
         },
         {
          "Authors (col)": "Yan X. [3]",
          "Authors (row)": "Li Y. [2]",
          "Autocorrelation": 0,
          "ID": null
         },
         {
          "Authors (col)": "Hernandez G. [3]",
          "Authors (row)": "Li Y. [2]",
          "Autocorrelation": 0,
          "ID": null
         },
         {
          "Authors (col)": "Tefas A. [3]",
          "Authors (row)": "Li Y. [2]",
          "Autocorrelation": 0,
          "ID": null
         },
         {
          "Authors (col)": "Iosifidis A. [3]",
          "Authors (row)": "Li Y. [2]",
          "Autocorrelation": 0,
          "ID": null
         },
         {
          "Authors (col)": "Oosterlee C.W. [2]",
          "Authors (row)": "Li Y. [2]",
          "Autocorrelation": 0,
          "ID": null
         },
         {
          "Authors (col)": "Zhang Y. [3]",
          "Authors (row)": "Li Y. [2]",
          "Autocorrelation": 0,
          "ID": null
         },
         {
          "Authors (col)": "Arévalo A. [3]",
          "Authors (row)": "Li Y. [2]",
          "Autocorrelation": 0,
          "ID": null
         },
         {
          "Authors (col)": "Wu J. [3]",
          "Authors (row)": "Li Y. [2]",
          "Autocorrelation": 0,
          "ID": null
         },
         {
          "Authors (col)": "Passalis N. [3]",
          "Authors (row)": "Li Y. [2]",
          "Autocorrelation": 0,
          "ID": null
         },
         {
          "Authors (col)": "Kanniainen J. [3]",
          "Authors (row)": "Li Y. [2]",
          "Autocorrelation": 0,
          "ID": null
         },
         {
          "Authors (col)": "Zhu Y. [3]",
          "Authors (row)": "Li Y. [2]",
          "Autocorrelation": 0,
          "ID": null
         },
         {
          "Authors (col)": "Gabbouj M. [3]",
          "Authors (row)": "Li Y. [2]",
          "Autocorrelation": 0,
          "ID": null
         },
         {
          "Authors (col)": "Lin X. [2]",
          "Authors (row)": "Wang J. [7]",
          "Autocorrelation": 0,
          "ID": null
         },
         {
          "Authors (col)": "Liu C.-L. [2]",
          "Authors (row)": "Li Y. [2]",
          "Autocorrelation": 0,
          "ID": null
         },
         {
          "Authors (col)": "Leon D. [2]",
          "Authors (row)": "Li Y. [2]",
          "Autocorrelation": 0,
          "ID": null
         },
         {
          "Authors (col)": "Dash P.K. [2]",
          "Authors (row)": "Gabbouj M. [3]",
          "Autocorrelation": 0,
          "ID": null
         },
         {
          "Authors (col)": "Lin X. [2]",
          "Authors (row)": "Gabbouj M. [3]",
          "Autocorrelation": 0,
          "ID": null
         },
         {
          "Authors (col)": "Niño J. [2]",
          "Authors (row)": "Gabbouj M. [3]",
          "Autocorrelation": 0,
          "ID": null
         },
         {
          "Authors (col)": "Fu X. [2]",
          "Authors (row)": "Gabbouj M. [3]",
          "Autocorrelation": 0,
          "ID": null
         },
         {
          "Authors (col)": "Borovykh A. [2]",
          "Authors (row)": "Zhu Y. [3]",
          "Autocorrelation": 0,
          "ID": null
         },
         {
          "Authors (col)": "Wang J. [7]",
          "Authors (row)": "Gabbouj M. [3]",
          "Autocorrelation": 0,
          "ID": null
         },
         {
          "Authors (col)": "Zhang G. [4]",
          "Authors (row)": "Gabbouj M. [3]",
          "Autocorrelation": 0,
          "ID": null
         },
         {
          "Authors (col)": "Yan X. [3]",
          "Authors (row)": "Gabbouj M. [3]",
          "Autocorrelation": 0,
          "ID": null
         },
         {
          "Authors (col)": "Hernandez G. [3]",
          "Authors (row)": "Gabbouj M. [3]",
          "Autocorrelation": 0,
          "ID": null
         },
         {
          "Authors (col)": "Tsantekidis A. [2]",
          "Authors (row)": "Wang J. [7]",
          "Autocorrelation": 0,
          "ID": null
         },
         {
          "Authors (col)": "Sandoval J. [3]",
          "Authors (row)": "Gabbouj M. [3]",
          "Autocorrelation": 0,
          "ID": null
         },
         {
          "Authors (col)": "Xu L. [2]",
          "Authors (row)": "Wang J. [7]",
          "Autocorrelation": 0,
          "ID": null
         },
         {
          "Authors (col)": "Zhang Y. [3]",
          "Authors (row)": "Gabbouj M. [3]",
          "Autocorrelation": 0,
          "ID": null
         },
         {
          "Authors (col)": "Arévalo A. [3]",
          "Authors (row)": "Gabbouj M. [3]",
          "Autocorrelation": 0,
          "ID": null
         },
         {
          "Authors (col)": "Wu J. [3]",
          "Authors (row)": "Gabbouj M. [3]",
          "Autocorrelation": 0,
          "ID": null
         },
         {
          "Authors (col)": "Xu J. [2]",
          "Authors (row)": "Wang J. [7]",
          "Autocorrelation": 0,
          "ID": null
         },
         {
          "Authors (col)": "Tseng V.S. [2]",
          "Authors (row)": "Wang J. [7]",
          "Autocorrelation": 0,
          "ID": null
         },
         {
          "Authors (col)": "Zhu Y. [3]",
          "Authors (row)": "Gabbouj M. [3]",
          "Autocorrelation": 0,
          "ID": null
         },
         {
          "Authors (col)": "Dash P.K. [2]",
          "Authors (row)": "Wang J. [7]",
          "Autocorrelation": 0,
          "ID": null
         },
         {
          "Authors (col)": "Li Y. [2]",
          "Authors (row)": "Gabbouj M. [3]",
          "Autocorrelation": 0,
          "ID": null
         },
         {
          "Authors (col)": "Liu C.-L. [2]",
          "Authors (row)": "Gabbouj M. [3]",
          "Autocorrelation": 0,
          "ID": null
         },
         {
          "Authors (col)": "Leon D. [2]",
          "Authors (row)": "Gabbouj M. [3]",
          "Autocorrelation": 0,
          "ID": null
         },
         {
          "Authors (col)": "Bu H. [2]",
          "Authors (row)": "Gabbouj M. [3]",
          "Autocorrelation": 0,
          "ID": null
         },
         {
          "Authors (col)": "Oosterlee C.W. [2]",
          "Authors (row)": "Gabbouj M. [3]",
          "Autocorrelation": 0,
          "ID": null
         },
         {
          "Authors (col)": "Chen Y. [2]",
          "Authors (row)": "Gabbouj M. [3]",
          "Autocorrelation": 0,
          "ID": null
         },
         {
          "Authors (col)": "Bu H. [2]",
          "Authors (row)": "Li Y. [2]",
          "Autocorrelation": 0,
          "ID": null
         },
         {
          "Authors (col)": "Chen Y. [2]",
          "Authors (row)": "Li Y. [2]",
          "Autocorrelation": 0,
          "ID": null
         },
         {
          "Authors (col)": "Xu L. [2]",
          "Authors (row)": "Zhu Y. [3]",
          "Autocorrelation": 0,
          "ID": null
         },
         {
          "Authors (col)": "Xu L. [2]",
          "Authors (row)": "Liu C.-L. [2]",
          "Autocorrelation": 0,
          "ID": null
         },
         {
          "Authors (col)": "Leon D. [2]",
          "Authors (row)": "Liu C.-L. [2]",
          "Autocorrelation": 0,
          "ID": null
         },
         {
          "Authors (col)": "Bu H. [2]",
          "Authors (row)": "Liu C.-L. [2]",
          "Autocorrelation": 0,
          "ID": null
         },
         {
          "Authors (col)": "Oosterlee C.W. [2]",
          "Authors (row)": "Liu C.-L. [2]",
          "Autocorrelation": 0,
          "ID": null
         },
         {
          "Authors (col)": "Chen Y. [2]",
          "Authors (row)": "Liu C.-L. [2]",
          "Autocorrelation": 0,
          "ID": null
         },
         {
          "Authors (col)": "Fu X. [2]",
          "Authors (row)": "Liu C.-L. [2]",
          "Autocorrelation": 0,
          "ID": null
         },
         {
          "Authors (col)": "Niño J. [2]",
          "Authors (row)": "Liu C.-L. [2]",
          "Autocorrelation": 0,
          "ID": null
         },
         {
          "Authors (col)": "Lin X. [2]",
          "Authors (row)": "Liu C.-L. [2]",
          "Autocorrelation": 0,
          "ID": null
         },
         {
          "Authors (col)": "Dash P.K. [2]",
          "Authors (row)": "Liu C.-L. [2]",
          "Autocorrelation": 0,
          "ID": null
         },
         {
          "Authors (col)": "Fu X. [2]",
          "Authors (row)": "Wang J. [7]",
          "Autocorrelation": 0,
          "ID": null
         },
         {
          "Authors (col)": "Xu J. [2]",
          "Authors (row)": "Liu C.-L. [2]",
          "Autocorrelation": 0,
          "ID": null
         },
         {
          "Authors (col)": "Tsantekidis A. [2]",
          "Authors (row)": "Liu C.-L. [2]",
          "Autocorrelation": 0,
          "ID": null
         },
         {
          "Authors (col)": "Fu X. [2]",
          "Authors (row)": "Li Y. [2]",
          "Autocorrelation": 0,
          "ID": null
         },
         {
          "Authors (col)": "Borovykh A. [2]",
          "Authors (row)": "Liu C.-L. [2]",
          "Autocorrelation": 0,
          "ID": null
         },
         {
          "Authors (col)": "Chen J. [2]",
          "Authors (row)": "Liu C.-L. [2]",
          "Autocorrelation": 0,
          "ID": null
         },
         {
          "Authors (col)": "Wang J. [7]",
          "Authors (row)": "Yan X. [3]",
          "Autocorrelation": 0,
          "ID": null
         },
         {
          "Authors (col)": "Zhang G. [4]",
          "Authors (row)": "Leon D. [2]",
          "Autocorrelation": 0,
          "ID": null
         },
         {
          "Authors (col)": "Yan X. [3]",
          "Authors (row)": "Leon D. [2]",
          "Autocorrelation": 0,
          "ID": null
         },
         {
          "Authors (col)": "Tefas A. [3]",
          "Authors (row)": "Leon D. [2]",
          "Autocorrelation": 0,
          "ID": null
         },
         {
          "Authors (col)": "Iosifidis A. [3]",
          "Authors (row)": "Leon D. [2]",
          "Autocorrelation": 0,
          "ID": null
         },
         {
          "Authors (col)": "Zhang Y. [3]",
          "Authors (row)": "Leon D. [2]",
          "Autocorrelation": 0,
          "ID": null
         },
         {
          "Authors (col)": "Wu J. [3]",
          "Authors (row)": "Leon D. [2]",
          "Autocorrelation": 0,
          "ID": null
         },
         {
          "Authors (col)": "Passalis N. [3]",
          "Authors (row)": "Leon D. [2]",
          "Autocorrelation": 0,
          "ID": null
         },
         {
          "Authors (col)": "Niño J. [2]",
          "Authors (row)": "Wang J. [7]",
          "Autocorrelation": 0,
          "ID": null
         },
         {
          "Authors (col)": "Li Y. [2]",
          "Authors (row)": "Liu C.-L. [2]",
          "Autocorrelation": 0,
          "ID": null
         },
         {
          "Authors (col)": "Gabbouj M. [3]",
          "Authors (row)": "Liu C.-L. [2]",
          "Autocorrelation": 0,
          "ID": null
         },
         {
          "Authors (col)": "Zhu Y. [3]",
          "Authors (row)": "Liu C.-L. [2]",
          "Autocorrelation": 0,
          "ID": null
         },
         {
          "Authors (col)": "Niño J. [2]",
          "Authors (row)": "Li Y. [2]",
          "Autocorrelation": 0,
          "ID": null
         },
         {
          "Authors (col)": "Lin X. [2]",
          "Authors (row)": "Li Y. [2]",
          "Autocorrelation": 0,
          "ID": null
         },
         {
          "Authors (col)": "Dash P.K. [2]",
          "Authors (row)": "Li Y. [2]",
          "Autocorrelation": 0,
          "ID": null
         },
         {
          "Authors (col)": "Tseng V.S. [2]",
          "Authors (row)": "Li Y. [2]",
          "Autocorrelation": 0,
          "ID": null
         },
         {
          "Authors (col)": "Xu J. [2]",
          "Authors (row)": "Li Y. [2]",
          "Autocorrelation": 0,
          "ID": null
         },
         {
          "Authors (col)": "Xu L. [2]",
          "Authors (row)": "Li Y. [2]",
          "Autocorrelation": 0,
          "ID": null
         },
         {
          "Authors (col)": "Tsantekidis A. [2]",
          "Authors (row)": "Li Y. [2]",
          "Autocorrelation": 0,
          "ID": null
         },
         {
          "Authors (col)": "Borovykh A. [2]",
          "Authors (row)": "Li Y. [2]",
          "Autocorrelation": 0,
          "ID": null
         },
         {
          "Authors (col)": "Chen J. [2]",
          "Authors (row)": "Li Y. [2]",
          "Autocorrelation": 0,
          "ID": null
         },
         {
          "Authors (col)": "Zhang G. [4]",
          "Authors (row)": "Wang J. [7]",
          "Autocorrelation": 0,
          "ID": null
         },
         {
          "Authors (col)": "Zhang G. [4]",
          "Authors (row)": "Liu C.-L. [2]",
          "Autocorrelation": 0,
          "ID": null
         },
         {
          "Authors (col)": "Yan X. [3]",
          "Authors (row)": "Liu C.-L. [2]",
          "Autocorrelation": 0,
          "ID": null
         },
         {
          "Authors (col)": "Hernandez G. [3]",
          "Authors (row)": "Liu C.-L. [2]",
          "Autocorrelation": 0,
          "ID": null
         },
         {
          "Authors (col)": "Tefas A. [3]",
          "Authors (row)": "Liu C.-L. [2]",
          "Autocorrelation": 0,
          "ID": null
         },
         {
          "Authors (col)": "Sandoval J. [3]",
          "Authors (row)": "Liu C.-L. [2]",
          "Autocorrelation": 0,
          "ID": null
         },
         {
          "Authors (col)": "Iosifidis A. [3]",
          "Authors (row)": "Liu C.-L. [2]",
          "Autocorrelation": 0,
          "ID": null
         },
         {
          "Authors (col)": "Zhang Y. [3]",
          "Authors (row)": "Liu C.-L. [2]",
          "Autocorrelation": 0,
          "ID": null
         },
         {
          "Authors (col)": "Arévalo A. [3]",
          "Authors (row)": "Liu C.-L. [2]",
          "Autocorrelation": 0,
          "ID": null
         },
         {
          "Authors (col)": "Wu J. [3]",
          "Authors (row)": "Liu C.-L. [2]",
          "Autocorrelation": 0,
          "ID": null
         },
         {
          "Authors (col)": "Passalis N. [3]",
          "Authors (row)": "Liu C.-L. [2]",
          "Autocorrelation": 0,
          "ID": null
         },
         {
          "Authors (col)": "Kanniainen J. [3]",
          "Authors (row)": "Liu C.-L. [2]",
          "Autocorrelation": 0,
          "ID": null
         },
         {
          "Authors (col)": "Tsantekidis A. [2]",
          "Authors (row)": "Zhu Y. [3]",
          "Autocorrelation": 0,
          "ID": null
         },
         {
          "Authors (col)": "Xu J. [2]",
          "Authors (row)": "Zhu Y. [3]",
          "Autocorrelation": 0,
          "ID": null
         },
         {
          "Authors (col)": "Zhang Y. [3]",
          "Authors (row)": "Wu J. [3]",
          "Autocorrelation": 0,
          "ID": null
         },
         {
          "Authors (col)": "Bu H. [2]",
          "Authors (row)": "Passalis N. [3]",
          "Autocorrelation": 0,
          "ID": null
         },
         {
          "Authors (col)": "Zhang Y. [3]",
          "Authors (row)": "Passalis N. [3]",
          "Autocorrelation": 0,
          "ID": null
         },
         {
          "Authors (col)": "Arévalo A. [3]",
          "Authors (row)": "Passalis N. [3]",
          "Autocorrelation": 0,
          "ID": null
         },
         {
          "Authors (col)": "Wu J. [3]",
          "Authors (row)": "Passalis N. [3]",
          "Autocorrelation": 0,
          "ID": null
         },
         {
          "Authors (col)": "Iosifidis A. [3]",
          "Authors (row)": "Zhang G. [4]",
          "Autocorrelation": 0,
          "ID": null
         },
         {
          "Authors (col)": "Sandoval J. [3]",
          "Authors (row)": "Zhang G. [4]",
          "Autocorrelation": 0,
          "ID": null
         },
         {
          "Authors (col)": "Zhu Y. [3]",
          "Authors (row)": "Passalis N. [3]",
          "Autocorrelation": 0,
          "ID": null
         },
         {
          "Authors (col)": "Tefas A. [3]",
          "Authors (row)": "Zhang G. [4]",
          "Autocorrelation": 0,
          "ID": null
         },
         {
          "Authors (col)": "Li Y. [2]",
          "Authors (row)": "Passalis N. [3]",
          "Autocorrelation": 0,
          "ID": null
         },
         {
          "Authors (col)": "Liu C.-L. [2]",
          "Authors (row)": "Passalis N. [3]",
          "Autocorrelation": 0,
          "ID": null
         },
         {
          "Authors (col)": "Leon D. [2]",
          "Authors (row)": "Passalis N. [3]",
          "Autocorrelation": 0,
          "ID": null
         },
         {
          "Authors (col)": "Oosterlee C.W. [2]",
          "Authors (row)": "Passalis N. [3]",
          "Autocorrelation": 0,
          "ID": null
         },
         {
          "Authors (col)": "Zhang G. [4]",
          "Authors (row)": "Kanniainen J. [3]",
          "Autocorrelation": 0,
          "ID": null
         },
         {
          "Authors (col)": "Chen Y. [2]",
          "Authors (row)": "Passalis N. [3]",
          "Autocorrelation": 0,
          "ID": null
         },
         {
          "Authors (col)": "Fu X. [2]",
          "Authors (row)": "Passalis N. [3]",
          "Autocorrelation": 0,
          "ID": null
         },
         {
          "Authors (col)": "Niño J. [2]",
          "Authors (row)": "Passalis N. [3]",
          "Autocorrelation": 0,
          "ID": null
         },
         {
          "Authors (col)": "Lin X. [2]",
          "Authors (row)": "Passalis N. [3]",
          "Autocorrelation": 0,
          "ID": null
         },
         {
          "Authors (col)": "Dash P.K. [2]",
          "Authors (row)": "Passalis N. [3]",
          "Autocorrelation": 0,
          "ID": null
         },
         {
          "Authors (col)": "Tseng V.S. [2]",
          "Authors (row)": "Passalis N. [3]",
          "Autocorrelation": 0,
          "ID": null
         },
         {
          "Authors (col)": "Xu J. [2]",
          "Authors (row)": "Passalis N. [3]",
          "Autocorrelation": 0,
          "ID": null
         },
         {
          "Authors (col)": "Xu L. [2]",
          "Authors (row)": "Passalis N. [3]",
          "Autocorrelation": 0,
          "ID": null
         },
         {
          "Authors (col)": "Borovykh A. [2]",
          "Authors (row)": "Passalis N. [3]",
          "Autocorrelation": 0,
          "ID": null
         },
         {
          "Authors (col)": "Chen J. [2]",
          "Authors (row)": "Passalis N. [3]",
          "Autocorrelation": 0,
          "ID": null
         },
         {
          "Authors (col)": "Zhang Y. [3]",
          "Authors (row)": "Zhang G. [4]",
          "Autocorrelation": 0,
          "ID": null
         },
         {
          "Authors (col)": "Sandoval J. [3]",
          "Authors (row)": "Passalis N. [3]",
          "Autocorrelation": 0,
          "ID": null
         },
         {
          "Authors (col)": "Arévalo A. [3]",
          "Authors (row)": "Zhang G. [4]",
          "Autocorrelation": 0,
          "ID": null
         },
         {
          "Authors (col)": "Hernandez G. [3]",
          "Authors (row)": "Passalis N. [3]",
          "Autocorrelation": 0,
          "ID": null
         },
         {
          "Authors (col)": "Arévalo A. [3]",
          "Authors (row)": "Wu J. [3]",
          "Autocorrelation": 0,
          "ID": null
         },
         {
          "Authors (col)": "Wu J. [3]",
          "Authors (row)": "Zhang G. [4]",
          "Autocorrelation": 0,
          "ID": null
         },
         {
          "Authors (col)": "Passalis N. [3]",
          "Authors (row)": "Wu J. [3]",
          "Autocorrelation": 0,
          "ID": null
         },
         {
          "Authors (col)": "Kanniainen J. [3]",
          "Authors (row)": "Wu J. [3]",
          "Autocorrelation": 0,
          "ID": null
         },
         {
          "Authors (col)": "Zhu Y. [3]",
          "Authors (row)": "Wu J. [3]",
          "Autocorrelation": 0,
          "ID": null
         },
         {
          "Authors (col)": "Gabbouj M. [3]",
          "Authors (row)": "Wu J. [3]",
          "Autocorrelation": 0,
          "ID": null
         },
         {
          "Authors (col)": "Li Y. [2]",
          "Authors (row)": "Wu J. [3]",
          "Autocorrelation": 0,
          "ID": null
         },
         {
          "Authors (col)": "Liu C.-L. [2]",
          "Authors (row)": "Wu J. [3]",
          "Autocorrelation": 0,
          "ID": null
         },
         {
          "Authors (col)": "Leon D. [2]",
          "Authors (row)": "Wu J. [3]",
          "Autocorrelation": 0,
          "ID": null
         },
         {
          "Authors (col)": "Oosterlee C.W. [2]",
          "Authors (row)": "Wu J. [3]",
          "Autocorrelation": 0,
          "ID": null
         },
         {
          "Authors (col)": "Niño J. [2]",
          "Authors (row)": "Wu J. [3]",
          "Autocorrelation": 0,
          "ID": null
         },
         {
          "Authors (col)": "Lin X. [2]",
          "Authors (row)": "Wu J. [3]",
          "Autocorrelation": 0,
          "ID": null
         },
         {
          "Authors (col)": "Dash P.K. [2]",
          "Authors (row)": "Wu J. [3]",
          "Autocorrelation": 0,
          "ID": null
         },
         {
          "Authors (col)": "Tseng V.S. [2]",
          "Authors (row)": "Wu J. [3]",
          "Autocorrelation": 0,
          "ID": null
         },
         {
          "Authors (col)": "Xu J. [2]",
          "Authors (row)": "Wu J. [3]",
          "Autocorrelation": 0,
          "ID": null
         },
         {
          "Authors (col)": "Xu L. [2]",
          "Authors (row)": "Wu J. [3]",
          "Autocorrelation": 0,
          "ID": null
         },
         {
          "Authors (col)": "Tsantekidis A. [2]",
          "Authors (row)": "Wu J. [3]",
          "Autocorrelation": 0,
          "ID": null
         },
         {
          "Authors (col)": "Borovykh A. [2]",
          "Authors (row)": "Wu J. [3]",
          "Autocorrelation": 0,
          "ID": null
         },
         {
          "Authors (col)": "Wang J. [7]",
          "Authors (row)": "Passalis N. [3]",
          "Autocorrelation": 0,
          "ID": null
         },
         {
          "Authors (col)": "Zhang G. [4]",
          "Authors (row)": "Passalis N. [3]",
          "Autocorrelation": 0,
          "ID": null
         },
         {
          "Authors (col)": "Yan X. [3]",
          "Authors (row)": "Passalis N. [3]",
          "Autocorrelation": 0,
          "ID": null
         },
         {
          "Authors (col)": "Wang J. [7]",
          "Authors (row)": "Kanniainen J. [3]",
          "Autocorrelation": 0,
          "ID": null
         },
         {
          "Authors (col)": "Yan X. [3]",
          "Authors (row)": "Kanniainen J. [3]",
          "Autocorrelation": 0,
          "ID": null
         },
         {
          "Authors (col)": "Tseng V.S. [2]",
          "Authors (row)": "Zhu Y. [3]",
          "Autocorrelation": 0,
          "ID": null
         },
         {
          "Authors (col)": "Borovykh A. [2]",
          "Authors (row)": "Wang J. [7]",
          "Autocorrelation": 0,
          "ID": null
         },
         {
          "Authors (col)": "Yan X. [3]",
          "Authors (row)": "Zhu Y. [3]",
          "Autocorrelation": 0,
          "ID": null
         },
         {
          "Authors (col)": "Hernandez G. [3]",
          "Authors (row)": "Zhu Y. [3]",
          "Autocorrelation": 0,
          "ID": null
         },
         {
          "Authors (col)": "Tefas A. [3]",
          "Authors (row)": "Zhu Y. [3]",
          "Autocorrelation": 0,
          "ID": null
         },
         {
          "Authors (col)": "Sandoval J. [3]",
          "Authors (row)": "Zhu Y. [3]",
          "Autocorrelation": 0,
          "ID": null
         },
         {
          "Authors (col)": "Iosifidis A. [3]",
          "Authors (row)": "Zhu Y. [3]",
          "Autocorrelation": 0,
          "ID": null
         },
         {
          "Authors (col)": "Zhang Y. [3]",
          "Authors (row)": "Zhu Y. [3]",
          "Autocorrelation": 0,
          "ID": null
         },
         {
          "Authors (col)": "Arévalo A. [3]",
          "Authors (row)": "Zhu Y. [3]",
          "Autocorrelation": 0,
          "ID": null
         },
         {
          "Authors (col)": "Wu J. [3]",
          "Authors (row)": "Zhu Y. [3]",
          "Autocorrelation": 0,
          "ID": null
         },
         {
          "Authors (col)": "Passalis N. [3]",
          "Authors (row)": "Zhu Y. [3]",
          "Autocorrelation": 0,
          "ID": null
         },
         {
          "Authors (col)": "Kanniainen J. [3]",
          "Authors (row)": "Zhu Y. [3]",
          "Autocorrelation": 0,
          "ID": null
         },
         {
          "Authors (col)": "Gabbouj M. [3]",
          "Authors (row)": "Zhu Y. [3]",
          "Autocorrelation": 0,
          "ID": null
         },
         {
          "Authors (col)": "Hernandez G. [3]",
          "Authors (row)": "Kanniainen J. [3]",
          "Autocorrelation": 0,
          "ID": null
         },
         {
          "Authors (col)": "Li Y. [2]",
          "Authors (row)": "Zhu Y. [3]",
          "Autocorrelation": 0,
          "ID": null
         },
         {
          "Authors (col)": "Liu C.-L. [2]",
          "Authors (row)": "Zhu Y. [3]",
          "Autocorrelation": 0,
          "ID": null
         },
         {
          "Authors (col)": "Leon D. [2]",
          "Authors (row)": "Zhu Y. [3]",
          "Autocorrelation": 0,
          "ID": null
         },
         {
          "Authors (col)": "Bu H. [2]",
          "Authors (row)": "Zhu Y. [3]",
          "Autocorrelation": 0,
          "ID": null
         },
         {
          "Authors (col)": "Oosterlee C.W. [2]",
          "Authors (row)": "Zhu Y. [3]",
          "Autocorrelation": 0,
          "ID": null
         },
         {
          "Authors (col)": "Chen Y. [2]",
          "Authors (row)": "Zhu Y. [3]",
          "Autocorrelation": 0,
          "ID": null
         },
         {
          "Authors (col)": "Fu X. [2]",
          "Authors (row)": "Zhu Y. [3]",
          "Autocorrelation": 0,
          "ID": null
         },
         {
          "Authors (col)": "Niño J. [2]",
          "Authors (row)": "Zhu Y. [3]",
          "Autocorrelation": 0,
          "ID": null
         },
         {
          "Authors (col)": "Lin X. [2]",
          "Authors (row)": "Zhu Y. [3]",
          "Autocorrelation": 0,
          "ID": null
         },
         {
          "Authors (col)": "Dash P.K. [2]",
          "Authors (row)": "Zhu Y. [3]",
          "Autocorrelation": 0,
          "ID": null
         },
         {
          "Authors (col)": "Wang J. [7]",
          "Authors (row)": "Zhu Y. [3]",
          "Autocorrelation": 0,
          "ID": null
         },
         {
          "Authors (col)": "Chen J. [2]",
          "Authors (row)": "Kanniainen J. [3]",
          "Autocorrelation": 0,
          "ID": null
         },
         {
          "Authors (col)": "Borovykh A. [2]",
          "Authors (row)": "Kanniainen J. [3]",
          "Autocorrelation": 0,
          "ID": null
         },
         {
          "Authors (col)": "Xu L. [2]",
          "Authors (row)": "Kanniainen J. [3]",
          "Autocorrelation": 0,
          "ID": null
         },
         {
          "Authors (col)": "Hernandez G. [3]",
          "Authors (row)": "Zhang G. [4]",
          "Autocorrelation": 0,
          "ID": null
         },
         {
          "Authors (col)": "Sandoval J. [3]",
          "Authors (row)": "Kanniainen J. [3]",
          "Autocorrelation": 0,
          "ID": null
         },
         {
          "Authors (col)": "Yan X. [3]",
          "Authors (row)": "Zhang G. [4]",
          "Autocorrelation": 0,
          "ID": null
         },
         {
          "Authors (col)": "Zhang Y. [3]",
          "Authors (row)": "Kanniainen J. [3]",
          "Autocorrelation": 0,
          "ID": null
         },
         {
          "Authors (col)": "Arévalo A. [3]",
          "Authors (row)": "Kanniainen J. [3]",
          "Autocorrelation": 0,
          "ID": null
         },
         {
          "Authors (col)": "Wu J. [3]",
          "Authors (row)": "Kanniainen J. [3]",
          "Autocorrelation": 0,
          "ID": null
         },
         {
          "Authors (col)": "Wang J. [7]",
          "Authors (row)": "Zhang G. [4]",
          "Autocorrelation": 0,
          "ID": null
         },
         {
          "Authors (col)": "Zhu Y. [3]",
          "Authors (row)": "Kanniainen J. [3]",
          "Autocorrelation": 0,
          "ID": null
         },
         {
          "Authors (col)": "Chen J. [2]",
          "Authors (row)": "Wang J. [7]",
          "Autocorrelation": 0,
          "ID": null
         },
         {
          "Authors (col)": "Li Y. [2]",
          "Authors (row)": "Kanniainen J. [3]",
          "Autocorrelation": 0,
          "ID": null
         },
         {
          "Authors (col)": "Liu C.-L. [2]",
          "Authors (row)": "Kanniainen J. [3]",
          "Autocorrelation": 0,
          "ID": null
         },
         {
          "Authors (col)": "Leon D. [2]",
          "Authors (row)": "Kanniainen J. [3]",
          "Autocorrelation": 0,
          "ID": null
         },
         {
          "Authors (col)": "Bu H. [2]",
          "Authors (row)": "Kanniainen J. [3]",
          "Autocorrelation": 0,
          "ID": null
         },
         {
          "Authors (col)": "Oosterlee C.W. [2]",
          "Authors (row)": "Kanniainen J. [3]",
          "Autocorrelation": 0,
          "ID": null
         },
         {
          "Authors (col)": "Chen Y. [2]",
          "Authors (row)": "Kanniainen J. [3]",
          "Autocorrelation": 0,
          "ID": null
         },
         {
          "Authors (col)": "Fu X. [2]",
          "Authors (row)": "Kanniainen J. [3]",
          "Autocorrelation": 0,
          "ID": null
         },
         {
          "Authors (col)": "Niño J. [2]",
          "Authors (row)": "Kanniainen J. [3]",
          "Autocorrelation": 0,
          "ID": null
         },
         {
          "Authors (col)": "Lin X. [2]",
          "Authors (row)": "Kanniainen J. [3]",
          "Autocorrelation": 0,
          "ID": null
         },
         {
          "Authors (col)": "Dash P.K. [2]",
          "Authors (row)": "Kanniainen J. [3]",
          "Autocorrelation": 0,
          "ID": null
         },
         {
          "Authors (col)": "Tseng V.S. [2]",
          "Authors (row)": "Kanniainen J. [3]",
          "Autocorrelation": 0,
          "ID": null
         },
         {
          "Authors (col)": "Xu J. [2]",
          "Authors (row)": "Kanniainen J. [3]",
          "Autocorrelation": 0,
          "ID": null
         },
         {
          "Authors (col)": "Wang J. [7]",
          "Authors (row)": "Liu C.-L. [2]",
          "Autocorrelation": 0,
          "ID": null
         }
        ]
       },
       "encoding": {
        "color": {
         "field": "Autocorrelation",
         "type": "quantitative"
        },
        "size": {
         "field": "Autocorrelation",
         "type": "quantitative"
        },
        "x": {
         "axis": {
          "labelAngle": 270
         },
         "field": "Authors (row)",
         "sort": "ascending",
         "type": "nominal"
        },
        "y": {
         "field": "Authors (col)",
         "sort": "ascending",
         "type": "nominal"
        }
       },
       "mark": "circle"
      },
      "image/png": "[encoded data removed]",
      "text/plain": [
       "<VegaLite 3 object>\n",
       "\n",
       "If you see this message, it means the renderer has not been properly enabled\n",
       "for the frontend that you are using. For more information, see\n",
       "https://altair-viz.github.io/user_guide/troubleshooting.html\n"
      ]
     },
     "execution_count": 4,
     "metadata": {},
     "output_type": "execute_result"
    }
   ],
   "source": [
    "rdf.autocorr(\n",
    "    column='Authors',\n",
    "    sep=',',\n",
    "    top_n=30\n",
    ").circlerel()"
   ]
  }
 ],
 "metadata": {
  "kernelspec": {
   "display_name": "Python 3",
   "language": "python",
   "name": "python3"
  },
  "language_info": {
   "codemirror_mode": {
    "name": "ipython",
    "version": 3
   },
   "file_extension": ".py",
   "mimetype": "text/x-python",
   "name": "python",
   "nbconvert_exporter": "python",
   "pygments_lexer": "ipython3",
   "version": "3.6.8"
  }
 },
 "nbformat": 4,
 "nbformat_minor": 4
}
