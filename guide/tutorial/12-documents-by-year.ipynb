{
 "cells": [
  {
   "cell_type": "markdown",
   "metadata": {},
   "source": [
    "# Number of documents by year"
   ]
  },
  {
   "cell_type": "code",
   "execution_count": 1,
   "metadata": {},
   "outputs": [],
   "source": [
    "import pandas as pd\n",
    "from techminer import RecordsDataFrame\n",
    "\n",
    "rdf = RecordsDataFrame(\n",
    "    pd.read_json(\n",
    "        'step-07.json', \n",
    "        orient='records', \n",
    "        lines=True))"
   ]
  },
  {
   "cell_type": "code",
   "execution_count": 2,
   "metadata": {},
   "outputs": [
    {
     "data": {
      "text/html": [
       "<div>\n",
       "<style scoped>\n",
       "    .dataframe tbody tr th:only-of-type {\n",
       "        vertical-align: middle;\n",
       "    }\n",
       "\n",
       "    .dataframe tbody tr th {\n",
       "        vertical-align: top;\n",
       "    }\n",
       "\n",
       "    .dataframe thead th {\n",
       "        text-align: right;\n",
       "    }\n",
       "</style>\n",
       "<table border=\"1\" class=\"dataframe\">\n",
       "  <thead>\n",
       "    <tr style=\"text-align: right;\">\n",
       "      <th></th>\n",
       "      <th>Year</th>\n",
       "      <th>Num Documents</th>\n",
       "      <th>ID</th>\n",
       "    </tr>\n",
       "  </thead>\n",
       "  <tbody>\n",
       "    <tr>\n",
       "      <th>0</th>\n",
       "      <td>2010</td>\n",
       "      <td>3</td>\n",
       "      <td>[[*141*], [*142*], [*143*]]</td>\n",
       "    </tr>\n",
       "    <tr>\n",
       "      <th>1</th>\n",
       "      <td>2011</td>\n",
       "      <td>2</td>\n",
       "      <td>[[*139*], [*140*]]</td>\n",
       "    </tr>\n",
       "    <tr>\n",
       "      <th>2</th>\n",
       "      <td>2012</td>\n",
       "      <td>2</td>\n",
       "      <td>[[*137*], [*138*]]</td>\n",
       "    </tr>\n",
       "    <tr>\n",
       "      <th>3</th>\n",
       "      <td>2013</td>\n",
       "      <td>4</td>\n",
       "      <td>[[*133*], [*134*], [*135*], [*136*]]</td>\n",
       "    </tr>\n",
       "    <tr>\n",
       "      <th>4</th>\n",
       "      <td>2014</td>\n",
       "      <td>2</td>\n",
       "      <td>[[*131*], [*132*]]</td>\n",
       "    </tr>\n",
       "    <tr>\n",
       "      <th>5</th>\n",
       "      <td>2015</td>\n",
       "      <td>2</td>\n",
       "      <td>[[*129*], [*130*]]</td>\n",
       "    </tr>\n",
       "    <tr>\n",
       "      <th>6</th>\n",
       "      <td>2016</td>\n",
       "      <td>5</td>\n",
       "      <td>[[*124*], [*125*], [*126*], [*127*], [*128*]]</td>\n",
       "    </tr>\n",
       "    <tr>\n",
       "      <th>7</th>\n",
       "      <td>2017</td>\n",
       "      <td>19</td>\n",
       "      <td>[[*105*], [*106*], [*107*], [*108*], [*109*], ...</td>\n",
       "    </tr>\n",
       "    <tr>\n",
       "      <th>8</th>\n",
       "      <td>2018</td>\n",
       "      <td>52</td>\n",
       "      <td>[[*53*], [*54*], [*55*], [*56*], [*57*], [*58*...</td>\n",
       "    </tr>\n",
       "    <tr>\n",
       "      <th>9</th>\n",
       "      <td>2019</td>\n",
       "      <td>53</td>\n",
       "      <td>[[*0*], [*1*], [*2*], [*3*], [*4*], [*5*], [*6...</td>\n",
       "    </tr>\n",
       "  </tbody>\n",
       "</table>\n",
       "</div>"
      ],
      "text/plain": [
       "   Year  Num Documents                                                 ID\n",
       "0  2010              3                        [[*141*], [*142*], [*143*]]\n",
       "1  2011              2                                 [[*139*], [*140*]]\n",
       "2  2012              2                                 [[*137*], [*138*]]\n",
       "3  2013              4               [[*133*], [*134*], [*135*], [*136*]]\n",
       "4  2014              2                                 [[*131*], [*132*]]\n",
       "5  2015              2                                 [[*129*], [*130*]]\n",
       "6  2016              5      [[*124*], [*125*], [*126*], [*127*], [*128*]]\n",
       "7  2017             19  [[*105*], [*106*], [*107*], [*108*], [*109*], ...\n",
       "8  2018             52  [[*53*], [*54*], [*55*], [*56*], [*57*], [*58*...\n",
       "9  2019             53  [[*0*], [*1*], [*2*], [*3*], [*4*], [*5*], [*6..."
      ]
     },
     "execution_count": 2,
     "metadata": {},
     "output_type": "execute_result"
    }
   ],
   "source": [
    "rdf.documents_by_year()"
   ]
  },
  {
   "cell_type": "code",
   "execution_count": 3,
   "metadata": {},
   "outputs": [
    {
     "name": "stdout",
     "output_type": "stream",
     "text": [
      "2010 (3) : [*141*][*142*][*143*]\n",
      "2011 (2) : [*139*][*140*]\n",
      "2012 (2) : [*137*][*138*]\n",
      "2013 (4) : [*133*][*134*][*135*][*136*]\n",
      "2014 (2) : [*131*][*132*]\n",
      "2015 (2) : [*129*][*130*]\n",
      "2016 (5) : [*124*][*125*][*126*][*127*][*128*]\n",
      "2017 (19) : [*105*][*106*][*107*][*108*][*109*][*110*][*111*][*112*][*113*][*114*][*115*][*116*][*117*][*118*][*119*][*120*][*121*][*122*][*123*]\n",
      "2018 (52) : [*53*][*54*][*55*][*56*][*57*][*58*][*59*][*60*][*61*][*62*][*63*][*64*][*65*][*66*][*67*][*68*][*69*][*70*][*71*][*72*][*73*][*74*][*75*][*76*][*77*][*78*][*79*][*80*][*81*][*82*][*83*][*84*][*85*][*86*][*87*][*88*][*89*][*90*][*91*][*92*][*93*][*94*][*95*][*96*][*97*][*98*][*99*][*100*][*101*][*102*][*103*][*104*]\n",
      "2019 (53) : [*0*][*1*][*2*][*3*][*4*][*5*][*6*][*7*][*8*][*9*][*10*][*11*][*12*][*13*][*14*][*15*][*16*][*17*][*18*][*19*][*20*][*21*][*22*][*23*][*24*][*25*][*26*][*27*][*28*][*29*][*30*][*31*][*32*][*33*][*34*][*35*][*36*][*37*][*38*][*39*][*40*][*41*][*42*][*43*][*44*][*45*][*46*][*47*][*48*][*49*][*50*][*51*][*52*]\n"
     ]
    }
   ],
   "source": [
    "rdf.documents_by_year().print_IDs()"
   ]
  },
  {
   "cell_type": "code",
   "execution_count": 5,
   "metadata": {},
   "outputs": [
    {
     "data": {
      "image/png": "[encoded data removed]",
      "text/plain": [
       "<Figure size 432x288 with 1 Axes>"
      ]
     },
     "metadata": {
      "needs_background": "light"
     },
     "output_type": "display_data"
    }
   ],
   "source": [
    "rdf.documents_by_year().barhplot();"
   ]
  },
  {
   "cell_type": "code",
   "execution_count": null,
   "metadata": {},
   "outputs": [],
   "source": []
  }
 ],
 "metadata": {
  "kernelspec": {
   "display_name": "Python 3",
   "language": "python",
   "name": "python3"
  },
  "language_info": {
   "codemirror_mode": {
    "name": "ipython",
    "version": 3
   },
   "file_extension": ".py",
   "mimetype": "text/x-python",
   "name": "python",
   "nbconvert_exporter": "python",
   "pygments_lexer": "ipython3",
   "version": "3.6.8"
  }
 },
 "nbformat": 4,
 "nbformat_minor": 4
}
