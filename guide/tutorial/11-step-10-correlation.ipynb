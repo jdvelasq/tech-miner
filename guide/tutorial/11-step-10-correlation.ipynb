{
 "cells": [
  {
   "cell_type": "markdown",
   "metadata": {},
   "source": [
    "# Step 10: Cross-correlation"
   ]
  },
  {
   "cell_type": "code",
   "execution_count": 1,
   "metadata": {},
   "outputs": [],
   "source": [
    "import pandas as pd\n",
    "from techminer import RecordsDataFrame\n",
    "\n",
    "rdf = RecordsDataFrame(\n",
    "    pd.read_json(\n",
    "        'step-06.json', \n",
    "        orient='records', \n",
    "        lines=True))"
   ]
  },
  {
   "cell_type": "markdown",
   "metadata": {},
   "source": [
    "In this part, a second level analysis of the bibliographical information is done."
   ]
  },
  {
   "cell_type": "markdown",
   "metadata": {},
   "source": [
    "## Autocorrelation"
   ]
  },
  {
   "cell_type": "code",
   "execution_count": null,
   "metadata": {},
   "outputs": [],
   "source": [
    "rdf.autocorrelation(\n",
    "    column='keywords (cleaned)',\n",
    "    sep=';'\n",
    ").tomatrix().head()"
   ]
  },
  {
   "cell_type": "code",
   "execution_count": null,
   "metadata": {},
   "outputs": [],
   "source": [
    "rdf.autocorrelation(\n",
    "    column='keywords (cleaned)',\n",
    "    sep=';'\n",
    ").circlerel()"
   ]
  },
  {
   "cell_type": "code",
   "execution_count": null,
   "metadata": {},
   "outputs": [],
   "source": [
    "rdf.autocorrelation(\n",
    "    column='keywords (cleaned)',\n",
    "    sep=';').heatmap()"
   ]
  },
  {
   "cell_type": "code",
   "execution_count": null,
   "metadata": {},
   "outputs": [],
   "source": [
    "rdf.autocorrelation(\n",
    "    column='keywords (cleaned)',\n",
    "    sep=';').chord_diagram(minval=0.35)"
   ]
  },
  {
   "cell_type": "code",
   "execution_count": null,
   "metadata": {},
   "outputs": [],
   "source": [
    "rdf.autocorrelation(\n",
    "    column='Authors',\n",
    "    sep=',').chord_diagram(minval=0.20)"
   ]
  },
  {
   "cell_type": "markdown",
   "metadata": {},
   "source": [
    "## Crosscorrelation"
   ]
  },
  {
   "cell_type": "code",
   "execution_count": null,
   "metadata": {},
   "outputs": [],
   "source": [
    "rdf.crosscorrelation(\n",
    "    termA='keywords (cleaned)',\n",
    "    sepA=';',\n",
    "    termB='Authors',\n",
    "    sepB=','\n",
    ").head(10)"
   ]
  },
  {
   "cell_type": "code",
   "execution_count": null,
   "metadata": {},
   "outputs": [],
   "source": [
    "rdf.crosscorrelation(\n",
    "    termA='keywords (cleaned)',\n",
    "    sepA=';',\n",
    "    termB='Authors',\n",
    "    sepB=','\n",
    ").heatmap()"
   ]
  },
  {
   "cell_type": "code",
   "execution_count": null,
   "metadata": {},
   "outputs": [],
   "source": [
    "rdf.crosscorrelation(\n",
    "    termA='keywords (cleaned)',\n",
    "    sepA=';',\n",
    "    termB='Authors',\n",
    "    sepB=','\n",
    ").tomatrix()"
   ]
  },
  {
   "cell_type": "code",
   "execution_count": null,
   "metadata": {},
   "outputs": [],
   "source": [
    "rdf.crosscorrelation(\n",
    "    termA='keywords (cleaned)',\n",
    "    sepA=';',\n",
    "    termB='Authors',\n",
    "    sepB=','\n",
    ").sankey_plot(minval=0.2)"
   ]
  },
  {
   "cell_type": "markdown",
   "metadata": {},
   "source": [
    "## Factor analysis"
   ]
  },
  {
   "cell_type": "code",
   "execution_count": null,
   "metadata": {},
   "outputs": [],
   "source": [
    "rdf.factor_analysis(\n",
    "    term='keywords (cleaned)', \n",
    "    sep=';', \n",
    "    n_components=5, \n",
    "    N=40).head(20)"
   ]
  },
  {
   "cell_type": "code",
   "execution_count": null,
   "metadata": {},
   "outputs": [],
   "source": [
    "rdf.factor_analysis(\n",
    "    term='keywords (cleaned)', \n",
    "    sep=';', \n",
    "    n_components=5, \n",
    "    N=40).heatmap()"
   ]
  },
  {
   "cell_type": "code",
   "execution_count": null,
   "metadata": {},
   "outputs": [],
   "source": [
    "rdf.factor_analysis(\n",
    "    term='keywords (cleaned)', \n",
    "    sep=';', \n",
    "    n_components=5, \n",
    "    N=40).sankey_plot(minval=0.3)"
   ]
  }
 ],
 "metadata": {
  "kernelspec": {
   "display_name": "Python 3",
   "language": "python",
   "name": "python3"
  },
  "language_info": {
   "codemirror_mode": {
    "name": "ipython",
    "version": 3
   },
   "file_extension": ".py",
   "mimetype": "text/x-python",
   "name": "python",
   "nbconvert_exporter": "python",
   "pygments_lexer": "ipython3",
   "version": "3.6.8"
  }
 },
 "nbformat": 4,
 "nbformat_minor": 4
}
