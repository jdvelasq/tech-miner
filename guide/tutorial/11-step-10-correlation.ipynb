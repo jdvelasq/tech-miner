{
 "cells": [
  {
   "cell_type": "markdown",
   "metadata": {},
   "source": [
    "# Step 10: Cross-correlation"
   ]
  },
  {
   "cell_type": "code",
   "execution_count": 1,
   "metadata": {},
   "outputs": [],
   "source": [
    "import pandas as pd\n",
    "from techminer import RecordsDataFrame\n",
    "\n",
    "rdf = RecordsDataFrame(\n",
    "    pd.read_json(\n",
    "        'step-06.json', \n",
    "        orient='records', \n",
    "        lines=True))"
   ]
  },
  {
   "cell_type": "markdown",
   "metadata": {},
   "source": [
    "In this part, a second level analysis of the bibliographical information is done."
   ]
  },
  {
   "cell_type": "markdown",
   "metadata": {},
   "source": [
    "## Autocorrelation"
   ]
  },
  {
   "cell_type": "code",
   "execution_count": 3,
   "metadata": {},
   "outputs": [
    {
     "data": {
      "text/html": [
       "<div>\n",
       "<style scoped>\n",
       "    .dataframe tbody tr th:only-of-type {\n",
       "        vertical-align: middle;\n",
       "    }\n",
       "\n",
       "    .dataframe tbody tr th {\n",
       "        vertical-align: top;\n",
       "    }\n",
       "\n",
       "    .dataframe thead th {\n",
       "        text-align: right;\n",
       "    }\n",
       "</style>\n",
       "<table border=\"1\" class=\"dataframe\">\n",
       "  <thead>\n",
       "    <tr style=\"text-align: right;\">\n",
       "      <th></th>\n",
       "      <th>Commerce</th>\n",
       "      <th>Artificial intelligence</th>\n",
       "      <th>Electronic trading</th>\n",
       "      <th>Financial markets</th>\n",
       "      <th>Algorithms</th>\n",
       "      <th>Automated trading</th>\n",
       "      <th>Finance</th>\n",
       "      <th>Investments</th>\n",
       "      <th>trading</th>\n",
       "      <th>Trading strategies</th>\n",
       "      <th>High-frequency trading</th>\n",
       "      <th>Financial data processing</th>\n",
       "      <th>Profitability</th>\n",
       "      <th>Costs</th>\n",
       "      <th>High frequency</th>\n",
       "      <th>Forecasting</th>\n",
       "      <th>Automation</th>\n",
       "      <th>Data mining</th>\n",
       "      <th>Algorithmic trading</th>\n",
       "      <th>Automated trading systems</th>\n",
       "    </tr>\n",
       "  </thead>\n",
       "  <tbody>\n",
       "    <tr>\n",
       "      <th>Commerce</th>\n",
       "      <td>1.000000</td>\n",
       "      <td>0.386727</td>\n",
       "      <td>0.670606</td>\n",
       "      <td>0.515969</td>\n",
       "      <td>0.249446</td>\n",
       "      <td>0.323642</td>\n",
       "      <td>0.417327</td>\n",
       "      <td>0.396655</td>\n",
       "      <td>0.055433</td>\n",
       "      <td>0.320900</td>\n",
       "      <td>0.413244</td>\n",
       "      <td>0.382500</td>\n",
       "      <td>0.312933</td>\n",
       "      <td>0.308895</td>\n",
       "      <td>0.142164</td>\n",
       "      <td>0.332595</td>\n",
       "      <td>0.279327</td>\n",
       "      <td>0.222341</td>\n",
       "      <td>0.381461</td>\n",
       "      <td>0.292684</td>\n",
       "    </tr>\n",
       "    <tr>\n",
       "      <th>Artificial intelligence</th>\n",
       "      <td>0.386727</td>\n",
       "      <td>1.000000</td>\n",
       "      <td>0.331136</td>\n",
       "      <td>0.258647</td>\n",
       "      <td>0.111803</td>\n",
       "      <td>0.229039</td>\n",
       "      <td>0.248126</td>\n",
       "      <td>0.144707</td>\n",
       "      <td>0.000000</td>\n",
       "      <td>0.157313</td>\n",
       "      <td>0.137199</td>\n",
       "      <td>0.219793</td>\n",
       "      <td>0.145095</td>\n",
       "      <td>0.214834</td>\n",
       "      <td>0.024507</td>\n",
       "      <td>0.074536</td>\n",
       "      <td>0.163299</td>\n",
       "      <td>0.193773</td>\n",
       "      <td>0.170973</td>\n",
       "      <td>0.089443</td>\n",
       "    </tr>\n",
       "    <tr>\n",
       "      <th>Electronic trading</th>\n",
       "      <td>0.670606</td>\n",
       "      <td>0.331136</td>\n",
       "      <td>1.000000</td>\n",
       "      <td>0.558064</td>\n",
       "      <td>0.117474</td>\n",
       "      <td>0.109389</td>\n",
       "      <td>0.328168</td>\n",
       "      <td>0.308043</td>\n",
       "      <td>0.056957</td>\n",
       "      <td>0.270478</td>\n",
       "      <td>0.419368</td>\n",
       "      <td>0.277130</td>\n",
       "      <td>0.207893</td>\n",
       "      <td>0.246252</td>\n",
       "      <td>0.028091</td>\n",
       "      <td>0.313264</td>\n",
       "      <td>0.109189</td>\n",
       "      <td>0.190380</td>\n",
       "      <td>0.335960</td>\n",
       "      <td>0.119610</td>\n",
       "    </tr>\n",
       "    <tr>\n",
       "      <th>Financial markets</th>\n",
       "      <td>0.515969</td>\n",
       "      <td>0.258647</td>\n",
       "      <td>0.558064</td>\n",
       "      <td>1.000000</td>\n",
       "      <td>0.229640</td>\n",
       "      <td>0.182948</td>\n",
       "      <td>0.392031</td>\n",
       "      <td>0.283069</td>\n",
       "      <td>0.102062</td>\n",
       "      <td>0.246183</td>\n",
       "      <td>0.305284</td>\n",
       "      <td>0.270868</td>\n",
       "      <td>0.231793</td>\n",
       "      <td>0.147087</td>\n",
       "      <td>0.083895</td>\n",
       "      <td>0.289176</td>\n",
       "      <td>0.149071</td>\n",
       "      <td>0.189525</td>\n",
       "      <td>0.250838</td>\n",
       "      <td>0.163299</td>\n",
       "    </tr>\n",
       "    <tr>\n",
       "      <th>Algorithms</th>\n",
       "      <td>0.249446</td>\n",
       "      <td>0.111803</td>\n",
       "      <td>0.117474</td>\n",
       "      <td>0.229640</td>\n",
       "      <td>1.000000</td>\n",
       "      <td>0.112032</td>\n",
       "      <td>0.240069</td>\n",
       "      <td>0.208013</td>\n",
       "      <td>0.437500</td>\n",
       "      <td>0.169600</td>\n",
       "      <td>0.201328</td>\n",
       "      <td>0.202733</td>\n",
       "      <td>0.141944</td>\n",
       "      <td>0.160128</td>\n",
       "      <td>0.246598</td>\n",
       "      <td>0.062500</td>\n",
       "      <td>0.045644</td>\n",
       "      <td>0.162483</td>\n",
       "      <td>0.378895</td>\n",
       "      <td>0.050000</td>\n",
       "    </tr>\n",
       "  </tbody>\n",
       "</table>\n",
       "</div>"
      ],
      "text/plain": [
       "                         Commerce  Artificial intelligence  \\\n",
       "Commerce                 1.000000                 0.386727   \n",
       "Artificial intelligence  0.386727                 1.000000   \n",
       "Electronic trading       0.670606                 0.331136   \n",
       "Financial markets        0.515969                 0.258647   \n",
       "Algorithms               0.249446                 0.111803   \n",
       "\n",
       "                         Electronic trading  Financial markets  Algorithms  \\\n",
       "Commerce                           0.670606           0.515969    0.249446   \n",
       "Artificial intelligence            0.331136           0.258647    0.111803   \n",
       "Electronic trading                 1.000000           0.558064    0.117474   \n",
       "Financial markets                  0.558064           1.000000    0.229640   \n",
       "Algorithms                         0.117474           0.229640    1.000000   \n",
       "\n",
       "                         Automated trading   Finance  Investments   trading  \\\n",
       "Commerce                          0.323642  0.417327     0.396655  0.055433   \n",
       "Artificial intelligence           0.229039  0.248126     0.144707  0.000000   \n",
       "Electronic trading                0.109389  0.328168     0.308043  0.056957   \n",
       "Financial markets                 0.182948  0.392031     0.283069  0.102062   \n",
       "Algorithms                        0.112032  0.240069     0.208013  0.437500   \n",
       "\n",
       "                         Trading strategies  High-frequency trading  \\\n",
       "Commerce                           0.320900                0.413244   \n",
       "Artificial intelligence            0.157313                0.137199   \n",
       "Electronic trading                 0.270478                0.419368   \n",
       "Financial markets                  0.246183                0.305284   \n",
       "Algorithms                         0.169600                0.201328   \n",
       "\n",
       "                         Financial data processing  Profitability     Costs  \\\n",
       "Commerce                                  0.382500       0.312933  0.308895   \n",
       "Artificial intelligence                   0.219793       0.145095  0.214834   \n",
       "Electronic trading                        0.277130       0.207893  0.246252   \n",
       "Financial markets                         0.270868       0.231793  0.147087   \n",
       "Algorithms                                0.202733       0.141944  0.160128   \n",
       "\n",
       "                         High frequency  Forecasting  Automation  Data mining  \\\n",
       "Commerce                       0.142164     0.332595    0.279327     0.222341   \n",
       "Artificial intelligence        0.024507     0.074536    0.163299     0.193773   \n",
       "Electronic trading             0.028091     0.313264    0.109189     0.190380   \n",
       "Financial markets              0.083895     0.289176    0.149071     0.189525   \n",
       "Algorithms                     0.246598     0.062500    0.045644     0.162483   \n",
       "\n",
       "                         Algorithmic trading  Automated trading systems  \n",
       "Commerce                            0.381461                   0.292684  \n",
       "Artificial intelligence             0.170973                   0.089443  \n",
       "Electronic trading                  0.335960                   0.119610  \n",
       "Financial markets                   0.250838                   0.163299  \n",
       "Algorithms                          0.378895                   0.050000  "
      ]
     },
     "execution_count": 3,
     "metadata": {},
     "output_type": "execute_result"
    }
   ],
   "source": [
    "rdf.autocorrelation(\n",
    "    column='keywords (cleaned)',\n",
    "    sep=';'\n",
    ").tomatrix().head()"
   ]
  },
  {
   "cell_type": "code",
   "execution_count": 4,
   "metadata": {},
   "outputs": [
    {
     "data": {
      "application/vnd.vegalite.v3+json": {
       "$schema": "https://vega.github.io/schema/vega-lite/v3.4.0.json",
       "config": {
        "mark": {
         "tooltip": null
        },
        "view": {
         "height": 300,
         "width": 400
        }
       },
       "data": {
        "name": "data-caaa5bfa18b46ca7763139fa48cc5e7a"
       },
       "datasets": {
        "data-caaa5bfa18b46ca7763139fa48cc5e7a": [
         {
          "Autocorrelation": 1,
          "keywords (cleaned) (col)": "Commerce",
          "keywords (cleaned) (row)": "Commerce"
         },
         {
          "Autocorrelation": 1,
          "keywords (cleaned) (col)": "Artificial intelligence",
          "keywords (cleaned) (row)": "Artificial intelligence"
         },
         {
          "Autocorrelation": 1,
          "keywords (cleaned) (col)": "Electronic trading",
          "keywords (cleaned) (row)": "Electronic trading"
         },
         {
          "Autocorrelation": 1,
          "keywords (cleaned) (col)": "Financial markets",
          "keywords (cleaned) (row)": "Financial markets"
         },
         {
          "Autocorrelation": 1,
          "keywords (cleaned) (col)": "Algorithms",
          "keywords (cleaned) (row)": "Algorithms"
         },
         {
          "Autocorrelation": 1,
          "keywords (cleaned) (col)": "Automated trading",
          "keywords (cleaned) (row)": "Automated trading"
         },
         {
          "Autocorrelation": 1,
          "keywords (cleaned) (col)": "Finance",
          "keywords (cleaned) (row)": "Finance"
         },
         {
          "Autocorrelation": 1,
          "keywords (cleaned) (col)": "Investments",
          "keywords (cleaned) (row)": "Investments"
         },
         {
          "Autocorrelation": 1,
          "keywords (cleaned) (col)": "trading",
          "keywords (cleaned) (row)": "trading"
         },
         {
          "Autocorrelation": 1,
          "keywords (cleaned) (col)": "Trading strategies",
          "keywords (cleaned) (row)": "Trading strategies"
         },
         {
          "Autocorrelation": 1,
          "keywords (cleaned) (col)": "High-frequency trading",
          "keywords (cleaned) (row)": "High-frequency trading"
         },
         {
          "Autocorrelation": 1,
          "keywords (cleaned) (col)": "Financial data processing",
          "keywords (cleaned) (row)": "Financial data processing"
         },
         {
          "Autocorrelation": 1,
          "keywords (cleaned) (col)": "Profitability",
          "keywords (cleaned) (row)": "Profitability"
         },
         {
          "Autocorrelation": 1,
          "keywords (cleaned) (col)": "Costs",
          "keywords (cleaned) (row)": "Costs"
         },
         {
          "Autocorrelation": 1,
          "keywords (cleaned) (col)": "High frequency",
          "keywords (cleaned) (row)": "High frequency"
         },
         {
          "Autocorrelation": 1,
          "keywords (cleaned) (col)": "Forecasting",
          "keywords (cleaned) (row)": "Forecasting"
         },
         {
          "Autocorrelation": 1,
          "keywords (cleaned) (col)": "Automation",
          "keywords (cleaned) (row)": "Automation"
         },
         {
          "Autocorrelation": 1,
          "keywords (cleaned) (col)": "Data mining",
          "keywords (cleaned) (row)": "Data mining"
         },
         {
          "Autocorrelation": 1,
          "keywords (cleaned) (col)": "Algorithmic trading",
          "keywords (cleaned) (row)": "Algorithmic trading"
         },
         {
          "Autocorrelation": 1,
          "keywords (cleaned) (col)": "Automated trading systems",
          "keywords (cleaned) (row)": "Automated trading systems"
         },
         {
          "Autocorrelation": 0.6706061070917911,
          "keywords (cleaned) (col)": "Electronic trading",
          "keywords (cleaned) (row)": "Commerce"
         },
         {
          "Autocorrelation": 0.6706061070917911,
          "keywords (cleaned) (col)": "Commerce",
          "keywords (cleaned) (row)": "Electronic trading"
         },
         {
          "Autocorrelation": 0.5580640851321247,
          "keywords (cleaned) (col)": "Financial markets",
          "keywords (cleaned) (row)": "Electronic trading"
         },
         {
          "Autocorrelation": 0.5580640851321247,
          "keywords (cleaned) (col)": "Electronic trading",
          "keywords (cleaned) (row)": "Financial markets"
         },
         {
          "Autocorrelation": 0.5205967931336314,
          "keywords (cleaned) (col)": "High frequency",
          "keywords (cleaned) (row)": "trading"
         },
         {
          "Autocorrelation": 0.5205967931336314,
          "keywords (cleaned) (col)": "trading",
          "keywords (cleaned) (row)": "High frequency"
         },
         {
          "Autocorrelation": 0.51596917426389,
          "keywords (cleaned) (col)": "Commerce",
          "keywords (cleaned) (row)": "Financial markets"
         },
         {
          "Autocorrelation": 0.51596917426389,
          "keywords (cleaned) (col)": "Financial markets",
          "keywords (cleaned) (row)": "Commerce"
         },
         {
          "Autocorrelation": 0.4375,
          "keywords (cleaned) (col)": "Algorithms",
          "keywords (cleaned) (row)": "trading"
         },
         {
          "Autocorrelation": 0.4375,
          "keywords (cleaned) (col)": "trading",
          "keywords (cleaned) (row)": "Algorithms"
         },
         {
          "Autocorrelation": 0.4193679433103367,
          "keywords (cleaned) (col)": "High-frequency trading",
          "keywords (cleaned) (row)": "Electronic trading"
         },
         {
          "Autocorrelation": 0.4193679433103367,
          "keywords (cleaned) (col)": "Electronic trading",
          "keywords (cleaned) (row)": "High-frequency trading"
         },
         {
          "Autocorrelation": 0.4173274416206868,
          "keywords (cleaned) (col)": "Commerce",
          "keywords (cleaned) (row)": "Finance"
         },
         {
          "Autocorrelation": 0.4173274416206868,
          "keywords (cleaned) (col)": "Finance",
          "keywords (cleaned) (row)": "Commerce"
         },
         {
          "Autocorrelation": 0.41324379253248555,
          "keywords (cleaned) (col)": "High-frequency trading",
          "keywords (cleaned) (row)": "Commerce"
         },
         {
          "Autocorrelation": 0.41324379253248555,
          "keywords (cleaned) (col)": "Commerce",
          "keywords (cleaned) (row)": "High-frequency trading"
         },
         {
          "Autocorrelation": 0.39739589488035676,
          "keywords (cleaned) (col)": "Automation",
          "keywords (cleaned) (row)": "Automated trading"
         },
         {
          "Autocorrelation": 0.39739589488035676,
          "keywords (cleaned) (col)": "Automated trading",
          "keywords (cleaned) (row)": "Automation"
         },
         {
          "Autocorrelation": 0.3966546630451389,
          "keywords (cleaned) (col)": "Commerce",
          "keywords (cleaned) (row)": "Investments"
         },
         {
          "Autocorrelation": 0.3966546630451389,
          "keywords (cleaned) (col)": "Investments",
          "keywords (cleaned) (row)": "Commerce"
         },
         {
          "Autocorrelation": 0.3920312801169875,
          "keywords (cleaned) (col)": "Financial markets",
          "keywords (cleaned) (row)": "Finance"
         },
         {
          "Autocorrelation": 0.3920312801169875,
          "keywords (cleaned) (col)": "Finance",
          "keywords (cleaned) (row)": "Financial markets"
         },
         {
          "Autocorrelation": 0.3867266762506742,
          "keywords (cleaned) (col)": "Artificial intelligence",
          "keywords (cleaned) (row)": "Commerce"
         },
         {
          "Autocorrelation": 0.3867266762506742,
          "keywords (cleaned) (col)": "Commerce",
          "keywords (cleaned) (row)": "Artificial intelligence"
         },
         {
          "Autocorrelation": 0.3825000282914232,
          "keywords (cleaned) (col)": "Commerce",
          "keywords (cleaned) (row)": "Financial data processing"
         },
         {
          "Autocorrelation": 0.3825000282914232,
          "keywords (cleaned) (col)": "Financial data processing",
          "keywords (cleaned) (row)": "Commerce"
         },
         {
          "Autocorrelation": 0.3814614771969231,
          "keywords (cleaned) (col)": "Algorithmic trading",
          "keywords (cleaned) (row)": "Commerce"
         },
         {
          "Autocorrelation": 0.3814614771969231,
          "keywords (cleaned) (col)": "Commerce",
          "keywords (cleaned) (row)": "Algorithmic trading"
         },
         {
          "Autocorrelation": 0.3788947632400562,
          "keywords (cleaned) (col)": "Algorithms",
          "keywords (cleaned) (row)": "Algorithmic trading"
         },
         {
          "Autocorrelation": 0.3788947632400562,
          "keywords (cleaned) (col)": "Algorithmic trading",
          "keywords (cleaned) (row)": "Algorithms"
         },
         {
          "Autocorrelation": 0.3651483716701107,
          "keywords (cleaned) (col)": "Automation",
          "keywords (cleaned) (row)": "Automated trading systems"
         },
         {
          "Autocorrelation": 0.3651483716701107,
          "keywords (cleaned) (col)": "Automated trading systems",
          "keywords (cleaned) (row)": "Automation"
         },
         {
          "Autocorrelation": 0.33596019107589653,
          "keywords (cleaned) (col)": "Algorithmic trading",
          "keywords (cleaned) (row)": "Electronic trading"
         },
         {
          "Autocorrelation": 0.33596019107589653,
          "keywords (cleaned) (col)": "Electronic trading",
          "keywords (cleaned) (row)": "Algorithmic trading"
         },
         {
          "Autocorrelation": 0.3325950526188697,
          "keywords (cleaned) (col)": "Forecasting",
          "keywords (cleaned) (row)": "Commerce"
         },
         {
          "Autocorrelation": 0.3325950526188697,
          "keywords (cleaned) (col)": "Commerce",
          "keywords (cleaned) (row)": "Forecasting"
         },
         {
          "Autocorrelation": 0.33113631195704374,
          "keywords (cleaned) (col)": "Artificial intelligence",
          "keywords (cleaned) (row)": "Electronic trading"
         },
         {
          "Autocorrelation": 0.33113631195704374,
          "keywords (cleaned) (col)": "Electronic trading",
          "keywords (cleaned) (row)": "Artificial intelligence"
         },
         {
          "Autocorrelation": 0.32816786652249347,
          "keywords (cleaned) (col)": "Electronic trading",
          "keywords (cleaned) (row)": "Finance"
         },
         {
          "Autocorrelation": 0.32816786652249347,
          "keywords (cleaned) (col)": "Finance",
          "keywords (cleaned) (row)": "Electronic trading"
         },
         {
          "Autocorrelation": 0.3236416894201245,
          "keywords (cleaned) (col)": "Commerce",
          "keywords (cleaned) (row)": "Automated trading"
         },
         {
          "Autocorrelation": 0.3236416894201245,
          "keywords (cleaned) (col)": "Automated trading",
          "keywords (cleaned) (row)": "Commerce"
         },
         {
          "Autocorrelation": 0.3208997808480878,
          "keywords (cleaned) (col)": "Trading strategies",
          "keywords (cleaned) (row)": "Commerce"
         },
         {
          "Autocorrelation": 0.3208997808480878,
          "keywords (cleaned) (col)": "Commerce",
          "keywords (cleaned) (row)": "Trading strategies"
         },
         {
          "Autocorrelation": 0.3132644744961457,
          "keywords (cleaned) (col)": "Forecasting",
          "keywords (cleaned) (row)": "Electronic trading"
         },
         {
          "Autocorrelation": 0.3132644744961457,
          "keywords (cleaned) (col)": "Electronic trading",
          "keywords (cleaned) (row)": "Forecasting"
         },
         {
          "Autocorrelation": 0.3129334441619839,
          "keywords (cleaned) (col)": "Profitability",
          "keywords (cleaned) (row)": "Commerce"
         },
         {
          "Autocorrelation": 0.3129334441619839,
          "keywords (cleaned) (col)": "Commerce",
          "keywords (cleaned) (row)": "Profitability"
         },
         {
          "Autocorrelation": 0.30889542409527937,
          "keywords (cleaned) (col)": "Costs",
          "keywords (cleaned) (row)": "Commerce"
         },
         {
          "Autocorrelation": 0.30889542409527937,
          "keywords (cleaned) (col)": "Commerce",
          "keywords (cleaned) (row)": "Costs"
         },
         {
          "Autocorrelation": 0.3080430342483094,
          "keywords (cleaned) (col)": "Investments",
          "keywords (cleaned) (row)": "Electronic trading"
         },
         {
          "Autocorrelation": 0.3080430342483094,
          "keywords (cleaned) (col)": "Electronic trading",
          "keywords (cleaned) (row)": "Investments"
         },
         {
          "Autocorrelation": 0.306697807541074,
          "keywords (cleaned) (col)": "Investments",
          "keywords (cleaned) (row)": "Financial data processing"
         },
         {
          "Autocorrelation": 0.306697807541074,
          "keywords (cleaned) (col)": "Financial data processing",
          "keywords (cleaned) (row)": "Investments"
         },
         {
          "Autocorrelation": 0.3052843419040104,
          "keywords (cleaned) (col)": "High-frequency trading",
          "keywords (cleaned) (row)": "Financial markets"
         },
         {
          "Autocorrelation": 0.3052843419040104,
          "keywords (cleaned) (col)": "Financial markets",
          "keywords (cleaned) (row)": "High-frequency trading"
         },
         {
          "Autocorrelation": 0.3026118419164136,
          "keywords (cleaned) (col)": "High-frequency trading",
          "keywords (cleaned) (row)": "High frequency"
         },
         {
          "Autocorrelation": 0.3026118419164136,
          "keywords (cleaned) (col)": "High frequency",
          "keywords (cleaned) (row)": "High-frequency trading"
         },
         {
          "Autocorrelation": 0.2926836463046053,
          "keywords (cleaned) (col)": "Commerce",
          "keywords (cleaned) (row)": "Automated trading systems"
         },
         {
          "Autocorrelation": 0.2926836463046053,
          "keywords (cleaned) (col)": "Automated trading systems",
          "keywords (cleaned) (row)": "Commerce"
         },
         {
          "Autocorrelation": 0.28917587241190296,
          "keywords (cleaned) (col)": "Forecasting",
          "keywords (cleaned) (row)": "Financial markets"
         },
         {
          "Autocorrelation": 0.28917587241190296,
          "keywords (cleaned) (col)": "Financial markets",
          "keywords (cleaned) (row)": "Forecasting"
         },
         {
          "Autocorrelation": 0.28317012055913815,
          "keywords (cleaned) (col)": "Finance",
          "keywords (cleaned) (row)": "Financial data processing"
         },
         {
          "Autocorrelation": 0.28317012055913815,
          "keywords (cleaned) (col)": "Financial data processing",
          "keywords (cleaned) (row)": "Finance"
         },
         {
          "Autocorrelation": 0.2830692585361489,
          "keywords (cleaned) (col)": "Financial markets",
          "keywords (cleaned) (row)": "Investments"
         },
         {
          "Autocorrelation": 0.2830692585361489,
          "keywords (cleaned) (col)": "Investments",
          "keywords (cleaned) (row)": "Financial markets"
         },
         {
          "Autocorrelation": 0.27932704634542466,
          "keywords (cleaned) (col)": "Automation",
          "keywords (cleaned) (row)": "Commerce"
         },
         {
          "Autocorrelation": 0.27932704634542466,
          "keywords (cleaned) (col)": "Commerce",
          "keywords (cleaned) (row)": "Automation"
         },
         {
          "Autocorrelation": 0.2771299614812856,
          "keywords (cleaned) (col)": "Financial data processing",
          "keywords (cleaned) (row)": "Electronic trading"
         },
         {
          "Autocorrelation": 0.2771299614812856,
          "keywords (cleaned) (col)": "Electronic trading",
          "keywords (cleaned) (row)": "Financial data processing"
         },
         {
          "Autocorrelation": 0.2708681694429807,
          "keywords (cleaned) (col)": "Financial data processing",
          "keywords (cleaned) (row)": "Financial markets"
         },
         {
          "Autocorrelation": 0.2708681694429807,
          "keywords (cleaned) (col)": "Financial markets",
          "keywords (cleaned) (row)": "Financial data processing"
         },
         {
          "Autocorrelation": 0.2704784524349138,
          "keywords (cleaned) (col)": "Electronic trading",
          "keywords (cleaned) (row)": "Trading strategies"
         },
         {
          "Autocorrelation": 0.2704784524349138,
          "keywords (cleaned) (col)": "Trading strategies",
          "keywords (cleaned) (row)": "Electronic trading"
         },
         {
          "Autocorrelation": 0.26843774609657967,
          "keywords (cleaned) (col)": "High-frequency trading",
          "keywords (cleaned) (row)": "trading"
         },
         {
          "Autocorrelation": 0.26843774609657967,
          "keywords (cleaned) (col)": "trading",
          "keywords (cleaned) (row)": "High-frequency trading"
         },
         {
          "Autocorrelation": 0.25864676326632846,
          "keywords (cleaned) (col)": "Artificial intelligence",
          "keywords (cleaned) (row)": "Financial markets"
         },
         {
          "Autocorrelation": 0.25864676326632846,
          "keywords (cleaned) (col)": "Financial markets",
          "keywords (cleaned) (row)": "Artificial intelligence"
         },
         {
          "Autocorrelation": 0.25083752328399417,
          "keywords (cleaned) (col)": "Algorithmic trading",
          "keywords (cleaned) (row)": "Financial markets"
         },
         {
          "Autocorrelation": 0.25083752328399417,
          "keywords (cleaned) (col)": "Financial markets",
          "keywords (cleaned) (row)": "Algorithmic trading"
         },
         {
          "Autocorrelation": 0.24944628946415223,
          "keywords (cleaned) (col)": "Algorithms",
          "keywords (cleaned) (row)": "Commerce"
         },
         {
          "Autocorrelation": 0.24944628946415223,
          "keywords (cleaned) (col)": "Commerce",
          "keywords (cleaned) (row)": "Algorithms"
         },
         {
          "Autocorrelation": 0.2481259448693429,
          "keywords (cleaned) (col)": "Artificial intelligence",
          "keywords (cleaned) (row)": "Finance"
         },
         {
          "Autocorrelation": 0.2481259448693429,
          "keywords (cleaned) (col)": "Finance",
          "keywords (cleaned) (row)": "Artificial intelligence"
         },
         {
          "Autocorrelation": 0.24659848095803594,
          "keywords (cleaned) (col)": "High frequency",
          "keywords (cleaned) (row)": "Algorithms"
         },
         {
          "Autocorrelation": 0.24659848095803594,
          "keywords (cleaned) (col)": "Algorithms",
          "keywords (cleaned) (row)": "High frequency"
         },
         {
          "Autocorrelation": 0.24625208595496229,
          "keywords (cleaned) (col)": "Costs",
          "keywords (cleaned) (row)": "Electronic trading"
         },
         {
          "Autocorrelation": 0.24625208595496229,
          "keywords (cleaned) (col)": "Electronic trading",
          "keywords (cleaned) (row)": "Costs"
         },
         {
          "Autocorrelation": 0.24618298195866545,
          "keywords (cleaned) (col)": "Trading strategies",
          "keywords (cleaned) (row)": "Financial markets"
         },
         {
          "Autocorrelation": 0.24618298195866545,
          "keywords (cleaned) (col)": "Financial markets",
          "keywords (cleaned) (row)": "Trading strategies"
         },
         {
          "Autocorrelation": 0.24006914987417996,
          "keywords (cleaned) (col)": "Algorithms",
          "keywords (cleaned) (row)": "Finance"
         },
         {
          "Autocorrelation": 0.24006914987417996,
          "keywords (cleaned) (col)": "Finance",
          "keywords (cleaned) (row)": "Algorithms"
         },
         {
          "Autocorrelation": 0.23747391834174783,
          "keywords (cleaned) (col)": "High-frequency trading",
          "keywords (cleaned) (row)": "Financial data processing"
         },
         {
          "Autocorrelation": 0.23747391834174783,
          "keywords (cleaned) (col)": "Financial data processing",
          "keywords (cleaned) (row)": "High-frequency trading"
         },
         {
          "Autocorrelation": 0.23473427987697595,
          "keywords (cleaned) (col)": "Forecasting",
          "keywords (cleaned) (row)": "Finance"
         },
         {
          "Autocorrelation": 0.23473427987697595,
          "keywords (cleaned) (col)": "Finance",
          "keywords (cleaned) (row)": "Forecasting"
         },
         {
          "Autocorrelation": 0.23334410662481048,
          "keywords (cleaned) (col)": "Costs",
          "keywords (cleaned) (row)": "High-frequency trading"
         },
         {
          "Autocorrelation": 0.23334410662481048,
          "keywords (cleaned) (col)": "High-frequency trading",
          "keywords (cleaned) (row)": "Costs"
         },
         {
          "Autocorrelation": 0.23179316248638265,
          "keywords (cleaned) (col)": "Financial markets",
          "keywords (cleaned) (row)": "Profitability"
         },
         {
          "Autocorrelation": 0.23179316248638265,
          "keywords (cleaned) (col)": "Profitability",
          "keywords (cleaned) (row)": "Financial markets"
         },
         {
          "Autocorrelation": 0.22963966338592295,
          "keywords (cleaned) (col)": "Financial markets",
          "keywords (cleaned) (row)": "Algorithms"
         },
         {
          "Autocorrelation": 0.22963966338592295,
          "keywords (cleaned) (col)": "Algorithms",
          "keywords (cleaned) (row)": "Financial markets"
         },
         {
          "Autocorrelation": 0.22903933372554727,
          "keywords (cleaned) (col)": "Artificial intelligence",
          "keywords (cleaned) (row)": "Automated trading"
         },
         {
          "Autocorrelation": 0.22903933372554727,
          "keywords (cleaned) (col)": "Automated trading",
          "keywords (cleaned) (row)": "Artificial intelligence"
         },
         {
          "Autocorrelation": 0.22234086277947127,
          "keywords (cleaned) (col)": "Commerce",
          "keywords (cleaned) (row)": "Data mining"
         },
         {
          "Autocorrelation": 0.22234086277947127,
          "keywords (cleaned) (col)": "Data mining",
          "keywords (cleaned) (row)": "Commerce"
         },
         {
          "Autocorrelation": 0.219793491131929,
          "keywords (cleaned) (col)": "Artificial intelligence",
          "keywords (cleaned) (row)": "Financial data processing"
         },
         {
          "Autocorrelation": 0.219793491131929,
          "keywords (cleaned) (col)": "Financial data processing",
          "keywords (cleaned) (row)": "Artificial intelligence"
         },
         {
          "Autocorrelation": 0.21664456120656053,
          "keywords (cleaned) (col)": "Data mining",
          "keywords (cleaned) (row)": "Forecasting"
         },
         {
          "Autocorrelation": 0.21664456120656053,
          "keywords (cleaned) (col)": "Forecasting",
          "keywords (cleaned) (row)": "Data mining"
         },
         {
          "Autocorrelation": 0.21483446221182986,
          "keywords (cleaned) (col)": "Costs",
          "keywords (cleaned) (row)": "Artificial intelligence"
         },
         {
          "Autocorrelation": 0.21483446221182986,
          "keywords (cleaned) (col)": "Artificial intelligence",
          "keywords (cleaned) (row)": "Costs"
         },
         {
          "Autocorrelation": 0.21398266546446332,
          "keywords (cleaned) (col)": "Automated trading",
          "keywords (cleaned) (row)": "Data mining"
         },
         {
          "Autocorrelation": 0.21398266546446332,
          "keywords (cleaned) (col)": "Data mining",
          "keywords (cleaned) (row)": "Automated trading"
         },
         {
          "Autocorrelation": 0.21350420507344953,
          "keywords (cleaned) (col)": "Costs",
          "keywords (cleaned) (row)": "trading"
         },
         {
          "Autocorrelation": 0.21350420507344953,
          "keywords (cleaned) (col)": "trading",
          "keywords (cleaned) (row)": "Costs"
         },
         {
          "Autocorrelation": 0.21311475409836064,
          "keywords (cleaned) (col)": "Automated trading",
          "keywords (cleaned) (row)": "Finance"
         },
         {
          "Autocorrelation": 0.21311475409836064,
          "keywords (cleaned) (col)": "Finance",
          "keywords (cleaned) (row)": "Automated trading"
         },
         {
          "Autocorrelation": 0.21263514621165225,
          "keywords (cleaned) (col)": "Algorithmic trading",
          "keywords (cleaned) (row)": "Profitability"
         },
         {
          "Autocorrelation": 0.21263514621165225,
          "keywords (cleaned) (col)": "Profitability",
          "keywords (cleaned) (row)": "Algorithmic trading"
         },
         {
          "Autocorrelation": 0.20995656019521153,
          "keywords (cleaned) (col)": "Trading strategies",
          "keywords (cleaned) (row)": "Algorithmic trading"
         },
         {
          "Autocorrelation": 0.20995656019521153,
          "keywords (cleaned) (col)": "Algorithmic trading",
          "keywords (cleaned) (row)": "Trading strategies"
         },
         {
          "Autocorrelation": 0.20801257358446093,
          "keywords (cleaned) (col)": "Algorithms",
          "keywords (cleaned) (row)": "Investments"
         },
         {
          "Autocorrelation": 0.20801257358446093,
          "keywords (cleaned) (col)": "Investments",
          "keywords (cleaned) (row)": "Algorithms"
         },
         {
          "Autocorrelation": 0.20789267008314383,
          "keywords (cleaned) (col)": "Electronic trading",
          "keywords (cleaned) (row)": "Profitability"
         },
         {
          "Autocorrelation": 0.20789267008314383,
          "keywords (cleaned) (col)": "Profitability",
          "keywords (cleaned) (row)": "Electronic trading"
         },
         {
          "Autocorrelation": 0.2073221072156823,
          "keywords (cleaned) (col)": "Profitability",
          "keywords (cleaned) (row)": "Automation"
         },
         {
          "Autocorrelation": 0.2073221072156823,
          "keywords (cleaned) (col)": "Automation",
          "keywords (cleaned) (row)": "Profitability"
         },
         {
          "Autocorrelation": 0.20273268971298355,
          "keywords (cleaned) (col)": "Financial data processing",
          "keywords (cleaned) (row)": "Algorithms"
         },
         {
          "Autocorrelation": 0.20273268971298355,
          "keywords (cleaned) (col)": "Algorithms",
          "keywords (cleaned) (row)": "Financial data processing"
         },
         {
          "Autocorrelation": 0.20132830957243472,
          "keywords (cleaned) (col)": "High-frequency trading",
          "keywords (cleaned) (row)": "Algorithms"
         },
         {
          "Autocorrelation": 0.20132830957243472,
          "keywords (cleaned) (col)": "Algorithms",
          "keywords (cleaned) (row)": "High-frequency trading"
         },
         {
          "Autocorrelation": 0.20100756305184242,
          "keywords (cleaned) (col)": "Forecasting",
          "keywords (cleaned) (row)": "Trading strategies"
         },
         {
          "Autocorrelation": 0.20100756305184242,
          "keywords (cleaned) (col)": "Trading strategies",
          "keywords (cleaned) (row)": "Forecasting"
         },
         {
          "Autocorrelation": 0.19531072666281962,
          "keywords (cleaned) (col)": "Investments",
          "keywords (cleaned) (row)": "Finance"
         },
         {
          "Autocorrelation": 0.19531072666281962,
          "keywords (cleaned) (col)": "Finance",
          "keywords (cleaned) (row)": "Investments"
         },
         {
          "Autocorrelation": 0.19377278632539327,
          "keywords (cleaned) (col)": "Artificial intelligence",
          "keywords (cleaned) (row)": "Data mining"
         },
         {
          "Autocorrelation": 0.19377278632539327,
          "keywords (cleaned) (col)": "Data mining",
          "keywords (cleaned) (row)": "Artificial intelligence"
         },
         {
          "Autocorrelation": 0.1903802810086414,
          "keywords (cleaned) (col)": "Electronic trading",
          "keywords (cleaned) (row)": "Data mining"
         },
         {
          "Autocorrelation": 0.1903802810086414,
          "keywords (cleaned) (col)": "Data mining",
          "keywords (cleaned) (row)": "Electronic trading"
         },
         {
          "Autocorrelation": 0.18952451089472586,
          "keywords (cleaned) (col)": "Financial markets",
          "keywords (cleaned) (row)": "Data mining"
         },
         {
          "Autocorrelation": 0.18952451089472586,
          "keywords (cleaned) (col)": "Data mining",
          "keywords (cleaned) (row)": "Financial markets"
         },
         {
          "Autocorrelation": 0.1892583246525563,
          "keywords (cleaned) (col)": "trading",
          "keywords (cleaned) (row)": "Profitability"
         },
         {
          "Autocorrelation": 0.1892583246525563,
          "keywords (cleaned) (col)": "Profitability",
          "keywords (cleaned) (row)": "trading"
         },
         {
          "Autocorrelation": 0.1888054182804459,
          "keywords (cleaned) (col)": "Finance",
          "keywords (cleaned) (row)": "Algorithmic trading"
         },
         {
          "Autocorrelation": 0.1888054182804459,
          "keywords (cleaned) (col)": "Algorithmic trading",
          "keywords (cleaned) (row)": "Finance"
         },
         {
          "Autocorrelation": 0.18681617943926834,
          "keywords (cleaned) (col)": "Forecasting",
          "keywords (cleaned) (row)": "Costs"
         },
         {
          "Autocorrelation": 0.18681617943926834,
          "keywords (cleaned) (col)": "Costs",
          "keywords (cleaned) (row)": "Forecasting"
         },
         {
          "Autocorrelation": 0.18657962796059277,
          "keywords (cleaned) (col)": "Finance",
          "keywords (cleaned) (row)": "High-frequency trading"
         },
         {
          "Autocorrelation": 0.18657962796059277,
          "keywords (cleaned) (col)": "High-frequency trading",
          "keywords (cleaned) (row)": "Finance"
         },
         {
          "Autocorrelation": 0.18427434427242975,
          "keywords (cleaned) (col)": "Costs",
          "keywords (cleaned) (row)": "High frequency"
         },
         {
          "Autocorrelation": 0.18427434427242975,
          "keywords (cleaned) (col)": "High frequency",
          "keywords (cleaned) (row)": "Costs"
         },
         {
          "Autocorrelation": 0.18294793072126084,
          "keywords (cleaned) (col)": "Financial markets",
          "keywords (cleaned) (row)": "Automated trading"
         },
         {
          "Autocorrelation": 0.18294793072126084,
          "keywords (cleaned) (col)": "Automated trading",
          "keywords (cleaned) (row)": "Financial markets"
         },
         {
          "Autocorrelation": 0.18081014266989473,
          "keywords (cleaned) (col)": "High-frequency trading",
          "keywords (cleaned) (row)": "Investments"
         },
         {
          "Autocorrelation": 0.18081014266989473,
          "keywords (cleaned) (col)": "Investments",
          "keywords (cleaned) (row)": "High-frequency trading"
         },
         {
          "Autocorrelation": 0.17895849739771977,
          "keywords (cleaned) (col)": "High-frequency trading",
          "keywords (cleaned) (row)": "Forecasting"
         },
         {
          "Autocorrelation": 0.17895849739771977,
          "keywords (cleaned) (col)": "Forecasting",
          "keywords (cleaned) (row)": "High-frequency trading"
         },
         {
          "Autocorrelation": 0.17841031003501578,
          "keywords (cleaned) (col)": "Data mining",
          "keywords (cleaned) (row)": "Costs"
         },
         {
          "Autocorrelation": 0.17841031003501578,
          "keywords (cleaned) (col)": "Costs",
          "keywords (cleaned) (row)": "Data mining"
         },
         {
          "Autocorrelation": 0.17764623667373103,
          "keywords (cleaned) (col)": "Investments",
          "keywords (cleaned) (row)": "Costs"
         },
         {
          "Autocorrelation": 0.17764623667373103,
          "keywords (cleaned) (col)": "Costs",
          "keywords (cleaned) (row)": "Investments"
         },
         {
          "Autocorrelation": 0.17755520605710876,
          "keywords (cleaned) (col)": "Automated trading",
          "keywords (cleaned) (row)": "Investments"
         },
         {
          "Autocorrelation": 0.17755520605710876,
          "keywords (cleaned) (col)": "Investments",
          "keywords (cleaned) (row)": "Automated trading"
         },
         {
          "Autocorrelation": 0.17588161767036212,
          "keywords (cleaned) (col)": "trading",
          "keywords (cleaned) (row)": "Trading strategies"
         },
         {
          "Autocorrelation": 0.17588161767036212,
          "keywords (cleaned) (col)": "Trading strategies",
          "keywords (cleaned) (row)": "trading"
         },
         {
          "Autocorrelation": 0.17418541062770382,
          "keywords (cleaned) (col)": "Profitability",
          "keywords (cleaned) (row)": "High-frequency trading"
         },
         {
          "Autocorrelation": 0.17418541062770382,
          "keywords (cleaned) (col)": "High-frequency trading",
          "keywords (cleaned) (row)": "Profitability"
         },
         {
          "Autocorrelation": 0.17348855898381338,
          "keywords (cleaned) (col)": "Trading strategies",
          "keywords (cleaned) (row)": "High frequency"
         },
         {
          "Autocorrelation": 0.17348855898381338,
          "keywords (cleaned) (col)": "High frequency",
          "keywords (cleaned) (row)": "Trading strategies"
         },
         {
          "Autocorrelation": 0.17343648377358012,
          "keywords (cleaned) (col)": "High-frequency trading",
          "keywords (cleaned) (row)": "Trading strategies"
         },
         {
          "Autocorrelation": 0.17343648377358012,
          "keywords (cleaned) (col)": "Trading strategies",
          "keywords (cleaned) (row)": "High-frequency trading"
         },
         {
          "Autocorrelation": 0.17201561551404668,
          "keywords (cleaned) (col)": "Forecasting",
          "keywords (cleaned) (row)": "Financial data processing"
         },
         {
          "Autocorrelation": 0.17201561551404668,
          "keywords (cleaned) (col)": "Financial data processing",
          "keywords (cleaned) (row)": "Forecasting"
         },
         {
          "Autocorrelation": 0.17097343793770606,
          "keywords (cleaned) (col)": "Artificial intelligence",
          "keywords (cleaned) (row)": "Algorithmic trading"
         },
         {
          "Autocorrelation": 0.17097343793770606,
          "keywords (cleaned) (col)": "Algorithmic trading",
          "keywords (cleaned) (row)": "Artificial intelligence"
         },
         {
          "Autocorrelation": 0.16960013132499205,
          "keywords (cleaned) (col)": "Algorithms",
          "keywords (cleaned) (row)": "Trading strategies"
         },
         {
          "Autocorrelation": 0.16960013132499205,
          "keywords (cleaned) (col)": "Trading strategies",
          "keywords (cleaned) (row)": "Algorithms"
         },
         {
          "Autocorrelation": 0.16951587590520262,
          "keywords (cleaned) (col)": "Automation",
          "keywords (cleaned) (row)": "Data mining"
         },
         {
          "Autocorrelation": 0.16951587590520262,
          "keywords (cleaned) (col)": "Data mining",
          "keywords (cleaned) (row)": "Automation"
         },
         {
          "Autocorrelation": 0.16910481966820476,
          "keywords (cleaned) (col)": "Financial data processing",
          "keywords (cleaned) (row)": "Algorithmic trading"
         },
         {
          "Autocorrelation": 0.16910481966820476,
          "keywords (cleaned) (col)": "Algorithmic trading",
          "keywords (cleaned) (row)": "Financial data processing"
         },
         {
          "Autocorrelation": 0.16616259695890556,
          "keywords (cleaned) (col)": "Automated trading",
          "keywords (cleaned) (row)": "Profitability"
         },
         {
          "Autocorrelation": 0.16616259695890556,
          "keywords (cleaned) (col)": "Profitability",
          "keywords (cleaned) (row)": "Automated trading"
         },
         {
          "Autocorrelation": 0.16329931618554522,
          "keywords (cleaned) (col)": "Automated trading systems",
          "keywords (cleaned) (row)": "Financial markets"
         },
         {
          "Autocorrelation": 0.16329931618554522,
          "keywords (cleaned) (col)": "Financial markets",
          "keywords (cleaned) (row)": "Automated trading systems"
         },
         {
          "Autocorrelation": 0.1632993161855452,
          "keywords (cleaned) (col)": "Artificial intelligence",
          "keywords (cleaned) (row)": "Automation"
         },
         {
          "Autocorrelation": 0.1632993161855452,
          "keywords (cleaned) (col)": "Automation",
          "keywords (cleaned) (row)": "Artificial intelligence"
         },
         {
          "Autocorrelation": 0.16248342090492038,
          "keywords (cleaned) (col)": "Data mining",
          "keywords (cleaned) (row)": "Algorithms"
         },
         {
          "Autocorrelation": 0.16248342090492038,
          "keywords (cleaned) (col)": "Algorithms",
          "keywords (cleaned) (row)": "Data mining"
         },
         {
          "Autocorrelation": 0.16222142113076254,
          "keywords (cleaned) (col)": "Profitability",
          "keywords (cleaned) (row)": "Forecasting"
         },
         {
          "Autocorrelation": 0.16222142113076254,
          "keywords (cleaned) (col)": "Forecasting",
          "keywords (cleaned) (row)": "Profitability"
         },
         {
          "Autocorrelation": 0.16151457061744964,
          "keywords (cleaned) (col)": "Automation",
          "keywords (cleaned) (row)": "Financial data processing"
         },
         {
          "Autocorrelation": 0.16151457061744964,
          "keywords (cleaned) (col)": "Financial data processing",
          "keywords (cleaned) (row)": "Automation"
         },
         {
          "Autocorrelation": 0.16012815380508713,
          "keywords (cleaned) (col)": "Costs",
          "keywords (cleaned) (row)": "Algorithms"
         },
         {
          "Autocorrelation": 0.16012815380508713,
          "keywords (cleaned) (col)": "Algorithms",
          "keywords (cleaned) (row)": "Costs"
         },
         {
          "Autocorrelation": 0.15904983747305906,
          "keywords (cleaned) (col)": "Investments",
          "keywords (cleaned) (row)": "Algorithmic trading"
         },
         {
          "Autocorrelation": 0.15904983747305906,
          "keywords (cleaned) (col)": "Algorithmic trading",
          "keywords (cleaned) (row)": "Investments"
         },
         {
          "Autocorrelation": 0.15731330124142315,
          "keywords (cleaned) (col)": "Trading strategies",
          "keywords (cleaned) (row)": "Artificial intelligence"
         },
         {
          "Autocorrelation": 0.15731330124142315,
          "keywords (cleaned) (col)": "Artificial intelligence",
          "keywords (cleaned) (row)": "Trading strategies"
         },
         {
          "Autocorrelation": 0.15214515486254615,
          "keywords (cleaned) (col)": "Forecasting",
          "keywords (cleaned) (row)": "Automation"
         },
         {
          "Autocorrelation": 0.15214515486254615,
          "keywords (cleaned) (col)": "Automation",
          "keywords (cleaned) (row)": "Forecasting"
         },
         {
          "Autocorrelation": 0.15191090506255,
          "keywords (cleaned) (col)": "Automation",
          "keywords (cleaned) (row)": "Investments"
         },
         {
          "Autocorrelation": 0.15191090506255,
          "keywords (cleaned) (col)": "Investments",
          "keywords (cleaned) (row)": "Automation"
         },
         {
          "Autocorrelation": 0.15102406429820703,
          "keywords (cleaned) (col)": "Automated trading",
          "keywords (cleaned) (row)": "Financial data processing"
         },
         {
          "Autocorrelation": 0.15102406429820703,
          "keywords (cleaned) (col)": "Financial data processing",
          "keywords (cleaned) (row)": "Automated trading"
         },
         {
          "Autocorrelation": 0.15079732818823097,
          "keywords (cleaned) (col)": "Algorithmic trading",
          "keywords (cleaned) (row)": "High-frequency trading"
         },
         {
          "Autocorrelation": 0.15079732818823097,
          "keywords (cleaned) (col)": "High-frequency trading",
          "keywords (cleaned) (row)": "Algorithmic trading"
         },
         {
          "Autocorrelation": 0.15019251876182407,
          "keywords (cleaned) (col)": "Algorithmic trading",
          "keywords (cleaned) (row)": "trading"
         },
         {
          "Autocorrelation": 0.15019251876182407,
          "keywords (cleaned) (col)": "trading",
          "keywords (cleaned) (row)": "Algorithmic trading"
         },
         {
          "Autocorrelation": 0.14937635992171197,
          "keywords (cleaned) (col)": "Forecasting",
          "keywords (cleaned) (row)": "Automated trading"
         },
         {
          "Autocorrelation": 0.14937635992171197,
          "keywords (cleaned) (col)": "Automated trading",
          "keywords (cleaned) (row)": "Forecasting"
         },
         {
          "Autocorrelation": 0.14907119849998599,
          "keywords (cleaned) (col)": "Financial markets",
          "keywords (cleaned) (row)": "Automation"
         },
         {
          "Autocorrelation": 0.14907119849998599,
          "keywords (cleaned) (col)": "Automation",
          "keywords (cleaned) (row)": "Financial markets"
         },
         {
          "Autocorrelation": 0.147087101353638,
          "keywords (cleaned) (col)": "Financial markets",
          "keywords (cleaned) (row)": "Costs"
         },
         {
          "Autocorrelation": 0.147087101353638,
          "keywords (cleaned) (col)": "Costs",
          "keywords (cleaned) (row)": "Financial markets"
         },
         {
          "Autocorrelation": 0.14673479641335554,
          "keywords (cleaned) (col)": "Profitability",
          "keywords (cleaned) (row)": "Trading strategies"
         },
         {
          "Autocorrelation": 0.14673479641335554,
          "keywords (cleaned) (col)": "Trading strategies",
          "keywords (cleaned) (row)": "Profitability"
         },
         {
          "Autocorrelation": 0.14509525002200233,
          "keywords (cleaned) (col)": "Profitability",
          "keywords (cleaned) (row)": "Artificial intelligence"
         },
         {
          "Autocorrelation": 0.14509525002200233,
          "keywords (cleaned) (col)": "Artificial intelligence",
          "keywords (cleaned) (row)": "Profitability"
         },
         {
          "Autocorrelation": 0.14484136487558028,
          "keywords (cleaned) (col)": "Trading strategies",
          "keywords (cleaned) (row)": "Costs"
         },
         {
          "Autocorrelation": 0.14484136487558028,
          "keywords (cleaned) (col)": "Costs",
          "keywords (cleaned) (row)": "Trading strategies"
         },
         {
          "Autocorrelation": 0.14470719035407653,
          "keywords (cleaned) (col)": "Artificial intelligence",
          "keywords (cleaned) (row)": "Investments"
         },
         {
          "Autocorrelation": 0.14470719035407653,
          "keywords (cleaned) (col)": "Investments",
          "keywords (cleaned) (row)": "Artificial intelligence"
         },
         {
          "Autocorrelation": 0.14216355356661692,
          "keywords (cleaned) (col)": "Commerce",
          "keywords (cleaned) (row)": "High frequency"
         },
         {
          "Autocorrelation": 0.14216355356661692,
          "keywords (cleaned) (col)": "High frequency",
          "keywords (cleaned) (row)": "Commerce"
         },
         {
          "Autocorrelation": 0.14194374348941724,
          "keywords (cleaned) (col)": "Profitability",
          "keywords (cleaned) (row)": "Algorithms"
         },
         {
          "Autocorrelation": 0.14194374348941724,
          "keywords (cleaned) (col)": "Algorithms",
          "keywords (cleaned) (row)": "Profitability"
         },
         {
          "Autocorrelation": 0.1399731277389636,
          "keywords (cleaned) (col)": "Data mining",
          "keywords (cleaned) (row)": "Trading strategies"
         },
         {
          "Autocorrelation": 0.1399731277389636,
          "keywords (cleaned) (col)": "Trading strategies",
          "keywords (cleaned) (row)": "Data mining"
         },
         {
          "Autocorrelation": 0.1386750490563073,
          "keywords (cleaned) (col)": "Automated trading systems",
          "keywords (cleaned) (row)": "Investments"
         },
         {
          "Autocorrelation": 0.1386750490563073,
          "keywords (cleaned) (col)": "Investments",
          "keywords (cleaned) (row)": "Automated trading systems"
         },
         {
          "Autocorrelation": 0.13719886811400706,
          "keywords (cleaned) (col)": "Artificial intelligence",
          "keywords (cleaned) (row)": "High-frequency trading"
         },
         {
          "Autocorrelation": 0.13719886811400706,
          "keywords (cleaned) (col)": "High-frequency trading",
          "keywords (cleaned) (row)": "Artificial intelligence"
         },
         {
          "Autocorrelation": 0.135116001384382,
          "keywords (cleaned) (col)": "Finance",
          "keywords (cleaned) (row)": "Trading strategies"
         },
         {
          "Autocorrelation": 0.135116001384382,
          "keywords (cleaned) (col)": "Trading strategies",
          "keywords (cleaned) (row)": "Finance"
         },
         {
          "Autocorrelation": 0.13333333333333333,
          "keywords (cleaned) (col)": "Forecasting",
          "keywords (cleaned) (row)": "Automated trading systems"
         },
         {
          "Autocorrelation": 0.13333333333333333,
          "keywords (cleaned) (col)": "Automated trading systems",
          "keywords (cleaned) (row)": "Forecasting"
         },
         {
          "Autocorrelation": 0.13118209497090985,
          "keywords (cleaned) (col)": "Costs",
          "keywords (cleaned) (row)": "Algorithmic trading"
         },
         {
          "Autocorrelation": 0.13118209497090985,
          "keywords (cleaned) (col)": "Algorithmic trading",
          "keywords (cleaned) (row)": "Costs"
         },
         {
          "Autocorrelation": 0.12977713690461004,
          "keywords (cleaned) (col)": "Automated trading systems",
          "keywords (cleaned) (row)": "Profitability"
         },
         {
          "Autocorrelation": 0.12977713690461004,
          "keywords (cleaned) (col)": "Profitability",
          "keywords (cleaned) (row)": "Automated trading systems"
         },
         {
          "Autocorrelation": 0.12803687993289598,
          "keywords (cleaned) (col)": "Automated trading",
          "keywords (cleaned) (row)": "Automated trading systems"
         },
         {
          "Autocorrelation": 0.12803687993289598,
          "keywords (cleaned) (col)": "Automated trading systems",
          "keywords (cleaned) (row)": "Automated trading"
         },
         {
          "Autocorrelation": 0.12170203882097512,
          "keywords (cleaned) (col)": "Data mining",
          "keywords (cleaned) (row)": "Algorithmic trading"
         },
         {
          "Autocorrelation": 0.12170203882097512,
          "keywords (cleaned) (col)": "Algorithmic trading",
          "keywords (cleaned) (row)": "Data mining"
         },
         {
          "Autocorrelation": 0.1211965413909299,
          "keywords (cleaned) (col)": "Financial data processing",
          "keywords (cleaned) (row)": "High frequency"
         },
         {
          "Autocorrelation": 0.1211965413909299,
          "keywords (cleaned) (col)": "High frequency",
          "keywords (cleaned) (row)": "Financial data processing"
         },
         {
          "Autocorrelation": 0.12060453783110543,
          "keywords (cleaned) (col)": "Trading strategies",
          "keywords (cleaned) (row)": "Automated trading systems"
         },
         {
          "Autocorrelation": 0.12060453783110543,
          "keywords (cleaned) (col)": "Automated trading systems",
          "keywords (cleaned) (row)": "Trading strategies"
         },
         {
          "Autocorrelation": 0.11961007208034653,
          "keywords (cleaned) (col)": "Automated trading systems",
          "keywords (cleaned) (row)": "Electronic trading"
         },
         {
          "Autocorrelation": 0.11961007208034653,
          "keywords (cleaned) (col)": "Electronic trading",
          "keywords (cleaned) (row)": "Automated trading systems"
         },
         {
          "Autocorrelation": 0.1180480411624714,
          "keywords (cleaned) (col)": "Costs",
          "keywords (cleaned) (row)": "Financial data processing"
         },
         {
          "Autocorrelation": 0.1180480411624714,
          "keywords (cleaned) (col)": "Financial data processing",
          "keywords (cleaned) (row)": "Costs"
         },
         {
          "Autocorrelation": 0.11747417793605462,
          "keywords (cleaned) (col)": "Algorithms",
          "keywords (cleaned) (row)": "Electronic trading"
         },
         {
          "Autocorrelation": 0.11747417793605462,
          "keywords (cleaned) (col)": "Electronic trading",
          "keywords (cleaned) (row)": "Algorithms"
         },
         {
          "Autocorrelation": 0.11581371547232744,
          "keywords (cleaned) (col)": "Automated trading",
          "keywords (cleaned) (row)": "Trading strategies"
         },
         {
          "Autocorrelation": 0.11581371547232744,
          "keywords (cleaned) (col)": "Trading strategies",
          "keywords (cleaned) (row)": "Automated trading"
         },
         {
          "Autocorrelation": 0.11556254088025605,
          "keywords (cleaned) (col)": "Forecasting",
          "keywords (cleaned) (row)": "Investments"
         },
         {
          "Autocorrelation": 0.11556254088025605,
          "keywords (cleaned) (col)": "Investments",
          "keywords (cleaned) (row)": "Forecasting"
         },
         {
          "Autocorrelation": 0.11248031766646188,
          "keywords (cleaned) (col)": "Profitability",
          "keywords (cleaned) (row)": "Investments"
         },
         {
          "Autocorrelation": 0.11248031766646188,
          "keywords (cleaned) (col)": "Investments",
          "keywords (cleaned) (row)": "Profitability"
         },
         {
          "Autocorrelation": 0.11203226994128399,
          "keywords (cleaned) (col)": "Automated trading",
          "keywords (cleaned) (row)": "Algorithms"
         },
         {
          "Autocorrelation": 0.11203226994128399,
          "keywords (cleaned) (col)": "Algorithms",
          "keywords (cleaned) (row)": "Automated trading"
         },
         {
          "Autocorrelation": 0.11180339887498948,
          "keywords (cleaned) (col)": "Algorithms",
          "keywords (cleaned) (row)": "Artificial intelligence"
         },
         {
          "Autocorrelation": 0.11180339887498948,
          "keywords (cleaned) (col)": "Artificial intelligence",
          "keywords (cleaned) (row)": "Algorithms"
         },
         {
          "Autocorrelation": 0.11009637651263607,
          "keywords (cleaned) (col)": "Trading strategies",
          "keywords (cleaned) (row)": "Automation"
         },
         {
          "Autocorrelation": 0.11009637651263607,
          "keywords (cleaned) (col)": "Automation",
          "keywords (cleaned) (row)": "Trading strategies"
         },
         {
          "Autocorrelation": 0.10938928884083116,
          "keywords (cleaned) (col)": "Electronic trading",
          "keywords (cleaned) (row)": "Automated trading"
         },
         {
          "Autocorrelation": 0.10938928884083116,
          "keywords (cleaned) (col)": "Automated trading",
          "keywords (cleaned) (row)": "Electronic trading"
         },
         {
          "Autocorrelation": 0.10918855763870779,
          "keywords (cleaned) (col)": "Automation",
          "keywords (cleaned) (row)": "Electronic trading"
         },
         {
          "Autocorrelation": 0.10918855763870779,
          "keywords (cleaned) (col)": "Electronic trading",
          "keywords (cleaned) (row)": "Automation"
         },
         {
          "Autocorrelation": 0.10667614941253299,
          "keywords (cleaned) (col)": "High frequency",
          "keywords (cleaned) (row)": "Profitability"
         },
         {
          "Autocorrelation": 0.10667614941253299,
          "keywords (cleaned) (col)": "Profitability",
          "keywords (cleaned) (row)": "High frequency"
         },
         {
          "Autocorrelation": 0.10453025125088634,
          "keywords (cleaned) (col)": "Trading strategies",
          "keywords (cleaned) (row)": "Investments"
         },
         {
          "Autocorrelation": 0.10453025125088634,
          "keywords (cleaned) (col)": "Investments",
          "keywords (cleaned) (row)": "Trading strategies"
         },
         {
          "Autocorrelation": 0.1025115460130912,
          "keywords (cleaned) (col)": "Costs",
          "keywords (cleaned) (row)": "Automated trading"
         },
         {
          "Autocorrelation": 0.1025115460130912,
          "keywords (cleaned) (col)": "Finance",
          "keywords (cleaned) (row)": "Costs"
         },
         {
          "Autocorrelation": 0.1025115460130912,
          "keywords (cleaned) (col)": "Automated trading",
          "keywords (cleaned) (row)": "Costs"
         },
         {
          "Autocorrelation": 0.1025115460130912,
          "keywords (cleaned) (col)": "Costs",
          "keywords (cleaned) (row)": "Finance"
         },
         {
          "Autocorrelation": 0.10206207261596575,
          "keywords (cleaned) (col)": "Financial markets",
          "keywords (cleaned) (row)": "trading"
         },
         {
          "Autocorrelation": 0.10206207261596575,
          "keywords (cleaned) (col)": "trading",
          "keywords (cleaned) (row)": "Financial markets"
         },
         {
          "Autocorrelation": 0.09557705739388805,
          "keywords (cleaned) (col)": "Forecasting",
          "keywords (cleaned) (row)": "Algorithmic trading"
         },
         {
          "Autocorrelation": 0.09557705739388805,
          "keywords (cleaned) (col)": "Algorithmic trading",
          "keywords (cleaned) (row)": "Forecasting"
         },
         {
          "Autocorrelation": 0.09427662867108724,
          "keywords (cleaned) (col)": "Algorithmic trading",
          "keywords (cleaned) (row)": "High frequency"
         },
         {
          "Autocorrelation": 0.09427662867108724,
          "keywords (cleaned) (col)": "High frequency",
          "keywords (cleaned) (row)": "Algorithmic trading"
         },
         {
          "Autocorrelation": 0.09350491644243689,
          "keywords (cleaned) (col)": "Finance",
          "keywords (cleaned) (row)": "Automation"
         },
         {
          "Autocorrelation": 0.09350491644243689,
          "keywords (cleaned) (col)": "Automation",
          "keywords (cleaned) (row)": "Finance"
         },
         {
          "Autocorrelation": 0.09245003270420485,
          "keywords (cleaned) (col)": "Investments",
          "keywords (cleaned) (row)": "trading"
         },
         {
          "Autocorrelation": 0.09245003270420485,
          "keywords (cleaned) (col)": "trading",
          "keywords (cleaned) (row)": "Investments"
         },
         {
          "Autocorrelation": 0.09119215051751065,
          "keywords (cleaned) (col)": "Investments",
          "keywords (cleaned) (row)": "High frequency"
         },
         {
          "Autocorrelation": 0.09119215051751065,
          "keywords (cleaned) (col)": "High frequency",
          "keywords (cleaned) (row)": "Investments"
         },
         {
          "Autocorrelation": 0.08944271909999159,
          "keywords (cleaned) (col)": "Artificial intelligence",
          "keywords (cleaned) (row)": "Automated trading systems"
         },
         {
          "Autocorrelation": 0.08944271909999159,
          "keywords (cleaned) (col)": "Automated trading systems",
          "keywords (cleaned) (row)": "Artificial intelligence"
         },
         {
          "Autocorrelation": 0.08846517369293828,
          "keywords (cleaned) (col)": "Automated trading systems",
          "keywords (cleaned) (row)": "Financial data processing"
         },
         {
          "Autocorrelation": 0.08846517369293828,
          "keywords (cleaned) (col)": "Financial data processing",
          "keywords (cleaned) (row)": "Automated trading systems"
         },
         {
          "Autocorrelation": 0.08770580193070292,
          "keywords (cleaned) (col)": "Costs",
          "keywords (cleaned) (row)": "Automation"
         },
         {
          "Autocorrelation": 0.08770580193070292,
          "keywords (cleaned) (col)": "Automation",
          "keywords (cleaned) (row)": "Costs"
         },
         {
          "Autocorrelation": 0.08419653359482288,
          "keywords (cleaned) (col)": "Finance",
          "keywords (cleaned) (row)": "High frequency"
         },
         {
          "Autocorrelation": 0.08419653359482288,
          "keywords (cleaned) (col)": "High frequency",
          "keywords (cleaned) (row)": "Finance"
         },
         {
          "Autocorrelation": 0.08389450690175304,
          "keywords (cleaned) (col)": "Financial markets",
          "keywords (cleaned) (row)": "High frequency"
         },
         {
          "Autocorrelation": 0.08389450690175304,
          "keywords (cleaned) (col)": "High frequency",
          "keywords (cleaned) (row)": "Financial markets"
         },
         {
          "Autocorrelation": 0.08308129847945278,
          "keywords (cleaned) (col)": "Profitability",
          "keywords (cleaned) (row)": "Finance"
         },
         {
          "Autocorrelation": 0.08308129847945278,
          "keywords (cleaned) (col)": "Finance",
          "keywords (cleaned) (row)": "Profitability"
         },
         {
          "Autocorrelation": 0.08219949365267865,
          "keywords (cleaned) (col)": "Forecasting",
          "keywords (cleaned) (row)": "High frequency"
         },
         {
          "Autocorrelation": 0.08219949365267865,
          "keywords (cleaned) (col)": "High frequency",
          "keywords (cleaned) (row)": "Forecasting"
         },
         {
          "Autocorrelation": 0.07792865001991968,
          "keywords (cleaned) (col)": "Profitability",
          "keywords (cleaned) (row)": "Costs"
         },
         {
          "Autocorrelation": 0.07792865001991968,
          "keywords (cleaned) (col)": "Costs",
          "keywords (cleaned) (row)": "Profitability"
         },
         {
          "Autocorrelation": 0.0772539303936907,
          "keywords (cleaned) (col)": "Investments",
          "keywords (cleaned) (row)": "Data mining"
         },
         {
          "Autocorrelation": 0.0772539303936907,
          "keywords (cleaned) (col)": "Data mining",
          "keywords (cleaned) (row)": "Investments"
         },
         {
          "Autocorrelation": 0.07453559924999299,
          "keywords (cleaned) (col)": "Forecasting",
          "keywords (cleaned) (row)": "Artificial intelligence"
         },
         {
          "Autocorrelation": 0.07453559924999299,
          "keywords (cleaned) (col)": "Artificial intelligence",
          "keywords (cleaned) (row)": "Forecasting"
         },
         {
          "Autocorrelation": 0.07427813527082075,
          "keywords (cleaned) (col)": "Automated trading systems",
          "keywords (cleaned) (row)": "Data mining"
         },
         {
          "Autocorrelation": 0.07427813527082075,
          "keywords (cleaned) (col)": "Data mining",
          "keywords (cleaned) (row)": "Automated trading systems"
         },
         {
          "Autocorrelation": 0.07175473098524097,
          "keywords (cleaned) (col)": "Financial data processing",
          "keywords (cleaned) (row)": "Profitability"
         },
         {
          "Autocorrelation": 0.07175473098524097,
          "keywords (cleaned) (col)": "Profitability",
          "keywords (cleaned) (row)": "Financial data processing"
         },
         {
          "Autocorrelation": 0.07132755515482112,
          "keywords (cleaned) (col)": "Finance",
          "keywords (cleaned) (row)": "Data mining"
         },
         {
          "Autocorrelation": 0.07132755515482112,
          "keywords (cleaned) (col)": "Data mining",
          "keywords (cleaned) (row)": "Finance"
         },
         {
          "Autocorrelation": 0.06668313367115805,
          "keywords (cleaned) (col)": "Trading strategies",
          "keywords (cleaned) (row)": "Financial data processing"
         },
         {
          "Autocorrelation": 0.06668313367115805,
          "keywords (cleaned) (col)": "Financial data processing",
          "keywords (cleaned) (row)": "Trading strategies"
         },
         {
          "Autocorrelation": 0.06553855364152324,
          "keywords (cleaned) (col)": "Automated trading systems",
          "keywords (cleaned) (row)": "Algorithmic trading"
         },
         {
          "Autocorrelation": 0.06553855364152324,
          "keywords (cleaned) (col)": "Algorithmic trading",
          "keywords (cleaned) (row)": "Automated trading systems"
         },
         {
          "Autocorrelation": 0.06401843996644799,
          "keywords (cleaned) (col)": "trading",
          "keywords (cleaned) (row)": "Automated trading"
         },
         {
          "Autocorrelation": 0.06401843996644799,
          "keywords (cleaned) (col)": "Automated trading",
          "keywords (cleaned) (row)": "trading"
         },
         {
          "Autocorrelation": 0.0625,
          "keywords (cleaned) (col)": "Forecasting",
          "keywords (cleaned) (row)": "Algorithms"
         },
         {
          "Autocorrelation": 0.0625,
          "keywords (cleaned) (col)": "Algorithms",
          "keywords (cleaned) (row)": "Forecasting"
         },
         {
          "Autocorrelation": 0.059828240359541034,
          "keywords (cleaned) (col)": "Algorithmic trading",
          "keywords (cleaned) (row)": "Automation"
         },
         {
          "Autocorrelation": 0.059828240359541034,
          "keywords (cleaned) (col)": "Automation",
          "keywords (cleaned) (row)": "Algorithmic trading"
         },
         {
          "Autocorrelation": 0.0569571771811174,
          "keywords (cleaned) (col)": "Electronic trading",
          "keywords (cleaned) (row)": "trading"
         },
         {
          "Autocorrelation": 0.0569571771811174,
          "keywords (cleaned) (col)": "trading",
          "keywords (cleaned) (row)": "Electronic trading"
         },
         {
          "Autocorrelation": 0.0560112033611204,
          "keywords (cleaned) (col)": "Automation",
          "keywords (cleaned) (row)": "High-frequency trading"
         },
         {
          "Autocorrelation": 0.0560112033611204,
          "keywords (cleaned) (col)": "High-frequency trading",
          "keywords (cleaned) (row)": "Automation"
         },
         {
          "Autocorrelation": 0.05543250876981161,
          "keywords (cleaned) (col)": "Commerce",
          "keywords (cleaned) (row)": "trading"
         },
         {
          "Autocorrelation": 0.05543250876981161,
          "keywords (cleaned) (col)": "trading",
          "keywords (cleaned) (row)": "Commerce"
         },
         {
          "Autocorrelation": 0.05121475197315839,
          "keywords (cleaned) (col)": "Finance",
          "keywords (cleaned) (row)": "Automated trading systems"
         },
         {
          "Autocorrelation": 0.05121475197315839,
          "keywords (cleaned) (col)": "Automated trading systems",
          "keywords (cleaned) (row)": "Finance"
         },
         {
          "Autocorrelation": 0.05,
          "keywords (cleaned) (col)": "Automated trading systems",
          "keywords (cleaned) (row)": "Algorithms"
         },
         {
          "Autocorrelation": 0.05,
          "keywords (cleaned) (col)": "Algorithms",
          "keywords (cleaned) (row)": "Automated trading systems"
         },
         {
          "Autocorrelation": 0.04564354645876384,
          "keywords (cleaned) (col)": "Algorithms",
          "keywords (cleaned) (row)": "Automation"
         },
         {
          "Autocorrelation": 0.04564354645876384,
          "keywords (cleaned) (col)": "Automation",
          "keywords (cleaned) (row)": "Algorithms"
         },
         {
          "Autocorrelation": 0.04267895997763199,
          "keywords (cleaned) (col)": "Finance",
          "keywords (cleaned) (row)": "trading"
         },
         {
          "Autocorrelation": 0.04267895997763199,
          "keywords (cleaned) (col)": "trading",
          "keywords (cleaned) (row)": "Finance"
         },
         {
          "Autocorrelation": 0.04209826679741144,
          "keywords (cleaned) (col)": "High frequency",
          "keywords (cleaned) (row)": "Automated trading"
         },
         {
          "Autocorrelation": 0.04209826679741144,
          "keywords (cleaned) (col)": "Automated trading",
          "keywords (cleaned) (row)": "High frequency"
         },
         {
          "Autocorrelation": 0.041956759617876864,
          "keywords (cleaned) (col)": "Automated trading",
          "keywords (cleaned) (row)": "Algorithmic trading"
         },
         {
          "Autocorrelation": 0.041956759617876864,
          "keywords (cleaned) (col)": "Algorithmic trading",
          "keywords (cleaned) (row)": "Automated trading"
         },
         {
          "Autocorrelation": 0.030949223029508647,
          "keywords (cleaned) (col)": "trading",
          "keywords (cleaned) (row)": "Data mining"
         },
         {
          "Autocorrelation": 0.030949223029508647,
          "keywords (cleaned) (col)": "Data mining",
          "keywords (cleaned) (row)": "trading"
         },
         {
          "Autocorrelation": 0.0301237616564389,
          "keywords (cleaned) (col)": "Profitability",
          "keywords (cleaned) (row)": "Data mining"
         },
         {
          "Autocorrelation": 0.0301237616564389,
          "keywords (cleaned) (col)": "Data mining",
          "keywords (cleaned) (row)": "Profitability"
         },
         {
          "Autocorrelation": 0.030015011259383207,
          "keywords (cleaned) (col)": "Automation",
          "keywords (cleaned) (row)": "High frequency"
         },
         {
          "Autocorrelation": 0.030015011259383207,
          "keywords (cleaned) (col)": "High frequency",
          "keywords (cleaned) (row)": "Automation"
         },
         {
          "Autocorrelation": 0.028484364594794254,
          "keywords (cleaned) (col)": "High-frequency trading",
          "keywords (cleaned) (row)": "Data mining"
         },
         {
          "Autocorrelation": 0.028484364594794254,
          "keywords (cleaned) (col)": "Data mining",
          "keywords (cleaned) (row)": "High-frequency trading"
         },
         {
          "Autocorrelation": 0.02809110674504252,
          "keywords (cleaned) (col)": "High frequency",
          "keywords (cleaned) (row)": "Electronic trading"
         },
         {
          "Autocorrelation": 0.02809110674504252,
          "keywords (cleaned) (col)": "Electronic trading",
          "keywords (cleaned) (row)": "High frequency"
         },
         {
          "Autocorrelation": 0.027777777777777776,
          "keywords (cleaned) (col)": "trading",
          "keywords (cleaned) (row)": "Forecasting"
         },
         {
          "Autocorrelation": 0.027777777777777776,
          "keywords (cleaned) (col)": "Forecasting",
          "keywords (cleaned) (row)": "trading"
         },
         {
          "Autocorrelation": 0.02450715406979359,
          "keywords (cleaned) (col)": "High frequency",
          "keywords (cleaned) (row)": "Artificial intelligence"
         },
         {
          "Autocorrelation": 0.02450715406979359,
          "keywords (cleaned) (col)": "Artificial intelligence",
          "keywords (cleaned) (row)": "High frequency"
         },
         {
          "Autocorrelation": 0.019639960837957132,
          "keywords (cleaned) (col)": "Automated trading",
          "keywords (cleaned) (row)": "High-frequency trading"
         },
         {
          "Autocorrelation": 0.019639960837957132,
          "keywords (cleaned) (col)": "High-frequency trading",
          "keywords (cleaned) (row)": "Automated trading"
         },
         {
          "Autocorrelation": 0.01533929977694741,
          "keywords (cleaned) (col)": "High-frequency trading",
          "keywords (cleaned) (row)": "Automated trading systems"
         },
         {
          "Autocorrelation": 0.01533929977694741,
          "keywords (cleaned) (col)": "Automated trading systems",
          "keywords (cleaned) (row)": "High-frequency trading"
         },
         {
          "Autocorrelation": 0,
          "keywords (cleaned) (col)": "Automated trading systems",
          "keywords (cleaned) (row)": "Costs"
         },
         {
          "Autocorrelation": 0,
          "keywords (cleaned) (col)": "Automation",
          "keywords (cleaned) (row)": "trading"
         },
         {
          "Autocorrelation": 0,
          "keywords (cleaned) (col)": "Automated trading systems",
          "keywords (cleaned) (row)": "High frequency"
         },
         {
          "Autocorrelation": 0,
          "keywords (cleaned) (col)": "Data mining",
          "keywords (cleaned) (row)": "High frequency"
         },
         {
          "Autocorrelation": 0,
          "keywords (cleaned) (col)": "High frequency",
          "keywords (cleaned) (row)": "Automated trading systems"
         },
         {
          "Autocorrelation": 0,
          "keywords (cleaned) (col)": "Costs",
          "keywords (cleaned) (row)": "Automated trading systems"
         },
         {
          "Autocorrelation": 0,
          "keywords (cleaned) (col)": "Data mining",
          "keywords (cleaned) (row)": "Financial data processing"
         },
         {
          "Autocorrelation": 0,
          "keywords (cleaned) (col)": "Financial data processing",
          "keywords (cleaned) (row)": "trading"
         },
         {
          "Autocorrelation": 0,
          "keywords (cleaned) (col)": "trading",
          "keywords (cleaned) (row)": "Automation"
         },
         {
          "Autocorrelation": 0,
          "keywords (cleaned) (col)": "Financial data processing",
          "keywords (cleaned) (row)": "Data mining"
         },
         {
          "Autocorrelation": 0,
          "keywords (cleaned) (col)": "trading",
          "keywords (cleaned) (row)": "Automated trading systems"
         },
         {
          "Autocorrelation": 0,
          "keywords (cleaned) (col)": "Artificial intelligence",
          "keywords (cleaned) (row)": "trading"
         },
         {
          "Autocorrelation": 0,
          "keywords (cleaned) (col)": "High frequency",
          "keywords (cleaned) (row)": "Data mining"
         },
         {
          "Autocorrelation": 0,
          "keywords (cleaned) (col)": "trading",
          "keywords (cleaned) (row)": "Artificial intelligence"
         },
         {
          "Autocorrelation": 0,
          "keywords (cleaned) (col)": "Automated trading systems",
          "keywords (cleaned) (row)": "trading"
         },
         {
          "Autocorrelation": 0,
          "keywords (cleaned) (col)": "trading",
          "keywords (cleaned) (row)": "Financial data processing"
         }
        ]
       },
       "encoding": {
        "color": {
         "field": "Autocorrelation",
         "type": "quantitative"
        },
        "size": {
         "field": "Autocorrelation",
         "type": "quantitative"
        },
        "x": {
         "axis": {
          "labelAngle": 270
         },
         "field": "keywords (cleaned) (row)",
         "sort": "ascending",
         "type": "nominal"
        },
        "y": {
         "field": "keywords (cleaned) (col)",
         "sort": "ascending",
         "type": "nominal"
        }
       },
       "mark": "circle"
      },
      "image/png": "[encoded data removed]",
      "text/plain": [
       "<VegaLite 3 object>\n",
       "\n",
       "If you see this message, it means the renderer has not been properly enabled\n",
       "for the frontend that you are using. For more information, see\n",
       "https://altair-viz.github.io/user_guide/troubleshooting.html\n"
      ]
     },
     "execution_count": 4,
     "metadata": {},
     "output_type": "execute_result"
    }
   ],
   "source": [
    "rdf.autocorrelation(\n",
    "    column='keywords (cleaned)',\n",
    "    sep=';'\n",
    ").circlerel()"
   ]
  },
  {
   "cell_type": "code",
   "execution_count": 5,
   "metadata": {},
   "outputs": [
    {
     "data": {
      "image/png": "[encoded data removed]",
      "text/plain": [
       "<Figure size 720x720 with 1 Axes>"
      ]
     },
     "metadata": {
      "needs_background": "light"
     },
     "output_type": "display_data"
    }
   ],
   "source": [
    "rdf.autocorrelation(\n",
    "    column='keywords (cleaned)',\n",
    "    sep=';').heatmap()"
   ]
  },
  {
   "cell_type": "code",
   "execution_count": 6,
   "metadata": {},
   "outputs": [
    {
     "data": {
      "image/png": "[encoded data removed]",
      "text/plain": [
       "<Figure size 864x864 with 1 Axes>"
      ]
     },
     "metadata": {},
     "output_type": "display_data"
    }
   ],
   "source": [
    "rdf.autocorrelation(\n",
    "    column='keywords (cleaned)',\n",
    "    sep=';').chord_diagram(minval=0.35)"
   ]
  },
  {
   "cell_type": "code",
   "execution_count": 7,
   "metadata": {},
   "outputs": [
    {
     "data": {
      "image/png": "[encoded data removed]",
      "text/plain": [
       "<Figure size 864x864 with 1 Axes>"
      ]
     },
     "metadata": {},
     "output_type": "display_data"
    }
   ],
   "source": [
    "rdf.autocorrelation(\n",
    "    column='Authors',\n",
    "    sep=',').chord_diagram(minval=0.20)"
   ]
  },
  {
   "cell_type": "markdown",
   "metadata": {},
   "source": [
    "## Crosscorrelation"
   ]
  },
  {
   "cell_type": "code",
   "execution_count": null,
   "metadata": {},
   "outputs": [],
   "source": [
    "rdf.crosscorrelation(\n",
    "    termA='keywords (cleaned)',\n",
    "    sepA=';',\n",
    "    termB='Authors',\n",
    "    sepB=','\n",
    ").head(10)"
   ]
  },
  {
   "cell_type": "code",
   "execution_count": null,
   "metadata": {},
   "outputs": [],
   "source": [
    "rdf.crosscorrelation(\n",
    "    termA='keywords (cleaned)',\n",
    "    sepA=';',\n",
    "    termB='Authors',\n",
    "    sepB=','\n",
    ").heatmap()"
   ]
  },
  {
   "cell_type": "code",
   "execution_count": null,
   "metadata": {},
   "outputs": [],
   "source": [
    "rdf.crosscorrelation(\n",
    "    termA='keywords (cleaned)',\n",
    "    sepA=';',\n",
    "    termB='Authors',\n",
    "    sepB=','\n",
    ").tomatrix()"
   ]
  },
  {
   "cell_type": "code",
   "execution_count": null,
   "metadata": {},
   "outputs": [],
   "source": [
    "rdf.crosscorrelation(\n",
    "    termA='keywords (cleaned)',\n",
    "    sepA=';',\n",
    "    termB='Authors',\n",
    "    sepB=','\n",
    ").sankey_plot(minval=0.2)"
   ]
  },
  {
   "cell_type": "markdown",
   "metadata": {},
   "source": [
    "## Factor analysis"
   ]
  },
  {
   "cell_type": "code",
   "execution_count": null,
   "metadata": {},
   "outputs": [],
   "source": [
    "rdf.factor_analysis(\n",
    "    term='keywords (cleaned)', \n",
    "    sep=';', \n",
    "    n_components=5, \n",
    "    N=40).head(20)"
   ]
  },
  {
   "cell_type": "code",
   "execution_count": null,
   "metadata": {},
   "outputs": [],
   "source": [
    "rdf.factor_analysis(\n",
    "    term='keywords (cleaned)', \n",
    "    sep=';', \n",
    "    n_components=5, \n",
    "    N=40).heatmap()"
   ]
  },
  {
   "cell_type": "code",
   "execution_count": null,
   "metadata": {},
   "outputs": [],
   "source": [
    "rdf.factor_analysis(\n",
    "    term='keywords (cleaned)', \n",
    "    sep=';', \n",
    "    n_components=5, \n",
    "    N=40).sankey_plot(minval=0.3)"
   ]
  }
 ],
 "metadata": {
  "kernelspec": {
   "display_name": "Python 3",
   "language": "python",
   "name": "python3"
  },
  "language_info": {
   "codemirror_mode": {
    "name": "ipython",
    "version": 3
   },
   "file_extension": ".py",
   "mimetype": "text/x-python",
   "name": "python",
   "nbconvert_exporter": "python",
   "pygments_lexer": "ipython3",
   "version": "3.6.8"
  }
 },
 "nbformat": 4,
 "nbformat_minor": 4
}
