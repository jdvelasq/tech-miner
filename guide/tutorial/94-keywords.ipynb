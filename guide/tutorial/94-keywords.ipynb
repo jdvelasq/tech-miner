{
 "cells": [
  {
   "cell_type": "markdown",
   "metadata": {},
   "source": [
    "# Keywords"
   ]
  },
  {
   "cell_type": "code",
   "execution_count": 1,
   "metadata": {},
   "outputs": [],
   "source": [
    "import pandas as pd\n",
    "from techminer import RecordsDataFrame\n",
    "\n",
    "rdf = RecordsDataFrame(\n",
    "    pd.read_json(\n",
    "        'step-07.json', \n",
    "        orient='records', \n",
    "        lines=True))"
   ]
  },
  {
   "cell_type": "code",
   "execution_count": 11,
   "metadata": {},
   "outputs": [
    {
     "data": {
      "text/html": [
       "<div>\n",
       "<style scoped>\n",
       "    .dataframe tbody tr th:only-of-type {\n",
       "        vertical-align: middle;\n",
       "    }\n",
       "\n",
       "    .dataframe tbody tr th {\n",
       "        vertical-align: top;\n",
       "    }\n",
       "\n",
       "    .dataframe thead th {\n",
       "        text-align: right;\n",
       "    }\n",
       "</style>\n",
       "<table border=\"1\" class=\"dataframe\">\n",
       "  <thead>\n",
       "    <tr style=\"text-align: right;\">\n",
       "      <th></th>\n",
       "      <th>keywords (cleaned)</th>\n",
       "      <th>Num Documents</th>\n",
       "      <th>ID</th>\n",
       "    </tr>\n",
       "  </thead>\n",
       "  <tbody>\n",
       "    <tr>\n",
       "      <th>0</th>\n",
       "      <td>deep learning</td>\n",
       "      <td>60</td>\n",
       "      <td>[[*1*], [*3*], [*4*], [*5*], [*7*], [*13*], [*...</td>\n",
       "    </tr>\n",
       "    <tr>\n",
       "      <th>1</th>\n",
       "      <td>long short-term memory neural network</td>\n",
       "      <td>46</td>\n",
       "      <td>[[*0*], [*1*], [*4*], [*6*], [*7*], [*12*], [*...</td>\n",
       "    </tr>\n",
       "    <tr>\n",
       "      <th>2</th>\n",
       "      <td>artificial neural networks</td>\n",
       "      <td>40</td>\n",
       "      <td>[[*1*], [*4*], [*8*], [*10*], [*16*], [*17*], ...</td>\n",
       "    </tr>\n",
       "    <tr>\n",
       "      <th>3</th>\n",
       "      <td>recurrent neural networks</td>\n",
       "      <td>37</td>\n",
       "      <td>[[*4*], [*6*], [*8*], [*11*], [*12*], [*16*], ...</td>\n",
       "    </tr>\n",
       "    <tr>\n",
       "      <th>4</th>\n",
       "      <td>time series</td>\n",
       "      <td>30</td>\n",
       "      <td>[[*1*], [*15*], [*26*], [*33*], [*38*], [*40*]...</td>\n",
       "    </tr>\n",
       "    <tr>\n",
       "      <th>5</th>\n",
       "      <td>time series forecasting</td>\n",
       "      <td>29</td>\n",
       "      <td>[[*0*], [*1*], [*4*], [*12*], [*16*], [*20*], ...</td>\n",
       "    </tr>\n",
       "    <tr>\n",
       "      <th>6</th>\n",
       "      <td>convolutional neural network</td>\n",
       "      <td>29</td>\n",
       "      <td>[[*13*], [*14*], [*18*], [*19*], [*26*], [*29*...</td>\n",
       "    </tr>\n",
       "    <tr>\n",
       "      <th>7</th>\n",
       "      <td>forecasting</td>\n",
       "      <td>25</td>\n",
       "      <td>[[*1*], [*4*], [*8*], [*13*], [*25*], [*33*], ...</td>\n",
       "    </tr>\n",
       "    <tr>\n",
       "      <th>8</th>\n",
       "      <td>financial time series</td>\n",
       "      <td>21</td>\n",
       "      <td>[[*1*], [*13*], [*14*], [*50*], [*54*], [*55*]...</td>\n",
       "    </tr>\n",
       "    <tr>\n",
       "      <th>9</th>\n",
       "      <td>stock forecasting</td>\n",
       "      <td>17</td>\n",
       "      <td>[[*11*], [*12*], [*42*], [*56*], [*61*], [*66*...</td>\n",
       "    </tr>\n",
       "    <tr>\n",
       "      <th>10</th>\n",
       "      <td>machine learning</td>\n",
       "      <td>16</td>\n",
       "      <td>[[*0*], [*6*], [*10*], [*19*], [*25*], [*27*],...</td>\n",
       "    </tr>\n",
       "    <tr>\n",
       "      <th>11</th>\n",
       "      <td>stock markets</td>\n",
       "      <td>14</td>\n",
       "      <td>[[*4*], [*27*], [*48*], [*62*], [*69*], [*70*]...</td>\n",
       "    </tr>\n",
       "    <tr>\n",
       "      <th>12</th>\n",
       "      <td>prediction</td>\n",
       "      <td>10</td>\n",
       "      <td>[[*8*], [*69*], [*105*], [*106*], [*108*], [*1...</td>\n",
       "    </tr>\n",
       "    <tr>\n",
       "      <th>13</th>\n",
       "      <td>financial time series forecasting</td>\n",
       "      <td>10</td>\n",
       "      <td>[[*2*], [*3*], [*26*], [*46*], [*91*], [*108*]...</td>\n",
       "    </tr>\n",
       "    <tr>\n",
       "      <th>14</th>\n",
       "      <td>trading</td>\n",
       "      <td>9</td>\n",
       "      <td>[[*52*], [*55*], [*68*], [*74*], [*83*], [*106...</td>\n",
       "    </tr>\n",
       "    <tr>\n",
       "      <th>15</th>\n",
       "      <td>limit order book</td>\n",
       "      <td>8</td>\n",
       "      <td>[[*8*], [*28*], [*78*], [*79*], [*82*], [*98*]...</td>\n",
       "    </tr>\n",
       "    <tr>\n",
       "      <th>16</th>\n",
       "      <td>support vector machines</td>\n",
       "      <td>8</td>\n",
       "      <td>[[*22*], [*53*], [*72*], [*90*], [*93*], [*118...</td>\n",
       "    </tr>\n",
       "    <tr>\n",
       "      <th>17</th>\n",
       "      <td>stock</td>\n",
       "      <td>8</td>\n",
       "      <td>[[*69*], [*84*], [*105*], [*108*], [*111*], [*...</td>\n",
       "    </tr>\n",
       "    <tr>\n",
       "      <th>18</th>\n",
       "      <td>stock prediction</td>\n",
       "      <td>8</td>\n",
       "      <td>[[*3*], [*10*], [*18*], [*58*], [*75*], [*94*]...</td>\n",
       "    </tr>\n",
       "    <tr>\n",
       "      <th>19</th>\n",
       "      <td>finance</td>\n",
       "      <td>8</td>\n",
       "      <td>[[*5*], [*8*], [*34*], [*69*], [*71*], [*74*],...</td>\n",
       "    </tr>\n",
       "    <tr>\n",
       "      <th>20</th>\n",
       "      <td>arima</td>\n",
       "      <td>7</td>\n",
       "      <td>[[*8*], [*12*], [*49*], [*71*], [*95*], [*115*...</td>\n",
       "    </tr>\n",
       "    <tr>\n",
       "      <th>21</th>\n",
       "      <td>volatility</td>\n",
       "      <td>7</td>\n",
       "      <td>[[*4*], [*39*], [*63*], [*69*], [*84*], [*85*]...</td>\n",
       "    </tr>\n",
       "    <tr>\n",
       "      <th>22</th>\n",
       "      <td>regression</td>\n",
       "      <td>6</td>\n",
       "      <td>[[*8*], [*108*], [*111*], [*120*], [*139*], [*...</td>\n",
       "    </tr>\n",
       "    <tr>\n",
       "      <th>23</th>\n",
       "      <td>GRU</td>\n",
       "      <td>6</td>\n",
       "      <td>[[*4*], [*42*], [*50*], [*72*], [*88*], [*93*]]</td>\n",
       "    </tr>\n",
       "    <tr>\n",
       "      <th>24</th>\n",
       "      <td>exchange rate forecasting</td>\n",
       "      <td>6</td>\n",
       "      <td>[[*36*], [*64*], [*77*], [*105*], [*120*], [*1...</td>\n",
       "    </tr>\n",
       "    <tr>\n",
       "      <th>25</th>\n",
       "      <td>transaction</td>\n",
       "      <td>6</td>\n",
       "      <td>[[*52*], [*108*], [*130*], [*137*], [*140*], [...</td>\n",
       "    </tr>\n",
       "    <tr>\n",
       "      <th>26</th>\n",
       "      <td>financial prediction</td>\n",
       "      <td>5</td>\n",
       "      <td>[[*18*], [*22*], [*59*], [*125*], [*131*]]</td>\n",
       "    </tr>\n",
       "    <tr>\n",
       "      <th>27</th>\n",
       "      <td>cluster</td>\n",
       "      <td>5</td>\n",
       "      <td>[[*136*], [*138*], [*139*], [*142*], [*143*]]</td>\n",
       "    </tr>\n",
       "    <tr>\n",
       "      <th>28</th>\n",
       "      <td>feedforward neural networks</td>\n",
       "      <td>5</td>\n",
       "      <td>[[*26*], [*72*], [*74*], [*112*], [*115*]]</td>\n",
       "    </tr>\n",
       "    <tr>\n",
       "      <th>29</th>\n",
       "      <td>stock price</td>\n",
       "      <td>4</td>\n",
       "      <td>[[*69*], [*84*], [*108*], [*138*]]</td>\n",
       "    </tr>\n",
       "  </tbody>\n",
       "</table>\n",
       "</div>"
      ],
      "text/plain": [
       "                       keywords (cleaned)  Num Documents  \\\n",
       "0                           deep learning             60   \n",
       "1   long short-term memory neural network             46   \n",
       "2              artificial neural networks             40   \n",
       "3               recurrent neural networks             37   \n",
       "4                             time series             30   \n",
       "5                 time series forecasting             29   \n",
       "6            convolutional neural network             29   \n",
       "7                             forecasting             25   \n",
       "8                   financial time series             21   \n",
       "9                       stock forecasting             17   \n",
       "10                       machine learning             16   \n",
       "11                          stock markets             14   \n",
       "12                             prediction             10   \n",
       "13      financial time series forecasting             10   \n",
       "14                                trading              9   \n",
       "15                       limit order book              8   \n",
       "16                support vector machines              8   \n",
       "17                                  stock              8   \n",
       "18                       stock prediction              8   \n",
       "19                                finance              8   \n",
       "20                                  arima              7   \n",
       "21                             volatility              7   \n",
       "22                             regression              6   \n",
       "23                                    GRU              6   \n",
       "24              exchange rate forecasting              6   \n",
       "25                            transaction              6   \n",
       "26                   financial prediction              5   \n",
       "27                                cluster              5   \n",
       "28            feedforward neural networks              5   \n",
       "29                            stock price              4   \n",
       "\n",
       "                                                   ID  \n",
       "0   [[*1*], [*3*], [*4*], [*5*], [*7*], [*13*], [*...  \n",
       "1   [[*0*], [*1*], [*4*], [*6*], [*7*], [*12*], [*...  \n",
       "2   [[*1*], [*4*], [*8*], [*10*], [*16*], [*17*], ...  \n",
       "3   [[*4*], [*6*], [*8*], [*11*], [*12*], [*16*], ...  \n",
       "4   [[*1*], [*15*], [*26*], [*33*], [*38*], [*40*]...  \n",
       "5   [[*0*], [*1*], [*4*], [*12*], [*16*], [*20*], ...  \n",
       "6   [[*13*], [*14*], [*18*], [*19*], [*26*], [*29*...  \n",
       "7   [[*1*], [*4*], [*8*], [*13*], [*25*], [*33*], ...  \n",
       "8   [[*1*], [*13*], [*14*], [*50*], [*54*], [*55*]...  \n",
       "9   [[*11*], [*12*], [*42*], [*56*], [*61*], [*66*...  \n",
       "10  [[*0*], [*6*], [*10*], [*19*], [*25*], [*27*],...  \n",
       "11  [[*4*], [*27*], [*48*], [*62*], [*69*], [*70*]...  \n",
       "12  [[*8*], [*69*], [*105*], [*106*], [*108*], [*1...  \n",
       "13  [[*2*], [*3*], [*26*], [*46*], [*91*], [*108*]...  \n",
       "14  [[*52*], [*55*], [*68*], [*74*], [*83*], [*106...  \n",
       "15  [[*8*], [*28*], [*78*], [*79*], [*82*], [*98*]...  \n",
       "16  [[*22*], [*53*], [*72*], [*90*], [*93*], [*118...  \n",
       "17  [[*69*], [*84*], [*105*], [*108*], [*111*], [*...  \n",
       "18  [[*3*], [*10*], [*18*], [*58*], [*75*], [*94*]...  \n",
       "19  [[*5*], [*8*], [*34*], [*69*], [*71*], [*74*],...  \n",
       "20  [[*8*], [*12*], [*49*], [*71*], [*95*], [*115*...  \n",
       "21  [[*4*], [*39*], [*63*], [*69*], [*84*], [*85*]...  \n",
       "22  [[*8*], [*108*], [*111*], [*120*], [*139*], [*...  \n",
       "23    [[*4*], [*42*], [*50*], [*72*], [*88*], [*93*]]  \n",
       "24  [[*36*], [*64*], [*77*], [*105*], [*120*], [*1...  \n",
       "25  [[*52*], [*108*], [*130*], [*137*], [*140*], [...  \n",
       "26         [[*18*], [*22*], [*59*], [*125*], [*131*]]  \n",
       "27      [[*136*], [*138*], [*139*], [*142*], [*143*]]  \n",
       "28         [[*26*], [*72*], [*74*], [*112*], [*115*]]  \n",
       "29                 [[*69*], [*84*], [*108*], [*138*]]  "
      ]
     },
     "execution_count": 11,
     "metadata": {},
     "output_type": "execute_result"
    }
   ],
   "source": [
    "rdf.documents_by_terms('keywords (cleaned)', sep=';').head(30)"
   ]
  },
  {
   "cell_type": "code",
   "execution_count": 12,
   "metadata": {},
   "outputs": [
    {
     "data": {
      "text/plain": [
       "<matplotlib.axes._subplots.AxesSubplot at 0x7f8e00c7f6d8>"
      ]
     },
     "execution_count": 12,
     "metadata": {},
     "output_type": "execute_result"
    },
    {
     "data": {
      "image/png": "[encoded data removed]",
      "text/plain": [
       "<Figure size 432x288 with 1 Axes>"
      ]
     },
     "metadata": {
      "needs_background": "light"
     },
     "output_type": "display_data"
    }
   ],
   "source": [
    "rdf.documents_by_terms('keywords (cleaned)', sep=';', top_n=20).barhplot()"
   ]
  },
  {
   "cell_type": "markdown",
   "metadata": {},
   "source": [
    "---"
   ]
  },
  {
   "cell_type": "code",
   "execution_count": 13,
   "metadata": {},
   "outputs": [
    {
     "data": {
      "application/vnd.vegalite.v3+json": {
       "$schema": "https://vega.github.io/schema/vega-lite/v3.4.0.json",
       "config": {
        "mark": {
         "tooltip": null
        },
        "view": {
         "height": 300,
         "width": 400
        }
       },
       "data": {
        "name": "data-1348e17ecf790d0a10aaadf10a783856"
       },
       "datasets": {
        "data-1348e17ecf790d0a10aaadf10a783856": [
         {
          "ID": [
           "[*142*]",
           "[*143*]"
          ],
          "Num Documents": 2,
          "Year": 2010,
          "keywords (cleaned)": "artificial neural networks"
         },
         {
          "ID": [
           "[*140*]",
           "[*141*]"
          ],
          "Num Documents": 2,
          "Year": 2011,
          "keywords (cleaned)": "artificial neural networks"
         },
         {
          "ID": [
           "[*138*]",
           "[*139*]"
          ],
          "Num Documents": 2,
          "Year": 2012,
          "keywords (cleaned)": "artificial neural networks"
         },
         {
          "ID": [
           "[*137*]"
          ],
          "Num Documents": 1,
          "Year": 2013,
          "keywords (cleaned)": "artificial neural networks"
         },
         {
          "ID": [
           "[*125*]",
           "[*126*]"
          ],
          "Num Documents": 2,
          "Year": 2016,
          "keywords (cleaned)": "artificial neural networks"
         },
         {
          "ID": [
           "[*105*]",
           "[*106*]",
           "[*108*]",
           "[*111*]",
           "[*115*]",
           "[*121*]"
          ],
          "Num Documents": 6,
          "Year": 2017,
          "keywords (cleaned)": "artificial neural networks"
         },
         {
          "ID": [
           "[*53*]",
           "[*54*]",
           "[*55*]",
           "[*63*]",
           "[*67*]",
           "[*69*]",
           "[*72*]",
           "[*84*]",
           "[*90*]",
           "[*97*]"
          ],
          "Num Documents": 10,
          "Year": 2018,
          "keywords (cleaned)": "artificial neural networks"
         },
         {
          "ID": [
           "[*1*]",
           "[*4*]",
           "[*8*]",
           "[*10*]",
           "[*16*]",
           "[*17*]",
           "[*18*]",
           "[*25*]",
           "[*26*]",
           "[*29*]",
           "[*33*]",
           "[*36*]",
           "[*38*]",
           "[*39*]",
           "[*48*]"
          ],
          "Num Documents": 15,
          "Year": 2019,
          "keywords (cleaned)": "artificial neural networks"
         },
         {
          "ID": [
           "[*138*]"
          ],
          "Num Documents": 1,
          "Year": 2012,
          "keywords (cleaned)": "convolutional neural network"
         },
         {
          "ID": [
           "[*137*]"
          ],
          "Num Documents": 1,
          "Year": 2013,
          "keywords (cleaned)": "convolutional neural network"
         },
         {
          "ID": [
           "[*132*]",
           "[*133*]"
          ],
          "Num Documents": 2,
          "Year": 2014,
          "keywords (cleaned)": "convolutional neural network"
         },
         {
          "ID": [
           "[*106*]",
           "[*107*]",
           "[*108*]",
           "[*114*]",
           "[*118*]",
           "[*123*]"
          ],
          "Num Documents": 6,
          "Year": 2017,
          "keywords (cleaned)": "convolutional neural network"
         },
         {
          "ID": [
           "[*64*]",
           "[*72*]",
           "[*77*]",
           "[*78*]",
           "[*79*]",
           "[*89*]",
           "[*91*]",
           "[*96*]",
           "[*102*]",
           "[*104*]"
          ],
          "Num Documents": 10,
          "Year": 2018,
          "keywords (cleaned)": "convolutional neural network"
         },
         {
          "ID": [
           "[*13*]",
           "[*14*]",
           "[*18*]",
           "[*19*]",
           "[*26*]",
           "[*29*]",
           "[*36*]",
           "[*45*]",
           "[*50*]"
          ],
          "Num Documents": 9,
          "Year": 2019,
          "keywords (cleaned)": "convolutional neural network"
         },
         {
          "ID": [
           "[*143*]"
          ],
          "Num Documents": 1,
          "Year": 2010,
          "keywords (cleaned)": "deep learning"
         },
         {
          "ID": [
           "[*140*]",
           "[*141*]"
          ],
          "Num Documents": 2,
          "Year": 2011,
          "keywords (cleaned)": "deep learning"
         },
         {
          "ID": [
           "[*135*]"
          ],
          "Num Documents": 1,
          "Year": 2013,
          "keywords (cleaned)": "deep learning"
         },
         {
          "ID": [
           "[*129*]"
          ],
          "Num Documents": 1,
          "Year": 2015,
          "keywords (cleaned)": "deep learning"
         },
         {
          "ID": [
           "[*125*]"
          ],
          "Num Documents": 1,
          "Year": 2016,
          "keywords (cleaned)": "deep learning"
         },
         {
          "ID": [
           "[*106*]",
           "[*111*]",
           "[*117*]",
           "[*120*]"
          ],
          "Num Documents": 4,
          "Year": 2017,
          "keywords (cleaned)": "deep learning"
         },
         {
          "ID": [
           "[*54*]",
           "[*55*]",
           "[*57*]",
           "[*58*]",
           "[*61*]",
           "[*62*]",
           "[*66*]",
           "[*68*]",
           "[*70*]",
           "[*71*]",
           "[*73*]",
           "[*74*]",
           "[*76*]",
           "[*77*]",
           "[*78*]",
           "[*79*]",
           "[*84*]",
           "[*86*]",
           "[*87*]",
           "[*91*]",
           "[*93*]",
           "[*94*]",
           "[*95*]",
           "[*96*]",
           "[*97*]",
           "[*98*]",
           "[*99*]",
           "[*100*]",
           "[*103*]",
           "[*104*]"
          ],
          "Num Documents": 30,
          "Year": 2018,
          "keywords (cleaned)": "deep learning"
         },
         {
          "ID": [
           "[*1*]",
           "[*3*]",
           "[*4*]",
           "[*5*]",
           "[*7*]",
           "[*13*]",
           "[*15*]",
           "[*19*]",
           "[*23*]",
           "[*25*]",
           "[*26*]",
           "[*27*]",
           "[*33*]",
           "[*34*]",
           "[*36*]",
           "[*38*]",
           "[*40*]",
           "[*44*]",
           "[*50*]",
           "[*51*]"
          ],
          "Num Documents": 20,
          "Year": 2019,
          "keywords (cleaned)": "deep learning"
         },
         {
          "ID": [
           "[*140*]",
           "[*141*]"
          ],
          "Num Documents": 2,
          "Year": 2011,
          "keywords (cleaned)": "finance"
         },
         {
          "ID": [
           "[*69*]",
           "[*71*]",
           "[*74*]"
          ],
          "Num Documents": 3,
          "Year": 2018,
          "keywords (cleaned)": "finance"
         },
         {
          "ID": [
           "[*5*]",
           "[*8*]",
           "[*34*]"
          ],
          "Num Documents": 3,
          "Year": 2019,
          "keywords (cleaned)": "finance"
         },
         {
          "ID": [
           "[*142*]",
           "[*143*]"
          ],
          "Num Documents": 2,
          "Year": 2010,
          "keywords (cleaned)": "financial time series"
         },
         {
          "ID": [
           "[*139*]"
          ],
          "Num Documents": 1,
          "Year": 2012,
          "keywords (cleaned)": "financial time series"
         },
         {
          "ID": [
           "[*137*]"
          ],
          "Num Documents": 1,
          "Year": 2013,
          "keywords (cleaned)": "financial time series"
         },
         {
          "ID": [
           "[*127*]"
          ],
          "Num Documents": 1,
          "Year": 2016,
          "keywords (cleaned)": "financial time series"
         },
         {
          "ID": [
           "[*105*]",
           "[*108*]",
           "[*109*]",
           "[*111*]",
           "[*114*]",
           "[*119*]"
          ],
          "Num Documents": 6,
          "Year": 2017,
          "keywords (cleaned)": "financial time series"
         },
         {
          "ID": [
           "[*54*]",
           "[*55*]",
           "[*60*]",
           "[*68*]",
           "[*84*]",
           "[*93*]"
          ],
          "Num Documents": 6,
          "Year": 2018,
          "keywords (cleaned)": "financial time series"
         },
         {
          "ID": [
           "[*1*]",
           "[*13*]",
           "[*14*]",
           "[*50*]"
          ],
          "Num Documents": 4,
          "Year": 2019,
          "keywords (cleaned)": "financial time series"
         },
         {
          "ID": [
           "[*142*]",
           "[*143*]"
          ],
          "Num Documents": 2,
          "Year": 2010,
          "keywords (cleaned)": "financial time series forecasting"
         },
         {
          "ID": [
           "[*108*]",
           "[*117*]",
           "[*118*]"
          ],
          "Num Documents": 3,
          "Year": 2017,
          "keywords (cleaned)": "financial time series forecasting"
         },
         {
          "ID": [
           "[*91*]"
          ],
          "Num Documents": 1,
          "Year": 2018,
          "keywords (cleaned)": "financial time series forecasting"
         },
         {
          "ID": [
           "[*2*]",
           "[*3*]",
           "[*26*]",
           "[*46*]"
          ],
          "Num Documents": 4,
          "Year": 2019,
          "keywords (cleaned)": "financial time series forecasting"
         },
         {
          "ID": [
           "[*143*]"
          ],
          "Num Documents": 1,
          "Year": 2010,
          "keywords (cleaned)": "forecasting"
         },
         {
          "ID": [
           "[*140*]",
           "[*141*]"
          ],
          "Num Documents": 2,
          "Year": 2011,
          "keywords (cleaned)": "forecasting"
         },
         {
          "ID": [
           "[*138*]",
           "[*139*]"
          ],
          "Num Documents": 2,
          "Year": 2012,
          "keywords (cleaned)": "forecasting"
         },
         {
          "ID": [
           "[*137*]"
          ],
          "Num Documents": 1,
          "Year": 2013,
          "keywords (cleaned)": "forecasting"
         },
         {
          "ID": [
           "[*126*]"
          ],
          "Num Documents": 1,
          "Year": 2016,
          "keywords (cleaned)": "forecasting"
         },
         {
          "ID": [
           "[*105*]",
           "[*106*]",
           "[*108*]",
           "[*110*]",
           "[*111*]",
           "[*120*]"
          ],
          "Num Documents": 6,
          "Year": 2017,
          "keywords (cleaned)": "forecasting"
         },
         {
          "ID": [
           "[*55*]",
           "[*71*]",
           "[*84*]",
           "[*86*]",
           "[*95*]",
           "[*99*]"
          ],
          "Num Documents": 6,
          "Year": 2018,
          "keywords (cleaned)": "forecasting"
         },
         {
          "ID": [
           "[*1*]",
           "[*4*]",
           "[*8*]",
           "[*13*]",
           "[*25*]",
           "[*33*]"
          ],
          "Num Documents": 6,
          "Year": 2019,
          "keywords (cleaned)": "forecasting"
         },
         {
          "ID": [
           "[*133*]"
          ],
          "Num Documents": 1,
          "Year": 2014,
          "keywords (cleaned)": "limit order book"
         },
         {
          "ID": [
           "[*106*]"
          ],
          "Num Documents": 1,
          "Year": 2017,
          "keywords (cleaned)": "limit order book"
         },
         {
          "ID": [
           "[*78*]",
           "[*79*]",
           "[*82*]",
           "[*98*]"
          ],
          "Num Documents": 4,
          "Year": 2018,
          "keywords (cleaned)": "limit order book"
         },
         {
          "ID": [
           "[*8*]",
           "[*28*]"
          ],
          "Num Documents": 2,
          "Year": 2019,
          "keywords (cleaned)": "limit order book"
         },
         {
          "ID": [
           "[*139*]"
          ],
          "Num Documents": 1,
          "Year": 2012,
          "keywords (cleaned)": "long short-term memory neural network"
         },
         {
          "ID": [
           "[*134*]",
           "[*136*]"
          ],
          "Num Documents": 2,
          "Year": 2013,
          "keywords (cleaned)": "long short-term memory neural network"
         },
         {
          "ID": [
           "[*133*]"
          ],
          "Num Documents": 1,
          "Year": 2014,
          "keywords (cleaned)": "long short-term memory neural network"
         },
         {
          "ID": [
           "[*130*]"
          ],
          "Num Documents": 1,
          "Year": 2015,
          "keywords (cleaned)": "long short-term memory neural network"
         },
         {
          "ID": [
           "[*128*]"
          ],
          "Num Documents": 1,
          "Year": 2016,
          "keywords (cleaned)": "long short-term memory neural network"
         },
         {
          "ID": [
           "[*105*]",
           "[*106*]",
           "[*112*]",
           "[*115*]",
           "[*116*]",
           "[*117*]",
           "[*119*]",
           "[*121*]"
          ],
          "Num Documents": 8,
          "Year": 2017,
          "keywords (cleaned)": "long short-term memory neural network"
         },
         {
          "ID": [
           "[*53*]",
           "[*55*]",
           "[*56*]",
           "[*65*]",
           "[*71*]",
           "[*72*]",
           "[*74*]",
           "[*75*]",
           "[*83*]",
           "[*88*]",
           "[*89*]",
           "[*90*]",
           "[*95*]",
           "[*101*]",
           "[*102*]"
          ],
          "Num Documents": 15,
          "Year": 2018,
          "keywords (cleaned)": "long short-term memory neural network"
         },
         {
          "ID": [
           "[*0*]",
           "[*1*]",
           "[*4*]",
           "[*6*]",
           "[*7*]",
           "[*12*]",
           "[*21*]",
           "[*26*]",
           "[*30*]",
           "[*31*]",
           "[*34*]",
           "[*35*]",
           "[*41*]",
           "[*42*]",
           "[*45*]",
           "[*49*]",
           "[*50*]"
          ],
          "Num Documents": 17,
          "Year": 2019,
          "keywords (cleaned)": "long short-term memory neural network"
         },
         {
          "ID": [
           "[*143*]"
          ],
          "Num Documents": 1,
          "Year": 2010,
          "keywords (cleaned)": "machine learning"
         },
         {
          "ID": [
           "[*140*]",
           "[*141*]"
          ],
          "Num Documents": 2,
          "Year": 2011,
          "keywords (cleaned)": "machine learning"
         },
         {
          "ID": [
           "[*106*]",
           "[*108*]"
          ],
          "Num Documents": 2,
          "Year": 2017,
          "keywords (cleaned)": "machine learning"
         },
         {
          "ID": [
           "[*54*]",
           "[*70*]",
           "[*98*]"
          ],
          "Num Documents": 3,
          "Year": 2018,
          "keywords (cleaned)": "machine learning"
         },
         {
          "ID": [
           "[*0*]",
           "[*6*]",
           "[*10*]",
           "[*19*]",
           "[*25*]",
           "[*27*]",
           "[*34*]",
           "[*38*]"
          ],
          "Num Documents": 8,
          "Year": 2019,
          "keywords (cleaned)": "machine learning"
         },
         {
          "ID": [
           "[*142*]",
           "[*143*]"
          ],
          "Num Documents": 2,
          "Year": 2010,
          "keywords (cleaned)": "prediction"
         },
         {
          "ID": [
           "[*138*]",
           "[*139*]"
          ],
          "Num Documents": 2,
          "Year": 2012,
          "keywords (cleaned)": "prediction"
         },
         {
          "ID": [
           "[*126*]"
          ],
          "Num Documents": 1,
          "Year": 2016,
          "keywords (cleaned)": "prediction"
         },
         {
          "ID": [
           "[*105*]",
           "[*106*]",
           "[*108*]"
          ],
          "Num Documents": 3,
          "Year": 2017,
          "keywords (cleaned)": "prediction"
         },
         {
          "ID": [
           "[*69*]"
          ],
          "Num Documents": 1,
          "Year": 2018,
          "keywords (cleaned)": "prediction"
         },
         {
          "ID": [
           "[*8*]"
          ],
          "Num Documents": 1,
          "Year": 2019,
          "keywords (cleaned)": "prediction"
         },
         {
          "ID": [
           "[*143*]"
          ],
          "Num Documents": 1,
          "Year": 2010,
          "keywords (cleaned)": "recurrent neural networks"
         },
         {
          "ID": [
           "[*140*]",
           "[*141*]"
          ],
          "Num Documents": 2,
          "Year": 2011,
          "keywords (cleaned)": "recurrent neural networks"
         },
         {
          "ID": [
           "[*138*]"
          ],
          "Num Documents": 1,
          "Year": 2012,
          "keywords (cleaned)": "recurrent neural networks"
         },
         {
          "ID": [
           "[*137*]"
          ],
          "Num Documents": 1,
          "Year": 2013,
          "keywords (cleaned)": "recurrent neural networks"
         },
         {
          "ID": [
           "[*131*]",
           "[*132*]"
          ],
          "Num Documents": 2,
          "Year": 2014,
          "keywords (cleaned)": "recurrent neural networks"
         },
         {
          "ID": [
           "[*126*]"
          ],
          "Num Documents": 1,
          "Year": 2016,
          "keywords (cleaned)": "recurrent neural networks"
         },
         {
          "ID": [
           "[*106*]",
           "[*111*]",
           "[*113*]"
          ],
          "Num Documents": 3,
          "Year": 2017,
          "keywords (cleaned)": "recurrent neural networks"
         },
         {
          "ID": [
           "[*53*]",
           "[*56*]",
           "[*60*]",
           "[*68*]",
           "[*69*]",
           "[*74*]",
           "[*77*]",
           "[*80*]",
           "[*83*]",
           "[*88*]",
           "[*89*]",
           "[*92*]"
          ],
          "Num Documents": 12,
          "Year": 2018,
          "keywords (cleaned)": "recurrent neural networks"
         },
         {
          "ID": [
           "[*4*]",
           "[*6*]",
           "[*8*]",
           "[*11*]",
           "[*12*]",
           "[*16*]",
           "[*20*]",
           "[*26*]",
           "[*28*]",
           "[*30*]",
           "[*32*]",
           "[*41*]",
           "[*43*]",
           "[*47*]"
          ],
          "Num Documents": 14,
          "Year": 2019,
          "keywords (cleaned)": "recurrent neural networks"
         },
         {
          "ID": [
           "[*141*]"
          ],
          "Num Documents": 1,
          "Year": 2011,
          "keywords (cleaned)": "stock"
         },
         {
          "ID": [
           "[*138*]"
          ],
          "Num Documents": 1,
          "Year": 2012,
          "keywords (cleaned)": "stock"
         },
         {
          "ID": [
           "[*134*]"
          ],
          "Num Documents": 1,
          "Year": 2013,
          "keywords (cleaned)": "stock"
         },
         {
          "ID": [
           "[*105*]",
           "[*108*]",
           "[*111*]"
          ],
          "Num Documents": 3,
          "Year": 2017,
          "keywords (cleaned)": "stock"
         },
         {
          "ID": [
           "[*69*]",
           "[*84*]"
          ],
          "Num Documents": 2,
          "Year": 2018,
          "keywords (cleaned)": "stock"
         },
         {
          "ID": [
           "[*138*]"
          ],
          "Num Documents": 1,
          "Year": 2012,
          "keywords (cleaned)": "stock forecasting"
         },
         {
          "ID": [
           "[*124*]",
           "[*128*]"
          ],
          "Num Documents": 2,
          "Year": 2016,
          "keywords (cleaned)": "stock forecasting"
         },
         {
          "ID": [
           "[*106*]",
           "[*112*]",
           "[*118*]",
           "[*123*]"
          ],
          "Num Documents": 4,
          "Year": 2017,
          "keywords (cleaned)": "stock forecasting"
         },
         {
          "ID": [
           "[*56*]",
           "[*61*]",
           "[*66*]",
           "[*69*]",
           "[*74*]",
           "[*76*]",
           "[*102*]"
          ],
          "Num Documents": 7,
          "Year": 2018,
          "keywords (cleaned)": "stock forecasting"
         },
         {
          "ID": [
           "[*11*]",
           "[*12*]",
           "[*42*]"
          ],
          "Num Documents": 3,
          "Year": 2019,
          "keywords (cleaned)": "stock forecasting"
         },
         {
          "ID": [
           "[*141*]"
          ],
          "Num Documents": 1,
          "Year": 2011,
          "keywords (cleaned)": "stock markets"
         },
         {
          "ID": [
           "[*138*]"
          ],
          "Num Documents": 1,
          "Year": 2012,
          "keywords (cleaned)": "stock markets"
         },
         {
          "ID": [
           "[*105*]",
           "[*111*]"
          ],
          "Num Documents": 2,
          "Year": 2017,
          "keywords (cleaned)": "stock markets"
         },
         {
          "ID": [
           "[*62*]",
           "[*69*]",
           "[*70*]",
           "[*71*]",
           "[*73*]",
           "[*89*]",
           "[*91*]"
          ],
          "Num Documents": 7,
          "Year": 2018,
          "keywords (cleaned)": "stock markets"
         },
         {
          "ID": [
           "[*4*]",
           "[*27*]",
           "[*48*]"
          ],
          "Num Documents": 3,
          "Year": 2019,
          "keywords (cleaned)": "stock markets"
         },
         {
          "ID": [
           "[*121*]"
          ],
          "Num Documents": 1,
          "Year": 2017,
          "keywords (cleaned)": "stock prediction"
         },
         {
          "ID": [
           "[*58*]",
           "[*75*]",
           "[*94*]",
           "[*97*]"
          ],
          "Num Documents": 4,
          "Year": 2018,
          "keywords (cleaned)": "stock prediction"
         },
         {
          "ID": [
           "[*3*]",
           "[*10*]",
           "[*18*]"
          ],
          "Num Documents": 3,
          "Year": 2019,
          "keywords (cleaned)": "stock prediction"
         },
         {
          "ID": [
           "[*143*]"
          ],
          "Num Documents": 1,
          "Year": 2010,
          "keywords (cleaned)": "support vector machines"
         },
         {
          "ID": [
           "[*118*]",
           "[*120*]"
          ],
          "Num Documents": 2,
          "Year": 2017,
          "keywords (cleaned)": "support vector machines"
         },
         {
          "ID": [
           "[*53*]",
           "[*72*]",
           "[*90*]",
           "[*93*]"
          ],
          "Num Documents": 4,
          "Year": 2018,
          "keywords (cleaned)": "support vector machines"
         },
         {
          "ID": [
           "[*22*]"
          ],
          "Num Documents": 1,
          "Year": 2019,
          "keywords (cleaned)": "support vector machines"
         },
         {
          "ID": [
           "[*142*]",
           "[*143*]"
          ],
          "Num Documents": 2,
          "Year": 2010,
          "keywords (cleaned)": "time series"
         },
         {
          "ID": [
           "[*138*]",
           "[*139*]"
          ],
          "Num Documents": 2,
          "Year": 2012,
          "keywords (cleaned)": "time series"
         },
         {
          "ID": [
           "[*134*]",
           "[*136*]",
           "[*137*]"
          ],
          "Num Documents": 3,
          "Year": 2013,
          "keywords (cleaned)": "time series"
         },
         {
          "ID": [
           "[*133*]"
          ],
          "Num Documents": 1,
          "Year": 2014,
          "keywords (cleaned)": "time series"
         },
         {
          "ID": [
           "[*124*]"
          ],
          "Num Documents": 1,
          "Year": 2016,
          "keywords (cleaned)": "time series"
         },
         {
          "ID": [
           "[*105*]",
           "[*108*]",
           "[*111*]"
          ],
          "Num Documents": 3,
          "Year": 2017,
          "keywords (cleaned)": "time series"
         },
         {
          "ID": [
           "[*55*]",
           "[*56*]",
           "[*57*]",
           "[*58*]",
           "[*67*]",
           "[*69*]",
           "[*75*]",
           "[*77*]",
           "[*84*]",
           "[*89*]",
           "[*96*]"
          ],
          "Num Documents": 11,
          "Year": 2018,
          "keywords (cleaned)": "time series"
         },
         {
          "ID": [
           "[*1*]",
           "[*15*]",
           "[*26*]",
           "[*33*]",
           "[*38*]",
           "[*40*]",
           "[*45*]"
          ],
          "Num Documents": 7,
          "Year": 2019,
          "keywords (cleaned)": "time series"
         },
         {
          "ID": [
           "[*142*]",
           "[*143*]"
          ],
          "Num Documents": 2,
          "Year": 2010,
          "keywords (cleaned)": "time series forecasting"
         },
         {
          "ID": [
           "[*139*]"
          ],
          "Num Documents": 1,
          "Year": 2012,
          "keywords (cleaned)": "time series forecasting"
         },
         {
          "ID": [
           "[*129*]"
          ],
          "Num Documents": 1,
          "Year": 2015,
          "keywords (cleaned)": "time series forecasting"
         },
         {
          "ID": [
           "[*126*]"
          ],
          "Num Documents": 1,
          "Year": 2016,
          "keywords (cleaned)": "time series forecasting"
         },
         {
          "ID": [
           "[*108*]",
           "[*111*]"
          ],
          "Num Documents": 2,
          "Year": 2017,
          "keywords (cleaned)": "time series forecasting"
         },
         {
          "ID": [
           "[*55*]",
           "[*80*]",
           "[*81*]",
           "[*82*]",
           "[*84*]",
           "[*87*]",
           "[*90*]",
           "[*96*]",
           "[*100*]",
           "[*101*]"
          ],
          "Num Documents": 10,
          "Year": 2018,
          "keywords (cleaned)": "time series forecasting"
         },
         {
          "ID": [
           "[*0*]",
           "[*1*]",
           "[*4*]",
           "[*12*]",
           "[*16*]",
           "[*20*]",
           "[*29*]",
           "[*31*]",
           "[*33*]",
           "[*37*]",
           "[*39*]",
           "[*48*]"
          ],
          "Num Documents": 12,
          "Year": 2019,
          "keywords (cleaned)": "time series forecasting"
         },
         {
          "ID": [
           "[*142*]"
          ],
          "Num Documents": 1,
          "Year": 2010,
          "keywords (cleaned)": "trading"
         },
         {
          "ID": [
           "[*140*]"
          ],
          "Num Documents": 1,
          "Year": 2011,
          "keywords (cleaned)": "trading"
         },
         {
          "ID": [
           "[*106*]",
           "[*108*]"
          ],
          "Num Documents": 2,
          "Year": 2017,
          "keywords (cleaned)": "trading"
         },
         {
          "ID": [
           "[*55*]",
           "[*68*]",
           "[*74*]",
           "[*83*]"
          ],
          "Num Documents": 4,
          "Year": 2018,
          "keywords (cleaned)": "trading"
         },
         {
          "ID": [
           "[*52*]"
          ],
          "Num Documents": 1,
          "Year": 2019,
          "keywords (cleaned)": "trading"
         }
        ]
       },
       "encoding": {
        "color": {
         "field": "Num Documents",
         "type": "quantitative"
        },
        "size": {
         "field": "Num Documents",
         "type": "quantitative"
        },
        "x": {
         "axis": {
          "labelAngle": 270
         },
         "field": "keywords (cleaned)",
         "sort": "ascending",
         "type": "nominal"
        },
        "y": {
         "field": "Year",
         "sort": "ascending",
         "type": "nominal"
        }
       },
       "mark": "circle"
      },
      "image/png": "[encoded data removed]",
      "text/plain": [
       "<VegaLite 3 object>\n",
       "\n",
       "If you see this message, it means the renderer has not been properly enabled\n",
       "for the frontend that you are using. For more information, see\n",
       "https://altair-viz.github.io/user_guide/troubleshooting.html\n"
      ]
     },
     "execution_count": 13,
     "metadata": {},
     "output_type": "execute_result"
    }
   ],
   "source": [
    "rdf.terms_by_year( \n",
    "    column='keywords (cleaned)', \n",
    "    sep=';',\n",
    "    top_n=20).circlerel()"
   ]
  },
  {
   "cell_type": "code",
   "execution_count": 14,
   "metadata": {},
   "outputs": [
    {
     "data": {
      "text/html": [
       "<div>\n",
       "<style scoped>\n",
       "    .dataframe tbody tr th:only-of-type {\n",
       "        vertical-align: middle;\n",
       "    }\n",
       "\n",
       "    .dataframe tbody tr th {\n",
       "        vertical-align: top;\n",
       "    }\n",
       "\n",
       "    .dataframe thead th {\n",
       "        text-align: right;\n",
       "    }\n",
       "</style>\n",
       "<table border=\"1\" class=\"dataframe\">\n",
       "  <thead>\n",
       "    <tr style=\"text-align: right;\">\n",
       "      <th></th>\n",
       "      <th>keywords (cleaned)</th>\n",
       "      <th>Cited by</th>\n",
       "    </tr>\n",
       "  </thead>\n",
       "  <tbody>\n",
       "    <tr>\n",
       "      <th>0</th>\n",
       "      <td>deep learning</td>\n",
       "      <td>416.0</td>\n",
       "    </tr>\n",
       "    <tr>\n",
       "      <th>1</th>\n",
       "      <td>recurrent neural networks</td>\n",
       "      <td>333.0</td>\n",
       "    </tr>\n",
       "    <tr>\n",
       "      <th>2</th>\n",
       "      <td>artificial neural networks</td>\n",
       "      <td>330.0</td>\n",
       "    </tr>\n",
       "    <tr>\n",
       "      <th>3</th>\n",
       "      <td>forecasting</td>\n",
       "      <td>303.0</td>\n",
       "    </tr>\n",
       "    <tr>\n",
       "      <th>4</th>\n",
       "      <td>machine learning</td>\n",
       "      <td>276.0</td>\n",
       "    </tr>\n",
       "    <tr>\n",
       "      <th>5</th>\n",
       "      <td>stock markets</td>\n",
       "      <td>275.0</td>\n",
       "    </tr>\n",
       "    <tr>\n",
       "      <th>6</th>\n",
       "      <td>transaction</td>\n",
       "      <td>239.0</td>\n",
       "    </tr>\n",
       "    <tr>\n",
       "      <th>7</th>\n",
       "      <td>granger causality</td>\n",
       "      <td>235.0</td>\n",
       "    </tr>\n",
       "    <tr>\n",
       "      <th>8</th>\n",
       "      <td>finance</td>\n",
       "      <td>234.0</td>\n",
       "    </tr>\n",
       "    <tr>\n",
       "      <th>9</th>\n",
       "      <td>Prediction</td>\n",
       "      <td>230.0</td>\n",
       "    </tr>\n",
       "    <tr>\n",
       "      <th>10</th>\n",
       "      <td>Time Series</td>\n",
       "      <td>230.0</td>\n",
       "    </tr>\n",
       "    <tr>\n",
       "      <th>11</th>\n",
       "      <td>stock</td>\n",
       "      <td>213.0</td>\n",
       "    </tr>\n",
       "    <tr>\n",
       "      <th>12</th>\n",
       "      <td>wavelet transform</td>\n",
       "      <td>188.0</td>\n",
       "    </tr>\n",
       "    <tr>\n",
       "      <th>13</th>\n",
       "      <td>stock forecasting</td>\n",
       "      <td>111.0</td>\n",
       "    </tr>\n",
       "    <tr>\n",
       "      <th>14</th>\n",
       "      <td>convolutional neural network</td>\n",
       "      <td>111.0</td>\n",
       "    </tr>\n",
       "    <tr>\n",
       "      <th>15</th>\n",
       "      <td>long short-term memory neural network</td>\n",
       "      <td>110.0</td>\n",
       "    </tr>\n",
       "    <tr>\n",
       "      <th>16</th>\n",
       "      <td>time series</td>\n",
       "      <td>99.0</td>\n",
       "    </tr>\n",
       "    <tr>\n",
       "      <th>17</th>\n",
       "      <td>financial time series</td>\n",
       "      <td>86.0</td>\n",
       "    </tr>\n",
       "    <tr>\n",
       "      <th>18</th>\n",
       "      <td>trading</td>\n",
       "      <td>82.0</td>\n",
       "    </tr>\n",
       "    <tr>\n",
       "      <th>19</th>\n",
       "      <td>trend forecasting</td>\n",
       "      <td>71.0</td>\n",
       "    </tr>\n",
       "  </tbody>\n",
       "</table>\n",
       "</div>"
      ],
      "text/plain": [
       "                       keywords (cleaned)  Cited by\n",
       "0                           deep learning     416.0\n",
       "1               recurrent neural networks     333.0\n",
       "2              artificial neural networks     330.0\n",
       "3                             forecasting     303.0\n",
       "4                        machine learning     276.0\n",
       "5                           stock markets     275.0\n",
       "6                             transaction     239.0\n",
       "7                       granger causality     235.0\n",
       "8                                 finance     234.0\n",
       "9                              Prediction     230.0\n",
       "10                            Time Series     230.0\n",
       "11                                  stock     213.0\n",
       "12                      wavelet transform     188.0\n",
       "13                      stock forecasting     111.0\n",
       "14           convolutional neural network     111.0\n",
       "15  long short-term memory neural network     110.0\n",
       "16                            time series      99.0\n",
       "17                  financial time series      86.0\n",
       "18                                trading      82.0\n",
       "19                      trend forecasting      71.0"
      ]
     },
     "execution_count": 14,
     "metadata": {},
     "output_type": "execute_result"
    }
   ],
   "source": [
    "rdf.citations_by_terms('keywords (cleaned)', sep=';', top_n=20)"
   ]
  },
  {
   "cell_type": "code",
   "execution_count": 15,
   "metadata": {},
   "outputs": [
    {
     "data": {
      "text/html": [
       "<div>\n",
       "<style scoped>\n",
       "    .dataframe tbody tr th:only-of-type {\n",
       "        vertical-align: middle;\n",
       "    }\n",
       "\n",
       "    .dataframe tbody tr th {\n",
       "        vertical-align: top;\n",
       "    }\n",
       "\n",
       "    .dataframe thead th {\n",
       "        text-align: right;\n",
       "    }\n",
       "</style>\n",
       "<table border=\"1\" class=\"dataframe\">\n",
       "  <thead>\n",
       "    <tr style=\"text-align: right;\">\n",
       "      <th></th>\n",
       "      <th>2010</th>\n",
       "      <th>2011</th>\n",
       "      <th>2012</th>\n",
       "      <th>2013</th>\n",
       "      <th>2014</th>\n",
       "      <th>2015</th>\n",
       "      <th>2016</th>\n",
       "      <th>2017</th>\n",
       "      <th>2018</th>\n",
       "      <th>2019</th>\n",
       "    </tr>\n",
       "  </thead>\n",
       "  <tbody>\n",
       "    <tr>\n",
       "      <th>artificial neural networks</th>\n",
       "      <td>2</td>\n",
       "      <td>2</td>\n",
       "      <td>2</td>\n",
       "      <td>1</td>\n",
       "      <td>0</td>\n",
       "      <td>0</td>\n",
       "      <td>2</td>\n",
       "      <td>6</td>\n",
       "      <td>10</td>\n",
       "      <td>15</td>\n",
       "    </tr>\n",
       "    <tr>\n",
       "      <th>convolutional neural network</th>\n",
       "      <td>0</td>\n",
       "      <td>0</td>\n",
       "      <td>1</td>\n",
       "      <td>1</td>\n",
       "      <td>2</td>\n",
       "      <td>0</td>\n",
       "      <td>0</td>\n",
       "      <td>6</td>\n",
       "      <td>10</td>\n",
       "      <td>9</td>\n",
       "    </tr>\n",
       "    <tr>\n",
       "      <th>deep learning</th>\n",
       "      <td>1</td>\n",
       "      <td>2</td>\n",
       "      <td>0</td>\n",
       "      <td>1</td>\n",
       "      <td>0</td>\n",
       "      <td>1</td>\n",
       "      <td>1</td>\n",
       "      <td>4</td>\n",
       "      <td>30</td>\n",
       "      <td>20</td>\n",
       "    </tr>\n",
       "    <tr>\n",
       "      <th>finance</th>\n",
       "      <td>0</td>\n",
       "      <td>2</td>\n",
       "      <td>0</td>\n",
       "      <td>0</td>\n",
       "      <td>0</td>\n",
       "      <td>0</td>\n",
       "      <td>0</td>\n",
       "      <td>0</td>\n",
       "      <td>3</td>\n",
       "      <td>3</td>\n",
       "    </tr>\n",
       "    <tr>\n",
       "      <th>financial time series</th>\n",
       "      <td>2</td>\n",
       "      <td>0</td>\n",
       "      <td>1</td>\n",
       "      <td>1</td>\n",
       "      <td>0</td>\n",
       "      <td>0</td>\n",
       "      <td>1</td>\n",
       "      <td>6</td>\n",
       "      <td>6</td>\n",
       "      <td>4</td>\n",
       "    </tr>\n",
       "    <tr>\n",
       "      <th>financial time series forecasting</th>\n",
       "      <td>2</td>\n",
       "      <td>0</td>\n",
       "      <td>0</td>\n",
       "      <td>0</td>\n",
       "      <td>0</td>\n",
       "      <td>0</td>\n",
       "      <td>0</td>\n",
       "      <td>3</td>\n",
       "      <td>1</td>\n",
       "      <td>4</td>\n",
       "    </tr>\n",
       "    <tr>\n",
       "      <th>forecasting</th>\n",
       "      <td>1</td>\n",
       "      <td>2</td>\n",
       "      <td>2</td>\n",
       "      <td>1</td>\n",
       "      <td>0</td>\n",
       "      <td>0</td>\n",
       "      <td>1</td>\n",
       "      <td>6</td>\n",
       "      <td>6</td>\n",
       "      <td>6</td>\n",
       "    </tr>\n",
       "    <tr>\n",
       "      <th>limit order book</th>\n",
       "      <td>0</td>\n",
       "      <td>0</td>\n",
       "      <td>0</td>\n",
       "      <td>0</td>\n",
       "      <td>1</td>\n",
       "      <td>0</td>\n",
       "      <td>0</td>\n",
       "      <td>1</td>\n",
       "      <td>4</td>\n",
       "      <td>2</td>\n",
       "    </tr>\n",
       "    <tr>\n",
       "      <th>long short-term memory neural network</th>\n",
       "      <td>0</td>\n",
       "      <td>0</td>\n",
       "      <td>1</td>\n",
       "      <td>2</td>\n",
       "      <td>1</td>\n",
       "      <td>1</td>\n",
       "      <td>1</td>\n",
       "      <td>8</td>\n",
       "      <td>15</td>\n",
       "      <td>17</td>\n",
       "    </tr>\n",
       "    <tr>\n",
       "      <th>machine learning</th>\n",
       "      <td>1</td>\n",
       "      <td>2</td>\n",
       "      <td>0</td>\n",
       "      <td>0</td>\n",
       "      <td>0</td>\n",
       "      <td>0</td>\n",
       "      <td>0</td>\n",
       "      <td>2</td>\n",
       "      <td>3</td>\n",
       "      <td>8</td>\n",
       "    </tr>\n",
       "    <tr>\n",
       "      <th>prediction</th>\n",
       "      <td>2</td>\n",
       "      <td>0</td>\n",
       "      <td>2</td>\n",
       "      <td>0</td>\n",
       "      <td>0</td>\n",
       "      <td>0</td>\n",
       "      <td>1</td>\n",
       "      <td>3</td>\n",
       "      <td>1</td>\n",
       "      <td>1</td>\n",
       "    </tr>\n",
       "    <tr>\n",
       "      <th>recurrent neural networks</th>\n",
       "      <td>1</td>\n",
       "      <td>2</td>\n",
       "      <td>1</td>\n",
       "      <td>1</td>\n",
       "      <td>2</td>\n",
       "      <td>0</td>\n",
       "      <td>1</td>\n",
       "      <td>3</td>\n",
       "      <td>12</td>\n",
       "      <td>14</td>\n",
       "    </tr>\n",
       "    <tr>\n",
       "      <th>stock</th>\n",
       "      <td>0</td>\n",
       "      <td>1</td>\n",
       "      <td>1</td>\n",
       "      <td>1</td>\n",
       "      <td>0</td>\n",
       "      <td>0</td>\n",
       "      <td>0</td>\n",
       "      <td>3</td>\n",
       "      <td>2</td>\n",
       "      <td>0</td>\n",
       "    </tr>\n",
       "    <tr>\n",
       "      <th>stock forecasting</th>\n",
       "      <td>0</td>\n",
       "      <td>0</td>\n",
       "      <td>1</td>\n",
       "      <td>0</td>\n",
       "      <td>0</td>\n",
       "      <td>0</td>\n",
       "      <td>2</td>\n",
       "      <td>4</td>\n",
       "      <td>7</td>\n",
       "      <td>3</td>\n",
       "    </tr>\n",
       "    <tr>\n",
       "      <th>stock markets</th>\n",
       "      <td>0</td>\n",
       "      <td>1</td>\n",
       "      <td>1</td>\n",
       "      <td>0</td>\n",
       "      <td>0</td>\n",
       "      <td>0</td>\n",
       "      <td>0</td>\n",
       "      <td>2</td>\n",
       "      <td>7</td>\n",
       "      <td>3</td>\n",
       "    </tr>\n",
       "    <tr>\n",
       "      <th>stock prediction</th>\n",
       "      <td>0</td>\n",
       "      <td>0</td>\n",
       "      <td>0</td>\n",
       "      <td>0</td>\n",
       "      <td>0</td>\n",
       "      <td>0</td>\n",
       "      <td>0</td>\n",
       "      <td>1</td>\n",
       "      <td>4</td>\n",
       "      <td>3</td>\n",
       "    </tr>\n",
       "    <tr>\n",
       "      <th>support vector machines</th>\n",
       "      <td>1</td>\n",
       "      <td>0</td>\n",
       "      <td>0</td>\n",
       "      <td>0</td>\n",
       "      <td>0</td>\n",
       "      <td>0</td>\n",
       "      <td>0</td>\n",
       "      <td>2</td>\n",
       "      <td>4</td>\n",
       "      <td>1</td>\n",
       "    </tr>\n",
       "    <tr>\n",
       "      <th>time series</th>\n",
       "      <td>2</td>\n",
       "      <td>0</td>\n",
       "      <td>2</td>\n",
       "      <td>3</td>\n",
       "      <td>1</td>\n",
       "      <td>0</td>\n",
       "      <td>1</td>\n",
       "      <td>3</td>\n",
       "      <td>11</td>\n",
       "      <td>7</td>\n",
       "    </tr>\n",
       "    <tr>\n",
       "      <th>time series forecasting</th>\n",
       "      <td>2</td>\n",
       "      <td>0</td>\n",
       "      <td>1</td>\n",
       "      <td>0</td>\n",
       "      <td>0</td>\n",
       "      <td>1</td>\n",
       "      <td>1</td>\n",
       "      <td>2</td>\n",
       "      <td>10</td>\n",
       "      <td>12</td>\n",
       "    </tr>\n",
       "    <tr>\n",
       "      <th>trading</th>\n",
       "      <td>1</td>\n",
       "      <td>1</td>\n",
       "      <td>0</td>\n",
       "      <td>0</td>\n",
       "      <td>0</td>\n",
       "      <td>0</td>\n",
       "      <td>0</td>\n",
       "      <td>2</td>\n",
       "      <td>4</td>\n",
       "      <td>1</td>\n",
       "    </tr>\n",
       "  </tbody>\n",
       "</table>\n",
       "</div>"
      ],
      "text/plain": [
       "                                       2010  2011  2012  2013  2014  2015  \\\n",
       "artificial neural networks                2     2     2     1     0     0   \n",
       "convolutional neural network              0     0     1     1     2     0   \n",
       "deep learning                             1     2     0     1     0     1   \n",
       "finance                                   0     2     0     0     0     0   \n",
       "financial time series                     2     0     1     1     0     0   \n",
       "financial time series forecasting         2     0     0     0     0     0   \n",
       "forecasting                               1     2     2     1     0     0   \n",
       "limit order book                          0     0     0     0     1     0   \n",
       "long short-term memory neural network     0     0     1     2     1     1   \n",
       "machine learning                          1     2     0     0     0     0   \n",
       "prediction                                2     0     2     0     0     0   \n",
       "recurrent neural networks                 1     2     1     1     2     0   \n",
       "stock                                     0     1     1     1     0     0   \n",
       "stock forecasting                         0     0     1     0     0     0   \n",
       "stock markets                             0     1     1     0     0     0   \n",
       "stock prediction                          0     0     0     0     0     0   \n",
       "support vector machines                   1     0     0     0     0     0   \n",
       "time series                               2     0     2     3     1     0   \n",
       "time series forecasting                   2     0     1     0     0     1   \n",
       "trading                                   1     1     0     0     0     0   \n",
       "\n",
       "                                       2016  2017  2018  2019  \n",
       "artificial neural networks                2     6    10    15  \n",
       "convolutional neural network              0     6    10     9  \n",
       "deep learning                             1     4    30    20  \n",
       "finance                                   0     0     3     3  \n",
       "financial time series                     1     6     6     4  \n",
       "financial time series forecasting         0     3     1     4  \n",
       "forecasting                               1     6     6     6  \n",
       "limit order book                          0     1     4     2  \n",
       "long short-term memory neural network     1     8    15    17  \n",
       "machine learning                          0     2     3     8  \n",
       "prediction                                1     3     1     1  \n",
       "recurrent neural networks                 1     3    12    14  \n",
       "stock                                     0     3     2     0  \n",
       "stock forecasting                         2     4     7     3  \n",
       "stock markets                             0     2     7     3  \n",
       "stock prediction                          0     1     4     3  \n",
       "support vector machines                   0     2     4     1  \n",
       "time series                               1     3    11     7  \n",
       "time series forecasting                   1     2    10    12  \n",
       "trading                                   0     2     4     1  "
      ]
     },
     "execution_count": 15,
     "metadata": {},
     "output_type": "execute_result"
    }
   ],
   "source": [
    "rdf.terms_by_year( \n",
    "    column='keywords (cleaned)', \n",
    "    sep=';', \n",
    "    top_n = 20).tomatrix()"
   ]
  },
  {
   "cell_type": "code",
   "execution_count": 16,
   "metadata": {},
   "outputs": [
    {
     "data": {
      "image/png": "[encoded data removed]",
      "text/plain": [
       "<Figure size 720x720 with 1 Axes>"
      ]
     },
     "metadata": {
      "needs_background": "light"
     },
     "output_type": "display_data"
    }
   ],
   "source": [
    "rdf.terms_by_year( \n",
    "    column='keywords (cleaned)', \n",
    "    sep=';', \n",
    "    top_n = 20).heatmap(ascending_r=True, ascending_c=False)"
   ]
  }
 ],
 "metadata": {
  "kernelspec": {
   "display_name": "Python 3",
   "language": "python",
   "name": "python3"
  },
  "language_info": {
   "codemirror_mode": {
    "name": "ipython",
    "version": 3
   },
   "file_extension": ".py",
   "mimetype": "text/x-python",
   "name": "python",
   "nbconvert_exporter": "python",
   "pygments_lexer": "ipython3",
   "version": "3.6.8"
  }
 },
 "nbformat": 4,
 "nbformat_minor": 4
}
