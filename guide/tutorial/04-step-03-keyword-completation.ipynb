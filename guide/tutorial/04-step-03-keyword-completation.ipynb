{
 "cells": [
  {
   "cell_type": "markdown",
   "metadata": {},
   "source": [
    "# Step 3: Keyword completation"
   ]
  },
  {
   "cell_type": "markdown",
   "metadata": {},
   "source": [
    "## Data loading"
   ]
  },
  {
   "cell_type": "markdown",
   "metadata": {},
   "source": [
    "In this step, the records for the study are selected. The previous file is loaded with:"
   ]
  },
  {
   "cell_type": "code",
   "execution_count": 1,
   "metadata": {},
   "outputs": [],
   "source": [
    "import pandas as pd\n",
    "\n",
    "pdf = pd.read_json(\n",
    "    'step-02.json', \n",
    "    orient='records', \n",
    "    lines=True)"
   ]
  },
  {
   "cell_type": "markdown",
   "metadata": {},
   "source": [
    "Next, the pandas.DataFrame is converted to a `'RecordsDataFrame'` object"
   ]
  },
  {
   "cell_type": "code",
   "execution_count": 2,
   "metadata": {},
   "outputs": [],
   "source": [
    "from techminer import RecordsDataFrame\n",
    "rdf = RecordsDataFrame(pdf)"
   ]
  },
  {
   "cell_type": "code",
   "execution_count": 3,
   "metadata": {},
   "outputs": [],
   "source": [
    "from techminer import nan2none\n",
    "rdf = nan2none(rdf)"
   ]
  },
  {
   "cell_type": "markdown",
   "metadata": {},
   "source": [
    "## Record visualization"
   ]
  },
  {
   "cell_type": "markdown",
   "metadata": {},
   "source": [
    "**TechMiner** implements the `display_records()` to visualize a portion of a dataframe in json format."
   ]
  },
  {
   "cell_type": "code",
   "execution_count": 4,
   "metadata": {},
   "outputs": [
    {
     "name": "stdout",
     "output_type": "stream",
     "text": [
      "-----------------------------------------------\n",
      "Record index: 0\n",
      "{\n",
      "  \"Author Keywords\": null,\n",
      "  \"Index Keywords\": \"Algorithmic trading; Experimental demonstrations; Fibre-optic communication; Signal transmission; State-of-the-art technology; Transmission bandwidth; Wavelength division multiplexed; Wide bandwidth; Bandwidth; Data communication systems; Fibers; Glass fibers; Light transmission; Light velocity; Optical fibers; Supercomputers; Vacuum; Wave transmission\",\n",
      "  \"Title\": \"Towards high-capacity fibre-optic communications at the speed of light in vacuum\"\n",
      "}\n",
      "-----------------------------------------------\n",
      "Record index: 1\n",
      "{\n",
      "  \"Author Keywords\": \"High-frequency trading; Limit order markets; Liquidity; Market quality; NASDAQ; Order placement strategies\",\n",
      "  \"Index Keywords\": null,\n",
      "  \"Title\": \"Low-latency trading\"\n",
      "}\n",
      "-----------------------------------------------\n",
      "Record index: 2\n",
      "{\n",
      "  \"Author Keywords\": null,\n",
      "  \"Index Keywords\": null,\n",
      "  \"Title\": \"Rise of the machines: Algorithmic trading in the foreign exchange market\"\n",
      "}\n",
      "-----------------------------------------------\n",
      "Record index: 3\n",
      "{\n",
      "  \"Author Keywords\": null,\n",
      "  \"Index Keywords\": \"competition (economics); financial market; market system; price dynamics; time series; trade\",\n",
      "  \"Title\": \"The high-frequency trading arms race: Frequent batch auctions as a market design response\"\n",
      "}\n",
      "-----------------------------------------------\n",
      "Record index: 4\n",
      "{\n",
      "  \"Author Keywords\": \"High-frequency trading; Market making; Market quality; Volatility\",\n",
      "  \"Index Keywords\": null,\n",
      "  \"Title\": \"The diversity of high-frequency traders\"\n",
      "}\n"
     ]
    }
   ],
   "source": [
    "from techminer import display_records\n",
    "\n",
    "display_records(rdf[['Title', 'Author Keywords', 'Index Keywords']].head(5))"
   ]
  },
  {
   "cell_type": "markdown",
   "metadata": {},
   "source": [
    "## Keywords completation"
   ]
  },
  {
   "cell_type": "markdown",
   "metadata": {},
   "source": [
    "This step aims to create a column (field) in the dataframe containing key terms for document selection. First, the columns `'Author Keywords'` and `'Index Keywords'` are joined using the `'merge_fields'` function. The new column is called `'keywords'`."
   ]
  },
  {
   "cell_type": "code",
   "execution_count": 5,
   "metadata": {},
   "outputs": [
    {
     "data": {
      "text/plain": [
       "0    Algorithmic trading;Experimental demonstration...\n",
       "1    High-frequency trading;Limit order markets;Liq...\n",
       "2                                                 None\n",
       "3    competition (economics);financial market;marke...\n",
       "4    High-frequency trading;Market making;Market qu...\n",
       "5    Financial disclosure;Individual characteristic...\n",
       "6                                                 None\n",
       "7    Social networking (online);Social network secu...\n",
       "8                                                 None\n",
       "9                                                 None\n",
       "dtype: object"
      ]
     },
     "execution_count": 5,
     "metadata": {},
     "output_type": "execute_result"
    }
   ],
   "source": [
    "from techminer import merge_fields\n",
    "merge_fields(rdf['Author Keywords'], rdf['Index Keywords'], sepA=';', sepB=';', new_sep=';')[0:10]"
   ]
  },
  {
   "cell_type": "code",
   "execution_count": 6,
   "metadata": {},
   "outputs": [],
   "source": [
    "rdf['keywords'] = merge_fields(rdf['Author Keywords'], rdf['Index Keywords'], sepA=';', sepB=';', new_sep=';')"
   ]
  },
  {
   "cell_type": "markdown",
   "metadata": {},
   "source": [
    "However, there are 51 records without `'Author Keywords'` and `'Index Keywords'`."
   ]
  },
  {
   "cell_type": "code",
   "execution_count": 7,
   "metadata": {},
   "outputs": [
    {
     "data": {
      "text/plain": [
       "51"
      ]
     },
     "execution_count": 7,
     "metadata": {},
     "output_type": "execute_result"
    }
   ],
   "source": [
    "len(rdf[rdf['keywords'].map(lambda x: x is None)])"
   ]
  },
  {
   "cell_type": "code",
   "execution_count": 8,
   "metadata": {},
   "outputs": [
    {
     "data": {
      "text/plain": [
       "['(location-based) publish/subscribe',\n",
       " '10-fold cross-validation',\n",
       " '?-stable processes',\n",
       " 'ABM',\n",
       " 'ACE',\n",
       " 'ADALINE',\n",
       " 'ADCC-GARCH',\n",
       " 'AI techniques',\n",
       " 'ANFIS',\n",
       " 'ANFIS ensemble',\n",
       " 'ANN',\n",
       " 'ARCH',\n",
       " 'ARIMA',\n",
       " 'ARMA',\n",
       " 'Abstract modeling',\n",
       " 'Academic literature',\n",
       " 'Academic research',\n",
       " 'Acceleration',\n",
       " 'Acceleration approach',\n",
       " 'Acoustic streaming']"
      ]
     },
     "execution_count": 8,
     "metadata": {},
     "output_type": "execute_result"
    }
   ],
   "source": [
    "from techminer.keywords import Keywords\n",
    "kyw = Keywords()\n",
    "kyw.add_keywords(rdf['keywords'], sep=';')\n",
    "kyw.keywords[0:20]"
   ]
  },
  {
   "cell_type": "code",
   "execution_count": 9,
   "metadata": {},
   "outputs": [
    {
     "data": {
      "text/plain": [
       "0"
      ]
     },
     "execution_count": 9,
     "metadata": {},
     "output_type": "execute_result"
    }
   ],
   "source": [
    "len(rdf[rdf['Abstract'].map(lambda x: x is None)])"
   ]
  },
  {
   "cell_type": "code",
   "execution_count": 10,
   "metadata": {},
   "outputs": [
    {
     "data": {
      "text/plain": [
       "0"
      ]
     },
     "execution_count": 10,
     "metadata": {},
     "output_type": "execute_result"
    }
   ],
   "source": [
    "len(rdf[rdf['Title'].map(lambda x: x is None)])"
   ]
  },
  {
   "cell_type": "code",
   "execution_count": 11,
   "metadata": {},
   "outputs": [],
   "source": [
    "## remove copyright\n",
    "import numpy as np\n",
    "rdf['Abstract'] = rdf['Abstract'].map(lambda x: x[0:x.find('\\u00a9')] if isinstance(x, str) and x.find('\\u00a9')!= -1 else x)"
   ]
  },
  {
   "cell_type": "code",
   "execution_count": 12,
   "metadata": {},
   "outputs": [],
   "source": [
    "title_abstract =  merge_fields(rdf['Title'], rdf['Abstract'], new_sep=' ')"
   ]
  },
  {
   "cell_type": "code",
   "execution_count": 13,
   "metadata": {},
   "outputs": [],
   "source": [
    "## se extrae del titulo y del abstract\n",
    "keywords_title_abstract = title_abstract.map(lambda x: kyw.extract_from(x, sep=';'))"
   ]
  },
  {
   "cell_type": "code",
   "execution_count": 14,
   "metadata": {},
   "outputs": [],
   "source": [
    "idx = rdf['keywords'].map(lambda x: x is None)\n",
    "rdf.loc[idx, 'keywords'] = keywords_title_abstract[idx]"
   ]
  },
  {
   "cell_type": "code",
   "execution_count": 15,
   "metadata": {},
   "outputs": [
    {
     "data": {
      "text/plain": [
       "0"
      ]
     },
     "execution_count": 15,
     "metadata": {},
     "output_type": "execute_result"
    }
   ],
   "source": [
    "len(rdf[rdf['keywords'].map(lambda x: x is None)])"
   ]
  },
  {
   "cell_type": "code",
   "execution_count": 17,
   "metadata": {},
   "outputs": [],
   "source": [
    "rdf.to_json(\n",
    "    'step-03.json', \n",
    "    orient='records', \n",
    "    lines=True)"
   ]
  }
 ],
 "metadata": {
  "kernelspec": {
   "display_name": "Python 3",
   "language": "python",
   "name": "python3"
  },
  "language_info": {
   "codemirror_mode": {
    "name": "ipython",
    "version": 3
   },
   "file_extension": ".py",
   "mimetype": "text/x-python",
   "name": "python",
   "nbconvert_exporter": "python",
   "pygments_lexer": "ipython3",
   "version": "3.6.8"
  }
 },
 "nbformat": 4,
 "nbformat_minor": 4
}
