{
 "cells": [
  {
   "cell_type": "markdown",
   "metadata": {},
   "source": [
    "# Direct queries over data"
   ]
  },
  {
   "cell_type": "markdown",
   "metadata": {},
   "source": [
    "Some directec queries can be made directly over the dataframe without recurring to special functions or code."
   ]
  },
  {
   "cell_type": "code",
   "execution_count": 1,
   "metadata": {},
   "outputs": [],
   "source": [
    "import pandas as pd"
   ]
  },
  {
   "cell_type": "code",
   "execution_count": 2,
   "metadata": {},
   "outputs": [],
   "source": [
    "## Load the data\n",
    "records = pd.read_json('cleaned-records.json', orient='records', lines=True)"
   ]
  },
  {
   "cell_type": "code",
   "execution_count": 3,
   "metadata": {},
   "outputs": [],
   "source": [
    "from techminer import RecordsDataFrame\n",
    "rdf = RecordsDataFrame(records)"
   ]
  },
  {
   "cell_type": "code",
   "execution_count": 4,
   "metadata": {},
   "outputs": [
    {
     "data": {
      "text/plain": [
       "504"
      ]
     },
     "execution_count": 4,
     "metadata": {},
     "output_type": "execute_result"
    }
   ],
   "source": [
    "##\n",
    "## Number of records in the dataframe\n",
    "##\n",
    "len(rdf)"
   ]
  },
  {
   "cell_type": "code",
   "execution_count": 6,
   "metadata": {},
   "outputs": [
    {
     "data": {
      "text/plain": [
       "320"
      ]
     },
     "execution_count": 6,
     "metadata": {},
     "output_type": "execute_result"
    }
   ],
   "source": [
    "##\n",
    "## Number of sources\n",
    "##\n",
    "rdf.num_of_sources"
   ]
  },
  {
   "cell_type": "code",
   "execution_count": 7,
   "metadata": {},
   "outputs": [
    {
     "data": {
      "text/html": [
       "<div>\n",
       "<style scoped>\n",
       "    .dataframe tbody tr th:only-of-type {\n",
       "        vertical-align: middle;\n",
       "    }\n",
       "\n",
       "    .dataframe tbody tr th {\n",
       "        vertical-align: top;\n",
       "    }\n",
       "\n",
       "    .dataframe thead th {\n",
       "        text-align: right;\n",
       "    }\n",
       "</style>\n",
       "<table border=\"1\" class=\"dataframe\">\n",
       "  <thead>\n",
       "    <tr style=\"text-align: right;\">\n",
       "      <th></th>\n",
       "      <th>Title</th>\n",
       "      <th>Authors</th>\n",
       "      <th>Year</th>\n",
       "      <th>Cited by</th>\n",
       "    </tr>\n",
       "  </thead>\n",
       "  <tbody>\n",
       "    <tr>\n",
       "      <th>0</th>\n",
       "      <td>Towards high-capacity fibre-optic communicatio...</td>\n",
       "      <td>Poletti F., Wheeler N.V., Petrovich M.N., Badd...</td>\n",
       "      <td>2013</td>\n",
       "      <td>212.0</td>\n",
       "    </tr>\n",
       "    <tr>\n",
       "      <th>1</th>\n",
       "      <td>Low-latency trading</td>\n",
       "      <td>Hasbrouck J., Saar G.</td>\n",
       "      <td>2013</td>\n",
       "      <td>180.0</td>\n",
       "    </tr>\n",
       "    <tr>\n",
       "      <th>2</th>\n",
       "      <td>Rise of the machines: Algorithmic trading in t...</td>\n",
       "      <td>Chaboud A.P., Chiquoine B., Hjalmarsson E., Ve...</td>\n",
       "      <td>2014</td>\n",
       "      <td>105.0</td>\n",
       "    </tr>\n",
       "    <tr>\n",
       "      <th>3</th>\n",
       "      <td>The high-frequency trading arms race: Frequent...</td>\n",
       "      <td>Budish E., Cramton P., Shim J.</td>\n",
       "      <td>2015</td>\n",
       "      <td>101.0</td>\n",
       "    </tr>\n",
       "    <tr>\n",
       "      <th>4</th>\n",
       "      <td>The diversity of high-frequency traders</td>\n",
       "      <td>Hagströmer B., Nordén L.</td>\n",
       "      <td>2013</td>\n",
       "      <td>86.0</td>\n",
       "    </tr>\n",
       "    <tr>\n",
       "      <th>5</th>\n",
       "      <td>Individual investors and financial disclosure</td>\n",
       "      <td>Lawrence A.</td>\n",
       "      <td>2013</td>\n",
       "      <td>82.0</td>\n",
       "    </tr>\n",
       "    <tr>\n",
       "      <th>6</th>\n",
       "      <td>High-frequency financial econometrics</td>\n",
       "      <td>Aït-Sahalia Y., Jacod J.</td>\n",
       "      <td>2014</td>\n",
       "      <td>79.0</td>\n",
       "    </tr>\n",
       "    <tr>\n",
       "      <th>7</th>\n",
       "      <td>Design and analysis of a social botnet</td>\n",
       "      <td>Boshmaf Y., Muslukhov I., Beznosov K., Ripeanu M.</td>\n",
       "      <td>2013</td>\n",
       "      <td>75.0</td>\n",
       "    </tr>\n",
       "    <tr>\n",
       "      <th>8</th>\n",
       "      <td>The Flash Crash: High-Frequency Trading in an ...</td>\n",
       "      <td>Kirilenko A., Kyle A.S., Samadi M., Tuzun T.</td>\n",
       "      <td>2017</td>\n",
       "      <td>74.0</td>\n",
       "    </tr>\n",
       "    <tr>\n",
       "      <th>9</th>\n",
       "      <td>What's not there: Odd lots and market data</td>\n",
       "      <td>O'Hara M., Yao C., Ye M.</td>\n",
       "      <td>2014</td>\n",
       "      <td>56.0</td>\n",
       "    </tr>\n",
       "  </tbody>\n",
       "</table>\n",
       "</div>"
      ],
      "text/plain": [
       "                                               Title  \\\n",
       "0  Towards high-capacity fibre-optic communicatio...   \n",
       "1                                Low-latency trading   \n",
       "2  Rise of the machines: Algorithmic trading in t...   \n",
       "3  The high-frequency trading arms race: Frequent...   \n",
       "4            The diversity of high-frequency traders   \n",
       "5      Individual investors and financial disclosure   \n",
       "6              High-frequency financial econometrics   \n",
       "7             Design and analysis of a social botnet   \n",
       "8  The Flash Crash: High-Frequency Trading in an ...   \n",
       "9         What's not there: Odd lots and market data   \n",
       "\n",
       "                                             Authors  Year  Cited by  \n",
       "0  Poletti F., Wheeler N.V., Petrovich M.N., Badd...  2013     212.0  \n",
       "1                              Hasbrouck J., Saar G.  2013     180.0  \n",
       "2  Chaboud A.P., Chiquoine B., Hjalmarsson E., Ve...  2014     105.0  \n",
       "3                     Budish E., Cramton P., Shim J.  2015     101.0  \n",
       "4                           Hagströmer B., Nordén L.  2013      86.0  \n",
       "5                                        Lawrence A.  2013      82.0  \n",
       "6                           Aït-Sahalia Y., Jacod J.  2014      79.0  \n",
       "7  Boshmaf Y., Muslukhov I., Beznosov K., Ripeanu M.  2013      75.0  \n",
       "8       Kirilenko A., Kyle A.S., Samadi M., Tuzun T.  2017      74.0  \n",
       "9                           O'Hara M., Yao C., Ye M.  2014      56.0  "
      ]
     },
     "execution_count": 7,
     "metadata": {},
     "output_type": "execute_result"
    }
   ],
   "source": [
    "##\n",
    "## Top N most cited documents\n",
    "##\n",
    "rdf.most_cited_documents(N=10)"
   ]
  },
  {
   "cell_type": "code",
   "execution_count": null,
   "metadata": {},
   "outputs": [],
   "source": []
  }
 ],
 "metadata": {
  "kernelspec": {
   "display_name": "Python 3",
   "language": "python",
   "name": "python3"
  },
  "language_info": {
   "codemirror_mode": {
    "name": "ipython",
    "version": 3
   },
   "file_extension": ".py",
   "mimetype": "text/x-python",
   "name": "python",
   "nbconvert_exporter": "python",
   "pygments_lexer": "ipython3",
   "version": "3.6.8"
  }
 },
 "nbformat": 4,
 "nbformat_minor": 4
}
