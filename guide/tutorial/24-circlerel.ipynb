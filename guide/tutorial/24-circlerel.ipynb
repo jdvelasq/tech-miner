{
 "cells": [
  {
   "cell_type": "markdown",
   "metadata": {},
   "source": [
    "# Circlerel diagram"
   ]
  },
  {
   "cell_type": "code",
   "execution_count": 1,
   "metadata": {},
   "outputs": [],
   "source": [
    "import pandas as pd\n",
    "from techminer import RecordsDataFrame\n",
    "\n",
    "rdf = RecordsDataFrame(\n",
    "    pd.read_json(\n",
    "        'step-07.json', \n",
    "        orient='records', \n",
    "        lines=True))"
   ]
  },
  {
   "cell_type": "code",
   "execution_count": 21,
   "metadata": {},
   "outputs": [
    {
     "data": {
      "application/vnd.vegalite.v3+json": {
       "$schema": "https://vega.github.io/schema/vega-lite/v3.4.0.json",
       "config": {
        "mark": {
         "tooltip": null
        },
        "view": {
         "height": 300,
         "width": 400
        }
       },
       "data": {
        "name": "data-799914981f00c3cef5f1052ec518346a"
       },
       "datasets": {
        "data-799914981f00c3cef5f1052ec518346a": [
         {
          "Authors (col)": "Wang J. [7]",
          "Authors (row)": "Wang J. [7]",
          "Autocorrelation": 1,
          "ID": [
           "[*3*]",
           "[*10*]",
           "[*15*]",
           "[*80*]",
           "[*87*]",
           "[*128*]"
          ]
         },
         {
          "Authors (col)": "Sandoval J. [3]",
          "Authors (row)": "Arévalo A. [3]",
          "Autocorrelation": 1,
          "ID": [
           "[*52*]",
           "[*94*]",
           "[*100*]"
          ]
         },
         {
          "Authors (col)": "Tefas A. [3]",
          "Authors (row)": "Kanniainen J. [3]",
          "Autocorrelation": 1,
          "ID": [
           "[*8*]",
           "[*110*]",
           "[*114*]"
          ]
         },
         {
          "Authors (col)": "Iosifidis A. [3]",
          "Authors (row)": "Kanniainen J. [3]",
          "Autocorrelation": 1,
          "ID": [
           "[*8*]",
           "[*110*]",
           "[*114*]"
          ]
         },
         {
          "Authors (col)": "Gabbouj M. [3]",
          "Authors (row)": "Kanniainen J. [3]",
          "Autocorrelation": 1,
          "ID": [
           "[*8*]",
           "[*110*]",
           "[*114*]"
          ]
         },
         {
          "Authors (col)": "Zhu Y. [3]",
          "Authors (row)": "Zhu Y. [3]",
          "Autocorrelation": 1,
          "ID": [
           "[*78*]",
           "[*88*]",
           "[*89*]"
          ]
         },
         {
          "Authors (col)": "Passalis N. [3]",
          "Authors (row)": "Tefas A. [3]",
          "Autocorrelation": 1,
          "ID": [
           "[*8*]",
           "[*110*]",
           "[*114*]"
          ]
         },
         {
          "Authors (col)": "Kanniainen J. [3]",
          "Authors (row)": "Tefas A. [3]",
          "Autocorrelation": 1,
          "ID": [
           "[*8*]",
           "[*110*]",
           "[*114*]"
          ]
         },
         {
          "Authors (col)": "Tefas A. [3]",
          "Authors (row)": "Tefas A. [3]",
          "Autocorrelation": 1,
          "ID": [
           "[*8*]",
           "[*110*]",
           "[*114*]"
          ]
         },
         {
          "Authors (col)": "Iosifidis A. [3]",
          "Authors (row)": "Tefas A. [3]",
          "Autocorrelation": 1,
          "ID": [
           "[*8*]",
           "[*110*]",
           "[*114*]"
          ]
         },
         {
          "Authors (col)": "Gabbouj M. [3]",
          "Authors (row)": "Tefas A. [3]",
          "Autocorrelation": 1,
          "ID": [
           "[*8*]",
           "[*110*]",
           "[*114*]"
          ]
         },
         {
          "Authors (col)": "Sandoval J. [3]",
          "Authors (row)": "Hernandez G. [3]",
          "Autocorrelation": 1,
          "ID": [
           "[*52*]",
           "[*94*]",
           "[*100*]"
          ]
         },
         {
          "Authors (col)": "Hernandez G. [3]",
          "Authors (row)": "Hernandez G. [3]",
          "Autocorrelation": 1,
          "ID": [
           "[*52*]",
           "[*94*]",
           "[*100*]"
          ]
         },
         {
          "Authors (col)": "Arévalo A. [3]",
          "Authors (row)": "Hernandez G. [3]",
          "Autocorrelation": 1,
          "ID": [
           "[*52*]",
           "[*94*]",
           "[*100*]"
          ]
         },
         {
          "Authors (col)": "Hernandez G. [3]",
          "Authors (row)": "Arévalo A. [3]",
          "Autocorrelation": 1,
          "ID": [
           "[*52*]",
           "[*94*]",
           "[*100*]"
          ]
         },
         {
          "Authors (col)": "Hussain A.J. [3]",
          "Authors (row)": "Hussain A.J. [3]",
          "Autocorrelation": 1,
          "ID": [
           "[*125*]",
           "[*133*]",
           "[*140*]"
          ]
         },
         {
          "Authors (col)": "Arévalo A. [3]",
          "Authors (row)": "Arévalo A. [3]",
          "Autocorrelation": 1,
          "ID": [
           "[*52*]",
           "[*94*]",
           "[*100*]"
          ]
         },
         {
          "Authors (col)": "Yan X. [3]",
          "Authors (row)": "Yan X. [3]",
          "Autocorrelation": 1,
          "ID": [
           "[*13*]",
           "[*44*]",
           "[*85*]"
          ]
         },
         {
          "Authors (col)": "Zhang Y. [3]",
          "Authors (row)": "Zhang Y. [3]",
          "Autocorrelation": 1,
          "ID": [
           "[*4*]",
           "[*6*]",
           "[*109*]"
          ]
         },
         {
          "Authors (col)": "Passalis N. [3]",
          "Authors (row)": "Iosifidis A. [3]",
          "Autocorrelation": 1,
          "ID": [
           "[*8*]",
           "[*110*]",
           "[*114*]"
          ]
         },
         {
          "Authors (col)": "Kanniainen J. [3]",
          "Authors (row)": "Iosifidis A. [3]",
          "Autocorrelation": 1,
          "ID": [
           "[*8*]",
           "[*110*]",
           "[*114*]"
          ]
         },
         {
          "Authors (col)": "Tefas A. [3]",
          "Authors (row)": "Iosifidis A. [3]",
          "Autocorrelation": 1,
          "ID": [
           "[*8*]",
           "[*110*]",
           "[*114*]"
          ]
         },
         {
          "Authors (col)": "Iosifidis A. [3]",
          "Authors (row)": "Iosifidis A. [3]",
          "Autocorrelation": 1,
          "ID": [
           "[*8*]",
           "[*110*]",
           "[*114*]"
          ]
         },
         {
          "Authors (col)": "Gabbouj M. [3]",
          "Authors (row)": "Iosifidis A. [3]",
          "Autocorrelation": 1,
          "ID": [
           "[*8*]",
           "[*110*]",
           "[*114*]"
          ]
         },
         {
          "Authors (col)": "Passalis N. [3]",
          "Authors (row)": "Gabbouj M. [3]",
          "Autocorrelation": 1,
          "ID": [
           "[*8*]",
           "[*110*]",
           "[*114*]"
          ]
         },
         {
          "Authors (col)": "Kanniainen J. [3]",
          "Authors (row)": "Gabbouj M. [3]",
          "Autocorrelation": 1,
          "ID": [
           "[*8*]",
           "[*110*]",
           "[*114*]"
          ]
         },
         {
          "Authors (col)": "Tefas A. [3]",
          "Authors (row)": "Gabbouj M. [3]",
          "Autocorrelation": 1,
          "ID": [
           "[*8*]",
           "[*110*]",
           "[*114*]"
          ]
         },
         {
          "Authors (col)": "Iosifidis A. [3]",
          "Authors (row)": "Gabbouj M. [3]",
          "Autocorrelation": 1,
          "ID": [
           "[*8*]",
           "[*110*]",
           "[*114*]"
          ]
         },
         {
          "Authors (col)": "Kanniainen J. [3]",
          "Authors (row)": "Kanniainen J. [3]",
          "Autocorrelation": 1,
          "ID": [
           "[*8*]",
           "[*110*]",
           "[*114*]"
          ]
         },
         {
          "Authors (col)": "Passalis N. [3]",
          "Authors (row)": "Kanniainen J. [3]",
          "Autocorrelation": 1,
          "ID": [
           "[*8*]",
           "[*110*]",
           "[*114*]"
          ]
         },
         {
          "Authors (col)": "Gabbouj M. [3]",
          "Authors (row)": "Passalis N. [3]",
          "Autocorrelation": 1,
          "ID": [
           "[*8*]",
           "[*110*]",
           "[*114*]"
          ]
         },
         {
          "Authors (col)": "Iosifidis A. [3]",
          "Authors (row)": "Passalis N. [3]",
          "Autocorrelation": 1,
          "ID": [
           "[*8*]",
           "[*110*]",
           "[*114*]"
          ]
         },
         {
          "Authors (col)": "Leon D. [2]",
          "Authors (row)": "Leon D. [2]",
          "Autocorrelation": 1,
          "ID": [
           "[*52*]",
           "[*94*]"
          ]
         },
         {
          "Authors (col)": "Niño J. [2]",
          "Authors (row)": "Leon D. [2]",
          "Autocorrelation": 1,
          "ID": [
           "[*52*]",
           "[*94*]"
          ]
         },
         {
          "Authors (col)": "Xu J. [2]",
          "Authors (row)": "Xu J. [2]",
          "Autocorrelation": 1,
          "ID": [
           "[*91*]",
           "[*98*]"
          ]
         },
         {
          "Authors (col)": "Xu L. [2]",
          "Authors (row)": "Xu L. [2]",
          "Autocorrelation": 1,
          "ID": [
           "[*117*]",
           "[*119*]"
          ]
         },
         {
          "Authors (col)": "Bu H. [2]",
          "Authors (row)": "Bu H. [2]",
          "Autocorrelation": 1,
          "ID": [
           "[*66*]",
           "[*115*]"
          ]
         },
         {
          "Authors (col)": "Oosterlee C.W. [2]",
          "Authors (row)": "Oosterlee C.W. [2]",
          "Autocorrelation": 1,
          "ID": [
           "[*18*]",
           "[*120*]"
          ]
         },
         {
          "Authors (col)": "Leon D. [2]",
          "Authors (row)": "Niño J. [2]",
          "Autocorrelation": 1,
          "ID": [
           "[*52*]",
           "[*94*]"
          ]
         },
         {
          "Authors (col)": "Niño J. [2]",
          "Authors (row)": "Niño J. [2]",
          "Autocorrelation": 1,
          "ID": [
           "[*52*]",
           "[*94*]"
          ]
         },
         {
          "Authors (col)": "Dash P.K. [2]",
          "Authors (row)": "Dash P.K. [2]",
          "Autocorrelation": 1,
          "ID": [
           "[*112*]",
           "[*130*]"
          ]
         },
         {
          "Authors (col)": "Li Y. [2]",
          "Authors (row)": "Li Y. [2]",
          "Autocorrelation": 1,
          "ID": [
           "[*40*]",
           "[*97*]"
          ]
         },
         {
          "Authors (col)": "Liu C.-L. [2]",
          "Authors (row)": "Liu C.-L. [2]",
          "Autocorrelation": 1,
          "ID": [
           "[*19*]",
           "[*42*]"
          ]
         },
         {
          "Authors (col)": "Tseng V.S. [2]",
          "Authors (row)": "Liu C.-L. [2]",
          "Autocorrelation": 1,
          "ID": [
           "[*19*]",
           "[*42*]"
          ]
         },
         {
          "Authors (col)": "Liu C.-L. [2]",
          "Authors (row)": "Tseng V.S. [2]",
          "Autocorrelation": 1,
          "ID": [
           "[*19*]",
           "[*42*]"
          ]
         },
         {
          "Authors (col)": "Tseng V.S. [2]",
          "Authors (row)": "Tseng V.S. [2]",
          "Autocorrelation": 1,
          "ID": [
           "[*19*]",
           "[*42*]"
          ]
         },
         {
          "Authors (col)": "Tsantekidis A. [2]",
          "Authors (row)": "Tsantekidis A. [2]",
          "Autocorrelation": 1,
          "ID": [
           "[*110*]",
           "[*114*]"
          ]
         },
         {
          "Authors (col)": "Lin X. [2]",
          "Authors (row)": "Lin X. [2]",
          "Autocorrelation": 1,
          "ID": [
           "[*136*]",
           "[*143*]"
          ]
         },
         {
          "Authors (col)": "Chen Y. [2]",
          "Authors (row)": "Chen Y. [2]",
          "Autocorrelation": 1,
          "ID": [
           "[*46*]",
           "[*66*]"
          ]
         },
         {
          "Authors (col)": "Chen J. [2]",
          "Authors (row)": "Chen J. [2]",
          "Autocorrelation": 1,
          "ID": [
           "[*34*]",
           "[*89*]"
          ]
         },
         {
          "Authors (col)": "Sandoval J. [3]",
          "Authors (row)": "Sandoval J. [3]",
          "Autocorrelation": 1,
          "ID": [
           "[*52*]",
           "[*94*]",
           "[*100*]"
          ]
         },
         {
          "Authors (col)": "Hernandez G. [3]",
          "Authors (row)": "Sandoval J. [3]",
          "Autocorrelation": 1,
          "ID": [
           "[*52*]",
           "[*94*]",
           "[*100*]"
          ]
         },
         {
          "Authors (col)": "Arévalo A. [3]",
          "Authors (row)": "Sandoval J. [3]",
          "Autocorrelation": 1,
          "ID": [
           "[*52*]",
           "[*94*]",
           "[*100*]"
          ]
         },
         {
          "Authors (col)": "Wu J. [3]",
          "Authors (row)": "Wu J. [3]",
          "Autocorrelation": 1,
          "ID": [
           "[*34*]",
           "[*66*]",
           "[*115*]"
          ]
         },
         {
          "Authors (col)": "Passalis N. [3]",
          "Authors (row)": "Passalis N. [3]",
          "Autocorrelation": 1,
          "ID": [
           "[*8*]",
           "[*110*]",
           "[*114*]"
          ]
         },
         {
          "Authors (col)": "Kanniainen J. [3]",
          "Authors (row)": "Passalis N. [3]",
          "Autocorrelation": 1,
          "ID": [
           "[*8*]",
           "[*110*]",
           "[*114*]"
          ]
         },
         {
          "Authors (col)": "Tefas A. [3]",
          "Authors (row)": "Passalis N. [3]",
          "Autocorrelation": 1,
          "ID": [
           "[*8*]",
           "[*110*]",
           "[*114*]"
          ]
         },
         {
          "Authors (col)": "Gabbouj M. [3]",
          "Authors (row)": "Gabbouj M. [3]",
          "Autocorrelation": 1,
          "ID": [
           "[*8*]",
           "[*110*]",
           "[*114*]"
          ]
         },
         {
          "Authors (col)": "Wang H. [2]",
          "Authors (row)": "Wang H. [2]",
          "Autocorrelation": 1,
          "ID": [
           "[*89*]",
           "[*97*]"
          ]
         },
         {
          "Authors (col)": "Zhang G. [4]",
          "Authors (row)": "Zhang G. [4]",
          "Autocorrelation": 1,
          "ID": [
           "[*27*]",
           "[*78*]",
           "[*117*]",
           "[*119*]"
          ]
         },
         {
          "Authors (col)": "Tsantekidis A. [2]",
          "Authors (row)": "Kanniainen J. [3]",
          "Autocorrelation": 0.8164965809277261,
          "ID": [
           "[*110*]",
           "[*114*]"
          ]
         },
         {
          "Authors (col)": "Sandoval J. [3]",
          "Authors (row)": "Niño J. [2]",
          "Autocorrelation": 0.8164965809277261,
          "ID": [
           "[*52*]",
           "[*94*]"
          ]
         },
         {
          "Authors (col)": "Niño J. [2]",
          "Authors (row)": "Hernandez G. [3]",
          "Autocorrelation": 0.8164965809277261,
          "ID": [
           "[*52*]",
           "[*94*]"
          ]
         },
         {
          "Authors (col)": "Tsantekidis A. [2]",
          "Authors (row)": "Iosifidis A. [3]",
          "Autocorrelation": 0.8164965809277261,
          "ID": [
           "[*110*]",
           "[*114*]"
          ]
         },
         {
          "Authors (col)": "Leon D. [2]",
          "Authors (row)": "Sandoval J. [3]",
          "Autocorrelation": 0.8164965809277261,
          "ID": [
           "[*52*]",
           "[*94*]"
          ]
         },
         {
          "Authors (col)": "Sandoval J. [3]",
          "Authors (row)": "Leon D. [2]",
          "Autocorrelation": 0.8164965809277261,
          "ID": [
           "[*52*]",
           "[*94*]"
          ]
         },
         {
          "Authors (col)": "Leon D. [2]",
          "Authors (row)": "Hernandez G. [3]",
          "Autocorrelation": 0.8164965809277261,
          "ID": [
           "[*52*]",
           "[*94*]"
          ]
         },
         {
          "Authors (col)": "Tsantekidis A. [2]",
          "Authors (row)": "Gabbouj M. [3]",
          "Autocorrelation": 0.8164965809277261,
          "ID": [
           "[*110*]",
           "[*114*]"
          ]
         },
         {
          "Authors (col)": "Hernandez G. [3]",
          "Authors (row)": "Niño J. [2]",
          "Autocorrelation": 0.8164965809277261,
          "ID": [
           "[*52*]",
           "[*94*]"
          ]
         },
         {
          "Authors (col)": "Arévalo A. [3]",
          "Authors (row)": "Niño J. [2]",
          "Autocorrelation": 0.8164965809277261,
          "ID": [
           "[*52*]",
           "[*94*]"
          ]
         },
         {
          "Authors (col)": "Niño J. [2]",
          "Authors (row)": "Sandoval J. [3]",
          "Autocorrelation": 0.8164965809277261,
          "ID": [
           "[*52*]",
           "[*94*]"
          ]
         },
         {
          "Authors (col)": "Hernandez G. [3]",
          "Authors (row)": "Leon D. [2]",
          "Autocorrelation": 0.8164965809277261,
          "ID": [
           "[*52*]",
           "[*94*]"
          ]
         },
         {
          "Authors (col)": "Arévalo A. [3]",
          "Authors (row)": "Leon D. [2]",
          "Autocorrelation": 0.8164965809277261,
          "ID": [
           "[*52*]",
           "[*94*]"
          ]
         },
         {
          "Authors (col)": "Wu J. [3]",
          "Authors (row)": "Bu H. [2]",
          "Autocorrelation": 0.8164965809277261,
          "ID": [
           "[*66*]",
           "[*115*]"
          ]
         },
         {
          "Authors (col)": "Leon D. [2]",
          "Authors (row)": "Arévalo A. [3]",
          "Autocorrelation": 0.8164965809277261,
          "ID": [
           "[*52*]",
           "[*94*]"
          ]
         },
         {
          "Authors (col)": "Gabbouj M. [3]",
          "Authors (row)": "Tsantekidis A. [2]",
          "Autocorrelation": 0.8164965809277261,
          "ID": [
           "[*110*]",
           "[*114*]"
          ]
         },
         {
          "Authors (col)": "Iosifidis A. [3]",
          "Authors (row)": "Tsantekidis A. [2]",
          "Autocorrelation": 0.8164965809277261,
          "ID": [
           "[*110*]",
           "[*114*]"
          ]
         },
         {
          "Authors (col)": "Niño J. [2]",
          "Authors (row)": "Arévalo A. [3]",
          "Autocorrelation": 0.8164965809277261,
          "ID": [
           "[*52*]",
           "[*94*]"
          ]
         },
         {
          "Authors (col)": "Tefas A. [3]",
          "Authors (row)": "Tsantekidis A. [2]",
          "Autocorrelation": 0.8164965809277261,
          "ID": [
           "[*110*]",
           "[*114*]"
          ]
         },
         {
          "Authors (col)": "Bu H. [2]",
          "Authors (row)": "Wu J. [3]",
          "Autocorrelation": 0.8164965809277261,
          "ID": [
           "[*66*]",
           "[*115*]"
          ]
         },
         {
          "Authors (col)": "Kanniainen J. [3]",
          "Authors (row)": "Tsantekidis A. [2]",
          "Autocorrelation": 0.8164965809277261,
          "ID": [
           "[*110*]",
           "[*114*]"
          ]
         },
         {
          "Authors (col)": "Tsantekidis A. [2]",
          "Authors (row)": "Passalis N. [3]",
          "Autocorrelation": 0.8164965809277261,
          "ID": [
           "[*110*]",
           "[*114*]"
          ]
         },
         {
          "Authors (col)": "Tsantekidis A. [2]",
          "Authors (row)": "Tefas A. [3]",
          "Autocorrelation": 0.8164965809277261,
          "ID": [
           "[*110*]",
           "[*114*]"
          ]
         },
         {
          "Authors (col)": "Passalis N. [3]",
          "Authors (row)": "Tsantekidis A. [2]",
          "Autocorrelation": 0.8164965809277261,
          "ID": [
           "[*110*]",
           "[*114*]"
          ]
         },
         {
          "Authors (col)": "Zhang G. [4]",
          "Authors (row)": "Xu L. [2]",
          "Autocorrelation": 0.7071067811865475,
          "ID": [
           "[*117*]",
           "[*119*]"
          ]
         },
         {
          "Authors (col)": "Xu L. [2]",
          "Authors (row)": "Zhang G. [4]",
          "Autocorrelation": 0.7071067811865475,
          "ID": [
           "[*117*]",
           "[*119*]"
          ]
         },
         {
          "Authors (col)": "Wang H. [2]",
          "Authors (row)": "Chen J. [2]",
          "Autocorrelation": 0.5,
          "ID": [
           "[*89*]"
          ]
         },
         {
          "Authors (col)": "Wang H. [2]",
          "Authors (row)": "Li Y. [2]",
          "Autocorrelation": 0.5,
          "ID": [
           "[*97*]"
          ]
         },
         {
          "Authors (col)": "Chen Y. [2]",
          "Authors (row)": "Bu H. [2]",
          "Autocorrelation": 0.5,
          "ID": [
           "[*66*]"
          ]
         },
         {
          "Authors (col)": "Li Y. [2]",
          "Authors (row)": "Wang H. [2]",
          "Autocorrelation": 0.5,
          "ID": [
           "[*97*]"
          ]
         },
         {
          "Authors (col)": "Chen J. [2]",
          "Authors (row)": "Wang H. [2]",
          "Autocorrelation": 0.5,
          "ID": [
           "[*89*]"
          ]
         },
         {
          "Authors (col)": "Bu H. [2]",
          "Authors (row)": "Chen Y. [2]",
          "Autocorrelation": 0.5,
          "ID": [
           "[*66*]"
          ]
         },
         {
          "Authors (col)": "Wu J. [3]",
          "Authors (row)": "Chen J. [2]",
          "Autocorrelation": 0.4082482904638631,
          "ID": [
           "[*34*]"
          ]
         },
         {
          "Authors (col)": "Zhu Y. [3]",
          "Authors (row)": "Wang H. [2]",
          "Autocorrelation": 0.4082482904638631,
          "ID": [
           "[*89*]"
          ]
         },
         {
          "Authors (col)": "Wang H. [2]",
          "Authors (row)": "Zhu Y. [3]",
          "Autocorrelation": 0.4082482904638631,
          "ID": [
           "[*89*]"
          ]
         },
         {
          "Authors (col)": "Chen J. [2]",
          "Authors (row)": "Wu J. [3]",
          "Autocorrelation": 0.4082482904638631,
          "ID": [
           "[*34*]"
          ]
         },
         {
          "Authors (col)": "Chen J. [2]",
          "Authors (row)": "Zhu Y. [3]",
          "Autocorrelation": 0.4082482904638631,
          "ID": [
           "[*89*]"
          ]
         },
         {
          "Authors (col)": "Chen Y. [2]",
          "Authors (row)": "Wu J. [3]",
          "Autocorrelation": 0.4082482904638631,
          "ID": [
           "[*66*]"
          ]
         },
         {
          "Authors (col)": "Zhu Y. [3]",
          "Authors (row)": "Chen J. [2]",
          "Autocorrelation": 0.4082482904638631,
          "ID": [
           "[*89*]"
          ]
         },
         {
          "Authors (col)": "Wu J. [3]",
          "Authors (row)": "Chen Y. [2]",
          "Autocorrelation": 0.4082482904638631,
          "ID": [
           "[*66*]"
          ]
         },
         {
          "Authors (col)": "Zhang G. [4]",
          "Authors (row)": "Zhu Y. [3]",
          "Autocorrelation": 0.2886751345948129,
          "ID": [
           "[*78*]"
          ]
         },
         {
          "Authors (col)": "Zhu Y. [3]",
          "Authors (row)": "Zhang G. [4]",
          "Autocorrelation": 0.2886751345948129,
          "ID": [
           "[*78*]"
          ]
         },
         {
          "Authors (col)": "Zhang Y. [3]",
          "Authors (row)": "Liu C.-L. [2]",
          "Autocorrelation": 0,
          "ID": null
         },
         {
          "Authors (col)": "Leon D. [2]",
          "Authors (row)": "Liu C.-L. [2]",
          "Autocorrelation": 0,
          "ID": null
         },
         {
          "Authors (col)": "Wang H. [2]",
          "Authors (row)": "Liu C.-L. [2]",
          "Autocorrelation": 0,
          "ID": null
         },
         {
          "Authors (col)": "Xu J. [2]",
          "Authors (row)": "Liu C.-L. [2]",
          "Autocorrelation": 0,
          "ID": null
         },
         {
          "Authors (col)": "Kanniainen J. [3]",
          "Authors (row)": "Liu C.-L. [2]",
          "Autocorrelation": 0,
          "ID": null
         },
         {
          "Authors (col)": "Iosifidis A. [3]",
          "Authors (row)": "Liu C.-L. [2]",
          "Autocorrelation": 0,
          "ID": null
         },
         {
          "Authors (col)": "Wang J. [7]",
          "Authors (row)": "Li Y. [2]",
          "Autocorrelation": 0,
          "ID": null
         },
         {
          "Authors (col)": "Xu L. [2]",
          "Authors (row)": "Liu C.-L. [2]",
          "Autocorrelation": 0,
          "ID": null
         },
         {
          "Authors (col)": "Gabbouj M. [3]",
          "Authors (row)": "Liu C.-L. [2]",
          "Autocorrelation": 0,
          "ID": null
         },
         {
          "Authors (col)": "Zhang G. [4]",
          "Authors (row)": "Li Y. [2]",
          "Autocorrelation": 0,
          "ID": null
         },
         {
          "Authors (col)": "Hussain A.J. [3]",
          "Authors (row)": "Liu C.-L. [2]",
          "Autocorrelation": 0,
          "ID": null
         },
         {
          "Authors (col)": "Zhang G. [4]",
          "Authors (row)": "Liu C.-L. [2]",
          "Autocorrelation": 0,
          "ID": null
         },
         {
          "Authors (col)": "Wang J. [7]",
          "Authors (row)": "Liu C.-L. [2]",
          "Autocorrelation": 0,
          "ID": null
         },
         {
          "Authors (col)": "Hussain A.J. [3]",
          "Authors (row)": "Li Y. [2]",
          "Autocorrelation": 0,
          "ID": null
         },
         {
          "Authors (col)": "Gabbouj M. [3]",
          "Authors (row)": "Li Y. [2]",
          "Autocorrelation": 0,
          "ID": null
         },
         {
          "Authors (col)": "Yan X. [3]",
          "Authors (row)": "Liu C.-L. [2]",
          "Autocorrelation": 0,
          "ID": null
         },
         {
          "Authors (col)": "Hernandez G. [3]",
          "Authors (row)": "Liu C.-L. [2]",
          "Autocorrelation": 0,
          "ID": null
         },
         {
          "Authors (col)": "Bu H. [2]",
          "Authors (row)": "Liu C.-L. [2]",
          "Autocorrelation": 0,
          "ID": null
         },
         {
          "Authors (col)": "Arévalo A. [3]",
          "Authors (row)": "Liu C.-L. [2]",
          "Autocorrelation": 0,
          "ID": null
         },
         {
          "Authors (col)": "Passalis N. [3]",
          "Authors (row)": "Liu C.-L. [2]",
          "Autocorrelation": 0,
          "ID": null
         },
         {
          "Authors (col)": "Wu J. [3]",
          "Authors (row)": "Liu C.-L. [2]",
          "Autocorrelation": 0,
          "ID": null
         },
         {
          "Authors (col)": "Sandoval J. [3]",
          "Authors (row)": "Liu C.-L. [2]",
          "Autocorrelation": 0,
          "ID": null
         },
         {
          "Authors (col)": "Zhu Y. [3]",
          "Authors (row)": "Liu C.-L. [2]",
          "Autocorrelation": 0,
          "ID": null
         },
         {
          "Authors (col)": "Chen J. [2]",
          "Authors (row)": "Liu C.-L. [2]",
          "Autocorrelation": 0,
          "ID": null
         },
         {
          "Authors (col)": "Chen Y. [2]",
          "Authors (row)": "Liu C.-L. [2]",
          "Autocorrelation": 0,
          "ID": null
         },
         {
          "Authors (col)": "Lin X. [2]",
          "Authors (row)": "Liu C.-L. [2]",
          "Autocorrelation": 0,
          "ID": null
         },
         {
          "Authors (col)": "Tsantekidis A. [2]",
          "Authors (row)": "Liu C.-L. [2]",
          "Autocorrelation": 0,
          "ID": null
         },
         {
          "Authors (col)": "Wu J. [3]",
          "Authors (row)": "Wang J. [7]",
          "Autocorrelation": 0,
          "ID": null
         },
         {
          "Authors (col)": "Passalis N. [3]",
          "Authors (row)": "Wang J. [7]",
          "Autocorrelation": 0,
          "ID": null
         },
         {
          "Authors (col)": "Li Y. [2]",
          "Authors (row)": "Liu C.-L. [2]",
          "Autocorrelation": 0,
          "ID": null
         },
         {
          "Authors (col)": "Tefas A. [3]",
          "Authors (row)": "Liu C.-L. [2]",
          "Autocorrelation": 0,
          "ID": null
         },
         {
          "Authors (col)": "Dash P.K. [2]",
          "Authors (row)": "Liu C.-L. [2]",
          "Autocorrelation": 0,
          "ID": null
         },
         {
          "Authors (col)": "Niño J. [2]",
          "Authors (row)": "Liu C.-L. [2]",
          "Autocorrelation": 0,
          "ID": null
         },
         {
          "Authors (col)": "Oosterlee C.W. [2]",
          "Authors (row)": "Liu C.-L. [2]",
          "Autocorrelation": 0,
          "ID": null
         },
         {
          "Authors (col)": "Iosifidis A. [3]",
          "Authors (row)": "Li Y. [2]",
          "Autocorrelation": 0,
          "ID": null
         },
         {
          "Authors (col)": "Sandoval J. [3]",
          "Authors (row)": "Li Y. [2]",
          "Autocorrelation": 0,
          "ID": null
         },
         {
          "Authors (col)": "Zhang Y. [3]",
          "Authors (row)": "Li Y. [2]",
          "Autocorrelation": 0,
          "ID": null
         },
         {
          "Authors (col)": "Zhu Y. [3]",
          "Authors (row)": "Dash P.K. [2]",
          "Autocorrelation": 0,
          "ID": null
         },
         {
          "Authors (col)": "Zhang G. [4]",
          "Authors (row)": "Dash P.K. [2]",
          "Autocorrelation": 0,
          "ID": null
         },
         {
          "Authors (col)": "Hussain A.J. [3]",
          "Authors (row)": "Dash P.K. [2]",
          "Autocorrelation": 0,
          "ID": null
         },
         {
          "Authors (col)": "Gabbouj M. [3]",
          "Authors (row)": "Dash P.K. [2]",
          "Autocorrelation": 0,
          "ID": null
         },
         {
          "Authors (col)": "Iosifidis A. [3]",
          "Authors (row)": "Dash P.K. [2]",
          "Autocorrelation": 0,
          "ID": null
         },
         {
          "Authors (col)": "Zhang Y. [3]",
          "Authors (row)": "Dash P.K. [2]",
          "Autocorrelation": 0,
          "ID": null
         },
         {
          "Authors (col)": "Yan X. [3]",
          "Authors (row)": "Dash P.K. [2]",
          "Autocorrelation": 0,
          "ID": null
         },
         {
          "Authors (col)": "Arévalo A. [3]",
          "Authors (row)": "Dash P.K. [2]",
          "Autocorrelation": 0,
          "ID": null
         },
         {
          "Authors (col)": "Hernandez G. [3]",
          "Authors (row)": "Dash P.K. [2]",
          "Autocorrelation": 0,
          "ID": null
         },
         {
          "Authors (col)": "Tefas A. [3]",
          "Authors (row)": "Dash P.K. [2]",
          "Autocorrelation": 0,
          "ID": null
         },
         {
          "Authors (col)": "Kanniainen J. [3]",
          "Authors (row)": "Dash P.K. [2]",
          "Autocorrelation": 0,
          "ID": null
         },
         {
          "Authors (col)": "Yan X. [3]",
          "Authors (row)": "Li Y. [2]",
          "Autocorrelation": 0,
          "ID": null
         },
         {
          "Authors (col)": "Passalis N. [3]",
          "Authors (row)": "Dash P.K. [2]",
          "Autocorrelation": 0,
          "ID": null
         },
         {
          "Authors (col)": "Wu J. [3]",
          "Authors (row)": "Dash P.K. [2]",
          "Autocorrelation": 0,
          "ID": null
         },
         {
          "Authors (col)": "Sandoval J. [3]",
          "Authors (row)": "Dash P.K. [2]",
          "Autocorrelation": 0,
          "ID": null
         },
         {
          "Authors (col)": "Chen J. [2]",
          "Authors (row)": "Dash P.K. [2]",
          "Autocorrelation": 0,
          "ID": null
         },
         {
          "Authors (col)": "Chen Y. [2]",
          "Authors (row)": "Dash P.K. [2]",
          "Autocorrelation": 0,
          "ID": null
         },
         {
          "Authors (col)": "Lin X. [2]",
          "Authors (row)": "Dash P.K. [2]",
          "Autocorrelation": 0,
          "ID": null
         },
         {
          "Authors (col)": "Tsantekidis A. [2]",
          "Authors (row)": "Dash P.K. [2]",
          "Autocorrelation": 0,
          "ID": null
         },
         {
          "Authors (col)": "Tseng V.S. [2]",
          "Authors (row)": "Dash P.K. [2]",
          "Autocorrelation": 0,
          "ID": null
         },
         {
          "Authors (col)": "Liu C.-L. [2]",
          "Authors (row)": "Dash P.K. [2]",
          "Autocorrelation": 0,
          "ID": null
         },
         {
          "Authors (col)": "Wang J. [7]",
          "Authors (row)": "Dash P.K. [2]",
          "Autocorrelation": 0,
          "ID": null
         },
         {
          "Authors (col)": "Leon D. [2]",
          "Authors (row)": "Li Y. [2]",
          "Autocorrelation": 0,
          "ID": null
         },
         {
          "Authors (col)": "Xu J. [2]",
          "Authors (row)": "Li Y. [2]",
          "Autocorrelation": 0,
          "ID": null
         },
         {
          "Authors (col)": "Xu L. [2]",
          "Authors (row)": "Li Y. [2]",
          "Autocorrelation": 0,
          "ID": null
         },
         {
          "Authors (col)": "Arévalo A. [3]",
          "Authors (row)": "Li Y. [2]",
          "Autocorrelation": 0,
          "ID": null
         },
         {
          "Authors (col)": "Hernandez G. [3]",
          "Authors (row)": "Li Y. [2]",
          "Autocorrelation": 0,
          "ID": null
         },
         {
          "Authors (col)": "Tefas A. [3]",
          "Authors (row)": "Li Y. [2]",
          "Autocorrelation": 0,
          "ID": null
         },
         {
          "Authors (col)": "Zhu Y. [3]",
          "Authors (row)": "Li Y. [2]",
          "Autocorrelation": 0,
          "ID": null
         },
         {
          "Authors (col)": "Kanniainen J. [3]",
          "Authors (row)": "Li Y. [2]",
          "Autocorrelation": 0,
          "ID": null
         },
         {
          "Authors (col)": "Passalis N. [3]",
          "Authors (row)": "Li Y. [2]",
          "Autocorrelation": 0,
          "ID": null
         },
         {
          "Authors (col)": "Wu J. [3]",
          "Authors (row)": "Li Y. [2]",
          "Autocorrelation": 0,
          "ID": null
         },
         {
          "Authors (col)": "Leon D. [2]",
          "Authors (row)": "Tseng V.S. [2]",
          "Autocorrelation": 0,
          "ID": null
         },
         {
          "Authors (col)": "Chen J. [2]",
          "Authors (row)": "Li Y. [2]",
          "Autocorrelation": 0,
          "ID": null
         },
         {
          "Authors (col)": "Chen Y. [2]",
          "Authors (row)": "Li Y. [2]",
          "Autocorrelation": 0,
          "ID": null
         },
         {
          "Authors (col)": "Lin X. [2]",
          "Authors (row)": "Li Y. [2]",
          "Autocorrelation": 0,
          "ID": null
         },
         {
          "Authors (col)": "Tsantekidis A. [2]",
          "Authors (row)": "Li Y. [2]",
          "Autocorrelation": 0,
          "ID": null
         },
         {
          "Authors (col)": "Tseng V.S. [2]",
          "Authors (row)": "Li Y. [2]",
          "Autocorrelation": 0,
          "ID": null
         },
         {
          "Authors (col)": "Liu C.-L. [2]",
          "Authors (row)": "Li Y. [2]",
          "Autocorrelation": 0,
          "ID": null
         },
         {
          "Authors (col)": "Kanniainen J. [3]",
          "Authors (row)": "Wang J. [7]",
          "Autocorrelation": 0,
          "ID": null
         },
         {
          "Authors (col)": "Dash P.K. [2]",
          "Authors (row)": "Li Y. [2]",
          "Autocorrelation": 0,
          "ID": null
         },
         {
          "Authors (col)": "Niño J. [2]",
          "Authors (row)": "Li Y. [2]",
          "Autocorrelation": 0,
          "ID": null
         },
         {
          "Authors (col)": "Oosterlee C.W. [2]",
          "Authors (row)": "Li Y. [2]",
          "Autocorrelation": 0,
          "ID": null
         },
         {
          "Authors (col)": "Bu H. [2]",
          "Authors (row)": "Li Y. [2]",
          "Autocorrelation": 0,
          "ID": null
         },
         {
          "Authors (col)": "Wang H. [2]",
          "Authors (row)": "Tseng V.S. [2]",
          "Autocorrelation": 0,
          "ID": null
         },
         {
          "Authors (col)": "Lin X. [2]",
          "Authors (row)": "Tseng V.S. [2]",
          "Autocorrelation": 0,
          "ID": null
         },
         {
          "Authors (col)": "Xu J. [2]",
          "Authors (row)": "Tseng V.S. [2]",
          "Autocorrelation": 0,
          "ID": null
         },
         {
          "Authors (col)": "Hernandez G. [3]",
          "Authors (row)": "Lin X. [2]",
          "Autocorrelation": 0,
          "ID": null
         },
         {
          "Authors (col)": "Zhu Y. [3]",
          "Authors (row)": "Lin X. [2]",
          "Autocorrelation": 0,
          "ID": null
         },
         {
          "Authors (col)": "Kanniainen J. [3]",
          "Authors (row)": "Lin X. [2]",
          "Autocorrelation": 0,
          "ID": null
         },
         {
          "Authors (col)": "Passalis N. [3]",
          "Authors (row)": "Lin X. [2]",
          "Autocorrelation": 0,
          "ID": null
         },
         {
          "Authors (col)": "Wu J. [3]",
          "Authors (row)": "Lin X. [2]",
          "Autocorrelation": 0,
          "ID": null
         },
         {
          "Authors (col)": "Sandoval J. [3]",
          "Authors (row)": "Lin X. [2]",
          "Autocorrelation": 0,
          "ID": null
         },
         {
          "Authors (col)": "Chen J. [2]",
          "Authors (row)": "Lin X. [2]",
          "Autocorrelation": 0,
          "ID": null
         },
         {
          "Authors (col)": "Chen Y. [2]",
          "Authors (row)": "Lin X. [2]",
          "Autocorrelation": 0,
          "ID": null
         },
         {
          "Authors (col)": "Lin X. [2]",
          "Authors (row)": "Wang J. [7]",
          "Autocorrelation": 0,
          "ID": null
         },
         {
          "Authors (col)": "Tsantekidis A. [2]",
          "Authors (row)": "Lin X. [2]",
          "Autocorrelation": 0,
          "ID": null
         },
         {
          "Authors (col)": "Tseng V.S. [2]",
          "Authors (row)": "Lin X. [2]",
          "Autocorrelation": 0,
          "ID": null
         },
         {
          "Authors (col)": "Liu C.-L. [2]",
          "Authors (row)": "Lin X. [2]",
          "Autocorrelation": 0,
          "ID": null
         },
         {
          "Authors (col)": "Li Y. [2]",
          "Authors (row)": "Lin X. [2]",
          "Autocorrelation": 0,
          "ID": null
         },
         {
          "Authors (col)": "Dash P.K. [2]",
          "Authors (row)": "Lin X. [2]",
          "Autocorrelation": 0,
          "ID": null
         },
         {
          "Authors (col)": "Niño J. [2]",
          "Authors (row)": "Lin X. [2]",
          "Autocorrelation": 0,
          "ID": null
         },
         {
          "Authors (col)": "Oosterlee C.W. [2]",
          "Authors (row)": "Lin X. [2]",
          "Autocorrelation": 0,
          "ID": null
         },
         {
          "Authors (col)": "Bu H. [2]",
          "Authors (row)": "Lin X. [2]",
          "Autocorrelation": 0,
          "ID": null
         },
         {
          "Authors (col)": "Xu L. [2]",
          "Authors (row)": "Lin X. [2]",
          "Autocorrelation": 0,
          "ID": null
         },
         {
          "Authors (col)": "Xu J. [2]",
          "Authors (row)": "Lin X. [2]",
          "Autocorrelation": 0,
          "ID": null
         },
         {
          "Authors (col)": "Leon D. [2]",
          "Authors (row)": "Lin X. [2]",
          "Autocorrelation": 0,
          "ID": null
         },
         {
          "Authors (col)": "Wang H. [2]",
          "Authors (row)": "Lin X. [2]",
          "Autocorrelation": 0,
          "ID": null
         },
         {
          "Authors (col)": "Wang J. [7]",
          "Authors (row)": "Tsantekidis A. [2]",
          "Autocorrelation": 0,
          "ID": null
         },
         {
          "Authors (col)": "Tefas A. [3]",
          "Authors (row)": "Lin X. [2]",
          "Autocorrelation": 0,
          "ID": null
         },
         {
          "Authors (col)": "Arévalo A. [3]",
          "Authors (row)": "Lin X. [2]",
          "Autocorrelation": 0,
          "ID": null
         },
         {
          "Authors (col)": "Hussain A.J. [3]",
          "Authors (row)": "Tsantekidis A. [2]",
          "Autocorrelation": 0,
          "ID": null
         },
         {
          "Authors (col)": "Yan X. [3]",
          "Authors (row)": "Lin X. [2]",
          "Autocorrelation": 0,
          "ID": null
         },
         {
          "Authors (col)": "Sandoval J. [3]",
          "Authors (row)": "Chen Y. [2]",
          "Autocorrelation": 0,
          "ID": null
         },
         {
          "Authors (col)": "Chen J. [2]",
          "Authors (row)": "Chen Y. [2]",
          "Autocorrelation": 0,
          "ID": null
         },
         {
          "Authors (col)": "Tsantekidis A. [2]",
          "Authors (row)": "Wang J. [7]",
          "Autocorrelation": 0,
          "ID": null
         },
         {
          "Authors (col)": "Lin X. [2]",
          "Authors (row)": "Chen Y. [2]",
          "Autocorrelation": 0,
          "ID": null
         },
         {
          "Authors (col)": "Tsantekidis A. [2]",
          "Authors (row)": "Chen Y. [2]",
          "Autocorrelation": 0,
          "ID": null
         },
         {
          "Authors (col)": "Tseng V.S. [2]",
          "Authors (row)": "Chen Y. [2]",
          "Autocorrelation": 0,
          "ID": null
         },
         {
          "Authors (col)": "Liu C.-L. [2]",
          "Authors (row)": "Chen Y. [2]",
          "Autocorrelation": 0,
          "ID": null
         },
         {
          "Authors (col)": "Li Y. [2]",
          "Authors (row)": "Chen Y. [2]",
          "Autocorrelation": 0,
          "ID": null
         },
         {
          "Authors (col)": "Dash P.K. [2]",
          "Authors (row)": "Chen Y. [2]",
          "Autocorrelation": 0,
          "ID": null
         },
         {
          "Authors (col)": "Niño J. [2]",
          "Authors (row)": "Chen Y. [2]",
          "Autocorrelation": 0,
          "ID": null
         },
         {
          "Authors (col)": "Oosterlee C.W. [2]",
          "Authors (row)": "Chen Y. [2]",
          "Autocorrelation": 0,
          "ID": null
         },
         {
          "Authors (col)": "Xu L. [2]",
          "Authors (row)": "Chen Y. [2]",
          "Autocorrelation": 0,
          "ID": null
         },
         {
          "Authors (col)": "Xu J. [2]",
          "Authors (row)": "Chen Y. [2]",
          "Autocorrelation": 0,
          "ID": null
         },
         {
          "Authors (col)": "Leon D. [2]",
          "Authors (row)": "Chen Y. [2]",
          "Autocorrelation": 0,
          "ID": null
         },
         {
          "Authors (col)": "Wang H. [2]",
          "Authors (row)": "Chen Y. [2]",
          "Autocorrelation": 0,
          "ID": null
         },
         {
          "Authors (col)": "Wang J. [7]",
          "Authors (row)": "Lin X. [2]",
          "Autocorrelation": 0,
          "ID": null
         },
         {
          "Authors (col)": "Zhang G. [4]",
          "Authors (row)": "Lin X. [2]",
          "Autocorrelation": 0,
          "ID": null
         },
         {
          "Authors (col)": "Hussain A.J. [3]",
          "Authors (row)": "Lin X. [2]",
          "Autocorrelation": 0,
          "ID": null
         },
         {
          "Authors (col)": "Gabbouj M. [3]",
          "Authors (row)": "Lin X. [2]",
          "Autocorrelation": 0,
          "ID": null
         },
         {
          "Authors (col)": "Iosifidis A. [3]",
          "Authors (row)": "Lin X. [2]",
          "Autocorrelation": 0,
          "ID": null
         },
         {
          "Authors (col)": "Zhang Y. [3]",
          "Authors (row)": "Lin X. [2]",
          "Autocorrelation": 0,
          "ID": null
         },
         {
          "Authors (col)": "Zhang G. [4]",
          "Authors (row)": "Tsantekidis A. [2]",
          "Autocorrelation": 0,
          "ID": null
         },
         {
          "Authors (col)": "Zhang Y. [3]",
          "Authors (row)": "Tsantekidis A. [2]",
          "Autocorrelation": 0,
          "ID": null
         },
         {
          "Authors (col)": "Xu L. [2]",
          "Authors (row)": "Tseng V.S. [2]",
          "Autocorrelation": 0,
          "ID": null
         },
         {
          "Authors (col)": "Gabbouj M. [3]",
          "Authors (row)": "Tseng V.S. [2]",
          "Autocorrelation": 0,
          "ID": null
         },
         {
          "Authors (col)": "Zhang Y. [3]",
          "Authors (row)": "Tseng V.S. [2]",
          "Autocorrelation": 0,
          "ID": null
         },
         {
          "Authors (col)": "Yan X. [3]",
          "Authors (row)": "Tseng V.S. [2]",
          "Autocorrelation": 0,
          "ID": null
         },
         {
          "Authors (col)": "Arévalo A. [3]",
          "Authors (row)": "Tseng V.S. [2]",
          "Autocorrelation": 0,
          "ID": null
         },
         {
          "Authors (col)": "Hernandez G. [3]",
          "Authors (row)": "Tseng V.S. [2]",
          "Autocorrelation": 0,
          "ID": null
         },
         {
          "Authors (col)": "Tefas A. [3]",
          "Authors (row)": "Tseng V.S. [2]",
          "Autocorrelation": 0,
          "ID": null
         },
         {
          "Authors (col)": "Zhu Y. [3]",
          "Authors (row)": "Tseng V.S. [2]",
          "Autocorrelation": 0,
          "ID": null
         },
         {
          "Authors (col)": "Kanniainen J. [3]",
          "Authors (row)": "Tseng V.S. [2]",
          "Autocorrelation": 0,
          "ID": null
         },
         {
          "Authors (col)": "Passalis N. [3]",
          "Authors (row)": "Tseng V.S. [2]",
          "Autocorrelation": 0,
          "ID": null
         },
         {
          "Authors (col)": "Wu J. [3]",
          "Authors (row)": "Tseng V.S. [2]",
          "Autocorrelation": 0,
          "ID": null
         },
         {
          "Authors (col)": "Sandoval J. [3]",
          "Authors (row)": "Tseng V.S. [2]",
          "Autocorrelation": 0,
          "ID": null
         },
         {
          "Authors (col)": "Chen J. [2]",
          "Authors (row)": "Tseng V.S. [2]",
          "Autocorrelation": 0,
          "ID": null
         },
         {
          "Authors (col)": "Chen Y. [2]",
          "Authors (row)": "Tseng V.S. [2]",
          "Autocorrelation": 0,
          "ID": null
         },
         {
          "Authors (col)": "Zhu Y. [3]",
          "Authors (row)": "Wang J. [7]",
          "Autocorrelation": 0,
          "ID": null
         },
         {
          "Authors (col)": "Tsantekidis A. [2]",
          "Authors (row)": "Tseng V.S. [2]",
          "Autocorrelation": 0,
          "ID": null
         },
         {
          "Authors (col)": "Chen J. [2]",
          "Authors (row)": "Wang J. [7]",
          "Autocorrelation": 0,
          "ID": null
         },
         {
          "Authors (col)": "Sandoval J. [3]",
          "Authors (row)": "Wang J. [7]",
          "Autocorrelation": 0,
          "ID": null
         },
         {
          "Authors (col)": "Li Y. [2]",
          "Authors (row)": "Tseng V.S. [2]",
          "Autocorrelation": 0,
          "ID": null
         },
         {
          "Authors (col)": "Dash P.K. [2]",
          "Authors (row)": "Tseng V.S. [2]",
          "Autocorrelation": 0,
          "ID": null
         },
         {
          "Authors (col)": "Niño J. [2]",
          "Authors (row)": "Tseng V.S. [2]",
          "Autocorrelation": 0,
          "ID": null
         },
         {
          "Authors (col)": "Oosterlee C.W. [2]",
          "Authors (row)": "Tseng V.S. [2]",
          "Autocorrelation": 0,
          "ID": null
         },
         {
          "Authors (col)": "Bu H. [2]",
          "Authors (row)": "Tseng V.S. [2]",
          "Autocorrelation": 0,
          "ID": null
         },
         {
          "Authors (col)": "Iosifidis A. [3]",
          "Authors (row)": "Tseng V.S. [2]",
          "Autocorrelation": 0,
          "ID": null
         },
         {
          "Authors (col)": "Hussain A.J. [3]",
          "Authors (row)": "Tseng V.S. [2]",
          "Autocorrelation": 0,
          "ID": null
         },
         {
          "Authors (col)": "Yan X. [3]",
          "Authors (row)": "Tsantekidis A. [2]",
          "Autocorrelation": 0,
          "ID": null
         },
         {
          "Authors (col)": "Zhang G. [4]",
          "Authors (row)": "Tseng V.S. [2]",
          "Autocorrelation": 0,
          "ID": null
         },
         {
          "Authors (col)": "Arévalo A. [3]",
          "Authors (row)": "Tsantekidis A. [2]",
          "Autocorrelation": 0,
          "ID": null
         },
         {
          "Authors (col)": "Hernandez G. [3]",
          "Authors (row)": "Tsantekidis A. [2]",
          "Autocorrelation": 0,
          "ID": null
         },
         {
          "Authors (col)": "Zhu Y. [3]",
          "Authors (row)": "Tsantekidis A. [2]",
          "Autocorrelation": 0,
          "ID": null
         },
         {
          "Authors (col)": "Wu J. [3]",
          "Authors (row)": "Tsantekidis A. [2]",
          "Autocorrelation": 0,
          "ID": null
         },
         {
          "Authors (col)": "Sandoval J. [3]",
          "Authors (row)": "Tsantekidis A. [2]",
          "Autocorrelation": 0,
          "ID": null
         },
         {
          "Authors (col)": "Chen J. [2]",
          "Authors (row)": "Tsantekidis A. [2]",
          "Autocorrelation": 0,
          "ID": null
         },
         {
          "Authors (col)": "Chen Y. [2]",
          "Authors (row)": "Tsantekidis A. [2]",
          "Autocorrelation": 0,
          "ID": null
         },
         {
          "Authors (col)": "Lin X. [2]",
          "Authors (row)": "Tsantekidis A. [2]",
          "Autocorrelation": 0,
          "ID": null
         },
         {
          "Authors (col)": "Chen Y. [2]",
          "Authors (row)": "Wang J. [7]",
          "Autocorrelation": 0,
          "ID": null
         },
         {
          "Authors (col)": "Tseng V.S. [2]",
          "Authors (row)": "Tsantekidis A. [2]",
          "Autocorrelation": 0,
          "ID": null
         },
         {
          "Authors (col)": "Liu C.-L. [2]",
          "Authors (row)": "Tsantekidis A. [2]",
          "Autocorrelation": 0,
          "ID": null
         },
         {
          "Authors (col)": "Li Y. [2]",
          "Authors (row)": "Tsantekidis A. [2]",
          "Autocorrelation": 0,
          "ID": null
         },
         {
          "Authors (col)": "Dash P.K. [2]",
          "Authors (row)": "Tsantekidis A. [2]",
          "Autocorrelation": 0,
          "ID": null
         },
         {
          "Authors (col)": "Niño J. [2]",
          "Authors (row)": "Tsantekidis A. [2]",
          "Autocorrelation": 0,
          "ID": null
         },
         {
          "Authors (col)": "Oosterlee C.W. [2]",
          "Authors (row)": "Tsantekidis A. [2]",
          "Autocorrelation": 0,
          "ID": null
         },
         {
          "Authors (col)": "Bu H. [2]",
          "Authors (row)": "Tsantekidis A. [2]",
          "Autocorrelation": 0,
          "ID": null
         },
         {
          "Authors (col)": "Xu L. [2]",
          "Authors (row)": "Tsantekidis A. [2]",
          "Autocorrelation": 0,
          "ID": null
         },
         {
          "Authors (col)": "Xu J. [2]",
          "Authors (row)": "Tsantekidis A. [2]",
          "Autocorrelation": 0,
          "ID": null
         },
         {
          "Authors (col)": "Leon D. [2]",
          "Authors (row)": "Tsantekidis A. [2]",
          "Autocorrelation": 0,
          "ID": null
         },
         {
          "Authors (col)": "Wang H. [2]",
          "Authors (row)": "Tsantekidis A. [2]",
          "Autocorrelation": 0,
          "ID": null
         },
         {
          "Authors (col)": "Wang J. [7]",
          "Authors (row)": "Tseng V.S. [2]",
          "Autocorrelation": 0,
          "ID": null
         },
         {
          "Authors (col)": "Li Y. [2]",
          "Authors (row)": "Dash P.K. [2]",
          "Autocorrelation": 0,
          "ID": null
         },
         {
          "Authors (col)": "Gabbouj M. [3]",
          "Authors (row)": "Niño J. [2]",
          "Autocorrelation": 0,
          "ID": null
         },
         {
          "Authors (col)": "Niño J. [2]",
          "Authors (row)": "Dash P.K. [2]",
          "Autocorrelation": 0,
          "ID": null
         },
         {
          "Authors (col)": "Liu C.-L. [2]",
          "Authors (row)": "Xu J. [2]",
          "Autocorrelation": 0,
          "ID": null
         },
         {
          "Authors (col)": "Zhu Y. [3]",
          "Authors (row)": "Xu J. [2]",
          "Autocorrelation": 0,
          "ID": null
         },
         {
          "Authors (col)": "Kanniainen J. [3]",
          "Authors (row)": "Xu J. [2]",
          "Autocorrelation": 0,
          "ID": null
         },
         {
          "Authors (col)": "Passalis N. [3]",
          "Authors (row)": "Xu J. [2]",
          "Autocorrelation": 0,
          "ID": null
         },
         {
          "Authors (col)": "Wu J. [3]",
          "Authors (row)": "Xu J. [2]",
          "Autocorrelation": 0,
          "ID": null
         },
         {
          "Authors (col)": "Sandoval J. [3]",
          "Authors (row)": "Xu J. [2]",
          "Autocorrelation": 0,
          "ID": null
         },
         {
          "Authors (col)": "Chen J. [2]",
          "Authors (row)": "Xu J. [2]",
          "Autocorrelation": 0,
          "ID": null
         },
         {
          "Authors (col)": "Chen Y. [2]",
          "Authors (row)": "Xu J. [2]",
          "Autocorrelation": 0,
          "ID": null
         },
         {
          "Authors (col)": "Lin X. [2]",
          "Authors (row)": "Xu J. [2]",
          "Autocorrelation": 0,
          "ID": null
         },
         {
          "Authors (col)": "Tsantekidis A. [2]",
          "Authors (row)": "Xu J. [2]",
          "Autocorrelation": 0,
          "ID": null
         },
         {
          "Authors (col)": "Tseng V.S. [2]",
          "Authors (row)": "Xu J. [2]",
          "Autocorrelation": 0,
          "ID": null
         },
         {
          "Authors (col)": "Li Y. [2]",
          "Authors (row)": "Xu J. [2]",
          "Autocorrelation": 0,
          "ID": null
         },
         {
          "Authors (col)": "Hernandez G. [3]",
          "Authors (row)": "Xu J. [2]",
          "Autocorrelation": 0,
          "ID": null
         },
         {
          "Authors (col)": "Dash P.K. [2]",
          "Authors (row)": "Xu J. [2]",
          "Autocorrelation": 0,
          "ID": null
         },
         {
          "Authors (col)": "Niño J. [2]",
          "Authors (row)": "Xu J. [2]",
          "Autocorrelation": 0,
          "ID": null
         },
         {
          "Authors (col)": "Oosterlee C.W. [2]",
          "Authors (row)": "Xu J. [2]",
          "Autocorrelation": 0,
          "ID": null
         },
         {
          "Authors (col)": "Bu H. [2]",
          "Authors (row)": "Xu J. [2]",
          "Autocorrelation": 0,
          "ID": null
         },
         {
          "Authors (col)": "Xu L. [2]",
          "Authors (row)": "Xu J. [2]",
          "Autocorrelation": 0,
          "ID": null
         },
         {
          "Authors (col)": "Iosifidis A. [3]",
          "Authors (row)": "Wang J. [7]",
          "Autocorrelation": 0,
          "ID": null
         },
         {
          "Authors (col)": "Leon D. [2]",
          "Authors (row)": "Xu J. [2]",
          "Autocorrelation": 0,
          "ID": null
         },
         {
          "Authors (col)": "Wang H. [2]",
          "Authors (row)": "Xu J. [2]",
          "Autocorrelation": 0,
          "ID": null
         },
         {
          "Authors (col)": "Wang J. [7]",
          "Authors (row)": "Leon D. [2]",
          "Autocorrelation": 0,
          "ID": null
         },
         {
          "Authors (col)": "Zhang G. [4]",
          "Authors (row)": "Leon D. [2]",
          "Autocorrelation": 0,
          "ID": null
         },
         {
          "Authors (col)": "Tefas A. [3]",
          "Authors (row)": "Xu J. [2]",
          "Autocorrelation": 0,
          "ID": null
         },
         {
          "Authors (col)": "Arévalo A. [3]",
          "Authors (row)": "Xu J. [2]",
          "Autocorrelation": 0,
          "ID": null
         },
         {
          "Authors (col)": "Passalis N. [3]",
          "Authors (row)": "Xu L. [2]",
          "Autocorrelation": 0,
          "ID": null
         },
         {
          "Authors (col)": "Oosterlee C.W. [2]",
          "Authors (row)": "Xu L. [2]",
          "Autocorrelation": 0,
          "ID": null
         },
         {
          "Authors (col)": "Sandoval J. [3]",
          "Authors (row)": "Xu L. [2]",
          "Autocorrelation": 0,
          "ID": null
         },
         {
          "Authors (col)": "Chen J. [2]",
          "Authors (row)": "Xu L. [2]",
          "Autocorrelation": 0,
          "ID": null
         },
         {
          "Authors (col)": "Chen Y. [2]",
          "Authors (row)": "Xu L. [2]",
          "Autocorrelation": 0,
          "ID": null
         },
         {
          "Authors (col)": "Lin X. [2]",
          "Authors (row)": "Xu L. [2]",
          "Autocorrelation": 0,
          "ID": null
         },
         {
          "Authors (col)": "Tsantekidis A. [2]",
          "Authors (row)": "Xu L. [2]",
          "Autocorrelation": 0,
          "ID": null
         },
         {
          "Authors (col)": "Tseng V.S. [2]",
          "Authors (row)": "Xu L. [2]",
          "Autocorrelation": 0,
          "ID": null
         },
         {
          "Authors (col)": "Liu C.-L. [2]",
          "Authors (row)": "Xu L. [2]",
          "Autocorrelation": 0,
          "ID": null
         },
         {
          "Authors (col)": "Li Y. [2]",
          "Authors (row)": "Xu L. [2]",
          "Autocorrelation": 0,
          "ID": null
         },
         {
          "Authors (col)": "Dash P.K. [2]",
          "Authors (row)": "Xu L. [2]",
          "Autocorrelation": 0,
          "ID": null
         },
         {
          "Authors (col)": "Niño J. [2]",
          "Authors (row)": "Xu L. [2]",
          "Autocorrelation": 0,
          "ID": null
         },
         {
          "Authors (col)": "Bu H. [2]",
          "Authors (row)": "Xu L. [2]",
          "Autocorrelation": 0,
          "ID": null
         },
         {
          "Authors (col)": "Yan X. [3]",
          "Authors (row)": "Xu J. [2]",
          "Autocorrelation": 0,
          "ID": null
         },
         {
          "Authors (col)": "Zhang Y. [3]",
          "Authors (row)": "Wang J. [7]",
          "Autocorrelation": 0,
          "ID": null
         },
         {
          "Authors (col)": "Xu J. [2]",
          "Authors (row)": "Xu L. [2]",
          "Autocorrelation": 0,
          "ID": null
         },
         {
          "Authors (col)": "Leon D. [2]",
          "Authors (row)": "Xu L. [2]",
          "Autocorrelation": 0,
          "ID": null
         },
         {
          "Authors (col)": "Wang H. [2]",
          "Authors (row)": "Xu L. [2]",
          "Autocorrelation": 0,
          "ID": null
         },
         {
          "Authors (col)": "Wang J. [7]",
          "Authors (row)": "Xu J. [2]",
          "Autocorrelation": 0,
          "ID": null
         },
         {
          "Authors (col)": "Zhang G. [4]",
          "Authors (row)": "Xu J. [2]",
          "Autocorrelation": 0,
          "ID": null
         },
         {
          "Authors (col)": "Hussain A.J. [3]",
          "Authors (row)": "Xu J. [2]",
          "Autocorrelation": 0,
          "ID": null
         },
         {
          "Authors (col)": "Gabbouj M. [3]",
          "Authors (row)": "Xu J. [2]",
          "Autocorrelation": 0,
          "ID": null
         },
         {
          "Authors (col)": "Iosifidis A. [3]",
          "Authors (row)": "Xu J. [2]",
          "Autocorrelation": 0,
          "ID": null
         },
         {
          "Authors (col)": "Zhang Y. [3]",
          "Authors (row)": "Xu J. [2]",
          "Autocorrelation": 0,
          "ID": null
         },
         {
          "Authors (col)": "Hussain A.J. [3]",
          "Authors (row)": "Leon D. [2]",
          "Autocorrelation": 0,
          "ID": null
         },
         {
          "Authors (col)": "Gabbouj M. [3]",
          "Authors (row)": "Leon D. [2]",
          "Autocorrelation": 0,
          "ID": null
         },
         {
          "Authors (col)": "Iosifidis A. [3]",
          "Authors (row)": "Leon D. [2]",
          "Autocorrelation": 0,
          "ID": null
         },
         {
          "Authors (col)": "Chen Y. [2]",
          "Authors (row)": "Wang H. [2]",
          "Autocorrelation": 0,
          "ID": null
         },
         {
          "Authors (col)": "Iosifidis A. [3]",
          "Authors (row)": "Wang H. [2]",
          "Autocorrelation": 0,
          "ID": null
         },
         {
          "Authors (col)": "Zhang Y. [3]",
          "Authors (row)": "Wang H. [2]",
          "Autocorrelation": 0,
          "ID": null
         },
         {
          "Authors (col)": "Yan X. [3]",
          "Authors (row)": "Wang H. [2]",
          "Autocorrelation": 0,
          "ID": null
         },
         {
          "Authors (col)": "Arévalo A. [3]",
          "Authors (row)": "Wang H. [2]",
          "Autocorrelation": 0,
          "ID": null
         },
         {
          "Authors (col)": "Hernandez G. [3]",
          "Authors (row)": "Wang H. [2]",
          "Autocorrelation": 0,
          "ID": null
         },
         {
          "Authors (col)": "Tefas A. [3]",
          "Authors (row)": "Wang H. [2]",
          "Autocorrelation": 0,
          "ID": null
         },
         {
          "Authors (col)": "Kanniainen J. [3]",
          "Authors (row)": "Wang H. [2]",
          "Autocorrelation": 0,
          "ID": null
         },
         {
          "Authors (col)": "Passalis N. [3]",
          "Authors (row)": "Wang H. [2]",
          "Autocorrelation": 0,
          "ID": null
         },
         {
          "Authors (col)": "Wu J. [3]",
          "Authors (row)": "Wang H. [2]",
          "Autocorrelation": 0,
          "ID": null
         },
         {
          "Authors (col)": "Sandoval J. [3]",
          "Authors (row)": "Wang H. [2]",
          "Autocorrelation": 0,
          "ID": null
         },
         {
          "Authors (col)": "Lin X. [2]",
          "Authors (row)": "Wang H. [2]",
          "Autocorrelation": 0,
          "ID": null
         },
         {
          "Authors (col)": "Zhang Y. [3]",
          "Authors (row)": "Leon D. [2]",
          "Autocorrelation": 0,
          "ID": null
         },
         {
          "Authors (col)": "Tsantekidis A. [2]",
          "Authors (row)": "Wang H. [2]",
          "Autocorrelation": 0,
          "ID": null
         },
         {
          "Authors (col)": "Tseng V.S. [2]",
          "Authors (row)": "Wang H. [2]",
          "Autocorrelation": 0,
          "ID": null
         },
         {
          "Authors (col)": "Liu C.-L. [2]",
          "Authors (row)": "Wang H. [2]",
          "Autocorrelation": 0,
          "ID": null
         },
         {
          "Authors (col)": "Dash P.K. [2]",
          "Authors (row)": "Wang H. [2]",
          "Autocorrelation": 0,
          "ID": null
         },
         {
          "Authors (col)": "Niño J. [2]",
          "Authors (row)": "Wang H. [2]",
          "Autocorrelation": 0,
          "ID": null
         },
         {
          "Authors (col)": "Oosterlee C.W. [2]",
          "Authors (row)": "Wang H. [2]",
          "Autocorrelation": 0,
          "ID": null
         },
         {
          "Authors (col)": "Bu H. [2]",
          "Authors (row)": "Wang H. [2]",
          "Autocorrelation": 0,
          "ID": null
         },
         {
          "Authors (col)": "Xu L. [2]",
          "Authors (row)": "Wang H. [2]",
          "Autocorrelation": 0,
          "ID": null
         },
         {
          "Authors (col)": "Xu J. [2]",
          "Authors (row)": "Wang H. [2]",
          "Autocorrelation": 0,
          "ID": null
         },
         {
          "Authors (col)": "Leon D. [2]",
          "Authors (row)": "Wang H. [2]",
          "Autocorrelation": 0,
          "ID": null
         },
         {
          "Authors (col)": "Gabbouj M. [3]",
          "Authors (row)": "Wang H. [2]",
          "Autocorrelation": 0,
          "ID": null
         },
         {
          "Authors (col)": "Hussain A.J. [3]",
          "Authors (row)": "Wang H. [2]",
          "Autocorrelation": 0,
          "ID": null
         },
         {
          "Authors (col)": "Zhang G. [4]",
          "Authors (row)": "Wang H. [2]",
          "Autocorrelation": 0,
          "ID": null
         },
         {
          "Authors (col)": "Wang J. [7]",
          "Authors (row)": "Wang H. [2]",
          "Autocorrelation": 0,
          "ID": null
         },
         {
          "Authors (col)": "Yan X. [3]",
          "Authors (row)": "Leon D. [2]",
          "Autocorrelation": 0,
          "ID": null
         },
         {
          "Authors (col)": "Tefas A. [3]",
          "Authors (row)": "Leon D. [2]",
          "Autocorrelation": 0,
          "ID": null
         },
         {
          "Authors (col)": "Zhu Y. [3]",
          "Authors (row)": "Leon D. [2]",
          "Autocorrelation": 0,
          "ID": null
         },
         {
          "Authors (col)": "Kanniainen J. [3]",
          "Authors (row)": "Leon D. [2]",
          "Autocorrelation": 0,
          "ID": null
         },
         {
          "Authors (col)": "Passalis N. [3]",
          "Authors (row)": "Leon D. [2]",
          "Autocorrelation": 0,
          "ID": null
         },
         {
          "Authors (col)": "Wu J. [3]",
          "Authors (row)": "Leon D. [2]",
          "Autocorrelation": 0,
          "ID": null
         },
         {
          "Authors (col)": "Chen J. [2]",
          "Authors (row)": "Leon D. [2]",
          "Autocorrelation": 0,
          "ID": null
         },
         {
          "Authors (col)": "Chen Y. [2]",
          "Authors (row)": "Leon D. [2]",
          "Autocorrelation": 0,
          "ID": null
         },
         {
          "Authors (col)": "Lin X. [2]",
          "Authors (row)": "Leon D. [2]",
          "Autocorrelation": 0,
          "ID": null
         },
         {
          "Authors (col)": "Tsantekidis A. [2]",
          "Authors (row)": "Leon D. [2]",
          "Autocorrelation": 0,
          "ID": null
         },
         {
          "Authors (col)": "Tseng V.S. [2]",
          "Authors (row)": "Leon D. [2]",
          "Autocorrelation": 0,
          "ID": null
         },
         {
          "Authors (col)": "Liu C.-L. [2]",
          "Authors (row)": "Leon D. [2]",
          "Autocorrelation": 0,
          "ID": null
         },
         {
          "Authors (col)": "Li Y. [2]",
          "Authors (row)": "Leon D. [2]",
          "Autocorrelation": 0,
          "ID": null
         },
         {
          "Authors (col)": "Dash P.K. [2]",
          "Authors (row)": "Leon D. [2]",
          "Autocorrelation": 0,
          "ID": null
         },
         {
          "Authors (col)": "Gabbouj M. [3]",
          "Authors (row)": "Wang J. [7]",
          "Autocorrelation": 0,
          "ID": null
         },
         {
          "Authors (col)": "Oosterlee C.W. [2]",
          "Authors (row)": "Leon D. [2]",
          "Autocorrelation": 0,
          "ID": null
         },
         {
          "Authors (col)": "Bu H. [2]",
          "Authors (row)": "Leon D. [2]",
          "Autocorrelation": 0,
          "ID": null
         },
         {
          "Authors (col)": "Xu L. [2]",
          "Authors (row)": "Leon D. [2]",
          "Autocorrelation": 0,
          "ID": null
         },
         {
          "Authors (col)": "Xu J. [2]",
          "Authors (row)": "Leon D. [2]",
          "Autocorrelation": 0,
          "ID": null
         },
         {
          "Authors (col)": "Hussain A.J. [3]",
          "Authors (row)": "Wang J. [7]",
          "Autocorrelation": 0,
          "ID": null
         },
         {
          "Authors (col)": "Wang H. [2]",
          "Authors (row)": "Leon D. [2]",
          "Autocorrelation": 0,
          "ID": null
         },
         {
          "Authors (col)": "Wu J. [3]",
          "Authors (row)": "Xu L. [2]",
          "Autocorrelation": 0,
          "ID": null
         },
         {
          "Authors (col)": "Kanniainen J. [3]",
          "Authors (row)": "Xu L. [2]",
          "Autocorrelation": 0,
          "ID": null
         },
         {
          "Authors (col)": "Oosterlee C.W. [2]",
          "Authors (row)": "Dash P.K. [2]",
          "Autocorrelation": 0,
          "ID": null
         },
         {
          "Authors (col)": "Iosifidis A. [3]",
          "Authors (row)": "Oosterlee C.W. [2]",
          "Autocorrelation": 0,
          "ID": null
         },
         {
          "Authors (col)": "Oosterlee C.W. [2]",
          "Authors (row)": "Niño J. [2]",
          "Autocorrelation": 0,
          "ID": null
         },
         {
          "Authors (col)": "Bu H. [2]",
          "Authors (row)": "Niño J. [2]",
          "Autocorrelation": 0,
          "ID": null
         },
         {
          "Authors (col)": "Xu L. [2]",
          "Authors (row)": "Niño J. [2]",
          "Autocorrelation": 0,
          "ID": null
         },
         {
          "Authors (col)": "Xu J. [2]",
          "Authors (row)": "Niño J. [2]",
          "Autocorrelation": 0,
          "ID": null
         },
         {
          "Authors (col)": "Hernandez G. [3]",
          "Authors (row)": "Wang J. [7]",
          "Autocorrelation": 0,
          "ID": null
         },
         {
          "Authors (col)": "Wang H. [2]",
          "Authors (row)": "Niño J. [2]",
          "Autocorrelation": 0,
          "ID": null
         },
         {
          "Authors (col)": "Wang J. [7]",
          "Authors (row)": "Oosterlee C.W. [2]",
          "Autocorrelation": 0,
          "ID": null
         },
         {
          "Authors (col)": "Zhang G. [4]",
          "Authors (row)": "Oosterlee C.W. [2]",
          "Autocorrelation": 0,
          "ID": null
         },
         {
          "Authors (col)": "Hussain A.J. [3]",
          "Authors (row)": "Oosterlee C.W. [2]",
          "Autocorrelation": 0,
          "ID": null
         },
         {
          "Authors (col)": "Gabbouj M. [3]",
          "Authors (row)": "Oosterlee C.W. [2]",
          "Autocorrelation": 0,
          "ID": null
         },
         {
          "Authors (col)": "Zhang Y. [3]",
          "Authors (row)": "Oosterlee C.W. [2]",
          "Autocorrelation": 0,
          "ID": null
         },
         {
          "Authors (col)": "Dash P.K. [2]",
          "Authors (row)": "Niño J. [2]",
          "Autocorrelation": 0,
          "ID": null
         },
         {
          "Authors (col)": "Yan X. [3]",
          "Authors (row)": "Oosterlee C.W. [2]",
          "Autocorrelation": 0,
          "ID": null
         },
         {
          "Authors (col)": "Arévalo A. [3]",
          "Authors (row)": "Oosterlee C.W. [2]",
          "Autocorrelation": 0,
          "ID": null
         },
         {
          "Authors (col)": "Hernandez G. [3]",
          "Authors (row)": "Oosterlee C.W. [2]",
          "Autocorrelation": 0,
          "ID": null
         },
         {
          "Authors (col)": "Tefas A. [3]",
          "Authors (row)": "Oosterlee C.W. [2]",
          "Autocorrelation": 0,
          "ID": null
         },
         {
          "Authors (col)": "Zhu Y. [3]",
          "Authors (row)": "Oosterlee C.W. [2]",
          "Autocorrelation": 0,
          "ID": null
         },
         {
          "Authors (col)": "Kanniainen J. [3]",
          "Authors (row)": "Oosterlee C.W. [2]",
          "Autocorrelation": 0,
          "ID": null
         },
         {
          "Authors (col)": "Passalis N. [3]",
          "Authors (row)": "Oosterlee C.W. [2]",
          "Autocorrelation": 0,
          "ID": null
         },
         {
          "Authors (col)": "Wu J. [3]",
          "Authors (row)": "Oosterlee C.W. [2]",
          "Autocorrelation": 0,
          "ID": null
         },
         {
          "Authors (col)": "Sandoval J. [3]",
          "Authors (row)": "Oosterlee C.W. [2]",
          "Autocorrelation": 0,
          "ID": null
         },
         {
          "Authors (col)": "Chen J. [2]",
          "Authors (row)": "Oosterlee C.W. [2]",
          "Autocorrelation": 0,
          "ID": null
         },
         {
          "Authors (col)": "Tefas A. [3]",
          "Authors (row)": "Wang J. [7]",
          "Autocorrelation": 0,
          "ID": null
         },
         {
          "Authors (col)": "Li Y. [2]",
          "Authors (row)": "Niño J. [2]",
          "Autocorrelation": 0,
          "ID": null
         },
         {
          "Authors (col)": "Zhu Y. [3]",
          "Authors (row)": "Xu L. [2]",
          "Autocorrelation": 0,
          "ID": null
         },
         {
          "Authors (col)": "Zhang Y. [3]",
          "Authors (row)": "Niño J. [2]",
          "Autocorrelation": 0,
          "ID": null
         },
         {
          "Authors (col)": "Bu H. [2]",
          "Authors (row)": "Dash P.K. [2]",
          "Autocorrelation": 0,
          "ID": null
         },
         {
          "Authors (col)": "Xu L. [2]",
          "Authors (row)": "Dash P.K. [2]",
          "Autocorrelation": 0,
          "ID": null
         },
         {
          "Authors (col)": "Xu J. [2]",
          "Authors (row)": "Dash P.K. [2]",
          "Autocorrelation": 0,
          "ID": null
         },
         {
          "Authors (col)": "Leon D. [2]",
          "Authors (row)": "Dash P.K. [2]",
          "Autocorrelation": 0,
          "ID": null
         },
         {
          "Authors (col)": "Wang H. [2]",
          "Authors (row)": "Dash P.K. [2]",
          "Autocorrelation": 0,
          "ID": null
         },
         {
          "Authors (col)": "Wang J. [7]",
          "Authors (row)": "Niño J. [2]",
          "Autocorrelation": 0,
          "ID": null
         },
         {
          "Authors (col)": "Zhang G. [4]",
          "Authors (row)": "Niño J. [2]",
          "Autocorrelation": 0,
          "ID": null
         },
         {
          "Authors (col)": "Hussain A.J. [3]",
          "Authors (row)": "Niño J. [2]",
          "Autocorrelation": 0,
          "ID": null
         },
         {
          "Authors (col)": "Kanniainen J. [3]",
          "Authors (row)": "Chen Y. [2]",
          "Autocorrelation": 0,
          "ID": null
         },
         {
          "Authors (col)": "Iosifidis A. [3]",
          "Authors (row)": "Niño J. [2]",
          "Autocorrelation": 0,
          "ID": null
         },
         {
          "Authors (col)": "Yan X. [3]",
          "Authors (row)": "Niño J. [2]",
          "Autocorrelation": 0,
          "ID": null
         },
         {
          "Authors (col)": "Liu C.-L. [2]",
          "Authors (row)": "Niño J. [2]",
          "Autocorrelation": 0,
          "ID": null
         },
         {
          "Authors (col)": "Tefas A. [3]",
          "Authors (row)": "Niño J. [2]",
          "Autocorrelation": 0,
          "ID": null
         },
         {
          "Authors (col)": "Zhu Y. [3]",
          "Authors (row)": "Niño J. [2]",
          "Autocorrelation": 0,
          "ID": null
         },
         {
          "Authors (col)": "Kanniainen J. [3]",
          "Authors (row)": "Niño J. [2]",
          "Autocorrelation": 0,
          "ID": null
         },
         {
          "Authors (col)": "Passalis N. [3]",
          "Authors (row)": "Niño J. [2]",
          "Autocorrelation": 0,
          "ID": null
         },
         {
          "Authors (col)": "Wu J. [3]",
          "Authors (row)": "Niño J. [2]",
          "Autocorrelation": 0,
          "ID": null
         },
         {
          "Authors (col)": "Chen J. [2]",
          "Authors (row)": "Niño J. [2]",
          "Autocorrelation": 0,
          "ID": null
         },
         {
          "Authors (col)": "Chen Y. [2]",
          "Authors (row)": "Niño J. [2]",
          "Autocorrelation": 0,
          "ID": null
         },
         {
          "Authors (col)": "Lin X. [2]",
          "Authors (row)": "Niño J. [2]",
          "Autocorrelation": 0,
          "ID": null
         },
         {
          "Authors (col)": "Tsantekidis A. [2]",
          "Authors (row)": "Niño J. [2]",
          "Autocorrelation": 0,
          "ID": null
         },
         {
          "Authors (col)": "Tseng V.S. [2]",
          "Authors (row)": "Niño J. [2]",
          "Autocorrelation": 0,
          "ID": null
         },
         {
          "Authors (col)": "Chen Y. [2]",
          "Authors (row)": "Oosterlee C.W. [2]",
          "Autocorrelation": 0,
          "ID": null
         },
         {
          "Authors (col)": "Lin X. [2]",
          "Authors (row)": "Oosterlee C.W. [2]",
          "Autocorrelation": 0,
          "ID": null
         },
         {
          "Authors (col)": "Tsantekidis A. [2]",
          "Authors (row)": "Oosterlee C.W. [2]",
          "Autocorrelation": 0,
          "ID": null
         },
         {
          "Authors (col)": "Xu J. [2]",
          "Authors (row)": "Bu H. [2]",
          "Autocorrelation": 0,
          "ID": null
         },
         {
          "Authors (col)": "Lin X. [2]",
          "Authors (row)": "Bu H. [2]",
          "Autocorrelation": 0,
          "ID": null
         },
         {
          "Authors (col)": "Tsantekidis A. [2]",
          "Authors (row)": "Bu H. [2]",
          "Autocorrelation": 0,
          "ID": null
         },
         {
          "Authors (col)": "Tseng V.S. [2]",
          "Authors (row)": "Bu H. [2]",
          "Autocorrelation": 0,
          "ID": null
         },
         {
          "Authors (col)": "Liu C.-L. [2]",
          "Authors (row)": "Bu H. [2]",
          "Autocorrelation": 0,
          "ID": null
         },
         {
          "Authors (col)": "Li Y. [2]",
          "Authors (row)": "Bu H. [2]",
          "Autocorrelation": 0,
          "ID": null
         },
         {
          "Authors (col)": "Dash P.K. [2]",
          "Authors (row)": "Bu H. [2]",
          "Autocorrelation": 0,
          "ID": null
         },
         {
          "Authors (col)": "Niño J. [2]",
          "Authors (row)": "Bu H. [2]",
          "Autocorrelation": 0,
          "ID": null
         },
         {
          "Authors (col)": "Oosterlee C.W. [2]",
          "Authors (row)": "Bu H. [2]",
          "Autocorrelation": 0,
          "ID": null
         },
         {
          "Authors (col)": "Yan X. [3]",
          "Authors (row)": "Wang J. [7]",
          "Autocorrelation": 0,
          "ID": null
         },
         {
          "Authors (col)": "Xu L. [2]",
          "Authors (row)": "Bu H. [2]",
          "Autocorrelation": 0,
          "ID": null
         },
         {
          "Authors (col)": "Leon D. [2]",
          "Authors (row)": "Bu H. [2]",
          "Autocorrelation": 0,
          "ID": null
         },
         {
          "Authors (col)": "Tseng V.S. [2]",
          "Authors (row)": "Oosterlee C.W. [2]",
          "Autocorrelation": 0,
          "ID": null
         },
         {
          "Authors (col)": "Wang H. [2]",
          "Authors (row)": "Bu H. [2]",
          "Autocorrelation": 0,
          "ID": null
         },
         {
          "Authors (col)": "Wang J. [7]",
          "Authors (row)": "Xu L. [2]",
          "Autocorrelation": 0,
          "ID": null
         },
         {
          "Authors (col)": "Hussain A.J. [3]",
          "Authors (row)": "Xu L. [2]",
          "Autocorrelation": 0,
          "ID": null
         },
         {
          "Authors (col)": "Gabbouj M. [3]",
          "Authors (row)": "Xu L. [2]",
          "Autocorrelation": 0,
          "ID": null
         },
         {
          "Authors (col)": "Iosifidis A. [3]",
          "Authors (row)": "Xu L. [2]",
          "Autocorrelation": 0,
          "ID": null
         },
         {
          "Authors (col)": "Zhang Y. [3]",
          "Authors (row)": "Xu L. [2]",
          "Autocorrelation": 0,
          "ID": null
         },
         {
          "Authors (col)": "Yan X. [3]",
          "Authors (row)": "Xu L. [2]",
          "Autocorrelation": 0,
          "ID": null
         },
         {
          "Authors (col)": "Arévalo A. [3]",
          "Authors (row)": "Xu L. [2]",
          "Autocorrelation": 0,
          "ID": null
         },
         {
          "Authors (col)": "Hernandez G. [3]",
          "Authors (row)": "Xu L. [2]",
          "Autocorrelation": 0,
          "ID": null
         },
         {
          "Authors (col)": "Tefas A. [3]",
          "Authors (row)": "Xu L. [2]",
          "Autocorrelation": 0,
          "ID": null
         },
         {
          "Authors (col)": "Chen J. [2]",
          "Authors (row)": "Bu H. [2]",
          "Autocorrelation": 0,
          "ID": null
         },
         {
          "Authors (col)": "Sandoval J. [3]",
          "Authors (row)": "Bu H. [2]",
          "Autocorrelation": 0,
          "ID": null
         },
         {
          "Authors (col)": "Passalis N. [3]",
          "Authors (row)": "Bu H. [2]",
          "Autocorrelation": 0,
          "ID": null
         },
         {
          "Authors (col)": "Kanniainen J. [3]",
          "Authors (row)": "Bu H. [2]",
          "Autocorrelation": 0,
          "ID": null
         },
         {
          "Authors (col)": "Liu C.-L. [2]",
          "Authors (row)": "Oosterlee C.W. [2]",
          "Autocorrelation": 0,
          "ID": null
         },
         {
          "Authors (col)": "Li Y. [2]",
          "Authors (row)": "Oosterlee C.W. [2]",
          "Autocorrelation": 0,
          "ID": null
         },
         {
          "Authors (col)": "Dash P.K. [2]",
          "Authors (row)": "Oosterlee C.W. [2]",
          "Autocorrelation": 0,
          "ID": null
         },
         {
          "Authors (col)": "Niño J. [2]",
          "Authors (row)": "Oosterlee C.W. [2]",
          "Autocorrelation": 0,
          "ID": null
         },
         {
          "Authors (col)": "Arévalo A. [3]",
          "Authors (row)": "Wang J. [7]",
          "Autocorrelation": 0,
          "ID": null
         },
         {
          "Authors (col)": "Bu H. [2]",
          "Authors (row)": "Oosterlee C.W. [2]",
          "Autocorrelation": 0,
          "ID": null
         },
         {
          "Authors (col)": "Xu L. [2]",
          "Authors (row)": "Oosterlee C.W. [2]",
          "Autocorrelation": 0,
          "ID": null
         },
         {
          "Authors (col)": "Xu J. [2]",
          "Authors (row)": "Oosterlee C.W. [2]",
          "Autocorrelation": 0,
          "ID": null
         },
         {
          "Authors (col)": "Leon D. [2]",
          "Authors (row)": "Oosterlee C.W. [2]",
          "Autocorrelation": 0,
          "ID": null
         },
         {
          "Authors (col)": "Wang H. [2]",
          "Authors (row)": "Oosterlee C.W. [2]",
          "Autocorrelation": 0,
          "ID": null
         },
         {
          "Authors (col)": "Wang J. [7]",
          "Authors (row)": "Bu H. [2]",
          "Autocorrelation": 0,
          "ID": null
         },
         {
          "Authors (col)": "Zhang G. [4]",
          "Authors (row)": "Bu H. [2]",
          "Autocorrelation": 0,
          "ID": null
         },
         {
          "Authors (col)": "Hussain A.J. [3]",
          "Authors (row)": "Bu H. [2]",
          "Autocorrelation": 0,
          "ID": null
         },
         {
          "Authors (col)": "Gabbouj M. [3]",
          "Authors (row)": "Bu H. [2]",
          "Autocorrelation": 0,
          "ID": null
         },
         {
          "Authors (col)": "Iosifidis A. [3]",
          "Authors (row)": "Bu H. [2]",
          "Autocorrelation": 0,
          "ID": null
         },
         {
          "Authors (col)": "Zhang Y. [3]",
          "Authors (row)": "Bu H. [2]",
          "Autocorrelation": 0,
          "ID": null
         },
         {
          "Authors (col)": "Yan X. [3]",
          "Authors (row)": "Bu H. [2]",
          "Autocorrelation": 0,
          "ID": null
         },
         {
          "Authors (col)": "Arévalo A. [3]",
          "Authors (row)": "Bu H. [2]",
          "Autocorrelation": 0,
          "ID": null
         },
         {
          "Authors (col)": "Hernandez G. [3]",
          "Authors (row)": "Bu H. [2]",
          "Autocorrelation": 0,
          "ID": null
         },
         {
          "Authors (col)": "Tefas A. [3]",
          "Authors (row)": "Bu H. [2]",
          "Autocorrelation": 0,
          "ID": null
         },
         {
          "Authors (col)": "Zhu Y. [3]",
          "Authors (row)": "Bu H. [2]",
          "Autocorrelation": 0,
          "ID": null
         },
         {
          "Authors (col)": "Passalis N. [3]",
          "Authors (row)": "Chen Y. [2]",
          "Autocorrelation": 0,
          "ID": null
         },
         {
          "Authors (col)": "Wang H. [2]",
          "Authors (row)": "Zhang G. [4]",
          "Autocorrelation": 0,
          "ID": null
         },
         {
          "Authors (col)": "Zhu Y. [3]",
          "Authors (row)": "Chen Y. [2]",
          "Autocorrelation": 0,
          "ID": null
         },
         {
          "Authors (col)": "Dash P.K. [2]",
          "Authors (row)": "Yan X. [3]",
          "Autocorrelation": 0,
          "ID": null
         },
         {
          "Authors (col)": "Passalis N. [3]",
          "Authors (row)": "Yan X. [3]",
          "Autocorrelation": 0,
          "ID": null
         },
         {
          "Authors (col)": "Wu J. [3]",
          "Authors (row)": "Yan X. [3]",
          "Autocorrelation": 0,
          "ID": null
         },
         {
          "Authors (col)": "Sandoval J. [3]",
          "Authors (row)": "Yan X. [3]",
          "Autocorrelation": 0,
          "ID": null
         },
         {
          "Authors (col)": "Chen J. [2]",
          "Authors (row)": "Yan X. [3]",
          "Autocorrelation": 0,
          "ID": null
         },
         {
          "Authors (col)": "Chen Y. [2]",
          "Authors (row)": "Yan X. [3]",
          "Autocorrelation": 0,
          "ID": null
         },
         {
          "Authors (col)": "Lin X. [2]",
          "Authors (row)": "Yan X. [3]",
          "Autocorrelation": 0,
          "ID": null
         },
         {
          "Authors (col)": "Tsantekidis A. [2]",
          "Authors (row)": "Yan X. [3]",
          "Autocorrelation": 0,
          "ID": null
         },
         {
          "Authors (col)": "Tseng V.S. [2]",
          "Authors (row)": "Yan X. [3]",
          "Autocorrelation": 0,
          "ID": null
         },
         {
          "Authors (col)": "Liu C.-L. [2]",
          "Authors (row)": "Yan X. [3]",
          "Autocorrelation": 0,
          "ID": null
         },
         {
          "Authors (col)": "Li Y. [2]",
          "Authors (row)": "Yan X. [3]",
          "Autocorrelation": 0,
          "ID": null
         },
         {
          "Authors (col)": "Niño J. [2]",
          "Authors (row)": "Yan X. [3]",
          "Autocorrelation": 0,
          "ID": null
         },
         {
          "Authors (col)": "Zhu Y. [3]",
          "Authors (row)": "Yan X. [3]",
          "Autocorrelation": 0,
          "ID": null
         },
         {
          "Authors (col)": "Oosterlee C.W. [2]",
          "Authors (row)": "Yan X. [3]",
          "Autocorrelation": 0,
          "ID": null
         },
         {
          "Authors (col)": "Bu H. [2]",
          "Authors (row)": "Yan X. [3]",
          "Autocorrelation": 0,
          "ID": null
         },
         {
          "Authors (col)": "Xu L. [2]",
          "Authors (row)": "Yan X. [3]",
          "Autocorrelation": 0,
          "ID": null
         },
         {
          "Authors (col)": "Xu J. [2]",
          "Authors (row)": "Yan X. [3]",
          "Autocorrelation": 0,
          "ID": null
         },
         {
          "Authors (col)": "Leon D. [2]",
          "Authors (row)": "Yan X. [3]",
          "Autocorrelation": 0,
          "ID": null
         },
         {
          "Authors (col)": "Wang H. [2]",
          "Authors (row)": "Yan X. [3]",
          "Autocorrelation": 0,
          "ID": null
         },
         {
          "Authors (col)": "Wang J. [7]",
          "Authors (row)": "Arévalo A. [3]",
          "Autocorrelation": 0,
          "ID": null
         },
         {
          "Authors (col)": "Zhang G. [4]",
          "Authors (row)": "Arévalo A. [3]",
          "Autocorrelation": 0,
          "ID": null
         },
         {
          "Authors (col)": "Hussain A.J. [3]",
          "Authors (row)": "Arévalo A. [3]",
          "Autocorrelation": 0,
          "ID": null
         },
         {
          "Authors (col)": "Gabbouj M. [3]",
          "Authors (row)": "Arévalo A. [3]",
          "Autocorrelation": 0,
          "ID": null
         },
         {
          "Authors (col)": "Kanniainen J. [3]",
          "Authors (row)": "Yan X. [3]",
          "Autocorrelation": 0,
          "ID": null
         },
         {
          "Authors (col)": "Tefas A. [3]",
          "Authors (row)": "Yan X. [3]",
          "Autocorrelation": 0,
          "ID": null
         },
         {
          "Authors (col)": "Zhang G. [4]",
          "Authors (row)": "Tefas A. [3]",
          "Autocorrelation": 0,
          "ID": null
         },
         {
          "Authors (col)": "Xu L. [2]",
          "Authors (row)": "Zhang Y. [3]",
          "Autocorrelation": 0,
          "ID": null
         },
         {
          "Authors (col)": "Chen Y. [2]",
          "Authors (row)": "Zhang Y. [3]",
          "Autocorrelation": 0,
          "ID": null
         },
         {
          "Authors (col)": "Lin X. [2]",
          "Authors (row)": "Zhang Y. [3]",
          "Autocorrelation": 0,
          "ID": null
         },
         {
          "Authors (col)": "Tsantekidis A. [2]",
          "Authors (row)": "Zhang Y. [3]",
          "Autocorrelation": 0,
          "ID": null
         },
         {
          "Authors (col)": "Tseng V.S. [2]",
          "Authors (row)": "Zhang Y. [3]",
          "Autocorrelation": 0,
          "ID": null
         },
         {
          "Authors (col)": "Liu C.-L. [2]",
          "Authors (row)": "Zhang Y. [3]",
          "Autocorrelation": 0,
          "ID": null
         },
         {
          "Authors (col)": "Li Y. [2]",
          "Authors (row)": "Zhang Y. [3]",
          "Autocorrelation": 0,
          "ID": null
         },
         {
          "Authors (col)": "Dash P.K. [2]",
          "Authors (row)": "Zhang Y. [3]",
          "Autocorrelation": 0,
          "ID": null
         },
         {
          "Authors (col)": "Niño J. [2]",
          "Authors (row)": "Zhang Y. [3]",
          "Autocorrelation": 0,
          "ID": null
         },
         {
          "Authors (col)": "Oosterlee C.W. [2]",
          "Authors (row)": "Zhang Y. [3]",
          "Autocorrelation": 0,
          "ID": null
         },
         {
          "Authors (col)": "Bu H. [2]",
          "Authors (row)": "Zhang Y. [3]",
          "Autocorrelation": 0,
          "ID": null
         },
         {
          "Authors (col)": "Xu J. [2]",
          "Authors (row)": "Zhang Y. [3]",
          "Autocorrelation": 0,
          "ID": null
         },
         {
          "Authors (col)": "Hernandez G. [3]",
          "Authors (row)": "Yan X. [3]",
          "Autocorrelation": 0,
          "ID": null
         },
         {
          "Authors (col)": "Leon D. [2]",
          "Authors (row)": "Zhang Y. [3]",
          "Autocorrelation": 0,
          "ID": null
         },
         {
          "Authors (col)": "Wang H. [2]",
          "Authors (row)": "Zhang Y. [3]",
          "Autocorrelation": 0,
          "ID": null
         },
         {
          "Authors (col)": "Wang J. [7]",
          "Authors (row)": "Yan X. [3]",
          "Autocorrelation": 0,
          "ID": null
         },
         {
          "Authors (col)": "Zhang G. [4]",
          "Authors (row)": "Yan X. [3]",
          "Autocorrelation": 0,
          "ID": null
         },
         {
          "Authors (col)": "Hussain A.J. [3]",
          "Authors (row)": "Yan X. [3]",
          "Autocorrelation": 0,
          "ID": null
         },
         {
          "Authors (col)": "Gabbouj M. [3]",
          "Authors (row)": "Yan X. [3]",
          "Autocorrelation": 0,
          "ID": null
         },
         {
          "Authors (col)": "Iosifidis A. [3]",
          "Authors (row)": "Yan X. [3]",
          "Autocorrelation": 0,
          "ID": null
         },
         {
          "Authors (col)": "Zhang Y. [3]",
          "Authors (row)": "Yan X. [3]",
          "Autocorrelation": 0,
          "ID": null
         },
         {
          "Authors (col)": "Chen Y. [2]",
          "Authors (row)": "Zhang G. [4]",
          "Autocorrelation": 0,
          "ID": null
         },
         {
          "Authors (col)": "Arévalo A. [3]",
          "Authors (row)": "Yan X. [3]",
          "Autocorrelation": 0,
          "ID": null
         },
         {
          "Authors (col)": "Iosifidis A. [3]",
          "Authors (row)": "Arévalo A. [3]",
          "Autocorrelation": 0,
          "ID": null
         },
         {
          "Authors (col)": "Zhang Y. [3]",
          "Authors (row)": "Arévalo A. [3]",
          "Autocorrelation": 0,
          "ID": null
         },
         {
          "Authors (col)": "Yan X. [3]",
          "Authors (row)": "Arévalo A. [3]",
          "Autocorrelation": 0,
          "ID": null
         },
         {
          "Authors (col)": "Chen Y. [2]",
          "Authors (row)": "Hernandez G. [3]",
          "Autocorrelation": 0,
          "ID": null
         },
         {
          "Authors (col)": "Zhang Y. [3]",
          "Authors (row)": "Hernandez G. [3]",
          "Autocorrelation": 0,
          "ID": null
         },
         {
          "Authors (col)": "Yan X. [3]",
          "Authors (row)": "Hernandez G. [3]",
          "Autocorrelation": 0,
          "ID": null
         },
         {
          "Authors (col)": "Passalis N. [3]",
          "Authors (row)": "Zhang G. [4]",
          "Autocorrelation": 0,
          "ID": null
         },
         {
          "Authors (col)": "Kanniainen J. [3]",
          "Authors (row)": "Zhang G. [4]",
          "Autocorrelation": 0,
          "ID": null
         },
         {
          "Authors (col)": "Tefas A. [3]",
          "Authors (row)": "Hernandez G. [3]",
          "Autocorrelation": 0,
          "ID": null
         },
         {
          "Authors (col)": "Zhu Y. [3]",
          "Authors (row)": "Hernandez G. [3]",
          "Autocorrelation": 0,
          "ID": null
         },
         {
          "Authors (col)": "Kanniainen J. [3]",
          "Authors (row)": "Hernandez G. [3]",
          "Autocorrelation": 0,
          "ID": null
         },
         {
          "Authors (col)": "Passalis N. [3]",
          "Authors (row)": "Hernandez G. [3]",
          "Autocorrelation": 0,
          "ID": null
         },
         {
          "Authors (col)": "Wu J. [3]",
          "Authors (row)": "Hernandez G. [3]",
          "Autocorrelation": 0,
          "ID": null
         },
         {
          "Authors (col)": "Chen J. [2]",
          "Authors (row)": "Hernandez G. [3]",
          "Autocorrelation": 0,
          "ID": null
         },
         {
          "Authors (col)": "Lin X. [2]",
          "Authors (row)": "Hernandez G. [3]",
          "Autocorrelation": 0,
          "ID": null
         },
         {
          "Authors (col)": "Chen J. [2]",
          "Authors (row)": "Zhang G. [4]",
          "Autocorrelation": 0,
          "ID": null
         },
         {
          "Authors (col)": "Tsantekidis A. [2]",
          "Authors (row)": "Hernandez G. [3]",
          "Autocorrelation": 0,
          "ID": null
         },
         {
          "Authors (col)": "Tseng V.S. [2]",
          "Authors (row)": "Hernandez G. [3]",
          "Autocorrelation": 0,
          "ID": null
         },
         {
          "Authors (col)": "Liu C.-L. [2]",
          "Authors (row)": "Hernandez G. [3]",
          "Autocorrelation": 0,
          "ID": null
         },
         {
          "Authors (col)": "Li Y. [2]",
          "Authors (row)": "Hernandez G. [3]",
          "Autocorrelation": 0,
          "ID": null
         },
         {
          "Authors (col)": "Dash P.K. [2]",
          "Authors (row)": "Hernandez G. [3]",
          "Autocorrelation": 0,
          "ID": null
         },
         {
          "Authors (col)": "Oosterlee C.W. [2]",
          "Authors (row)": "Hernandez G. [3]",
          "Autocorrelation": 0,
          "ID": null
         },
         {
          "Authors (col)": "Bu H. [2]",
          "Authors (row)": "Hernandez G. [3]",
          "Autocorrelation": 0,
          "ID": null
         },
         {
          "Authors (col)": "Xu L. [2]",
          "Authors (row)": "Hernandez G. [3]",
          "Autocorrelation": 0,
          "ID": null
         },
         {
          "Authors (col)": "Xu J. [2]",
          "Authors (row)": "Hernandez G. [3]",
          "Autocorrelation": 0,
          "ID": null
         },
         {
          "Authors (col)": "Wang H. [2]",
          "Authors (row)": "Hernandez G. [3]",
          "Autocorrelation": 0,
          "ID": null
         },
         {
          "Authors (col)": "Iosifidis A. [3]",
          "Authors (row)": "Hernandez G. [3]",
          "Autocorrelation": 0,
          "ID": null
         },
         {
          "Authors (col)": "Gabbouj M. [3]",
          "Authors (row)": "Hernandez G. [3]",
          "Autocorrelation": 0,
          "ID": null
         },
         {
          "Authors (col)": "Hussain A.J. [3]",
          "Authors (row)": "Hernandez G. [3]",
          "Autocorrelation": 0,
          "ID": null
         },
         {
          "Authors (col)": "Zhang G. [4]",
          "Authors (row)": "Hernandez G. [3]",
          "Autocorrelation": 0,
          "ID": null
         },
         {
          "Authors (col)": "Sandoval J. [3]",
          "Authors (row)": "Zhang G. [4]",
          "Autocorrelation": 0,
          "ID": null
         },
         {
          "Authors (col)": "Tefas A. [3]",
          "Authors (row)": "Arévalo A. [3]",
          "Autocorrelation": 0,
          "ID": null
         },
         {
          "Authors (col)": "Zhu Y. [3]",
          "Authors (row)": "Arévalo A. [3]",
          "Autocorrelation": 0,
          "ID": null
         },
         {
          "Authors (col)": "Kanniainen J. [3]",
          "Authors (row)": "Arévalo A. [3]",
          "Autocorrelation": 0,
          "ID": null
         },
         {
          "Authors (col)": "Passalis N. [3]",
          "Authors (row)": "Arévalo A. [3]",
          "Autocorrelation": 0,
          "ID": null
         },
         {
          "Authors (col)": "Wu J. [3]",
          "Authors (row)": "Arévalo A. [3]",
          "Autocorrelation": 0,
          "ID": null
         },
         {
          "Authors (col)": "Wu J. [3]",
          "Authors (row)": "Zhang G. [4]",
          "Autocorrelation": 0,
          "ID": null
         },
         {
          "Authors (col)": "Chen J. [2]",
          "Authors (row)": "Arévalo A. [3]",
          "Autocorrelation": 0,
          "ID": null
         },
         {
          "Authors (col)": "Chen Y. [2]",
          "Authors (row)": "Arévalo A. [3]",
          "Autocorrelation": 0,
          "ID": null
         },
         {
          "Authors (col)": "Lin X. [2]",
          "Authors (row)": "Arévalo A. [3]",
          "Autocorrelation": 0,
          "ID": null
         },
         {
          "Authors (col)": "Tsantekidis A. [2]",
          "Authors (row)": "Arévalo A. [3]",
          "Autocorrelation": 0,
          "ID": null
         },
         {
          "Authors (col)": "Tseng V.S. [2]",
          "Authors (row)": "Arévalo A. [3]",
          "Autocorrelation": 0,
          "ID": null
         },
         {
          "Authors (col)": "Liu C.-L. [2]",
          "Authors (row)": "Arévalo A. [3]",
          "Autocorrelation": 0,
          "ID": null
         },
         {
          "Authors (col)": "Li Y. [2]",
          "Authors (row)": "Arévalo A. [3]",
          "Autocorrelation": 0,
          "ID": null
         },
         {
          "Authors (col)": "Dash P.K. [2]",
          "Authors (row)": "Arévalo A. [3]",
          "Autocorrelation": 0,
          "ID": null
         },
         {
          "Authors (col)": "Oosterlee C.W. [2]",
          "Authors (row)": "Arévalo A. [3]",
          "Autocorrelation": 0,
          "ID": null
         },
         {
          "Authors (col)": "Bu H. [2]",
          "Authors (row)": "Arévalo A. [3]",
          "Autocorrelation": 0,
          "ID": null
         },
         {
          "Authors (col)": "Xu L. [2]",
          "Authors (row)": "Arévalo A. [3]",
          "Autocorrelation": 0,
          "ID": null
         },
         {
          "Authors (col)": "Xu J. [2]",
          "Authors (row)": "Arévalo A. [3]",
          "Autocorrelation": 0,
          "ID": null
         },
         {
          "Authors (col)": "Wang H. [2]",
          "Authors (row)": "Arévalo A. [3]",
          "Autocorrelation": 0,
          "ID": null
         },
         {
          "Authors (col)": "Wang J. [7]",
          "Authors (row)": "Hernandez G. [3]",
          "Autocorrelation": 0,
          "ID": null
         },
         {
          "Authors (col)": "Chen J. [2]",
          "Authors (row)": "Zhang Y. [3]",
          "Autocorrelation": 0,
          "ID": null
         },
         {
          "Authors (col)": "Sandoval J. [3]",
          "Authors (row)": "Zhang Y. [3]",
          "Autocorrelation": 0,
          "ID": null
         },
         {
          "Authors (col)": "Wu J. [3]",
          "Authors (row)": "Zhang Y. [3]",
          "Autocorrelation": 0,
          "ID": null
         },
         {
          "Authors (col)": "Arévalo A. [3]",
          "Authors (row)": "Gabbouj M. [3]",
          "Autocorrelation": 0,
          "ID": null
         },
         {
          "Authors (col)": "Xu L. [2]",
          "Authors (row)": "Hussain A.J. [3]",
          "Autocorrelation": 0,
          "ID": null
         },
         {
          "Authors (col)": "Xu J. [2]",
          "Authors (row)": "Hussain A.J. [3]",
          "Autocorrelation": 0,
          "ID": null
         },
         {
          "Authors (col)": "Leon D. [2]",
          "Authors (row)": "Hussain A.J. [3]",
          "Autocorrelation": 0,
          "ID": null
         },
         {
          "Authors (col)": "Wang H. [2]",
          "Authors (row)": "Hussain A.J. [3]",
          "Autocorrelation": 0,
          "ID": null
         },
         {
          "Authors (col)": "Wang J. [7]",
          "Authors (row)": "Gabbouj M. [3]",
          "Autocorrelation": 0,
          "ID": null
         },
         {
          "Authors (col)": "Zhang G. [4]",
          "Authors (row)": "Gabbouj M. [3]",
          "Autocorrelation": 0,
          "ID": null
         },
         {
          "Authors (col)": "Hussain A.J. [3]",
          "Authors (row)": "Gabbouj M. [3]",
          "Autocorrelation": 0,
          "ID": null
         },
         {
          "Authors (col)": "Xu J. [2]",
          "Authors (row)": "Zhang G. [4]",
          "Autocorrelation": 0,
          "ID": null
         },
         {
          "Authors (col)": "Zhang Y. [3]",
          "Authors (row)": "Gabbouj M. [3]",
          "Autocorrelation": 0,
          "ID": null
         },
         {
          "Authors (col)": "Yan X. [3]",
          "Authors (row)": "Gabbouj M. [3]",
          "Autocorrelation": 0,
          "ID": null
         },
         {
          "Authors (col)": "Hernandez G. [3]",
          "Authors (row)": "Gabbouj M. [3]",
          "Autocorrelation": 0,
          "ID": null
         },
         {
          "Authors (col)": "Li Y. [2]",
          "Authors (row)": "Gabbouj M. [3]",
          "Autocorrelation": 0,
          "ID": null
         },
         {
          "Authors (col)": "Bu H. [2]",
          "Authors (row)": "Zhang G. [4]",
          "Autocorrelation": 0,
          "ID": null
         },
         {
          "Authors (col)": "Zhu Y. [3]",
          "Authors (row)": "Gabbouj M. [3]",
          "Autocorrelation": 0,
          "ID": null
         },
         {
          "Authors (col)": "Oosterlee C.W. [2]",
          "Authors (row)": "Zhang G. [4]",
          "Autocorrelation": 0,
          "ID": null
         },
         {
          "Authors (col)": "Niño J. [2]",
          "Authors (row)": "Zhang G. [4]",
          "Autocorrelation": 0,
          "ID": null
         },
         {
          "Authors (col)": "Wu J. [3]",
          "Authors (row)": "Gabbouj M. [3]",
          "Autocorrelation": 0,
          "ID": null
         },
         {
          "Authors (col)": "Sandoval J. [3]",
          "Authors (row)": "Gabbouj M. [3]",
          "Autocorrelation": 0,
          "ID": null
         },
         {
          "Authors (col)": "Chen J. [2]",
          "Authors (row)": "Gabbouj M. [3]",
          "Autocorrelation": 0,
          "ID": null
         },
         {
          "Authors (col)": "Chen Y. [2]",
          "Authors (row)": "Gabbouj M. [3]",
          "Autocorrelation": 0,
          "ID": null
         },
         {
          "Authors (col)": "Lin X. [2]",
          "Authors (row)": "Gabbouj M. [3]",
          "Autocorrelation": 0,
          "ID": null
         },
         {
          "Authors (col)": "Tseng V.S. [2]",
          "Authors (row)": "Gabbouj M. [3]",
          "Autocorrelation": 0,
          "ID": null
         },
         {
          "Authors (col)": "Bu H. [2]",
          "Authors (row)": "Hussain A.J. [3]",
          "Autocorrelation": 0,
          "ID": null
         },
         {
          "Authors (col)": "Oosterlee C.W. [2]",
          "Authors (row)": "Hussain A.J. [3]",
          "Autocorrelation": 0,
          "ID": null
         },
         {
          "Authors (col)": "Niño J. [2]",
          "Authors (row)": "Hussain A.J. [3]",
          "Autocorrelation": 0,
          "ID": null
         },
         {
          "Authors (col)": "Dash P.K. [2]",
          "Authors (row)": "Hussain A.J. [3]",
          "Autocorrelation": 0,
          "ID": null
         },
         {
          "Authors (col)": "Zhang G. [4]",
          "Authors (row)": "Hussain A.J. [3]",
          "Autocorrelation": 0,
          "ID": null
         },
         {
          "Authors (col)": "Leon D. [2]",
          "Authors (row)": "Zhang G. [4]",
          "Autocorrelation": 0,
          "ID": null
         },
         {
          "Authors (col)": "Gabbouj M. [3]",
          "Authors (row)": "Hussain A.J. [3]",
          "Autocorrelation": 0,
          "ID": null
         },
         {
          "Authors (col)": "Iosifidis A. [3]",
          "Authors (row)": "Hussain A.J. [3]",
          "Autocorrelation": 0,
          "ID": null
         },
         {
          "Authors (col)": "Zhang Y. [3]",
          "Authors (row)": "Hussain A.J. [3]",
          "Autocorrelation": 0,
          "ID": null
         },
         {
          "Authors (col)": "Yan X. [3]",
          "Authors (row)": "Hussain A.J. [3]",
          "Autocorrelation": 0,
          "ID": null
         },
         {
          "Authors (col)": "Arévalo A. [3]",
          "Authors (row)": "Hussain A.J. [3]",
          "Autocorrelation": 0,
          "ID": null
         },
         {
          "Authors (col)": "Hernandez G. [3]",
          "Authors (row)": "Hussain A.J. [3]",
          "Autocorrelation": 0,
          "ID": null
         },
         {
          "Authors (col)": "Tefas A. [3]",
          "Authors (row)": "Hussain A.J. [3]",
          "Autocorrelation": 0,
          "ID": null
         },
         {
          "Authors (col)": "Zhu Y. [3]",
          "Authors (row)": "Hussain A.J. [3]",
          "Autocorrelation": 0,
          "ID": null
         },
         {
          "Authors (col)": "Kanniainen J. [3]",
          "Authors (row)": "Hussain A.J. [3]",
          "Autocorrelation": 0,
          "ID": null
         },
         {
          "Authors (col)": "Passalis N. [3]",
          "Authors (row)": "Hussain A.J. [3]",
          "Autocorrelation": 0,
          "ID": null
         },
         {
          "Authors (col)": "Wu J. [3]",
          "Authors (row)": "Hussain A.J. [3]",
          "Autocorrelation": 0,
          "ID": null
         },
         {
          "Authors (col)": "Sandoval J. [3]",
          "Authors (row)": "Hussain A.J. [3]",
          "Autocorrelation": 0,
          "ID": null
         },
         {
          "Authors (col)": "Chen J. [2]",
          "Authors (row)": "Hussain A.J. [3]",
          "Autocorrelation": 0,
          "ID": null
         },
         {
          "Authors (col)": "Chen Y. [2]",
          "Authors (row)": "Hussain A.J. [3]",
          "Autocorrelation": 0,
          "ID": null
         },
         {
          "Authors (col)": "Lin X. [2]",
          "Authors (row)": "Hussain A.J. [3]",
          "Autocorrelation": 0,
          "ID": null
         },
         {
          "Authors (col)": "Tsantekidis A. [2]",
          "Authors (row)": "Hussain A.J. [3]",
          "Autocorrelation": 0,
          "ID": null
         },
         {
          "Authors (col)": "Tseng V.S. [2]",
          "Authors (row)": "Hussain A.J. [3]",
          "Autocorrelation": 0,
          "ID": null
         },
         {
          "Authors (col)": "Liu C.-L. [2]",
          "Authors (row)": "Hussain A.J. [3]",
          "Autocorrelation": 0,
          "ID": null
         },
         {
          "Authors (col)": "Li Y. [2]",
          "Authors (row)": "Hussain A.J. [3]",
          "Autocorrelation": 0,
          "ID": null
         },
         {
          "Authors (col)": "Liu C.-L. [2]",
          "Authors (row)": "Gabbouj M. [3]",
          "Autocorrelation": 0,
          "ID": null
         },
         {
          "Authors (col)": "Dash P.K. [2]",
          "Authors (row)": "Gabbouj M. [3]",
          "Autocorrelation": 0,
          "ID": null
         },
         {
          "Authors (col)": "Passalis N. [3]",
          "Authors (row)": "Zhang Y. [3]",
          "Autocorrelation": 0,
          "ID": null
         },
         {
          "Authors (col)": "Wang J. [7]",
          "Authors (row)": "Zhang Y. [3]",
          "Autocorrelation": 0,
          "ID": null
         },
         {
          "Authors (col)": "Liu C.-L. [2]",
          "Authors (row)": "Iosifidis A. [3]",
          "Autocorrelation": 0,
          "ID": null
         },
         {
          "Authors (col)": "Li Y. [2]",
          "Authors (row)": "Iosifidis A. [3]",
          "Autocorrelation": 0,
          "ID": null
         },
         {
          "Authors (col)": "Dash P.K. [2]",
          "Authors (row)": "Iosifidis A. [3]",
          "Autocorrelation": 0,
          "ID": null
         },
         {
          "Authors (col)": "Niño J. [2]",
          "Authors (row)": "Iosifidis A. [3]",
          "Autocorrelation": 0,
          "ID": null
         },
         {
          "Authors (col)": "Oosterlee C.W. [2]",
          "Authors (row)": "Iosifidis A. [3]",
          "Autocorrelation": 0,
          "ID": null
         },
         {
          "Authors (col)": "Bu H. [2]",
          "Authors (row)": "Iosifidis A. [3]",
          "Autocorrelation": 0,
          "ID": null
         },
         {
          "Authors (col)": "Xu L. [2]",
          "Authors (row)": "Iosifidis A. [3]",
          "Autocorrelation": 0,
          "ID": null
         },
         {
          "Authors (col)": "Xu J. [2]",
          "Authors (row)": "Iosifidis A. [3]",
          "Autocorrelation": 0,
          "ID": null
         },
         {
          "Authors (col)": "Leon D. [2]",
          "Authors (row)": "Iosifidis A. [3]",
          "Autocorrelation": 0,
          "ID": null
         },
         {
          "Authors (col)": "Wang H. [2]",
          "Authors (row)": "Iosifidis A. [3]",
          "Autocorrelation": 0,
          "ID": null
         },
         {
          "Authors (col)": "Zhang G. [4]",
          "Authors (row)": "Zhang Y. [3]",
          "Autocorrelation": 0,
          "ID": null
         },
         {
          "Authors (col)": "Niño J. [2]",
          "Authors (row)": "Gabbouj M. [3]",
          "Autocorrelation": 0,
          "ID": null
         },
         {
          "Authors (col)": "Hussain A.J. [3]",
          "Authors (row)": "Zhang Y. [3]",
          "Autocorrelation": 0,
          "ID": null
         },
         {
          "Authors (col)": "Gabbouj M. [3]",
          "Authors (row)": "Zhang Y. [3]",
          "Autocorrelation": 0,
          "ID": null
         },
         {
          "Authors (col)": "Iosifidis A. [3]",
          "Authors (row)": "Zhang Y. [3]",
          "Autocorrelation": 0,
          "ID": null
         },
         {
          "Authors (col)": "Lin X. [2]",
          "Authors (row)": "Zhang G. [4]",
          "Autocorrelation": 0,
          "ID": null
         },
         {
          "Authors (col)": "Yan X. [3]",
          "Authors (row)": "Zhang Y. [3]",
          "Autocorrelation": 0,
          "ID": null
         },
         {
          "Authors (col)": "Arévalo A. [3]",
          "Authors (row)": "Zhang Y. [3]",
          "Autocorrelation": 0,
          "ID": null
         },
         {
          "Authors (col)": "Hernandez G. [3]",
          "Authors (row)": "Zhang Y. [3]",
          "Autocorrelation": 0,
          "ID": null
         },
         {
          "Authors (col)": "Tefas A. [3]",
          "Authors (row)": "Zhang Y. [3]",
          "Autocorrelation": 0,
          "ID": null
         },
         {
          "Authors (col)": "Zhu Y. [3]",
          "Authors (row)": "Zhang Y. [3]",
          "Autocorrelation": 0,
          "ID": null
         },
         {
          "Authors (col)": "Kanniainen J. [3]",
          "Authors (row)": "Zhang Y. [3]",
          "Autocorrelation": 0,
          "ID": null
         },
         {
          "Authors (col)": "Tseng V.S. [2]",
          "Authors (row)": "Iosifidis A. [3]",
          "Autocorrelation": 0,
          "ID": null
         },
         {
          "Authors (col)": "Lin X. [2]",
          "Authors (row)": "Iosifidis A. [3]",
          "Autocorrelation": 0,
          "ID": null
         },
         {
          "Authors (col)": "Chen Y. [2]",
          "Authors (row)": "Iosifidis A. [3]",
          "Autocorrelation": 0,
          "ID": null
         },
         {
          "Authors (col)": "Chen J. [2]",
          "Authors (row)": "Iosifidis A. [3]",
          "Autocorrelation": 0,
          "ID": null
         },
         {
          "Authors (col)": "Oosterlee C.W. [2]",
          "Authors (row)": "Gabbouj M. [3]",
          "Autocorrelation": 0,
          "ID": null
         },
         {
          "Authors (col)": "Bu H. [2]",
          "Authors (row)": "Gabbouj M. [3]",
          "Autocorrelation": 0,
          "ID": null
         },
         {
          "Authors (col)": "Xu L. [2]",
          "Authors (row)": "Gabbouj M. [3]",
          "Autocorrelation": 0,
          "ID": null
         },
         {
          "Authors (col)": "Xu J. [2]",
          "Authors (row)": "Gabbouj M. [3]",
          "Autocorrelation": 0,
          "ID": null
         },
         {
          "Authors (col)": "Leon D. [2]",
          "Authors (row)": "Gabbouj M. [3]",
          "Autocorrelation": 0,
          "ID": null
         },
         {
          "Authors (col)": "Wang H. [2]",
          "Authors (row)": "Gabbouj M. [3]",
          "Autocorrelation": 0,
          "ID": null
         },
         {
          "Authors (col)": "Wang J. [7]",
          "Authors (row)": "Iosifidis A. [3]",
          "Autocorrelation": 0,
          "ID": null
         },
         {
          "Authors (col)": "Zhang G. [4]",
          "Authors (row)": "Iosifidis A. [3]",
          "Autocorrelation": 0,
          "ID": null
         },
         {
          "Authors (col)": "Hussain A.J. [3]",
          "Authors (row)": "Iosifidis A. [3]",
          "Autocorrelation": 0,
          "ID": null
         },
         {
          "Authors (col)": "Dash P.K. [2]",
          "Authors (row)": "Zhang G. [4]",
          "Autocorrelation": 0,
          "ID": null
         },
         {
          "Authors (col)": "Li Y. [2]",
          "Authors (row)": "Zhang G. [4]",
          "Autocorrelation": 0,
          "ID": null
         },
         {
          "Authors (col)": "Zhang Y. [3]",
          "Authors (row)": "Iosifidis A. [3]",
          "Autocorrelation": 0,
          "ID": null
         },
         {
          "Authors (col)": "Yan X. [3]",
          "Authors (row)": "Iosifidis A. [3]",
          "Autocorrelation": 0,
          "ID": null
         },
         {
          "Authors (col)": "Arévalo A. [3]",
          "Authors (row)": "Iosifidis A. [3]",
          "Autocorrelation": 0,
          "ID": null
         },
         {
          "Authors (col)": "Hernandez G. [3]",
          "Authors (row)": "Iosifidis A. [3]",
          "Autocorrelation": 0,
          "ID": null
         },
         {
          "Authors (col)": "Liu C.-L. [2]",
          "Authors (row)": "Zhang G. [4]",
          "Autocorrelation": 0,
          "ID": null
         },
         {
          "Authors (col)": "Zhu Y. [3]",
          "Authors (row)": "Iosifidis A. [3]",
          "Autocorrelation": 0,
          "ID": null
         },
         {
          "Authors (col)": "Tseng V.S. [2]",
          "Authors (row)": "Zhang G. [4]",
          "Autocorrelation": 0,
          "ID": null
         },
         {
          "Authors (col)": "Tsantekidis A. [2]",
          "Authors (row)": "Zhang G. [4]",
          "Autocorrelation": 0,
          "ID": null
         },
         {
          "Authors (col)": "Wu J. [3]",
          "Authors (row)": "Iosifidis A. [3]",
          "Autocorrelation": 0,
          "ID": null
         },
         {
          "Authors (col)": "Sandoval J. [3]",
          "Authors (row)": "Iosifidis A. [3]",
          "Autocorrelation": 0,
          "ID": null
         },
         {
          "Authors (col)": "Wang J. [7]",
          "Authors (row)": "Tefas A. [3]",
          "Autocorrelation": 0,
          "ID": null
         },
         {
          "Authors (col)": "Hussain A.J. [3]",
          "Authors (row)": "Tefas A. [3]",
          "Autocorrelation": 0,
          "ID": null
         },
         {
          "Authors (col)": "Tefas A. [3]",
          "Authors (row)": "Chen Y. [2]",
          "Autocorrelation": 0,
          "ID": null
         },
         {
          "Authors (col)": "Hussain A.J. [3]",
          "Authors (row)": "Sandoval J. [3]",
          "Autocorrelation": 0,
          "ID": null
         },
         {
          "Authors (col)": "Li Y. [2]",
          "Authors (row)": "Wu J. [3]",
          "Autocorrelation": 0,
          "ID": null
         },
         {
          "Authors (col)": "Dash P.K. [2]",
          "Authors (row)": "Wu J. [3]",
          "Autocorrelation": 0,
          "ID": null
         },
         {
          "Authors (col)": "Niño J. [2]",
          "Authors (row)": "Wu J. [3]",
          "Autocorrelation": 0,
          "ID": null
         },
         {
          "Authors (col)": "Oosterlee C.W. [2]",
          "Authors (row)": "Wu J. [3]",
          "Autocorrelation": 0,
          "ID": null
         },
         {
          "Authors (col)": "Xu L. [2]",
          "Authors (row)": "Wu J. [3]",
          "Autocorrelation": 0,
          "ID": null
         },
         {
          "Authors (col)": "Xu J. [2]",
          "Authors (row)": "Wu J. [3]",
          "Autocorrelation": 0,
          "ID": null
         },
         {
          "Authors (col)": "Leon D. [2]",
          "Authors (row)": "Wu J. [3]",
          "Autocorrelation": 0,
          "ID": null
         },
         {
          "Authors (col)": "Wang H. [2]",
          "Authors (row)": "Wu J. [3]",
          "Autocorrelation": 0,
          "ID": null
         },
         {
          "Authors (col)": "Wang J. [7]",
          "Authors (row)": "Sandoval J. [3]",
          "Autocorrelation": 0,
          "ID": null
         },
         {
          "Authors (col)": "Zhang G. [4]",
          "Authors (row)": "Sandoval J. [3]",
          "Autocorrelation": 0,
          "ID": null
         },
         {
          "Authors (col)": "Gabbouj M. [3]",
          "Authors (row)": "Sandoval J. [3]",
          "Autocorrelation": 0,
          "ID": null
         },
         {
          "Authors (col)": "Tseng V.S. [2]",
          "Authors (row)": "Wu J. [3]",
          "Autocorrelation": 0,
          "ID": null
         },
         {
          "Authors (col)": "Iosifidis A. [3]",
          "Authors (row)": "Sandoval J. [3]",
          "Autocorrelation": 0,
          "ID": null
         },
         {
          "Authors (col)": "Zhang Y. [3]",
          "Authors (row)": "Sandoval J. [3]",
          "Autocorrelation": 0,
          "ID": null
         },
         {
          "Authors (col)": "Yan X. [3]",
          "Authors (row)": "Sandoval J. [3]",
          "Autocorrelation": 0,
          "ID": null
         },
         {
          "Authors (col)": "Dash P.K. [2]",
          "Authors (row)": "Wang J. [7]",
          "Autocorrelation": 0,
          "ID": null
         },
         {
          "Authors (col)": "Li Y. [2]",
          "Authors (row)": "Wang J. [7]",
          "Autocorrelation": 0,
          "ID": null
         },
         {
          "Authors (col)": "Tefas A. [3]",
          "Authors (row)": "Sandoval J. [3]",
          "Autocorrelation": 0,
          "ID": null
         },
         {
          "Authors (col)": "Zhu Y. [3]",
          "Authors (row)": "Sandoval J. [3]",
          "Autocorrelation": 0,
          "ID": null
         },
         {
          "Authors (col)": "Kanniainen J. [3]",
          "Authors (row)": "Sandoval J. [3]",
          "Autocorrelation": 0,
          "ID": null
         },
         {
          "Authors (col)": "Passalis N. [3]",
          "Authors (row)": "Sandoval J. [3]",
          "Autocorrelation": 0,
          "ID": null
         },
         {
          "Authors (col)": "Wu J. [3]",
          "Authors (row)": "Sandoval J. [3]",
          "Autocorrelation": 0,
          "ID": null
         },
         {
          "Authors (col)": "Liu C.-L. [2]",
          "Authors (row)": "Wu J. [3]",
          "Autocorrelation": 0,
          "ID": null
         },
         {
          "Authors (col)": "Tsantekidis A. [2]",
          "Authors (row)": "Wu J. [3]",
          "Autocorrelation": 0,
          "ID": null
         },
         {
          "Authors (col)": "Tefas A. [3]",
          "Authors (row)": "Zhang G. [4]",
          "Autocorrelation": 0,
          "ID": null
         },
         {
          "Authors (col)": "Gabbouj M. [3]",
          "Authors (row)": "Wu J. [3]",
          "Autocorrelation": 0,
          "ID": null
         },
         {
          "Authors (col)": "Niño J. [2]",
          "Authors (row)": "Passalis N. [3]",
          "Autocorrelation": 0,
          "ID": null
         },
         {
          "Authors (col)": "Oosterlee C.W. [2]",
          "Authors (row)": "Passalis N. [3]",
          "Autocorrelation": 0,
          "ID": null
         },
         {
          "Authors (col)": "Bu H. [2]",
          "Authors (row)": "Passalis N. [3]",
          "Autocorrelation": 0,
          "ID": null
         },
         {
          "Authors (col)": "Xu L. [2]",
          "Authors (row)": "Passalis N. [3]",
          "Autocorrelation": 0,
          "ID": null
         },
         {
          "Authors (col)": "Xu J. [2]",
          "Authors (row)": "Passalis N. [3]",
          "Autocorrelation": 0,
          "ID": null
         },
         {
          "Authors (col)": "Leon D. [2]",
          "Authors (row)": "Passalis N. [3]",
          "Autocorrelation": 0,
          "ID": null
         },
         {
          "Authors (col)": "Wang H. [2]",
          "Authors (row)": "Passalis N. [3]",
          "Autocorrelation": 0,
          "ID": null
         },
         {
          "Authors (col)": "Wang J. [7]",
          "Authors (row)": "Wu J. [3]",
          "Autocorrelation": 0,
          "ID": null
         },
         {
          "Authors (col)": "Zhang G. [4]",
          "Authors (row)": "Wu J. [3]",
          "Autocorrelation": 0,
          "ID": null
         },
         {
          "Authors (col)": "Hussain A.J. [3]",
          "Authors (row)": "Wu J. [3]",
          "Autocorrelation": 0,
          "ID": null
         },
         {
          "Authors (col)": "Iosifidis A. [3]",
          "Authors (row)": "Wu J. [3]",
          "Autocorrelation": 0,
          "ID": null
         },
         {
          "Authors (col)": "Lin X. [2]",
          "Authors (row)": "Wu J. [3]",
          "Autocorrelation": 0,
          "ID": null
         },
         {
          "Authors (col)": "Zhang Y. [3]",
          "Authors (row)": "Wu J. [3]",
          "Autocorrelation": 0,
          "ID": null
         },
         {
          "Authors (col)": "Yan X. [3]",
          "Authors (row)": "Wu J. [3]",
          "Autocorrelation": 0,
          "ID": null
         },
         {
          "Authors (col)": "Arévalo A. [3]",
          "Authors (row)": "Wu J. [3]",
          "Autocorrelation": 0,
          "ID": null
         },
         {
          "Authors (col)": "Hernandez G. [3]",
          "Authors (row)": "Wu J. [3]",
          "Autocorrelation": 0,
          "ID": null
         },
         {
          "Authors (col)": "Tefas A. [3]",
          "Authors (row)": "Wu J. [3]",
          "Autocorrelation": 0,
          "ID": null
         },
         {
          "Authors (col)": "Zhu Y. [3]",
          "Authors (row)": "Wu J. [3]",
          "Autocorrelation": 0,
          "ID": null
         },
         {
          "Authors (col)": "Kanniainen J. [3]",
          "Authors (row)": "Wu J. [3]",
          "Autocorrelation": 0,
          "ID": null
         },
         {
          "Authors (col)": "Passalis N. [3]",
          "Authors (row)": "Wu J. [3]",
          "Autocorrelation": 0,
          "ID": null
         },
         {
          "Authors (col)": "Niño J. [2]",
          "Authors (row)": "Wang J. [7]",
          "Autocorrelation": 0,
          "ID": null
         },
         {
          "Authors (col)": "Sandoval J. [3]",
          "Authors (row)": "Wu J. [3]",
          "Autocorrelation": 0,
          "ID": null
         },
         {
          "Authors (col)": "Liu C.-L. [2]",
          "Authors (row)": "Wang J. [7]",
          "Autocorrelation": 0,
          "ID": null
         },
         {
          "Authors (col)": "Chen J. [2]",
          "Authors (row)": "Sandoval J. [3]",
          "Autocorrelation": 0,
          "ID": null
         },
         {
          "Authors (col)": "Chen Y. [2]",
          "Authors (row)": "Sandoval J. [3]",
          "Autocorrelation": 0,
          "ID": null
         },
         {
          "Authors (col)": "Xu J. [2]",
          "Authors (row)": "Chen J. [2]",
          "Autocorrelation": 0,
          "ID": null
         },
         {
          "Authors (col)": "Lin X. [2]",
          "Authors (row)": "Chen J. [2]",
          "Autocorrelation": 0,
          "ID": null
         },
         {
          "Authors (col)": "Tsantekidis A. [2]",
          "Authors (row)": "Chen J. [2]",
          "Autocorrelation": 0,
          "ID": null
         },
         {
          "Authors (col)": "Tseng V.S. [2]",
          "Authors (row)": "Chen J. [2]",
          "Autocorrelation": 0,
          "ID": null
         },
         {
          "Authors (col)": "Liu C.-L. [2]",
          "Authors (row)": "Chen J. [2]",
          "Autocorrelation": 0,
          "ID": null
         },
         {
          "Authors (col)": "Li Y. [2]",
          "Authors (row)": "Chen J. [2]",
          "Autocorrelation": 0,
          "ID": null
         },
         {
          "Authors (col)": "Dash P.K. [2]",
          "Authors (row)": "Chen J. [2]",
          "Autocorrelation": 0,
          "ID": null
         },
         {
          "Authors (col)": "Niño J. [2]",
          "Authors (row)": "Chen J. [2]",
          "Autocorrelation": 0,
          "ID": null
         },
         {
          "Authors (col)": "Oosterlee C.W. [2]",
          "Authors (row)": "Chen J. [2]",
          "Autocorrelation": 0,
          "ID": null
         },
         {
          "Authors (col)": "Bu H. [2]",
          "Authors (row)": "Chen J. [2]",
          "Autocorrelation": 0,
          "ID": null
         },
         {
          "Authors (col)": "Xu L. [2]",
          "Authors (row)": "Chen J. [2]",
          "Autocorrelation": 0,
          "ID": null
         },
         {
          "Authors (col)": "Leon D. [2]",
          "Authors (row)": "Chen J. [2]",
          "Autocorrelation": 0,
          "ID": null
         },
         {
          "Authors (col)": "Lin X. [2]",
          "Authors (row)": "Sandoval J. [3]",
          "Autocorrelation": 0,
          "ID": null
         },
         {
          "Authors (col)": "Wang J. [7]",
          "Authors (row)": "Hussain A.J. [3]",
          "Autocorrelation": 0,
          "ID": null
         },
         {
          "Authors (col)": "Wang J. [7]",
          "Authors (row)": "Chen Y. [2]",
          "Autocorrelation": 0,
          "ID": null
         },
         {
          "Authors (col)": "Zhang G. [4]",
          "Authors (row)": "Chen Y. [2]",
          "Autocorrelation": 0,
          "ID": null
         },
         {
          "Authors (col)": "Hussain A.J. [3]",
          "Authors (row)": "Chen Y. [2]",
          "Autocorrelation": 0,
          "ID": null
         },
         {
          "Authors (col)": "Gabbouj M. [3]",
          "Authors (row)": "Chen Y. [2]",
          "Autocorrelation": 0,
          "ID": null
         },
         {
          "Authors (col)": "Iosifidis A. [3]",
          "Authors (row)": "Chen Y. [2]",
          "Autocorrelation": 0,
          "ID": null
         },
         {
          "Authors (col)": "Zhang Y. [3]",
          "Authors (row)": "Chen Y. [2]",
          "Autocorrelation": 0,
          "ID": null
         },
         {
          "Authors (col)": "Yan X. [3]",
          "Authors (row)": "Chen Y. [2]",
          "Autocorrelation": 0,
          "ID": null
         },
         {
          "Authors (col)": "Arévalo A. [3]",
          "Authors (row)": "Chen Y. [2]",
          "Autocorrelation": 0,
          "ID": null
         },
         {
          "Authors (col)": "Hernandez G. [3]",
          "Authors (row)": "Chen Y. [2]",
          "Autocorrelation": 0,
          "ID": null
         },
         {
          "Authors (col)": "Chen Y. [2]",
          "Authors (row)": "Chen J. [2]",
          "Autocorrelation": 0,
          "ID": null
         },
         {
          "Authors (col)": "Tseng V.S. [2]",
          "Authors (row)": "Wang J. [7]",
          "Autocorrelation": 0,
          "ID": null
         },
         {
          "Authors (col)": "Sandoval J. [3]",
          "Authors (row)": "Chen J. [2]",
          "Autocorrelation": 0,
          "ID": null
         },
         {
          "Authors (col)": "Passalis N. [3]",
          "Authors (row)": "Chen J. [2]",
          "Autocorrelation": 0,
          "ID": null
         },
         {
          "Authors (col)": "Tsantekidis A. [2]",
          "Authors (row)": "Sandoval J. [3]",
          "Autocorrelation": 0,
          "ID": null
         },
         {
          "Authors (col)": "Tseng V.S. [2]",
          "Authors (row)": "Sandoval J. [3]",
          "Autocorrelation": 0,
          "ID": null
         },
         {
          "Authors (col)": "Liu C.-L. [2]",
          "Authors (row)": "Sandoval J. [3]",
          "Autocorrelation": 0,
          "ID": null
         },
         {
          "Authors (col)": "Li Y. [2]",
          "Authors (row)": "Sandoval J. [3]",
          "Autocorrelation": 0,
          "ID": null
         },
         {
          "Authors (col)": "Dash P.K. [2]",
          "Authors (row)": "Sandoval J. [3]",
          "Autocorrelation": 0,
          "ID": null
         },
         {
          "Authors (col)": "Oosterlee C.W. [2]",
          "Authors (row)": "Sandoval J. [3]",
          "Autocorrelation": 0,
          "ID": null
         },
         {
          "Authors (col)": "Bu H. [2]",
          "Authors (row)": "Sandoval J. [3]",
          "Autocorrelation": 0,
          "ID": null
         },
         {
          "Authors (col)": "Xu L. [2]",
          "Authors (row)": "Sandoval J. [3]",
          "Autocorrelation": 0,
          "ID": null
         },
         {
          "Authors (col)": "Xu J. [2]",
          "Authors (row)": "Sandoval J. [3]",
          "Autocorrelation": 0,
          "ID": null
         },
         {
          "Authors (col)": "Wang H. [2]",
          "Authors (row)": "Sandoval J. [3]",
          "Autocorrelation": 0,
          "ID": null
         },
         {
          "Authors (col)": "Zhang G. [4]",
          "Authors (row)": "Wang J. [7]",
          "Autocorrelation": 0,
          "ID": null
         },
         {
          "Authors (col)": "Zhang G. [4]",
          "Authors (row)": "Chen J. [2]",
          "Autocorrelation": 0,
          "ID": null
         },
         {
          "Authors (col)": "Hussain A.J. [3]",
          "Authors (row)": "Chen J. [2]",
          "Autocorrelation": 0,
          "ID": null
         },
         {
          "Authors (col)": "Gabbouj M. [3]",
          "Authors (row)": "Chen J. [2]",
          "Autocorrelation": 0,
          "ID": null
         },
         {
          "Authors (col)": "Iosifidis A. [3]",
          "Authors (row)": "Chen J. [2]",
          "Autocorrelation": 0,
          "ID": null
         },
         {
          "Authors (col)": "Zhang Y. [3]",
          "Authors (row)": "Chen J. [2]",
          "Autocorrelation": 0,
          "ID": null
         },
         {
          "Authors (col)": "Yan X. [3]",
          "Authors (row)": "Chen J. [2]",
          "Autocorrelation": 0,
          "ID": null
         },
         {
          "Authors (col)": "Arévalo A. [3]",
          "Authors (row)": "Chen J. [2]",
          "Autocorrelation": 0,
          "ID": null
         },
         {
          "Authors (col)": "Hernandez G. [3]",
          "Authors (row)": "Chen J. [2]",
          "Autocorrelation": 0,
          "ID": null
         },
         {
          "Authors (col)": "Tefas A. [3]",
          "Authors (row)": "Chen J. [2]",
          "Autocorrelation": 0,
          "ID": null
         },
         {
          "Authors (col)": "Kanniainen J. [3]",
          "Authors (row)": "Chen J. [2]",
          "Autocorrelation": 0,
          "ID": null
         },
         {
          "Authors (col)": "Dash P.K. [2]",
          "Authors (row)": "Passalis N. [3]",
          "Autocorrelation": 0,
          "ID": null
         },
         {
          "Authors (col)": "Li Y. [2]",
          "Authors (row)": "Passalis N. [3]",
          "Autocorrelation": 0,
          "ID": null
         },
         {
          "Authors (col)": "Liu C.-L. [2]",
          "Authors (row)": "Passalis N. [3]",
          "Autocorrelation": 0,
          "ID": null
         },
         {
          "Authors (col)": "Kanniainen J. [3]",
          "Authors (row)": "Zhu Y. [3]",
          "Autocorrelation": 0,
          "ID": null
         },
         {
          "Authors (col)": "Wang J. [7]",
          "Authors (row)": "Zhu Y. [3]",
          "Autocorrelation": 0,
          "ID": null
         },
         {
          "Authors (col)": "Hussain A.J. [3]",
          "Authors (row)": "Zhu Y. [3]",
          "Autocorrelation": 0,
          "ID": null
         },
         {
          "Authors (col)": "Gabbouj M. [3]",
          "Authors (row)": "Zhu Y. [3]",
          "Autocorrelation": 0,
          "ID": null
         },
         {
          "Authors (col)": "Iosifidis A. [3]",
          "Authors (row)": "Zhu Y. [3]",
          "Autocorrelation": 0,
          "ID": null
         },
         {
          "Authors (col)": "Zhang Y. [3]",
          "Authors (row)": "Zhu Y. [3]",
          "Autocorrelation": 0,
          "ID": null
         },
         {
          "Authors (col)": "Yan X. [3]",
          "Authors (row)": "Zhu Y. [3]",
          "Autocorrelation": 0,
          "ID": null
         },
         {
          "Authors (col)": "Arévalo A. [3]",
          "Authors (row)": "Zhu Y. [3]",
          "Autocorrelation": 0,
          "ID": null
         },
         {
          "Authors (col)": "Hernandez G. [3]",
          "Authors (row)": "Zhu Y. [3]",
          "Autocorrelation": 0,
          "ID": null
         },
         {
          "Authors (col)": "Tefas A. [3]",
          "Authors (row)": "Zhu Y. [3]",
          "Autocorrelation": 0,
          "ID": null
         },
         {
          "Authors (col)": "Iosifidis A. [3]",
          "Authors (row)": "Zhang G. [4]",
          "Autocorrelation": 0,
          "ID": null
         },
         {
          "Authors (col)": "Passalis N. [3]",
          "Authors (row)": "Zhu Y. [3]",
          "Autocorrelation": 0,
          "ID": null
         },
         {
          "Authors (col)": "Bu H. [2]",
          "Authors (row)": "Zhu Y. [3]",
          "Autocorrelation": 0,
          "ID": null
         },
         {
          "Authors (col)": "Wu J. [3]",
          "Authors (row)": "Zhu Y. [3]",
          "Autocorrelation": 0,
          "ID": null
         },
         {
          "Authors (col)": "Sandoval J. [3]",
          "Authors (row)": "Zhu Y. [3]",
          "Autocorrelation": 0,
          "ID": null
         },
         {
          "Authors (col)": "Chen Y. [2]",
          "Authors (row)": "Zhu Y. [3]",
          "Autocorrelation": 0,
          "ID": null
         },
         {
          "Authors (col)": "Lin X. [2]",
          "Authors (row)": "Zhu Y. [3]",
          "Autocorrelation": 0,
          "ID": null
         },
         {
          "Authors (col)": "Tsantekidis A. [2]",
          "Authors (row)": "Zhu Y. [3]",
          "Autocorrelation": 0,
          "ID": null
         },
         {
          "Authors (col)": "Tseng V.S. [2]",
          "Authors (row)": "Zhu Y. [3]",
          "Autocorrelation": 0,
          "ID": null
         },
         {
          "Authors (col)": "Liu C.-L. [2]",
          "Authors (row)": "Zhu Y. [3]",
          "Autocorrelation": 0,
          "ID": null
         },
         {
          "Authors (col)": "Li Y. [2]",
          "Authors (row)": "Zhu Y. [3]",
          "Autocorrelation": 0,
          "ID": null
         },
         {
          "Authors (col)": "Dash P.K. [2]",
          "Authors (row)": "Zhu Y. [3]",
          "Autocorrelation": 0,
          "ID": null
         },
         {
          "Authors (col)": "Niño J. [2]",
          "Authors (row)": "Zhu Y. [3]",
          "Autocorrelation": 0,
          "ID": null
         },
         {
          "Authors (col)": "Wang H. [2]",
          "Authors (row)": "Tefas A. [3]",
          "Autocorrelation": 0,
          "ID": null
         },
         {
          "Authors (col)": "Leon D. [2]",
          "Authors (row)": "Tefas A. [3]",
          "Autocorrelation": 0,
          "ID": null
         },
         {
          "Authors (col)": "Xu J. [2]",
          "Authors (row)": "Tefas A. [3]",
          "Autocorrelation": 0,
          "ID": null
         },
         {
          "Authors (col)": "Xu L. [2]",
          "Authors (row)": "Tefas A. [3]",
          "Autocorrelation": 0,
          "ID": null
         },
         {
          "Authors (col)": "Hernandez G. [3]",
          "Authors (row)": "Zhang G. [4]",
          "Autocorrelation": 0,
          "ID": null
         },
         {
          "Authors (col)": "Zhang Y. [3]",
          "Authors (row)": "Tefas A. [3]",
          "Autocorrelation": 0,
          "ID": null
         },
         {
          "Authors (col)": "Yan X. [3]",
          "Authors (row)": "Tefas A. [3]",
          "Autocorrelation": 0,
          "ID": null
         },
         {
          "Authors (col)": "Arévalo A. [3]",
          "Authors (row)": "Tefas A. [3]",
          "Autocorrelation": 0,
          "ID": null
         },
         {
          "Authors (col)": "Hernandez G. [3]",
          "Authors (row)": "Tefas A. [3]",
          "Autocorrelation": 0,
          "ID": null
         },
         {
          "Authors (col)": "Arévalo A. [3]",
          "Authors (row)": "Zhang G. [4]",
          "Autocorrelation": 0,
          "ID": null
         },
         {
          "Authors (col)": "Zhu Y. [3]",
          "Authors (row)": "Tefas A. [3]",
          "Autocorrelation": 0,
          "ID": null
         },
         {
          "Authors (col)": "Yan X. [3]",
          "Authors (row)": "Zhang G. [4]",
          "Autocorrelation": 0,
          "ID": null
         },
         {
          "Authors (col)": "Zhang Y. [3]",
          "Authors (row)": "Zhang G. [4]",
          "Autocorrelation": 0,
          "ID": null
         },
         {
          "Authors (col)": "Wu J. [3]",
          "Authors (row)": "Tefas A. [3]",
          "Autocorrelation": 0,
          "ID": null
         },
         {
          "Authors (col)": "Sandoval J. [3]",
          "Authors (row)": "Tefas A. [3]",
          "Autocorrelation": 0,
          "ID": null
         },
         {
          "Authors (col)": "Chen J. [2]",
          "Authors (row)": "Tefas A. [3]",
          "Autocorrelation": 0,
          "ID": null
         },
         {
          "Authors (col)": "Chen Y. [2]",
          "Authors (row)": "Tefas A. [3]",
          "Autocorrelation": 0,
          "ID": null
         },
         {
          "Authors (col)": "Lin X. [2]",
          "Authors (row)": "Tefas A. [3]",
          "Autocorrelation": 0,
          "ID": null
         },
         {
          "Authors (col)": "Tseng V.S. [2]",
          "Authors (row)": "Tefas A. [3]",
          "Autocorrelation": 0,
          "ID": null
         },
         {
          "Authors (col)": "Liu C.-L. [2]",
          "Authors (row)": "Tefas A. [3]",
          "Autocorrelation": 0,
          "ID": null
         },
         {
          "Authors (col)": "Li Y. [2]",
          "Authors (row)": "Tefas A. [3]",
          "Autocorrelation": 0,
          "ID": null
         },
         {
          "Authors (col)": "Dash P.K. [2]",
          "Authors (row)": "Tefas A. [3]",
          "Autocorrelation": 0,
          "ID": null
         },
         {
          "Authors (col)": "Niño J. [2]",
          "Authors (row)": "Tefas A. [3]",
          "Autocorrelation": 0,
          "ID": null
         },
         {
          "Authors (col)": "Oosterlee C.W. [2]",
          "Authors (row)": "Tefas A. [3]",
          "Autocorrelation": 0,
          "ID": null
         },
         {
          "Authors (col)": "Bu H. [2]",
          "Authors (row)": "Tefas A. [3]",
          "Autocorrelation": 0,
          "ID": null
         },
         {
          "Authors (col)": "Oosterlee C.W. [2]",
          "Authors (row)": "Zhu Y. [3]",
          "Autocorrelation": 0,
          "ID": null
         },
         {
          "Authors (col)": "Xu L. [2]",
          "Authors (row)": "Zhu Y. [3]",
          "Autocorrelation": 0,
          "ID": null
         },
         {
          "Authors (col)": "Tseng V.S. [2]",
          "Authors (row)": "Passalis N. [3]",
          "Autocorrelation": 0,
          "ID": null
         },
         {
          "Authors (col)": "Yan X. [3]",
          "Authors (row)": "Passalis N. [3]",
          "Autocorrelation": 0,
          "ID": null
         },
         {
          "Authors (col)": "Xu L. [2]",
          "Authors (row)": "Kanniainen J. [3]",
          "Autocorrelation": 0,
          "ID": null
         },
         {
          "Authors (col)": "Xu J. [2]",
          "Authors (row)": "Kanniainen J. [3]",
          "Autocorrelation": 0,
          "ID": null
         },
         {
          "Authors (col)": "Leon D. [2]",
          "Authors (row)": "Kanniainen J. [3]",
          "Autocorrelation": 0,
          "ID": null
         },
         {
          "Authors (col)": "Wang H. [2]",
          "Authors (row)": "Kanniainen J. [3]",
          "Autocorrelation": 0,
          "ID": null
         },
         {
          "Authors (col)": "Wang J. [7]",
          "Authors (row)": "Passalis N. [3]",
          "Autocorrelation": 0,
          "ID": null
         },
         {
          "Authors (col)": "Zhang G. [4]",
          "Authors (row)": "Passalis N. [3]",
          "Autocorrelation": 0,
          "ID": null
         },
         {
          "Authors (col)": "Hussain A.J. [3]",
          "Authors (row)": "Passalis N. [3]",
          "Autocorrelation": 0,
          "ID": null
         },
         {
          "Authors (col)": "Leon D. [2]",
          "Authors (row)": "Wang J. [7]",
          "Autocorrelation": 0,
          "ID": null
         },
         {
          "Authors (col)": "Xu J. [2]",
          "Authors (row)": "Wang J. [7]",
          "Autocorrelation": 0,
          "ID": null
         },
         {
          "Authors (col)": "Zhang Y. [3]",
          "Authors (row)": "Passalis N. [3]",
          "Autocorrelation": 0,
          "ID": null
         },
         {
          "Authors (col)": "Arévalo A. [3]",
          "Authors (row)": "Passalis N. [3]",
          "Autocorrelation": 0,
          "ID": null
         },
         {
          "Authors (col)": "Xu J. [2]",
          "Authors (row)": "Zhu Y. [3]",
          "Autocorrelation": 0,
          "ID": null
         },
         {
          "Authors (col)": "Hernandez G. [3]",
          "Authors (row)": "Passalis N. [3]",
          "Autocorrelation": 0,
          "ID": null
         },
         {
          "Authors (col)": "Xu L. [2]",
          "Authors (row)": "Wang J. [7]",
          "Autocorrelation": 0,
          "ID": null
         },
         {
          "Authors (col)": "Zhu Y. [3]",
          "Authors (row)": "Passalis N. [3]",
          "Autocorrelation": 0,
          "ID": null
         },
         {
          "Authors (col)": "Bu H. [2]",
          "Authors (row)": "Wang J. [7]",
          "Autocorrelation": 0,
          "ID": null
         },
         {
          "Authors (col)": "Oosterlee C.W. [2]",
          "Authors (row)": "Wang J. [7]",
          "Autocorrelation": 0,
          "ID": null
         },
         {
          "Authors (col)": "Wu J. [3]",
          "Authors (row)": "Passalis N. [3]",
          "Autocorrelation": 0,
          "ID": null
         },
         {
          "Authors (col)": "Sandoval J. [3]",
          "Authors (row)": "Passalis N. [3]",
          "Autocorrelation": 0,
          "ID": null
         },
         {
          "Authors (col)": "Chen J. [2]",
          "Authors (row)": "Passalis N. [3]",
          "Autocorrelation": 0,
          "ID": null
         },
         {
          "Authors (col)": "Chen Y. [2]",
          "Authors (row)": "Passalis N. [3]",
          "Autocorrelation": 0,
          "ID": null
         },
         {
          "Authors (col)": "Lin X. [2]",
          "Authors (row)": "Passalis N. [3]",
          "Autocorrelation": 0,
          "ID": null
         },
         {
          "Authors (col)": "Bu H. [2]",
          "Authors (row)": "Kanniainen J. [3]",
          "Autocorrelation": 0,
          "ID": null
         },
         {
          "Authors (col)": "Oosterlee C.W. [2]",
          "Authors (row)": "Kanniainen J. [3]",
          "Autocorrelation": 0,
          "ID": null
         },
         {
          "Authors (col)": "Niño J. [2]",
          "Authors (row)": "Kanniainen J. [3]",
          "Autocorrelation": 0,
          "ID": null
         },
         {
          "Authors (col)": "Dash P.K. [2]",
          "Authors (row)": "Kanniainen J. [3]",
          "Autocorrelation": 0,
          "ID": null
         },
         {
          "Authors (col)": "Leon D. [2]",
          "Authors (row)": "Zhu Y. [3]",
          "Autocorrelation": 0,
          "ID": null
         },
         {
          "Authors (col)": "Wang J. [7]",
          "Authors (row)": "Kanniainen J. [3]",
          "Autocorrelation": 0,
          "ID": null
         },
         {
          "Authors (col)": "Zhang G. [4]",
          "Authors (row)": "Kanniainen J. [3]",
          "Autocorrelation": 0,
          "ID": null
         },
         {
          "Authors (col)": "Hussain A.J. [3]",
          "Authors (row)": "Kanniainen J. [3]",
          "Autocorrelation": 0,
          "ID": null
         },
         {
          "Authors (col)": "Gabbouj M. [3]",
          "Authors (row)": "Zhang G. [4]",
          "Autocorrelation": 0,
          "ID": null
         },
         {
          "Authors (col)": "Hussain A.J. [3]",
          "Authors (row)": "Zhang G. [4]",
          "Autocorrelation": 0,
          "ID": null
         },
         {
          "Authors (col)": "Zhang Y. [3]",
          "Authors (row)": "Kanniainen J. [3]",
          "Autocorrelation": 0,
          "ID": null
         },
         {
          "Authors (col)": "Yan X. [3]",
          "Authors (row)": "Kanniainen J. [3]",
          "Autocorrelation": 0,
          "ID": null
         },
         {
          "Authors (col)": "Arévalo A. [3]",
          "Authors (row)": "Kanniainen J. [3]",
          "Autocorrelation": 0,
          "ID": null
         },
         {
          "Authors (col)": "Hernandez G. [3]",
          "Authors (row)": "Kanniainen J. [3]",
          "Autocorrelation": 0,
          "ID": null
         },
         {
          "Authors (col)": "Zhu Y. [3]",
          "Authors (row)": "Kanniainen J. [3]",
          "Autocorrelation": 0,
          "ID": null
         },
         {
          "Authors (col)": "Wang J. [7]",
          "Authors (row)": "Zhang G. [4]",
          "Autocorrelation": 0,
          "ID": null
         },
         {
          "Authors (col)": "Wang H. [2]",
          "Authors (row)": "Wang J. [7]",
          "Autocorrelation": 0,
          "ID": null
         },
         {
          "Authors (col)": "Wu J. [3]",
          "Authors (row)": "Kanniainen J. [3]",
          "Autocorrelation": 0,
          "ID": null
         },
         {
          "Authors (col)": "Sandoval J. [3]",
          "Authors (row)": "Kanniainen J. [3]",
          "Autocorrelation": 0,
          "ID": null
         },
         {
          "Authors (col)": "Chen J. [2]",
          "Authors (row)": "Kanniainen J. [3]",
          "Autocorrelation": 0,
          "ID": null
         },
         {
          "Authors (col)": "Chen Y. [2]",
          "Authors (row)": "Kanniainen J. [3]",
          "Autocorrelation": 0,
          "ID": null
         },
         {
          "Authors (col)": "Lin X. [2]",
          "Authors (row)": "Kanniainen J. [3]",
          "Autocorrelation": 0,
          "ID": null
         },
         {
          "Authors (col)": "Tseng V.S. [2]",
          "Authors (row)": "Kanniainen J. [3]",
          "Autocorrelation": 0,
          "ID": null
         },
         {
          "Authors (col)": "Liu C.-L. [2]",
          "Authors (row)": "Kanniainen J. [3]",
          "Autocorrelation": 0,
          "ID": null
         },
         {
          "Authors (col)": "Li Y. [2]",
          "Authors (row)": "Kanniainen J. [3]",
          "Autocorrelation": 0,
          "ID": null
         },
         {
          "Authors (col)": "Wang J. [7]",
          "Authors (row)": "Chen J. [2]",
          "Autocorrelation": 0,
          "ID": null
         }
        ]
       },
       "encoding": {
        "color": {
         "field": "Autocorrelation",
         "type": "quantitative"
        },
        "size": {
         "field": "Autocorrelation",
         "type": "quantitative"
        },
        "x": {
         "axis": {
          "labelAngle": 270
         },
         "field": "Authors (row)",
         "sort": "ascending",
         "type": "nominal"
        },
        "y": {
         "field": "Authors (col)",
         "sort": "ascending",
         "type": "nominal"
        }
       },
       "mark": "circle"
      },
      "image/png": "[encoded data removed]",
      "text/plain": [
       "<VegaLite 3 object>\n",
       "\n",
       "If you see this message, it means the renderer has not been properly enabled\n",
       "for the frontend that you are using. For more information, see\n",
       "https://altair-viz.github.io/user_guide/troubleshooting.html\n"
      ]
     },
     "execution_count": 21,
     "metadata": {},
     "output_type": "execute_result"
    }
   ],
   "source": [
    "rdf.autocorr(\n",
    "    column='Authors',\n",
    "    sep=',',\n",
    "    top_n=30\n",
    ").circlerel()"
   ]
  }
 ],
 "metadata": {
  "kernelspec": {
   "display_name": "Python 3",
   "language": "python",
   "name": "python3"
  },
  "language_info": {
   "codemirror_mode": {
    "name": "ipython",
    "version": 3
   },
   "file_extension": ".py",
   "mimetype": "text/x-python",
   "name": "python",
   "nbconvert_exporter": "python",
   "pygments_lexer": "ipython3",
   "version": "3.6.8"
  }
 },
 "nbformat": 4,
 "nbformat_minor": 4
}
