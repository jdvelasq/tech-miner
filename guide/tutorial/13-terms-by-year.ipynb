{
 "cells": [
  {
   "cell_type": "markdown",
   "metadata": {},
   "source": [
    "# Terms by year"
   ]
  },
  {
   "cell_type": "code",
   "execution_count": 1,
   "metadata": {},
   "outputs": [],
   "source": [
    "import pandas as pd\n",
    "from techminer import RecordsDataFrame\n",
    "\n",
    "rdf = RecordsDataFrame(\n",
    "    pd.read_json(\n",
    "        'step-07.json', \n",
    "        orient='records', \n",
    "        lines=True))"
   ]
  },
  {
   "cell_type": "code",
   "execution_count": 2,
   "metadata": {},
   "outputs": [
    {
     "data": {
      "text/html": [
       "<div>\n",
       "<style scoped>\n",
       "    .dataframe tbody tr th:only-of-type {\n",
       "        vertical-align: middle;\n",
       "    }\n",
       "\n",
       "    .dataframe tbody tr th {\n",
       "        vertical-align: top;\n",
       "    }\n",
       "\n",
       "    .dataframe thead th {\n",
       "        text-align: right;\n",
       "    }\n",
       "</style>\n",
       "<table border=\"1\" class=\"dataframe\">\n",
       "  <thead>\n",
       "    <tr style=\"text-align: right;\">\n",
       "      <th></th>\n",
       "      <th>Source title</th>\n",
       "      <th>Year</th>\n",
       "      <th>Num Documents</th>\n",
       "      <th>ID</th>\n",
       "    </tr>\n",
       "  </thead>\n",
       "  <tbody>\n",
       "    <tr>\n",
       "      <th>0</th>\n",
       "      <td>ACM International Conference Pr... [2]</td>\n",
       "      <td>2018 [22]</td>\n",
       "      <td>2</td>\n",
       "      <td>[[*69*], [*75*]]</td>\n",
       "    </tr>\n",
       "    <tr>\n",
       "      <th>1</th>\n",
       "      <td>Advances in Intelligent Systems... [3]</td>\n",
       "      <td>2019 [27]</td>\n",
       "      <td>3</td>\n",
       "      <td>[[*41*], [*51*], [*52*]]</td>\n",
       "    </tr>\n",
       "    <tr>\n",
       "      <th>2</th>\n",
       "      <td>Applied Soft Computing Journal [3]</td>\n",
       "      <td>2011 [2]</td>\n",
       "      <td>1</td>\n",
       "      <td>[[*140*]]</td>\n",
       "    </tr>\n",
       "    <tr>\n",
       "      <th>3</th>\n",
       "      <td>Applied Soft Computing Journal [3]</td>\n",
       "      <td>2018 [22]</td>\n",
       "      <td>2</td>\n",
       "      <td>[[*67*], [*80*]]</td>\n",
       "    </tr>\n",
       "    <tr>\n",
       "      <th>4</th>\n",
       "      <td>Communications in Computer and ... [2]</td>\n",
       "      <td>2018 [22]</td>\n",
       "      <td>1</td>\n",
       "      <td>[[*94*]]</td>\n",
       "    </tr>\n",
       "    <tr>\n",
       "      <th>5</th>\n",
       "      <td>Communications in Computer and ... [2]</td>\n",
       "      <td>2019 [27]</td>\n",
       "      <td>1</td>\n",
       "      <td>[[*30*]]</td>\n",
       "    </tr>\n",
       "    <tr>\n",
       "      <th>6</th>\n",
       "      <td>Expert Systems with Application... [5]</td>\n",
       "      <td>2011 [2]</td>\n",
       "      <td>1</td>\n",
       "      <td>[[*139*]]</td>\n",
       "    </tr>\n",
       "    <tr>\n",
       "      <th>7</th>\n",
       "      <td>Expert Systems with Application... [5]</td>\n",
       "      <td>2018 [22]</td>\n",
       "      <td>1</td>\n",
       "      <td>[[*54*]]</td>\n",
       "    </tr>\n",
       "    <tr>\n",
       "      <th>8</th>\n",
       "      <td>Expert Systems with Application... [5]</td>\n",
       "      <td>2019 [27]</td>\n",
       "      <td>3</td>\n",
       "      <td>[[*0*], [*1*], [*11*]]</td>\n",
       "    </tr>\n",
       "    <tr>\n",
       "      <th>9</th>\n",
       "      <td>IEEE Access [5]</td>\n",
       "      <td>2019 [27]</td>\n",
       "      <td>5</td>\n",
       "      <td>[[*34*], [*38*], [*39*], [*46*], [*47*]]</td>\n",
       "    </tr>\n",
       "    <tr>\n",
       "      <th>10</th>\n",
       "      <td>International Journal of Circui... [2]</td>\n",
       "      <td>2016 [2]</td>\n",
       "      <td>1</td>\n",
       "      <td>[[*127*]]</td>\n",
       "    </tr>\n",
       "    <tr>\n",
       "      <th>11</th>\n",
       "      <td>International Journal of Circui... [2]</td>\n",
       "      <td>2018 [22]</td>\n",
       "      <td>1</td>\n",
       "      <td>[[*103*]]</td>\n",
       "    </tr>\n",
       "    <tr>\n",
       "      <th>12</th>\n",
       "      <td>Journal of Supercomputing [2]</td>\n",
       "      <td>2013 [1]</td>\n",
       "      <td>1</td>\n",
       "      <td>[[*135*]]</td>\n",
       "    </tr>\n",
       "    <tr>\n",
       "      <th>13</th>\n",
       "      <td>Journal of Supercomputing [2]</td>\n",
       "      <td>2018 [22]</td>\n",
       "      <td>1</td>\n",
       "      <td>[[*95*]]</td>\n",
       "    </tr>\n",
       "    <tr>\n",
       "      <th>14</th>\n",
       "      <td>Knowledge-Based Systems [2]</td>\n",
       "      <td>2019 [27]</td>\n",
       "      <td>2</td>\n",
       "      <td>[[*4*], [*25*]]</td>\n",
       "    </tr>\n",
       "    <tr>\n",
       "      <th>15</th>\n",
       "      <td>Lecture Notes in Computer Scien... [17]</td>\n",
       "      <td>2017 [6]</td>\n",
       "      <td>4</td>\n",
       "      <td>[[*119*], [*120*], [*121*], [*122*]]</td>\n",
       "    </tr>\n",
       "    <tr>\n",
       "      <th>16</th>\n",
       "      <td>Lecture Notes in Computer Scien... [17]</td>\n",
       "      <td>2018 [22]</td>\n",
       "      <td>9</td>\n",
       "      <td>[[*88*], [*89*], [*96*], [*97*], [*98*], [*99*...</td>\n",
       "    </tr>\n",
       "    <tr>\n",
       "      <th>17</th>\n",
       "      <td>Lecture Notes in Computer Scien... [17]</td>\n",
       "      <td>2019 [27]</td>\n",
       "      <td>4</td>\n",
       "      <td>[[*36*], [*42*], [*45*], [*49*]]</td>\n",
       "    </tr>\n",
       "    <tr>\n",
       "      <th>18</th>\n",
       "      <td>Neural Computing and Applicatio... [3]</td>\n",
       "      <td>2019 [27]</td>\n",
       "      <td>3</td>\n",
       "      <td>[[*27*], [*37*], [*44*]]</td>\n",
       "    </tr>\n",
       "    <tr>\n",
       "      <th>19</th>\n",
       "      <td>Neurocomputing [2]</td>\n",
       "      <td>2016 [2]</td>\n",
       "      <td>1</td>\n",
       "      <td>[[*125*]]</td>\n",
       "    </tr>\n",
       "    <tr>\n",
       "      <th>20</th>\n",
       "      <td>Neurocomputing [2]</td>\n",
       "      <td>2019 [27]</td>\n",
       "      <td>1</td>\n",
       "      <td>[[*10*]]</td>\n",
       "    </tr>\n",
       "    <tr>\n",
       "      <th>21</th>\n",
       "      <td>Procedia Computer Science [4]</td>\n",
       "      <td>2018 [22]</td>\n",
       "      <td>2</td>\n",
       "      <td>[[*90*], [*91*]]</td>\n",
       "    </tr>\n",
       "    <tr>\n",
       "      <th>22</th>\n",
       "      <td>Procedia Computer Science [4]</td>\n",
       "      <td>2019 [27]</td>\n",
       "      <td>2</td>\n",
       "      <td>[[*40*], [*48*]]</td>\n",
       "    </tr>\n",
       "    <tr>\n",
       "      <th>23</th>\n",
       "      <td>Proceedings - 17th IEEE Interna... [2]</td>\n",
       "      <td>2019 [27]</td>\n",
       "      <td>2</td>\n",
       "      <td>[[*23*], [*24*]]</td>\n",
       "    </tr>\n",
       "    <tr>\n",
       "      <th>24</th>\n",
       "      <td>Proceedings - 2010 6th Internat... [1]</td>\n",
       "      <td>2010 [1]</td>\n",
       "      <td>1</td>\n",
       "      <td>[[*143*]]</td>\n",
       "    </tr>\n",
       "    <tr>\n",
       "      <th>25</th>\n",
       "      <td>Proceedings - 2016 7th Internat... [1]</td>\n",
       "      <td>2017 [6]</td>\n",
       "      <td>1</td>\n",
       "      <td>[[*116*]]</td>\n",
       "    </tr>\n",
       "    <tr>\n",
       "      <th>26</th>\n",
       "      <td>Proceedings - 2017 IEEE 19th Co... [1]</td>\n",
       "      <td>2017 [6]</td>\n",
       "      <td>1</td>\n",
       "      <td>[[*114*]]</td>\n",
       "    </tr>\n",
       "    <tr>\n",
       "      <th>27</th>\n",
       "      <td>Proceedings - 2018 17th Interna... [1]</td>\n",
       "      <td>2018 [22]</td>\n",
       "      <td>1</td>\n",
       "      <td>[[*55*]]</td>\n",
       "    </tr>\n",
       "    <tr>\n",
       "      <th>28</th>\n",
       "      <td>Proceedings - 2018 IEEE 5th Int... [1]</td>\n",
       "      <td>2019 [27]</td>\n",
       "      <td>1</td>\n",
       "      <td>[[*19*]]</td>\n",
       "    </tr>\n",
       "    <tr>\n",
       "      <th>29</th>\n",
       "      <td>Proceedings of the Internationa... [2]</td>\n",
       "      <td>2018 [22]</td>\n",
       "      <td>2</td>\n",
       "      <td>[[*63*], [*64*]]</td>\n",
       "    </tr>\n",
       "  </tbody>\n",
       "</table>\n",
       "</div>"
      ],
      "text/plain": [
       "                               Source title       Year  Num Documents  \\\n",
       "0    ACM International Conference Pr... [2]  2018 [22]              2   \n",
       "1    Advances in Intelligent Systems... [3]  2019 [27]              3   \n",
       "2        Applied Soft Computing Journal [3]   2011 [2]              1   \n",
       "3        Applied Soft Computing Journal [3]  2018 [22]              2   \n",
       "4    Communications in Computer and ... [2]  2018 [22]              1   \n",
       "5    Communications in Computer and ... [2]  2019 [27]              1   \n",
       "6    Expert Systems with Application... [5]   2011 [2]              1   \n",
       "7    Expert Systems with Application... [5]  2018 [22]              1   \n",
       "8    Expert Systems with Application... [5]  2019 [27]              3   \n",
       "9                           IEEE Access [5]  2019 [27]              5   \n",
       "10   International Journal of Circui... [2]   2016 [2]              1   \n",
       "11   International Journal of Circui... [2]  2018 [22]              1   \n",
       "12            Journal of Supercomputing [2]   2013 [1]              1   \n",
       "13            Journal of Supercomputing [2]  2018 [22]              1   \n",
       "14              Knowledge-Based Systems [2]  2019 [27]              2   \n",
       "15  Lecture Notes in Computer Scien... [17]   2017 [6]              4   \n",
       "16  Lecture Notes in Computer Scien... [17]  2018 [22]              9   \n",
       "17  Lecture Notes in Computer Scien... [17]  2019 [27]              4   \n",
       "18   Neural Computing and Applicatio... [3]  2019 [27]              3   \n",
       "19                       Neurocomputing [2]   2016 [2]              1   \n",
       "20                       Neurocomputing [2]  2019 [27]              1   \n",
       "21            Procedia Computer Science [4]  2018 [22]              2   \n",
       "22            Procedia Computer Science [4]  2019 [27]              2   \n",
       "23   Proceedings - 17th IEEE Interna... [2]  2019 [27]              2   \n",
       "24   Proceedings - 2010 6th Internat... [1]   2010 [1]              1   \n",
       "25   Proceedings - 2016 7th Internat... [1]   2017 [6]              1   \n",
       "26   Proceedings - 2017 IEEE 19th Co... [1]   2017 [6]              1   \n",
       "27   Proceedings - 2018 17th Interna... [1]  2018 [22]              1   \n",
       "28   Proceedings - 2018 IEEE 5th Int... [1]  2019 [27]              1   \n",
       "29   Proceedings of the Internationa... [2]  2018 [22]              2   \n",
       "\n",
       "                                                   ID  \n",
       "0                                    [[*69*], [*75*]]  \n",
       "1                            [[*41*], [*51*], [*52*]]  \n",
       "2                                           [[*140*]]  \n",
       "3                                    [[*67*], [*80*]]  \n",
       "4                                            [[*94*]]  \n",
       "5                                            [[*30*]]  \n",
       "6                                           [[*139*]]  \n",
       "7                                            [[*54*]]  \n",
       "8                              [[*0*], [*1*], [*11*]]  \n",
       "9            [[*34*], [*38*], [*39*], [*46*], [*47*]]  \n",
       "10                                          [[*127*]]  \n",
       "11                                          [[*103*]]  \n",
       "12                                          [[*135*]]  \n",
       "13                                           [[*95*]]  \n",
       "14                                    [[*4*], [*25*]]  \n",
       "15               [[*119*], [*120*], [*121*], [*122*]]  \n",
       "16  [[*88*], [*89*], [*96*], [*97*], [*98*], [*99*...  \n",
       "17                   [[*36*], [*42*], [*45*], [*49*]]  \n",
       "18                           [[*27*], [*37*], [*44*]]  \n",
       "19                                          [[*125*]]  \n",
       "20                                           [[*10*]]  \n",
       "21                                   [[*90*], [*91*]]  \n",
       "22                                   [[*40*], [*48*]]  \n",
       "23                                   [[*23*], [*24*]]  \n",
       "24                                          [[*143*]]  \n",
       "25                                          [[*116*]]  \n",
       "26                                          [[*114*]]  \n",
       "27                                           [[*55*]]  \n",
       "28                                           [[*19*]]  \n",
       "29                                   [[*63*], [*64*]]  "
      ]
     },
     "execution_count": 2,
     "metadata": {},
     "output_type": "execute_result"
    }
   ],
   "source": [
    "rdf.terms_by_year( \n",
    "    column='Source title', \n",
    "    sep=None,\n",
    "    top_n=20)"
   ]
  },
  {
   "cell_type": "code",
   "execution_count": 3,
   "metadata": {},
   "outputs": [
    {
     "data": {
      "text/html": [
       "<div>\n",
       "<style scoped>\n",
       "    .dataframe tbody tr th:only-of-type {\n",
       "        vertical-align: middle;\n",
       "    }\n",
       "\n",
       "    .dataframe tbody tr th {\n",
       "        vertical-align: top;\n",
       "    }\n",
       "\n",
       "    .dataframe thead th {\n",
       "        text-align: right;\n",
       "    }\n",
       "</style>\n",
       "<table border=\"1\" class=\"dataframe\">\n",
       "  <thead>\n",
       "    <tr style=\"text-align: right;\">\n",
       "      <th></th>\n",
       "      <th>2010 [1]</th>\n",
       "      <th>2011 [2]</th>\n",
       "      <th>2012 [0]</th>\n",
       "      <th>2013 [1]</th>\n",
       "      <th>2014 [0]</th>\n",
       "      <th>2015 [0]</th>\n",
       "      <th>2016 [2]</th>\n",
       "      <th>2017 [6]</th>\n",
       "      <th>2018 [22]</th>\n",
       "      <th>2019 [27]</th>\n",
       "    </tr>\n",
       "  </thead>\n",
       "  <tbody>\n",
       "    <tr>\n",
       "      <th>ACM International Conference Pr... [2]</th>\n",
       "      <td>0</td>\n",
       "      <td>0</td>\n",
       "      <td>0</td>\n",
       "      <td>0</td>\n",
       "      <td>0</td>\n",
       "      <td>0</td>\n",
       "      <td>0</td>\n",
       "      <td>0</td>\n",
       "      <td>2</td>\n",
       "      <td>0</td>\n",
       "    </tr>\n",
       "    <tr>\n",
       "      <th>Advances in Intelligent Systems... [3]</th>\n",
       "      <td>0</td>\n",
       "      <td>0</td>\n",
       "      <td>0</td>\n",
       "      <td>0</td>\n",
       "      <td>0</td>\n",
       "      <td>0</td>\n",
       "      <td>0</td>\n",
       "      <td>0</td>\n",
       "      <td>0</td>\n",
       "      <td>3</td>\n",
       "    </tr>\n",
       "    <tr>\n",
       "      <th>Applied Soft Computing Journal [3]</th>\n",
       "      <td>0</td>\n",
       "      <td>1</td>\n",
       "      <td>0</td>\n",
       "      <td>0</td>\n",
       "      <td>0</td>\n",
       "      <td>0</td>\n",
       "      <td>0</td>\n",
       "      <td>0</td>\n",
       "      <td>2</td>\n",
       "      <td>0</td>\n",
       "    </tr>\n",
       "    <tr>\n",
       "      <th>Communications in Computer and ... [2]</th>\n",
       "      <td>0</td>\n",
       "      <td>0</td>\n",
       "      <td>0</td>\n",
       "      <td>0</td>\n",
       "      <td>0</td>\n",
       "      <td>0</td>\n",
       "      <td>0</td>\n",
       "      <td>0</td>\n",
       "      <td>1</td>\n",
       "      <td>1</td>\n",
       "    </tr>\n",
       "    <tr>\n",
       "      <th>Expert Systems with Application... [5]</th>\n",
       "      <td>0</td>\n",
       "      <td>1</td>\n",
       "      <td>0</td>\n",
       "      <td>0</td>\n",
       "      <td>0</td>\n",
       "      <td>0</td>\n",
       "      <td>0</td>\n",
       "      <td>0</td>\n",
       "      <td>1</td>\n",
       "      <td>3</td>\n",
       "    </tr>\n",
       "    <tr>\n",
       "      <th>IEEE Access [5]</th>\n",
       "      <td>0</td>\n",
       "      <td>0</td>\n",
       "      <td>0</td>\n",
       "      <td>0</td>\n",
       "      <td>0</td>\n",
       "      <td>0</td>\n",
       "      <td>0</td>\n",
       "      <td>0</td>\n",
       "      <td>0</td>\n",
       "      <td>5</td>\n",
       "    </tr>\n",
       "    <tr>\n",
       "      <th>International Journal of Circui... [2]</th>\n",
       "      <td>0</td>\n",
       "      <td>0</td>\n",
       "      <td>0</td>\n",
       "      <td>0</td>\n",
       "      <td>0</td>\n",
       "      <td>0</td>\n",
       "      <td>1</td>\n",
       "      <td>0</td>\n",
       "      <td>1</td>\n",
       "      <td>0</td>\n",
       "    </tr>\n",
       "    <tr>\n",
       "      <th>Journal of Supercomputing [2]</th>\n",
       "      <td>0</td>\n",
       "      <td>0</td>\n",
       "      <td>0</td>\n",
       "      <td>1</td>\n",
       "      <td>0</td>\n",
       "      <td>0</td>\n",
       "      <td>0</td>\n",
       "      <td>0</td>\n",
       "      <td>1</td>\n",
       "      <td>0</td>\n",
       "    </tr>\n",
       "    <tr>\n",
       "      <th>Knowledge-Based Systems [2]</th>\n",
       "      <td>0</td>\n",
       "      <td>0</td>\n",
       "      <td>0</td>\n",
       "      <td>0</td>\n",
       "      <td>0</td>\n",
       "      <td>0</td>\n",
       "      <td>0</td>\n",
       "      <td>0</td>\n",
       "      <td>0</td>\n",
       "      <td>2</td>\n",
       "    </tr>\n",
       "    <tr>\n",
       "      <th>Lecture Notes in Computer Scien... [17]</th>\n",
       "      <td>0</td>\n",
       "      <td>0</td>\n",
       "      <td>0</td>\n",
       "      <td>0</td>\n",
       "      <td>0</td>\n",
       "      <td>0</td>\n",
       "      <td>0</td>\n",
       "      <td>4</td>\n",
       "      <td>9</td>\n",
       "      <td>4</td>\n",
       "    </tr>\n",
       "    <tr>\n",
       "      <th>Neural Computing and Applicatio... [3]</th>\n",
       "      <td>0</td>\n",
       "      <td>0</td>\n",
       "      <td>0</td>\n",
       "      <td>0</td>\n",
       "      <td>0</td>\n",
       "      <td>0</td>\n",
       "      <td>0</td>\n",
       "      <td>0</td>\n",
       "      <td>0</td>\n",
       "      <td>3</td>\n",
       "    </tr>\n",
       "    <tr>\n",
       "      <th>Neurocomputing [2]</th>\n",
       "      <td>0</td>\n",
       "      <td>0</td>\n",
       "      <td>0</td>\n",
       "      <td>0</td>\n",
       "      <td>0</td>\n",
       "      <td>0</td>\n",
       "      <td>1</td>\n",
       "      <td>0</td>\n",
       "      <td>0</td>\n",
       "      <td>1</td>\n",
       "    </tr>\n",
       "    <tr>\n",
       "      <th>Procedia Computer Science [4]</th>\n",
       "      <td>0</td>\n",
       "      <td>0</td>\n",
       "      <td>0</td>\n",
       "      <td>0</td>\n",
       "      <td>0</td>\n",
       "      <td>0</td>\n",
       "      <td>0</td>\n",
       "      <td>0</td>\n",
       "      <td>2</td>\n",
       "      <td>2</td>\n",
       "    </tr>\n",
       "    <tr>\n",
       "      <th>Proceedings - 17th IEEE Interna... [2]</th>\n",
       "      <td>0</td>\n",
       "      <td>0</td>\n",
       "      <td>0</td>\n",
       "      <td>0</td>\n",
       "      <td>0</td>\n",
       "      <td>0</td>\n",
       "      <td>0</td>\n",
       "      <td>0</td>\n",
       "      <td>0</td>\n",
       "      <td>2</td>\n",
       "    </tr>\n",
       "    <tr>\n",
       "      <th>Proceedings - 2010 6th Internat... [1]</th>\n",
       "      <td>1</td>\n",
       "      <td>0</td>\n",
       "      <td>0</td>\n",
       "      <td>0</td>\n",
       "      <td>0</td>\n",
       "      <td>0</td>\n",
       "      <td>0</td>\n",
       "      <td>0</td>\n",
       "      <td>0</td>\n",
       "      <td>0</td>\n",
       "    </tr>\n",
       "    <tr>\n",
       "      <th>Proceedings - 2016 7th Internat... [1]</th>\n",
       "      <td>0</td>\n",
       "      <td>0</td>\n",
       "      <td>0</td>\n",
       "      <td>0</td>\n",
       "      <td>0</td>\n",
       "      <td>0</td>\n",
       "      <td>0</td>\n",
       "      <td>1</td>\n",
       "      <td>0</td>\n",
       "      <td>0</td>\n",
       "    </tr>\n",
       "    <tr>\n",
       "      <th>Proceedings - 2017 IEEE 19th Co... [1]</th>\n",
       "      <td>0</td>\n",
       "      <td>0</td>\n",
       "      <td>0</td>\n",
       "      <td>0</td>\n",
       "      <td>0</td>\n",
       "      <td>0</td>\n",
       "      <td>0</td>\n",
       "      <td>1</td>\n",
       "      <td>0</td>\n",
       "      <td>0</td>\n",
       "    </tr>\n",
       "    <tr>\n",
       "      <th>Proceedings - 2018 17th Interna... [1]</th>\n",
       "      <td>0</td>\n",
       "      <td>0</td>\n",
       "      <td>0</td>\n",
       "      <td>0</td>\n",
       "      <td>0</td>\n",
       "      <td>0</td>\n",
       "      <td>0</td>\n",
       "      <td>0</td>\n",
       "      <td>1</td>\n",
       "      <td>0</td>\n",
       "    </tr>\n",
       "    <tr>\n",
       "      <th>Proceedings - 2018 IEEE 5th Int... [1]</th>\n",
       "      <td>0</td>\n",
       "      <td>0</td>\n",
       "      <td>0</td>\n",
       "      <td>0</td>\n",
       "      <td>0</td>\n",
       "      <td>0</td>\n",
       "      <td>0</td>\n",
       "      <td>0</td>\n",
       "      <td>0</td>\n",
       "      <td>1</td>\n",
       "    </tr>\n",
       "    <tr>\n",
       "      <th>Proceedings of the Internationa... [2]</th>\n",
       "      <td>0</td>\n",
       "      <td>0</td>\n",
       "      <td>0</td>\n",
       "      <td>0</td>\n",
       "      <td>0</td>\n",
       "      <td>0</td>\n",
       "      <td>0</td>\n",
       "      <td>0</td>\n",
       "      <td>2</td>\n",
       "      <td>0</td>\n",
       "    </tr>\n",
       "  </tbody>\n",
       "</table>\n",
       "</div>"
      ],
      "text/plain": [
       "                                         2010 [1]  2011 [2]  2012 [0]  \\\n",
       "ACM International Conference Pr... [2]          0         0         0   \n",
       "Advances in Intelligent Systems... [3]          0         0         0   \n",
       "Applied Soft Computing Journal [3]              0         1         0   \n",
       "Communications in Computer and ... [2]          0         0         0   \n",
       "Expert Systems with Application... [5]          0         1         0   \n",
       "IEEE Access [5]                                 0         0         0   \n",
       "International Journal of Circui... [2]          0         0         0   \n",
       "Journal of Supercomputing [2]                   0         0         0   \n",
       "Knowledge-Based Systems [2]                     0         0         0   \n",
       "Lecture Notes in Computer Scien... [17]         0         0         0   \n",
       "Neural Computing and Applicatio... [3]          0         0         0   \n",
       "Neurocomputing [2]                              0         0         0   \n",
       "Procedia Computer Science [4]                   0         0         0   \n",
       "Proceedings - 17th IEEE Interna... [2]          0         0         0   \n",
       "Proceedings - 2010 6th Internat... [1]          1         0         0   \n",
       "Proceedings - 2016 7th Internat... [1]          0         0         0   \n",
       "Proceedings - 2017 IEEE 19th Co... [1]          0         0         0   \n",
       "Proceedings - 2018 17th Interna... [1]          0         0         0   \n",
       "Proceedings - 2018 IEEE 5th Int... [1]          0         0         0   \n",
       "Proceedings of the Internationa... [2]          0         0         0   \n",
       "\n",
       "                                         2013 [1]  2014 [0]  2015 [0]  \\\n",
       "ACM International Conference Pr... [2]          0         0         0   \n",
       "Advances in Intelligent Systems... [3]          0         0         0   \n",
       "Applied Soft Computing Journal [3]              0         0         0   \n",
       "Communications in Computer and ... [2]          0         0         0   \n",
       "Expert Systems with Application... [5]          0         0         0   \n",
       "IEEE Access [5]                                 0         0         0   \n",
       "International Journal of Circui... [2]          0         0         0   \n",
       "Journal of Supercomputing [2]                   1         0         0   \n",
       "Knowledge-Based Systems [2]                     0         0         0   \n",
       "Lecture Notes in Computer Scien... [17]         0         0         0   \n",
       "Neural Computing and Applicatio... [3]          0         0         0   \n",
       "Neurocomputing [2]                              0         0         0   \n",
       "Procedia Computer Science [4]                   0         0         0   \n",
       "Proceedings - 17th IEEE Interna... [2]          0         0         0   \n",
       "Proceedings - 2010 6th Internat... [1]          0         0         0   \n",
       "Proceedings - 2016 7th Internat... [1]          0         0         0   \n",
       "Proceedings - 2017 IEEE 19th Co... [1]          0         0         0   \n",
       "Proceedings - 2018 17th Interna... [1]          0         0         0   \n",
       "Proceedings - 2018 IEEE 5th Int... [1]          0         0         0   \n",
       "Proceedings of the Internationa... [2]          0         0         0   \n",
       "\n",
       "                                         2016 [2]  2017 [6]  2018 [22]  \\\n",
       "ACM International Conference Pr... [2]          0         0          2   \n",
       "Advances in Intelligent Systems... [3]          0         0          0   \n",
       "Applied Soft Computing Journal [3]              0         0          2   \n",
       "Communications in Computer and ... [2]          0         0          1   \n",
       "Expert Systems with Application... [5]          0         0          1   \n",
       "IEEE Access [5]                                 0         0          0   \n",
       "International Journal of Circui... [2]          1         0          1   \n",
       "Journal of Supercomputing [2]                   0         0          1   \n",
       "Knowledge-Based Systems [2]                     0         0          0   \n",
       "Lecture Notes in Computer Scien... [17]         0         4          9   \n",
       "Neural Computing and Applicatio... [3]          0         0          0   \n",
       "Neurocomputing [2]                              1         0          0   \n",
       "Procedia Computer Science [4]                   0         0          2   \n",
       "Proceedings - 17th IEEE Interna... [2]          0         0          0   \n",
       "Proceedings - 2010 6th Internat... [1]          0         0          0   \n",
       "Proceedings - 2016 7th Internat... [1]          0         1          0   \n",
       "Proceedings - 2017 IEEE 19th Co... [1]          0         1          0   \n",
       "Proceedings - 2018 17th Interna... [1]          0         0          1   \n",
       "Proceedings - 2018 IEEE 5th Int... [1]          0         0          0   \n",
       "Proceedings of the Internationa... [2]          0         0          2   \n",
       "\n",
       "                                         2019 [27]  \n",
       "ACM International Conference Pr... [2]           0  \n",
       "Advances in Intelligent Systems... [3]           3  \n",
       "Applied Soft Computing Journal [3]               0  \n",
       "Communications in Computer and ... [2]           1  \n",
       "Expert Systems with Application... [5]           3  \n",
       "IEEE Access [5]                                  5  \n",
       "International Journal of Circui... [2]           0  \n",
       "Journal of Supercomputing [2]                    0  \n",
       "Knowledge-Based Systems [2]                      2  \n",
       "Lecture Notes in Computer Scien... [17]          4  \n",
       "Neural Computing and Applicatio... [3]           3  \n",
       "Neurocomputing [2]                               1  \n",
       "Procedia Computer Science [4]                    2  \n",
       "Proceedings - 17th IEEE Interna... [2]           2  \n",
       "Proceedings - 2010 6th Internat... [1]           0  \n",
       "Proceedings - 2016 7th Internat... [1]           0  \n",
       "Proceedings - 2017 IEEE 19th Co... [1]           0  \n",
       "Proceedings - 2018 17th Interna... [1]           0  \n",
       "Proceedings - 2018 IEEE 5th Int... [1]           1  \n",
       "Proceedings of the Internationa... [2]           0  "
      ]
     },
     "execution_count": 3,
     "metadata": {},
     "output_type": "execute_result"
    }
   ],
   "source": [
    "rdf.terms_by_year( \n",
    "    column='Source title', \n",
    "    sep=None,\n",
    "    top_n=20).tomatrix()"
   ]
  },
  {
   "cell_type": "code",
   "execution_count": 4,
   "metadata": {},
   "outputs": [
    {
     "data": {
      "application/vnd.vegalite.v3+json": {
       "$schema": "https://vega.github.io/schema/vega-lite/v3.4.0.json",
       "config": {
        "mark": {
         "tooltip": null
        },
        "view": {
         "height": 300,
         "width": 400
        }
       },
       "data": {
        "name": "data-cdd4ab9f01bdfc3b7560895b54f95449"
       },
       "datasets": {
        "data-cdd4ab9f01bdfc3b7560895b54f95449": [
         {
          "Authors": "Arévalo A. [3]",
          "ID": [
           "[*94*]",
           "[*100*]"
          ],
          "Num Documents": 2,
          "Year": "2018 [18]"
         },
         {
          "Authors": "Arévalo A. [3]",
          "ID": [
           "[*52*]"
          ],
          "Num Documents": 1,
          "Year": "2019 [23]"
         },
         {
          "Authors": "Bu H. [2]",
          "ID": [
           "[*115*]"
          ],
          "Num Documents": 1,
          "Year": "2017 [16]"
         },
         {
          "Authors": "Bu H. [2]",
          "ID": [
           "[*66*]"
          ],
          "Num Documents": 1,
          "Year": "2018 [18]"
         },
         {
          "Authors": "Chen Y. [2]",
          "ID": [
           "[*66*]"
          ],
          "Num Documents": 1,
          "Year": "2018 [18]"
         },
         {
          "Authors": "Chen Y. [2]",
          "ID": [
           "[*46*]"
          ],
          "Num Documents": 1,
          "Year": "2019 [23]"
         },
         {
          "Authors": "Gabbouj M. [3]",
          "ID": [
           "[*110*]",
           "[*114*]"
          ],
          "Num Documents": 2,
          "Year": "2017 [16]"
         },
         {
          "Authors": "Gabbouj M. [3]",
          "ID": [
           "[*8*]"
          ],
          "Num Documents": 1,
          "Year": "2019 [23]"
         },
         {
          "Authors": "Hernandez G. [3]",
          "ID": [
           "[*94*]",
           "[*100*]"
          ],
          "Num Documents": 2,
          "Year": "2018 [18]"
         },
         {
          "Authors": "Hernandez G. [3]",
          "ID": [
           "[*52*]"
          ],
          "Num Documents": 1,
          "Year": "2019 [23]"
         },
         {
          "Authors": "Iosifidis A. [3]",
          "ID": [
           "[*110*]",
           "[*114*]"
          ],
          "Num Documents": 2,
          "Year": "2017 [16]"
         },
         {
          "Authors": "Iosifidis A. [3]",
          "ID": [
           "[*8*]"
          ],
          "Num Documents": 1,
          "Year": "2019 [23]"
         },
         {
          "Authors": "Kanniainen J. [3]",
          "ID": [
           "[*110*]",
           "[*114*]"
          ],
          "Num Documents": 2,
          "Year": "2017 [16]"
         },
         {
          "Authors": "Kanniainen J. [3]",
          "ID": [
           "[*8*]"
          ],
          "Num Documents": 1,
          "Year": "2019 [23]"
         },
         {
          "Authors": "Leon D. [2]",
          "ID": [
           "[*94*]"
          ],
          "Num Documents": 1,
          "Year": "2018 [18]"
         },
         {
          "Authors": "Leon D. [2]",
          "ID": [
           "[*52*]"
          ],
          "Num Documents": 1,
          "Year": "2019 [23]"
         },
         {
          "Authors": "Li Y. [2]",
          "ID": [
           "[*97*]"
          ],
          "Num Documents": 1,
          "Year": "2018 [18]"
         },
         {
          "Authors": "Li Y. [2]",
          "ID": [
           "[*40*]"
          ],
          "Num Documents": 1,
          "Year": "2019 [23]"
         },
         {
          "Authors": "Liu C.-L. [2]",
          "ID": [
           "[*19*]",
           "[*42*]"
          ],
          "Num Documents": 2,
          "Year": "2019 [23]"
         },
         {
          "Authors": "Oosterlee C.W. [2]",
          "ID": [
           "[*120*]"
          ],
          "Num Documents": 1,
          "Year": "2017 [16]"
         },
         {
          "Authors": "Oosterlee C.W. [2]",
          "ID": [
           "[*18*]"
          ],
          "Num Documents": 1,
          "Year": "2019 [23]"
         },
         {
          "Authors": "Passalis N. [3]",
          "ID": [
           "[*110*]",
           "[*114*]"
          ],
          "Num Documents": 2,
          "Year": "2017 [16]"
         },
         {
          "Authors": "Passalis N. [3]",
          "ID": [
           "[*8*]"
          ],
          "Num Documents": 1,
          "Year": "2019 [23]"
         },
         {
          "Authors": "Sandoval J. [3]",
          "ID": [
           "[*94*]",
           "[*100*]"
          ],
          "Num Documents": 2,
          "Year": "2018 [18]"
         },
         {
          "Authors": "Sandoval J. [3]",
          "ID": [
           "[*52*]"
          ],
          "Num Documents": 1,
          "Year": "2019 [23]"
         },
         {
          "Authors": "Tefas A. [3]",
          "ID": [
           "[*110*]",
           "[*114*]"
          ],
          "Num Documents": 2,
          "Year": "2017 [16]"
         },
         {
          "Authors": "Tefas A. [3]",
          "ID": [
           "[*8*]"
          ],
          "Num Documents": 1,
          "Year": "2019 [23]"
         },
         {
          "Authors": "Wang J. [7]",
          "ID": [
           "[*128*]",
           "[*128*]"
          ],
          "Num Documents": 2,
          "Year": "2016 [2]"
         },
         {
          "Authors": "Wang J. [7]",
          "ID": [
           "[*80*]",
           "[*87*]"
          ],
          "Num Documents": 2,
          "Year": "2018 [18]"
         },
         {
          "Authors": "Wang J. [7]",
          "ID": [
           "[*3*]",
           "[*10*]",
           "[*15*]"
          ],
          "Num Documents": 3,
          "Year": "2019 [23]"
         },
         {
          "Authors": "Wu J. [3]",
          "ID": [
           "[*115*]"
          ],
          "Num Documents": 1,
          "Year": "2017 [16]"
         },
         {
          "Authors": "Wu J. [3]",
          "ID": [
           "[*66*]"
          ],
          "Num Documents": 1,
          "Year": "2018 [18]"
         },
         {
          "Authors": "Wu J. [3]",
          "ID": [
           "[*34*]"
          ],
          "Num Documents": 1,
          "Year": "2019 [23]"
         },
         {
          "Authors": "Yan X. [3]",
          "ID": [
           "[*85*]"
          ],
          "Num Documents": 1,
          "Year": "2018 [18]"
         },
         {
          "Authors": "Yan X. [3]",
          "ID": [
           "[*13*]",
           "[*44*]"
          ],
          "Num Documents": 2,
          "Year": "2019 [23]"
         },
         {
          "Authors": "Zhang G. [4]",
          "ID": [
           "[*117*]",
           "[*119*]"
          ],
          "Num Documents": 2,
          "Year": "2017 [16]"
         },
         {
          "Authors": "Zhang G. [4]",
          "ID": [
           "[*78*]"
          ],
          "Num Documents": 1,
          "Year": "2018 [18]"
         },
         {
          "Authors": "Zhang G. [4]",
          "ID": [
           "[*27*]"
          ],
          "Num Documents": 1,
          "Year": "2019 [23]"
         },
         {
          "Authors": "Zhang Y. [3]",
          "ID": [
           "[*109*]"
          ],
          "Num Documents": 1,
          "Year": "2017 [16]"
         },
         {
          "Authors": "Zhang Y. [3]",
          "ID": [
           "[*4*]",
           "[*6*]"
          ],
          "Num Documents": 2,
          "Year": "2019 [23]"
         },
         {
          "Authors": "Zhu Y. [3]",
          "ID": [
           "[*78*]",
           "[*88*]",
           "[*89*]"
          ],
          "Num Documents": 3,
          "Year": "2018 [18]"
         }
        ]
       },
       "encoding": {
        "color": {
         "field": "Num Documents",
         "type": "quantitative"
        },
        "x": {
         "field": "Authors",
         "sort": "ascending",
         "type": "ordinal"
        },
        "y": {
         "field": "Year",
         "sort": "ascending",
         "type": "ordinal"
        }
       },
       "mark": "rect"
      },
      "image/png": "[encoded data removed]",
      "text/plain": [
       "<VegaLite 3 object>\n",
       "\n",
       "If you see this message, it means the renderer has not been properly enabled\n",
       "for the frontend that you are using. For more information, see\n",
       "https://altair-viz.github.io/user_guide/troubleshooting.html\n"
      ]
     },
     "execution_count": 4,
     "metadata": {},
     "output_type": "execute_result"
    },
    {
     "data": {
      "text/plain": [
       "<Figure size 432x288 with 0 Axes>"
      ]
     },
     "metadata": {},
     "output_type": "display_data"
    }
   ],
   "source": [
    "rdf.terms_by_year( \n",
    "    column='Authors', \n",
    "    sep=',',\n",
    "    top_n=20).altair_heatmap()"
   ]
  },
  {
   "cell_type": "code",
   "execution_count": null,
   "metadata": {},
   "outputs": [],
   "source": []
  }
 ],
 "metadata": {
  "kernelspec": {
   "display_name": "Python 3",
   "language": "python",
   "name": "python3"
  },
  "language_info": {
   "codemirror_mode": {
    "name": "ipython",
    "version": 3
   },
   "file_extension": ".py",
   "mimetype": "text/x-python",
   "name": "python",
   "nbconvert_exporter": "python",
   "pygments_lexer": "ipython3",
   "version": "3.6.8"
  }
 },
 "nbformat": 4,
 "nbformat_minor": 4
}
